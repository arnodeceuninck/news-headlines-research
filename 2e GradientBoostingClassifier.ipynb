{
 "cells": [
  {
   "cell_type": "markdown",
   "source": [
    "# Gradient Boosting Classifier\n",
    "I got XGBoost recommended to use as classifier, so let's see what it gives. Appearantly, more than half of the Kaggle competitions are won using this method. More explanation about Gradient boosting classifiers can be found [here](https://www.kaggle.com/code/prashant111/xgboost-k-fold-cv-feature-importance/notebook), [here](https://www.analyticsvidhya.com/blog/2016/01/gradient-boosting-algorithm-machine-learning/) or in [this paper](https://jerryfriedman.su.domains/ftp/trebst.pdf).\n",
    "The sklearn documentation of the sklearn GradientBoostingClassifier can be found [here](http://scikit-learn.org/stable/modules/generated/sklearn.ensemble.GradientBoostingClassifier.html). XGBoost itself has [it's own library](https://xgboost.readthedocs.io/en/stable/python/python_api.html).\n"
   ],
   "metadata": {
    "collapsed": false,
    "pycharm": {
     "name": "#%% md\n"
    }
   }
  },
  {
   "cell_type": "code",
   "execution_count": 2,
   "outputs": [
    {
     "name": "stdout",
     "output_type": "stream",
     "text": [
      "Accuracy: 53.30% (97/182)\n"
     ]
    }
   ],
   "source": [
    "import numpy as np\n",
    "\n",
    "from util import get_wpm_train_test, fit_predict_print_wp, get_manually_labeled_features\n",
    "from sklearn.ensemble import GradientBoostingClassifier\n",
    "\n",
    "train_x_full, train_y, test_x, test_y, groups = get_wpm_train_test(include_groups=True, x_train_features_only=False)\n",
    "train_x = get_manually_labeled_features(train_x_full)\n",
    "\n",
    "model = GradientBoostingClassifier(random_state=42)\n",
    "\n",
    "fit_predict_print_wp(model, train_x, train_y, test_x, test_y)"
   ],
   "metadata": {
    "collapsed": false,
    "pycharm": {
     "name": "#%%\n"
    }
   }
  },
  {
   "cell_type": "markdown",
   "source": [
    "The results are not better than the previousmodels, so let's immediately try xgboost to see if it can do better."
   ],
   "metadata": {
    "collapsed": false,
    "pycharm": {
     "name": "#%% md\n"
    }
   }
  },
  {
   "cell_type": "code",
   "execution_count": 3,
   "outputs": [
    {
     "name": "stdout",
     "output_type": "stream",
     "text": [
      "Accuracy: 54.40% (98/182)\n"
     ]
    }
   ],
   "source": [
    "from sklearn.model_selection import GroupKFold\n",
    "from xgboost import XGBClassifier\n",
    "\n",
    "model = XGBClassifier(random_state=42)\n",
    "fit_predict_print_wp(model, train_x, train_y, test_x, test_y)"
   ],
   "metadata": {
    "collapsed": false,
    "pycharm": {
     "name": "#%%\n"
    }
   }
  },
  {
   "cell_type": "markdown",
   "source": [
    "This gives a slight improvement, but still not better than our naïve bayes clssifier. Let's try some hyperparameters. I'll follow [this](https://www.kaggle.com/code/prashant111/a-guide-on-xgboost-hyperparameters-tuning/notebook) guide. While following the xgboost intuition explanation [here](https://www.kaggle.com/code/prashant111/xgboost-k-fold-cv-feature-importance/notebook), some sample parameteres where used in the article that I wanted to test, and they already gave better restults:\n"
   ],
   "metadata": {
    "collapsed": false,
    "pycharm": {
     "name": "#%% md\n"
    }
   }
  },
  {
   "cell_type": "code",
   "execution_count": 4,
   "outputs": [
    {
     "name": "stdout",
     "output_type": "stream",
     "text": [
      "Accuracy: 56.59% (103/182)\n"
     ]
    }
   ],
   "source": [
    "params = {\n",
    "    'objective': 'binary:logistic',\n",
    "    'max_depth': 4,\n",
    "    'alpha': 10,\n",
    "    'learning_rate': 1.0,\n",
    "    'n_estimators': 100\n",
    "}\n",
    "\n",
    "model = XGBClassifier(random_state=42, **params)\n",
    "fit_predict_print_wp(model, train_x, train_y, test_x, test_y)"
   ],
   "metadata": {
    "collapsed": false,
    "pycharm": {
     "name": "#%%\n"
    }
   }
  },
  {
   "cell_type": "code",
   "execution_count": 5,
   "outputs": [
    {
     "data": {
      "text/plain": "   Test Headline ID                                           Headline  \\\n0     1           A  Barack en Michelle Obama laten dansmoves zien ...   \n1     1           B  Barack en Michelle Obama gaan helemaal los tij...   \n7     4           A  Internethype 'uit rijdende auto springen en da...   \n8     4           B  Levensgevaarlijke internethype waait over uit ...   \n11    7           A  Brandweer wil man uit brand op zesde verdiepin...   \n\n    Actief  Lang  Vragen  Interpunctie  Tweeledigheid  Emotie  \\\n0        0     1       0             0              0       0   \n1        1     0       0             0              0       0   \n7        1     1       0             1              1       0   \n8        1     1       0             0              1       0   \n11       0     1       0             0              0       0   \n\n    Voorwaartse Verwijzing  Signaalwoorden  Lidwoorden  Adjectieven  \\\n0                        0               0           0            0   \n1                        0               0           0            0   \n7                        0               0           0            0   \n8                        1               0           0            1   \n11                       0               0           0            0   \n\n    Eigennamen  Betrekking  Voor+Achternaam  Cijfers  Quotes  \n0            0           0                1        0       0  \n1            0           0                1        0       0  \n7            0           0                0        0       1  \n8            0           0                0        0       1  \n11           0           0                0        0       0  ",
      "text/html": "<div>\n<style scoped>\n    .dataframe tbody tr th:only-of-type {\n        vertical-align: middle;\n    }\n\n    .dataframe tbody tr th {\n        vertical-align: top;\n    }\n\n    .dataframe thead th {\n        text-align: right;\n    }\n</style>\n<table border=\"1\" class=\"dataframe\">\n  <thead>\n    <tr style=\"text-align: right;\">\n      <th></th>\n      <th>Test</th>\n      <th>Headline ID</th>\n      <th>Headline</th>\n      <th>Actief</th>\n      <th>Lang</th>\n      <th>Vragen</th>\n      <th>Interpunctie</th>\n      <th>Tweeledigheid</th>\n      <th>Emotie</th>\n      <th>Voorwaartse Verwijzing</th>\n      <th>Signaalwoorden</th>\n      <th>Lidwoorden</th>\n      <th>Adjectieven</th>\n      <th>Eigennamen</th>\n      <th>Betrekking</th>\n      <th>Voor+Achternaam</th>\n      <th>Cijfers</th>\n      <th>Quotes</th>\n    </tr>\n  </thead>\n  <tbody>\n    <tr>\n      <th>0</th>\n      <td>1</td>\n      <td>A</td>\n      <td>Barack en Michelle Obama laten dansmoves zien ...</td>\n      <td>0</td>\n      <td>1</td>\n      <td>0</td>\n      <td>0</td>\n      <td>0</td>\n      <td>0</td>\n      <td>0</td>\n      <td>0</td>\n      <td>0</td>\n      <td>0</td>\n      <td>0</td>\n      <td>0</td>\n      <td>1</td>\n      <td>0</td>\n      <td>0</td>\n    </tr>\n    <tr>\n      <th>1</th>\n      <td>1</td>\n      <td>B</td>\n      <td>Barack en Michelle Obama gaan helemaal los tij...</td>\n      <td>1</td>\n      <td>0</td>\n      <td>0</td>\n      <td>0</td>\n      <td>0</td>\n      <td>0</td>\n      <td>0</td>\n      <td>0</td>\n      <td>0</td>\n      <td>0</td>\n      <td>0</td>\n      <td>0</td>\n      <td>1</td>\n      <td>0</td>\n      <td>0</td>\n    </tr>\n    <tr>\n      <th>7</th>\n      <td>4</td>\n      <td>A</td>\n      <td>Internethype 'uit rijdende auto springen en da...</td>\n      <td>1</td>\n      <td>1</td>\n      <td>0</td>\n      <td>1</td>\n      <td>1</td>\n      <td>0</td>\n      <td>0</td>\n      <td>0</td>\n      <td>0</td>\n      <td>0</td>\n      <td>0</td>\n      <td>0</td>\n      <td>0</td>\n      <td>0</td>\n      <td>1</td>\n    </tr>\n    <tr>\n      <th>8</th>\n      <td>4</td>\n      <td>B</td>\n      <td>Levensgevaarlijke internethype waait over uit ...</td>\n      <td>1</td>\n      <td>1</td>\n      <td>0</td>\n      <td>0</td>\n      <td>1</td>\n      <td>0</td>\n      <td>1</td>\n      <td>0</td>\n      <td>0</td>\n      <td>1</td>\n      <td>0</td>\n      <td>0</td>\n      <td>0</td>\n      <td>0</td>\n      <td>1</td>\n    </tr>\n    <tr>\n      <th>11</th>\n      <td>7</td>\n      <td>A</td>\n      <td>Brandweer wil man uit brand op zesde verdiepin...</td>\n      <td>0</td>\n      <td>1</td>\n      <td>0</td>\n      <td>0</td>\n      <td>0</td>\n      <td>0</td>\n      <td>0</td>\n      <td>0</td>\n      <td>0</td>\n      <td>0</td>\n      <td>0</td>\n      <td>0</td>\n      <td>0</td>\n      <td>0</td>\n      <td>0</td>\n    </tr>\n  </tbody>\n</table>\n</div>"
     },
     "execution_count": 5,
     "metadata": {},
     "output_type": "execute_result"
    }
   ],
   "source": [
    "from util import get_manually_labeled_features, predict_wp, evaluate_wp, get_winners_only\n",
    "from hyperopt import STATUS_OK, Trials, fmin, hp, tpe\n",
    "\n",
    "space = {'max_depth': hp.quniform(\"max_depth\", 2, 10, 1),\n",
    "         'gamma': hp.uniform('gamma', 1, 9),\n",
    "         'reg_alpha': hp.quniform('reg_alpha', 40, 180, 1),\n",
    "         'reg_lambda': hp.uniform('reg_lambda', 0, 1),\n",
    "         'colsample_bytree': hp.uniform('colsample_bytree', 0.5, 1),\n",
    "         'min_child_weight': hp.quniform('min_child_weight', 0, 10, 1),\n",
    "         'n_estimators': 2000,  # 180 hp.quniform('n_estimators', 100, 5000, 1),\n",
    "         'seed': 42\n",
    "         }\n",
    "\n",
    "group_kfold = GroupKFold(n_splits=2)\n",
    "\n",
    "train_x.reset_index(drop=True, inplace=True)  # Not sure whether this is necessarily\n",
    "train_x_full.reset_index(drop=True, inplace=True)\n",
    "train_y.reset_index(drop=True, inplace=True)\n",
    "\n",
    "train_index, test_index = next(group_kfold.split(train_x_full, train_y, groups=groups))\n",
    "train_x_, train_y_ = train_x_full.iloc[train_index], train_y.iloc[train_index]\n",
    "val_x, val_y = train_x_full.iloc[test_index], get_winners_only(train_y.iloc[test_index])\n",
    "\n",
    "groups_val = train_x_['Test']\n",
    "val_x.head()"
   ],
   "metadata": {
    "collapsed": false,
    "pycharm": {
     "name": "#%%\n"
    }
   }
  },
  {
   "cell_type": "code",
   "execution_count": 6,
   "outputs": [],
   "source": [
    "def objective(space):\n",
    "    if 'max_depth' in space:\n",
    "        space['max_depth'] = int(space['max_depth'])\n",
    "\n",
    "    model = XGBClassifier(**space)\n",
    "\n",
    "    feature_vecs = get_manually_labeled_features(train_x_)\n",
    "    train_labels = train_y_['Winner']\n",
    "\n",
    "    assert len(feature_vecs) == len(train_labels) == len(groups_val)\n",
    "\n",
    "    model.fit(get_manually_labeled_features(train_x_), train_y_['Winner'], groups_val, sample_weight=None, verbose=0)\n",
    "\n",
    "    predicted_winners = predict_wp(model, val_x)\n",
    "\n",
    "    assert len(predicted_winners) == len(val_y)\n",
    "\n",
    "    accuracy = evaluate_wp(val_y, predicted_winners)\n",
    "\n",
    "    print(f\"Accuracy: {accuracy} for parameters {space}\")\n",
    "\n",
    "    return {'loss': -accuracy, 'status': STATUS_OK}\n",
    "\n",
    "\n",
    "trials = Trials()\n",
    "\n",
    "# best_params = fmin(fn = objective,\n",
    "#                         space = space,\n",
    "#                         algo = tpe.suggest,\n",
    "#                         max_evals = 100,\n",
    "#                         trials = trials)\n",
    "# best_params"
   ],
   "metadata": {
    "collapsed": false,
    "pycharm": {
     "name": "#%%\n"
    }
   }
  },
  {
   "cell_type": "markdown",
   "source": [
    "First output:\n",
    "Accuracy: 0.6143250688705234 for parameters {'colsample_bytree': 0.6791708315892704, 'gamma': 1.6776735267349485, 'max_depth': 4.0, 'min_child_weight': 5.0, 'n_estimators': 2000, 'reg_alpha': 166.0, 'reg_lambda': 0.3143609826533077, 'seed': 42}\n",
    "  1%|          | 1/100 [00:01<01:38,  1.01trial/s, best loss: -0.6143250688705234]\n",
    "\n",
    "Last output:\n",
    "Accuracy: 0.6143250688705234 for parameters {'colsample_bytree': 0.6719335050018236, 'gamma': 7.017770580747134, 'max_depth': 7.0, 'min_child_weight': 5.0, 'n_estimators': 2000, 'reg_alpha': 113.0, 'reg_lambda': 0.003552172716062952, 'seed': 42}\n",
    "100%|██████████| 100/100 [01:29<00:00,  1.12trial/s, best loss: -0.6170798898071626]\n",
    "\n",
    "{'colsample_bytree': 0.6500096592267572,\n",
    " 'gamma': 7.558340556589674,\n",
    " 'max_depth': 5.0,\n",
    " 'min_child_weight': 10.0,\n",
    " 'reg_alpha': 156.0,\n",
    " 'reg_lambda': 0.4016083487002631}"
   ],
   "metadata": {
    "collapsed": false,
    "pycharm": {
     "name": "#%% md\n"
    }
   }
  },
  {
   "cell_type": "markdown",
   "source": [
    "The parameters itself don't seem to make a lot of difference."
   ],
   "metadata": {
    "collapsed": false,
    "pycharm": {
     "name": "#%% md\n"
    }
   }
  },
  {
   "cell_type": "code",
   "execution_count": 7,
   "outputs": [
    {
     "name": "stdout",
     "output_type": "stream",
     "text": [
      "Accuracy: 53.85% (98/182)\n"
     ]
    },
    {
     "name": "stderr",
     "output_type": "stream",
     "text": [
      "C:\\Users\\arnod\\AppData\\Local\\Programs\\Python\\Python39\\lib\\site-packages\\xgboost\\core.py:525: FutureWarning: Pass `sample_weight` as keyword args.  Passing these as positional arguments will be considered as error in future releases.\n",
      "  warnings.warn(\n"
     ]
    }
   ],
   "source": [
    "best_params = {'colsample_bytree': 0.6500096592267572,\n",
    "               'gamma': 7.558340556589674,\n",
    "               'max_depth': 5,\n",
    "               'min_child_weight': 10,\n",
    "               'reg_alpha': 156,\n",
    "               'reg_lambda': 0.4016083487002631}\n",
    "\n",
    "model = XGBClassifier(n_estimators=100, random_state=42, **best_params)\n",
    "\n",
    "fit_predict_print_wp(model, train_x, train_y, test_x, test_y, groups=train_x_full['Test'])"
   ],
   "metadata": {
    "collapsed": false,
    "pycharm": {
     "name": "#%%\n"
    }
   }
  },
  {
   "cell_type": "markdown",
   "source": [
    "Almost no improvement, even worse than the few parametrs we randomly tested. Maybe I'm targtting th wrong hyperparameters or using the wrong values. Let's take a look at all different parameters:"
   ],
   "metadata": {
    "collapsed": false,
    "pycharm": {
     "name": "#%% md\n"
    }
   }
  },
  {
   "cell_type": "markdown",
   "source": [
    "Let's focus on reg_alpha, reg_lambda, gamma, learning_rate and colsample_bytree."
   ],
   "metadata": {
    "collapsed": false,
    "pycharm": {
     "name": "#%% md\n"
    }
   }
  },
  {
   "cell_type": "code",
   "execution_count": 8,
   "outputs": [],
   "source": [
    "space = {\n",
    "    'reg_alpha': hp.quniform('reg_alpha', 40, 180, 1),\n",
    "    'reg_lambda': hp.uniform('reg_lambda', 0, 1),\n",
    "    'gamma': hp.uniform('gamma', 1, 9),\n",
    "    'learning_rate': hp.uniform('learning_rate', 0.01, 0.2),\n",
    "    'colsample_bytree': hp.uniform('colsample_bytree', 0.5, 1),\n",
    "    'max_depth': hp.quniform('max_depth', 2, 8, 1),\n",
    "    'n_estimators': 500,\n",
    "}\n",
    "trials = Trials()\n",
    "\n",
    "# best_params = fmin(fn=objective,\n",
    "#                    space=space,\n",
    "#                    algo=tpe.suggest,\n",
    "#                    max_evals=500,\n",
    "#                    trials=trials)\n",
    "# best_params"
   ],
   "metadata": {
    "collapsed": false,
    "pycharm": {
     "name": "#%%\n"
    }
   }
  },
  {
   "cell_type": "markdown",
   "source": [
    "100%|██████████| 500/500 [04:07<00:00,  2.02trial/s, best loss: -0.6253443526170799]\n",
    "\n",
    "{'colsample_bytree': 0.5012636742809072,\n",
    " 'gamma': 2.865011368404072,\n",
    " 'learning_rate': 0.010029562333387768,\n",
    " 'max_depth': 2.0,\n",
    " 'reg_alpha': 73.0,\n",
    " 'reg_lambda': 0.6682379307006133}"
   ],
   "metadata": {
    "collapsed": false,
    "pycharm": {
     "name": "#%% md\n"
    }
   }
  },
  {
   "cell_type": "code",
   "execution_count": 9,
   "outputs": [],
   "source": [
    "best_params = {'colsample_bytree': 0.5012636742809072,\n",
    "               'gamma': 2.865011368404072,\n",
    "               'learning_rate': 0.010029562333387768,\n",
    "               'max_depth': 2,\n",
    "               'reg_alpha': 73.0,\n",
    "               'reg_lambda': 0.6682379307006133}"
   ],
   "metadata": {
    "collapsed": false,
    "pycharm": {
     "name": "#%%\n"
    }
   }
  },
  {
   "cell_type": "code",
   "execution_count": 10,
   "outputs": [
    {
     "name": "stderr",
     "output_type": "stream",
     "text": [
      "C:\\Users\\arnod\\AppData\\Local\\Programs\\Python\\Python39\\lib\\site-packages\\xgboost\\core.py:525: FutureWarning: Pass `sample_weight` as keyword args.  Passing these as positional arguments will be considered as error in future releases.\n",
      "  warnings.warn(\n"
     ]
    },
    {
     "name": "stdout",
     "output_type": "stream",
     "text": [
      "Accuracy: 53.30% (97/182)\n"
     ]
    }
   ],
   "source": [
    "model = XGBClassifier(n_estimators=500, random_state=42, **best_params)\n",
    "fit_predict_print_wp(model, train_x, train_y, test_x, test_y, groups=train_x_full['Test'])"
   ],
   "metadata": {
    "collapsed": false,
    "pycharm": {
     "name": "#%%\n"
    }
   }
  },
  {
   "cell_type": "markdown",
   "source": [
    "Again a lot lower than the validation set, let's verify the score is actually calculated the same way:"
   ],
   "metadata": {
    "collapsed": false,
    "pycharm": {
     "name": "#%% md\n"
    }
   }
  },
  {
   "cell_type": "code",
   "execution_count": 11,
   "outputs": [
    {
     "name": "stderr",
     "output_type": "stream",
     "text": [
      "C:\\Users\\arnod\\AppData\\Local\\Programs\\Python\\Python39\\lib\\site-packages\\xgboost\\core.py:525: FutureWarning: Pass `sample_weight` as keyword args.  Passing these as positional arguments will be considered as error in future releases.\n",
      "  warnings.warn(\n"
     ]
    },
    {
     "name": "stdout",
     "output_type": "stream",
     "text": [
      "Accuracy: 62.26% (226/363)\n"
     ]
    }
   ],
   "source": [
    "model = XGBClassifier(n_estimators=500, random_state=42, **best_params)\n",
    "fit_predict_print_wp(model, train_x_, train_y_, val_x, val_y, groups=groups_val)"
   ],
   "metadata": {
    "collapsed": false,
    "pycharm": {
     "name": "#%%\n"
    }
   }
  },
  {
   "cell_type": "markdown",
   "source": [
    "Hmm, seems like we're indeed overfitting on the validation set. Let's see whether the results are better when using our smaller train set (for with the validation set)."
   ],
   "metadata": {
    "collapsed": false,
    "pycharm": {
     "name": "#%% md\n"
    }
   }
  },
  {
   "cell_type": "code",
   "execution_count": 12,
   "outputs": [
    {
     "name": "stderr",
     "output_type": "stream",
     "text": [
      "C:\\Users\\arnod\\AppData\\Local\\Programs\\Python\\Python39\\lib\\site-packages\\xgboost\\core.py:525: FutureWarning: Pass `sample_weight` as keyword args.  Passing these as positional arguments will be considered as error in future releases.\n",
      "  warnings.warn(\n"
     ]
    },
    {
     "name": "stdout",
     "output_type": "stream",
     "text": [
      "Accuracy: 53.30% (97/182)\n"
     ]
    }
   ],
   "source": [
    "model = XGBClassifier(n_estimators=500, random_state=42, **best_params)\n",
    "fit_predict_print_wp(model, train_x_, train_y_, test_x, test_y, groups=groups_val)"
   ],
   "metadata": {
    "collapsed": false,
    "pycharm": {
     "name": "#%%\n"
    }
   }
  },
  {
   "cell_type": "markdown",
   "source": [
    "The reduced number of samples in the train set doesn't seem to make any difference.\n",
    "Solution to overfitting to the validation set is cross validation:"
   ],
   "metadata": {
    "collapsed": false,
    "pycharm": {
     "name": "#%% md\n"
    }
   }
  },
  {
   "cell_type": "code",
   "execution_count": 28,
   "outputs": [],
   "source": [
    "group_kfold = GroupKFold(n_splits=5)\n",
    "\n",
    "train_x.reset_index(drop=True, inplace=True)  # Not sure whether this is necessarily\n",
    "train_x_full.reset_index(drop=True, inplace=True)\n",
    "train_y.reset_index(drop=True, inplace=True)\n",
    "\n",
    "\n",
    "def objective_cv(space):\n",
    "    if 'max_depth' in space:\n",
    "        space['max_depth'] = int(space['max_depth'])\n",
    "\n",
    "    model = XGBClassifier(**space)\n",
    "\n",
    "    accuracies = []\n",
    "    for train_index, val_index in group_kfold.split(train_x, train_y, groups=train_x_full['Test']):\n",
    "\n",
    "        train_x_small, train_y_small = train_x_full.iloc[train_index], train_y.iloc[train_index]\n",
    "        val_x, val_y = train_x_full.iloc[val_index], get_winners_only(train_y.iloc[val_index])\n",
    "        # groups_val = train_x_full.iloc[val_index]['Test']\n",
    "\n",
    "        model.fit(get_manually_labeled_features(train_x_small), train_y_small['Winner']) #, groups_val, sample_weight=None, verbose=0)\n",
    "\n",
    "        predicted_winners = predict_wp(model, val_x)\n",
    "\n",
    "        assert len(predicted_winners) == len(val_y)\n",
    "\n",
    "        accuracy = evaluate_wp(val_y, predicted_winners)\n",
    "\n",
    "        accuracies.append(accuracy)\n",
    "\n",
    "    accuracy_mean = np.mean(accuracies)\n",
    "    # print(f\"Accuracy mean: {accuracy_mean} for parameters {space}\")\n",
    "\n",
    "    return {'loss': -accuracy_mean, 'status': STATUS_OK}"
   ],
   "metadata": {
    "collapsed": false,
    "pycharm": {
     "name": "#%%\n"
    }
   }
  },
  {
   "cell_type": "code",
   "execution_count": 29,
   "outputs": [
    {
     "name": "stdout",
     "output_type": "stream",
     "text": [
      "100%|██████████| 500/500 [15:21<00:00,  1.84s/trial, best loss: -0.5633349078885215]\n"
     ]
    },
    {
     "data": {
      "text/plain": "{'colsample_bytree': 0.8376842762481432,\n 'gamma': 1.0100982566020316,\n 'learning_rate': 0.10560571568287097,\n 'max_depth': 5.0,\n 'reg_alpha': 41.0,\n 'reg_lambda': 0.46191366472424383}"
     },
     "execution_count": 29,
     "metadata": {},
     "output_type": "execute_result"
    }
   ],
   "source": [
    "space = {\n",
    "    'reg_alpha': hp.quniform('reg_alpha', 40, 180, 1),\n",
    "    'reg_lambda': hp.uniform('reg_lambda', 0, 1),\n",
    "    'gamma': hp.uniform('gamma', 1, 9),\n",
    "    'learning_rate': hp.uniform('learning_rate', 0.01, 0.2),\n",
    "    'colsample_bytree': hp.uniform('colsample_bytree', 0.5, 1),\n",
    "    'max_depth': hp.quniform('max_depth', 2, 8, 1),\n",
    "    'n_estimators': 500,\n",
    "}\n",
    "trials = Trials()\n",
    "\n",
    "best_params = fmin(fn=objective_cv,\n",
    "                   space=space,\n",
    "                   algo=tpe.suggest,\n",
    "                   max_evals=500,\n",
    "                   trials=trials)\n",
    "best_params"
   ],
   "metadata": {
    "collapsed": false,
    "pycharm": {
     "name": "#%%\n"
    }
   }
  },
  {
   "cell_type": "markdown",
   "source": [
    "100%|██████████| 500/500 [15:21<00:00,  1.84s/trial, best loss: -0.5633349078885215]\n",
    "\n",
    "{'colsample_bytree': 0.8376842762481432,\n",
    " 'gamma': 1.0100982566020316,\n",
    " 'learning_rate': 0.10560571568287097,\n",
    " 'max_depth': 5.0,\n",
    " 'reg_alpha': 41.0,\n",
    " 'reg_lambda': 0.46191366472424383}"
   ],
   "metadata": {
    "collapsed": false,
    "pycharm": {
     "name": "#%% md\n"
    }
   }
  },
  {
   "cell_type": "code",
   "execution_count": 34,
   "outputs": [],
   "source": [
    "best_params = {'colsample_bytree': 0.8376842762481432,\n",
    "               'gamma': 1.0100982566020316,\n",
    "               'learning_rate': 0.10560571568287097,\n",
    "               'max_depth': 5,\n",
    "               'reg_alpha': 41.0,\n",
    "               'reg_lambda': 0.46191366472424383}\n"
   ],
   "metadata": {
    "collapsed": false,
    "pycharm": {
     "name": "#%%\n"
    }
   }
  },
  {
   "cell_type": "code",
   "execution_count": 36,
   "outputs": [
    {
     "name": "stderr",
     "output_type": "stream",
     "text": [
      "C:\\Users\\arnod\\AppData\\Local\\Programs\\Python\\Python39\\lib\\site-packages\\xgboost\\core.py:525: FutureWarning: Pass `sample_weight` as keyword args.  Passing these as positional arguments will be considered as error in future releases.\n",
      "  warnings.warn(\n"
     ]
    },
    {
     "name": "stdout",
     "output_type": "stream",
     "text": [
      "Accuracy: 51.65% (94/182)\n"
     ]
    }
   ],
   "source": [
    "model = XGBClassifier(n_estimators=500, random_state=42, **best_params)\n",
    "fit_predict_print_wp(model, train_x, train_y, test_x, test_y, groups=train_x_full['Test'])"
   ],
   "metadata": {
    "collapsed": false,
    "pycharm": {
     "name": "#%%\n"
    }
   }
  },
  {
   "cell_type": "markdown",
   "source": [
    "## Feature importance"
   ],
   "metadata": {
    "collapsed": false,
    "pycharm": {
     "name": "#%% md\n"
    }
   }
  },
  {
   "cell_type": "code",
   "execution_count": 14,
   "outputs": [
    {
     "data": {
      "text/plain": "<Figure size 432x288 with 1 Axes>",
      "image/png": "[encoded data removed]"
     },
     "metadata": {
      "needs_background": "light"
     },
     "output_type": "display_data"
    },
    {
     "data": {
      "text/plain": "<Figure size 1152x864 with 0 Axes>"
     },
     "metadata": {},
     "output_type": "display_data"
    }
   ],
   "source": [
    "import xgboost as xgb\n",
    "import matplotlib.pyplot as plt\n",
    "\n",
    "xgb.plot_importance(model)\n",
    "plt.figure(figsize=(16, 12))\n",
    "plt.show()"
   ],
   "metadata": {
    "collapsed": false,
    "pycharm": {
     "name": "#%%\n"
    }
   }
  }
 ],
 "metadata": {
  "kernelspec": {
   "display_name": "Python 3",
   "language": "python",
   "name": "python3"
  },
  "language_info": {
   "codemirror_mode": {
    "name": "ipython",
    "version": 2
   },
   "file_extension": ".py",
   "mimetype": "text/x-python",
   "name": "python",
   "nbconvert_exporter": "python",
   "pygments_lexer": "ipython2",
   "version": "2.7.6"
  }
 },
 "nbformat": 4,
 "nbformat_minor": 0
}