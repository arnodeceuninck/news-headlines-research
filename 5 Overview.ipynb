{
 "cells": [
  {
   "cell_type": "markdown",
   "source": [
    "# Overview\n",
    "Let's create an overview of the models we got so far. For each model, we'll apply 20-fold cross validation to get an average accuracy and standard deviation. We'll also test some different feature combinations."
   ],
   "metadata": {
    "collapsed": false,
    "pycharm": {
     "name": "#%% md\n"
    }
   }
  },
  {
   "cell_type": "code",
   "execution_count": 1,
   "outputs": [],
   "source": [
    "from sklearn import metrics\n",
    "from sklearn.model_selection import GroupKFold\n",
    "from util import get_preprocessed_dataset, get_winners_only, fit_predict_print_wp, get_label_columns, get_embed_column_names, add_extra_features\n",
    "import pandas as pd\n",
    "import numpy as np\n",
    "from tqdm import tqdm"
   ],
   "metadata": {
    "collapsed": false,
    "pycharm": {
     "name": "#%%\n"
    }
   }
  },
  {
   "cell_type": "code",
   "execution_count": 2,
   "outputs": [],
   "source": [
    "try:\n",
    "    df = pd.read_pickle('df.pkl')\n",
    "    extra_features = [\"Length\", \"NumWordsDiff\", \"AvgWordLengthDiff\", \"MaxWordLengthDiff\"] + get_embed_column_names()\n",
    "except FileNotFoundError:\n",
    "    df = get_preprocessed_dataset()\n",
    "    df, extra_features = add_extra_features(df)\n",
    "    df.to_pickle('df.pkl')"
   ],
   "metadata": {
    "collapsed": false,
    "pycharm": {
     "name": "#%%\n"
    }
   }
  },
  {
   "cell_type": "code",
   "execution_count": 3,
   "outputs": [],
   "source": [
    "feature_groups = [\n",
    "    ('manual', get_label_columns()),\n",
    "    ('extra', get_label_columns() + ['NumWordsDiff', 'AvgWordLengthDiff', 'MaxWordLengthDiff']),\n",
    "    ('embed', get_embed_column_names()),\n",
    "    ('all', get_label_columns() + ['NumWordsDiff', 'AvgWordLengthDiff', 'MaxWordLengthDiff'] + get_embed_column_names())\n",
    "]\n",
    "\n",
    "column_names = []\n",
    "for group in feature_groups:\n",
    "    column_names.append(group[0] + '_mean')\n",
    "    column_names.append(group[0] + '_std')\n",
    "\n",
    "evaluation_df = pd.DataFrame(columns=['model_name'] + column_names)\n",
    "\n",
    "def evaluate_model(model_, model_name, fit_predict_wp_kwargs=None, n=20, show_progress=False):\n",
    "    if fit_predict_wp_kwargs is None:\n",
    "        fit_predict_wp_kwargs = {}\n",
    "\n",
    "    x = df.drop(['Winner'], axis=1)\n",
    "    y = df # Taking winners only after train test split\n",
    "    groups = df['Test']\n",
    "\n",
    "    evaluation_results = {'model_name': model_name}\n",
    "    for group_name, group_features in feature_groups:\n",
    "        scores = []\n",
    "        for train_index, test_index in tqdm(GroupKFold(n_splits=n).split(x, y, groups), disable=not show_progress, total=n):\n",
    "            x_train, x_test = x.iloc[train_index], x.iloc[test_index]\n",
    "            y_train, y_test = y.iloc[train_index], y.iloc[test_index]\n",
    "\n",
    "            train_groups = groups.iloc[train_index]\n",
    "\n",
    "\n",
    "            y_goal = get_winners_only(y_test)\n",
    "\n",
    "            accuracy = fit_predict_print_wp(model_, x_train, y_train, x_test, y_goal, silent=True, features=group_features, groups=train_groups, **fit_predict_wp_kwargs)\n",
    "\n",
    "            scores.append(accuracy)\n",
    "\n",
    "        mean = np.mean(scores)\n",
    "        std = np.std(scores)\n",
    "\n",
    "        print(f\"{model_name}[{group_name}] - \\tMean: {mean:.3f}, Std: {std:.3f}, Min {np.min(scores):.3f}, Max {np.max(scores):.3f}\")\n",
    "        evaluation_results[f\"{group_name}_mean\"] = mean\n",
    "        evaluation_results[f\"{group_name}_std\"] = std\n",
    "\n",
    "    # Add the results as a new row in the evaluation dataframe\n",
    "    evaluation_df.loc[len(evaluation_df)] = evaluation_results"
   ],
   "metadata": {
    "collapsed": false,
    "pycharm": {
     "name": "#%%\n"
    }
   }
  },
  {
   "cell_type": "markdown",
   "source": [
    "## Random\n",
    "The first classifier we tried, used as a baseline."
   ],
   "metadata": {
    "collapsed": false,
    "pycharm": {
     "name": "#%% md\n"
    }
   }
  },
  {
   "cell_type": "code",
   "execution_count": 11,
   "outputs": [
    {
     "name": "stdout",
     "output_type": "stream",
     "text": [
      "Random[manual] - \tMean: 0.458, Std: 0.075, Min 0.333, Max 0.609\n",
      "Random[extra] - \tMean: 0.446, Std: 0.065, Min 0.289, Max 0.556\n",
      "Random[embed] - \tMean: 0.445, Std: 0.045, Min 0.391, Max 0.543\n",
      "Random[all] - \tMean: 0.406, Std: 0.073, Min 0.267, Max 0.522\n"
     ]
    }
   ],
   "source": [
    "from util import get_random_predictor_model\n",
    "model = get_random_predictor_model()\n",
    "evaluate_model(model, 'Random')"
   ],
   "metadata": {
    "collapsed": false,
    "pycharm": {
     "name": "#%%\n"
    }
   }
  },
  {
   "cell_type": "markdown",
   "source": [
    "## Naive Bayes"
   ],
   "metadata": {
    "collapsed": false,
    "pycharm": {
     "name": "#%% md\n"
    }
   }
  },
  {
   "cell_type": "code",
   "execution_count": 4,
   "outputs": [
    {
     "name": "stdout",
     "output_type": "stream",
     "text": [
      "Naive Bayes[manual] - \tMean: 0.625, Std: 0.073, Min 0.457, Max 0.739\n",
      "Naive Bayes[extra] - \tMean: 0.614, Std: 0.065, Min 0.478, Max 0.717\n",
      "Naive Bayes[embed] - \tMean: 0.464, Std: 0.060, Min 0.348, Max 0.565\n",
      "Naive Bayes[all] - \tMean: 0.523, Std: 0.065, Min 0.391, Max 0.644\n"
     ]
    }
   ],
   "source": [
    "from util import get_naive_bayes_model_wp\n",
    "model = get_naive_bayes_model_wp()\n",
    "evaluate_model(model, 'Naive Bayes')"
   ],
   "metadata": {
    "collapsed": false,
    "pycharm": {
     "name": "#%%\n"
    }
   }
  },
  {
   "cell_type": "markdown",
   "source": [
    "## Random Forest"
   ],
   "metadata": {
    "collapsed": false,
    "pycharm": {
     "name": "#%% md\n"
    }
   }
  },
  {
   "cell_type": "code",
   "execution_count": 6,
   "outputs": [
    {
     "name": "stdout",
     "output_type": "stream",
     "text": [
      "Naive Bayes[manual] - \tMean: 0.621, Std: 0.081, Min 0.413, Max 0.761\n",
      "Naive Bayes[extra] - \tMean: 0.615, Std: 0.072, Min 0.489, Max 0.739\n",
      "Naive Bayes[embed] - \tMean: 0.478, Std: 0.074, Min 0.261, Max 0.600\n",
      "Naive Bayes[all] - \tMean: 0.594, Std: 0.059, Min 0.435, Max 0.696\n"
     ]
    }
   ],
   "source": [
    "from util import get_random_forest_model_wp\n",
    "model = get_random_forest_model_wp()\n",
    "evaluate_model(model, 'Random Forest') # Note: In lines below, there is still \"Naive Bayes\", but that's actually a random forest"
   ],
   "metadata": {
    "collapsed": false,
    "pycharm": {
     "name": "#%%\n"
    }
   }
  },
  {
   "cell_type": "markdown",
   "source": [
    "## Multi Layer Perceptron"
   ],
   "metadata": {
    "collapsed": false,
    "pycharm": {
     "name": "#%% md\n"
    }
   }
  },
  {
   "cell_type": "code",
   "execution_count": 4,
   "outputs": [
    {
     "name": "stdout",
     "output_type": "stream",
     "text": [
      "MLP[manual] - \tMean: 0.546, Std: 0.074, Min 0.413, Max 0.711\n",
      "MLP[extra] - \tMean: 0.562, Std: 0.088, Min 0.435, Max 0.756\n",
      "MLP[embed] - \tMean: 0.489, Std: 0.076, Min 0.304, Max 0.609\n",
      "MLP[all] - \tMean: 0.544, Std: 0.062, Min 0.370, Max 0.622\n"
     ]
    }
   ],
   "source": [
    "from util import get_mlp_model_wp\n",
    "model = get_mlp_model_wp()\n",
    "evaluate_model(model, 'MLP')"
   ],
   "metadata": {
    "collapsed": false,
    "pycharm": {
     "name": "#%%\n"
    }
   }
  },
  {
   "cell_type": "markdown",
   "source": [
    "## Gradient Boosting"
   ],
   "metadata": {
    "collapsed": false,
    "pycharm": {
     "name": "#%% md\n"
    }
   }
  },
  {
   "cell_type": "code",
   "execution_count": 5,
   "outputs": [
    {
     "name": "stdout",
     "output_type": "stream",
     "text": [
      "XGBoost[manual] - \tMean: 0.575, Std: 0.081, Min 0.457, Max 0.761\n",
      "XGBoost[extra] - \tMean: 0.581, Std: 0.081, Min 0.457, Max 0.826\n",
      "XGBoost[embed] - \tMean: 0.436, Std: 0.074, Min 0.326, Max 0.600\n",
      "XGBoost[all] - \tMean: 0.586, Std: 0.051, Min 0.489, Max 0.667\n"
     ]
    }
   ],
   "source": [
    "from util import get_xgboost_model_wp\n",
    "model = get_xgboost_model_wp()\n",
    "evaluate_model(model, 'XGBoost')"
   ],
   "metadata": {
    "collapsed": false,
    "pycharm": {
     "name": "#%%\n"
    }
   }
  },
  {
   "cell_type": "markdown",
   "source": [
    "## Proximity Forest"
   ],
   "metadata": {
    "collapsed": false,
    "pycharm": {
     "name": "#%% md\n"
    }
   }
  },
  {
   "cell_type": "code",
   "execution_count": 13,
   "outputs": [
    {
     "name": "stderr",
     "output_type": "stream",
     "text": [
      "100%|██████████| 5/5 [10:03<00:00, 120.74s/it]\n"
     ]
    },
    {
     "name": "stdout",
     "output_type": "stream",
     "text": [
      "Proximity Forest[manual] - \tMean: 0.572, Std: 0.029, Min 0.544, Max 0.619\n"
     ]
    },
    {
     "name": "stderr",
     "output_type": "stream",
     "text": [
      "100%|██████████| 5/5 [11:08<00:00, 133.78s/it]\n"
     ]
    },
    {
     "name": "stdout",
     "output_type": "stream",
     "text": [
      "Proximity Forest[extra] - \tMean: 0.545, Std: 0.042, Min 0.492, Max 0.615\n"
     ]
    },
    {
     "name": "stderr",
     "output_type": "stream",
     "text": [
      "100%|██████████| 5/5 [10:35<00:00, 127.18s/it]\n"
     ]
    },
    {
     "name": "stdout",
     "output_type": "stream",
     "text": [
      "Proximity Forest[embed] - \tMean: 0.423, Std: 0.040, Min 0.370, Max 0.484\n"
     ]
    },
    {
     "name": "stderr",
     "output_type": "stream",
     "text": [
      "100%|██████████| 5/5 [10:36<00:00, 127.28s/it]"
     ]
    },
    {
     "name": "stdout",
     "output_type": "stream",
     "text": [
      "Proximity Forest[all] - \tMean: 0.439, Std: 0.032, Min 0.390, Max 0.486\n"
     ]
    },
    {
     "name": "stderr",
     "output_type": "stream",
     "text": [
      "\n"
     ]
    }
   ],
   "source": [
    "from util import get_proximity_forest_model_wp\n",
    "model = get_proximity_forest_model_wp()\n",
    "evaluate_model(model, 'Proximity Forest', fit_predict_wp_kwargs={'multiple_class_names': False}, n=5, show_progress=True)"
   ],
   "metadata": {
    "collapsed": false,
    "pycharm": {
     "name": "#%%\n"
    }
   }
  },
  {
   "cell_type": "code",
   "execution_count": null,
   "outputs": [
    {
     "name": "stderr",
     "output_type": "stream",
     "text": [
      "  0%|          | 0/5 [00:00<?, ?it/s]"
     ]
    }
   ],
   "source": [
    "from util import ProximityForestClassifier\n",
    "best_params = {'max_depth': 20, 'n_trees': 328, 'sample_multiple_splits': 2}\n",
    "model = ProximityForestClassifier(show_progress=False, **best_params)\n",
    "evaluate_model(model, 'Proximity Forest', fit_predict_wp_kwargs={'multiple_class_names': False}, n=5, show_progress=True)"
   ],
   "metadata": {
    "collapsed": false,
    "pycharm": {
     "name": "#%%\n",
     "is_executing": true
    }
   }
  }
 ],
 "metadata": {
  "kernelspec": {
   "display_name": "Python 3",
   "language": "python",
   "name": "python3"
  },
  "language_info": {
   "codemirror_mode": {
    "name": "ipython",
    "version": 2
   },
   "file_extension": ".py",
   "mimetype": "text/x-python",
   "name": "python",
   "nbconvert_exporter": "python",
   "pygments_lexer": "ipython2",
   "version": "2.7.6"
  }
 },
 "nbformat": 4,
 "nbformat_minor": 0
}