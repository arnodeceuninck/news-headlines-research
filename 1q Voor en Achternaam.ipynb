{
 "cells": [
  {
   "cell_type": "markdown",
   "source": [
    "# Voor + Achternaam\n",
    "## Details\n",
    "> Hier is de vraag of voor bekende mensen de volledige naam  (voor-en achternaam) in de titel beter werkt dan enkel hun achternaam.\n",
    "## Example\n",
    "> Beluister hier de eerste audiocolumn van Nico Dijkshoorn: “Mis ik Nederland? Geen moment” Vs. Dijkshoorn scherp voor eigen natie in nieuwe WK-audiocolumn: \"Of ik Oranje mis? Geen moment\""
   ],
   "metadata": {
    "collapsed": false,
    "pycharm": {
     "name": "#%% md\n"
    }
   }
  },
  {
   "cell_type": "markdown",
   "source": [
    "## Data"
   ],
   "metadata": {
    "collapsed": false,
    "pycharm": {
     "name": "#%% md\n"
    }
   }
  },
  {
   "cell_type": "code",
   "execution_count": 1,
   "outputs": [
    {
     "data": {
      "text/plain": "0    610\n1     71\nName: Voor+Achternaam, dtype: int64"
     },
     "execution_count": 1,
     "metadata": {},
     "output_type": "execute_result"
    }
   ],
   "source": [
    "from util import get_cls_train_test\n",
    "\n",
    "train_x, train_y, test_x, test_y = get_cls_train_test(\"Voor+Achternaam\")\n",
    "train_y.value_counts()"
   ],
   "metadata": {
    "collapsed": false,
    "pycharm": {
     "name": "#%%\n"
    }
   }
  },
  {
   "cell_type": "markdown",
   "source": [
    "## Approach 1: Tf-idf\n",
    "This might have the same problem as with proper nouns, that we're overfitting on the names currently in the news and not the ones that will be in the future in the news."
   ],
   "metadata": {
    "collapsed": false,
    "pycharm": {
     "name": "#%% md\n"
    }
   }
  },
  {
   "cell_type": "code",
   "execution_count": 2,
   "outputs": [
    {
     "name": "stdout",
     "output_type": "stream",
     "text": [
      "f-score: 0.1904761904761905\n",
      "Confusion matrix: (TP: 209, FP: 0, FN: 17, TN: 2)\n",
      "Accuracy=92.54% (211/228)\n"
     ]
    },
    {
     "data": {
      "text/plain": "<Figure size 432x288 with 2 Axes>",
      "image/png": "[encoded data removed]"
     },
     "metadata": {
      "needs_background": "light"
     },
     "output_type": "display_data"
    }
   ],
   "source": [
    "from imblearn.pipeline import Pipeline\n",
    "from imblearn.combine import SMOTETomek\n",
    "from sklearn.feature_extraction.text import TfidfVectorizer\n",
    "from sklearn import svm\n",
    "\n",
    "from util import fit_predict_evaluate\n",
    "\n",
    "model = Pipeline([\n",
    "    ('vectorizer', TfidfVectorizer()),\n",
    "    ('resampler', SMOTETomek(random_state=0)),\n",
    "    ('classifier', svm.LinearSVC(random_state=0))\n",
    "])\n",
    "\n",
    "fit_predict_evaluate(model, train_x, train_y, test_x, test_y)"
   ],
   "metadata": {
    "collapsed": false,
    "pycharm": {
     "name": "#%%\n"
    }
   }
  },
  {
   "cell_type": "code",
   "execution_count": 3,
   "outputs": [
    {
     "name": "stdout",
     "output_type": "stream",
     "text": [
      "1.6999           marc    -0.6821             in\n",
      "1.5364         markle    -0.6739          trump\n",
      "1.5149           bart    -0.5999             ik\n",
      "1.2065         herman    -0.5704            met\n",
      "1.1986     kardashian    -0.5703            dit\n",
      "1.1433         gedrag    -0.5427          queen\n",
      "1.1392        dexters    -0.5408         moeder\n",
      "1.1392          tanja    -0.5160           voor\n",
      "1.1223            kim    -0.5048             en\n",
      "1.0778           demi    -0.4909            hij\n"
     ]
    }
   ],
   "source": [
    "from util import show_most_informative_features\n",
    "show_most_informative_features(model)"
   ],
   "metadata": {
    "collapsed": false,
    "pycharm": {
     "name": "#%%\n"
    }
   }
  },
  {
   "cell_type": "markdown",
   "source": [
    "As expected, it focuses mainly on currently popular names. Since this only looks word per word, Harry is appearantly used less without a last name. Let's solve the second part using 2-grams or 3-grams:"
   ],
   "metadata": {
    "collapsed": false,
    "pycharm": {
     "name": "#%% md\n"
    }
   }
  },
  {
   "cell_type": "code",
   "execution_count": 4,
   "outputs": [
    {
     "name": "stdout",
     "output_type": "stream",
     "text": [
      "f-score: 0.09523809523809525\n",
      "Confusion matrix: (TP: 208, FP: 1, FN: 18, TN: 1)\n",
      "Accuracy=91.67% (209/228)\n"
     ]
    },
    {
     "data": {
      "text/plain": "<Figure size 432x288 with 2 Axes>",
      "image/png": "[encoded data removed]"
     },
     "metadata": {
      "needs_background": "light"
     },
     "output_type": "display_data"
    }
   ],
   "source": [
    "model = Pipeline([\n",
    "    ('vectorizer', TfidfVectorizer(ngram_range=(2,3))),\n",
    "    ('resampler', SMOTETomek(random_state=0)),\n",
    "    ('classifier', svm.LinearSVC(random_state=0))\n",
    "])\n",
    "\n",
    "fit_predict_evaluate(model, train_x, train_y, test_x, test_y)"
   ],
   "metadata": {
    "collapsed": false,
    "pycharm": {
     "name": "#%%\n"
    }
   }
  },
  {
   "cell_type": "markdown",
   "source": [
    "The f-score has become a lot lower (since there are almost no positive testing samples), while the accuracy is almost the same."
   ],
   "metadata": {
    "collapsed": false,
    "pycharm": {
     "name": "#%% md\n"
    }
   }
  },
  {
   "cell_type": "code",
   "execution_count": 5,
   "outputs": [
    {
     "name": "stdout",
     "output_type": "stream",
     "text": [
      "1.0678  meghan markle    -0.3691          in de\n",
      "0.9814 kim kardashian    -0.3314          op de\n",
      "0.9131        bart de    -0.2376        voor de\n",
      "0.8684  tanja dexters    -0.2351         uit de\n",
      "0.8508    demi lovato    -0.2218         dit is\n",
      "0.7022    marc coucke    -0.1982       harry en\n",
      "0.7011grensoverschrijdend gedrag    -0.1965         in het\n",
      "0.6959     terug naar    -0.1929   rode duivels\n",
      "0.6523       te groot    -0.1821  in vlaanderen\n",
      "0.6408     anne frank    -0.1790harry en meghan\n"
     ]
    }
   ],
   "source": [
    "show_most_informative_features(model)"
   ],
   "metadata": {
    "collapsed": false,
    "pycharm": {
     "name": "#%%\n"
    }
   }
  },
  {
   "cell_type": "markdown",
   "source": [
    "Those 2-grams seem to make more sense than the 1-grams from earlier however."
   ],
   "metadata": {
    "collapsed": false,
    "pycharm": {
     "name": "#%% md\n"
    }
   }
  },
  {
   "cell_type": "markdown",
   "source": [
    "## Approach 2: SpaCy\n",
    "SpaCy was excellent in detecting proper nouns. We might be able to check for two consequtive proper nouns."
   ],
   "metadata": {
    "collapsed": false,
    "pycharm": {
     "name": "#%% md\n"
    }
   }
  },
  {
   "cell_type": "code",
   "execution_count": 6,
   "outputs": [
    {
     "name": "stdout",
     "output_type": "stream",
     "text": [
      "[('Zanger', 'NOUN', 'ROOT', []),\n",
      " ('Arno', 'PROPN', 'amod', []),\n",
      " ('Hintjes', 'NOUN', 'obj', [('Arno', 'amod')]),\n",
      " ('overleden', 'VERB', 'ROOT', [('Hintjes', 'obj')])]\n"
     ]
    }
   ],
   "source": [
    "import spacy\n",
    "from pprint import pprint\n",
    "\n",
    "nlp = spacy.load('nl_core_news_sm')\n",
    "pprint([(x.text, x.pos_, x.dep_, [(x.text, x.dep_) for x in list(x.children)]) for x in nlp(u\"Zanger Arno Hintjes overleden\")])"
   ],
   "metadata": {
    "collapsed": false,
    "pycharm": {
     "name": "#%%\n"
    }
   }
  },
  {
   "cell_type": "markdown",
   "source": [
    "Quite strange \"Hintjes\" is not a proper noun."
   ],
   "metadata": {
    "collapsed": false,
    "pycharm": {
     "name": "#%% md\n"
    }
   }
  },
  {
   "cell_type": "code",
   "execution_count": 7,
   "outputs": [
    {
     "name": "stdout",
     "output_type": "stream",
     "text": [
      "[('Meghan', 'PROPN', 'Meghan'),\n",
      " ('Markles', 'PROPN', 'Markles'),\n",
      " ('papa', 'VERB', 'papa'),\n",
      " ('in', 'ADP', 'in'),\n",
      " ('tranen', 'NOUN', 'tranen'),\n",
      " ('toen', 'SCONJ', 'toen'),\n",
      " ('prins', 'NOUN', 'prins'),\n",
      " ('Charles', 'PROPN', 'Charles'),\n",
      " ('zijn', 'PRON', 'zijn'),\n",
      " ('dochter', 'NOUN', 'dochter'),\n",
      " ('weggaf', 'VERB', 'weggaf'),\n",
      " (':', 'PUNCT', ':'),\n",
      " ('\"', 'PUNCT', '\"'),\n",
      " ('Ik', 'PRON', 'Ik'),\n",
      " ('wenste', 'VERB', 'wenste'),\n",
      " ('dat', 'SCONJ', 'dat'),\n",
      " ('ik', 'PRON', 'ik'),\n",
      " ('daar', 'ADV', 'daar'),\n",
      " ('was', 'VERB', 'was'),\n",
      " ('\"', 'PUNCT', '\"')]\n"
     ]
    }
   ],
   "source": [
    "pprint([(x.text, x.pos_, x.text) for x in nlp(u\"Meghan Markles papa in tranen toen prins Charles zijn dochter weggaf: \\\"Ik wenste dat ik daar was\\\"\")])"
   ],
   "metadata": {
    "collapsed": false,
    "pycharm": {
     "name": "#%%\n"
    }
   }
  },
  {
   "cell_type": "code",
   "execution_count": 8,
   "outputs": [
    {
     "name": "stdout",
     "output_type": "stream",
     "text": [
      "True\n",
      "False\n"
     ]
    }
   ],
   "source": [
    "def contains_consecutive_pronouns(headline):\n",
    "    previous_propn = False\n",
    "    for x in nlp(headline):\n",
    "        if x.pos_ == 'PROPN' and previous_propn:\n",
    "            return True\n",
    "        previous_propn = x.pos_ == 'PROPN'\n",
    "    return False\n",
    "\n",
    "print(contains_consecutive_pronouns(u\"Meghan Markles papa in tranen toen prins Charles zijn dochter weggaf\"))\n",
    "print(contains_consecutive_pronouns(u\"Meghans papa in tranen toen prins Charles zijn dochter weggaf\"))"
   ],
   "metadata": {
    "collapsed": false,
    "pycharm": {
     "name": "#%%\n"
    }
   }
  },
  {
   "cell_type": "code",
   "execution_count": 9,
   "outputs": [
    {
     "name": "stdout",
     "output_type": "stream",
     "text": [
      "f-score: 0.5245901639344263\n",
      "Confusion matrix: (TP: 183, FP: 26, FN: 3, TN: 16)\n",
      "Accuracy=87.28% (199/228)\n"
     ]
    },
    {
     "data": {
      "text/plain": "<Figure size 432x288 with 2 Axes>",
      "image/png": "[encoded data removed]"
     },
     "metadata": {
      "needs_background": "light"
     },
     "output_type": "display_data"
    }
   ],
   "source": [
    "import numpy as np\n",
    "from util import print_evaluation\n",
    "\n",
    "prediction = np.vectorize(contains_consecutive_pronouns)(test_x)\n",
    "print_evaluation(test_y, prediction)"
   ],
   "metadata": {
    "collapsed": false,
    "pycharm": {
     "name": "#%%\n"
    }
   }
  },
  {
   "cell_type": "markdown",
   "source": [
    " A slightly worse accuracy, but the f-score is already better."
   ],
   "metadata": {
    "collapsed": false,
    "pycharm": {
     "name": "#%% md\n"
    }
   }
  },
  {
   "cell_type": "code",
   "execution_count": 10,
   "outputs": [
    {
     "data": {
      "text/plain": "Test      \n102   270     Hij is de beroemdste peuter van België, maar w...\n733   1834    \"Zo ga ik beroemd worden\": cliniclown Kevin (3...\n3     4       Maandag drukste dag van het jaar op Brussels A...\n465   1172    Club Brugge haalt Nederlands talent met straff...\n495   1237    Man zwemt in zes maanden en in 9.000 kilometer...\nName: Headline, dtype: object"
     },
     "execution_count": 10,
     "metadata": {},
     "output_type": "execute_result"
    }
   ],
   "source": [
    "# False positives\n",
    "prediction = train_x.apply(contains_consecutive_pronouns)\n",
    "train_x[(prediction != train_y) & (prediction == 1)][:5]"
   ],
   "metadata": {
    "collapsed": false,
    "pycharm": {
     "name": "#%%\n"
    }
   }
  },
  {
   "cell_type": "markdown",
   "source": [
    "Things like \"Manneke Pis\", \"Club Brugge\", \"Stille Ocean\" are false positives. Let's see if we can solve this by combining this function with Tf-Idf."
   ],
   "metadata": {
    "collapsed": false,
    "pycharm": {
     "name": "#%% md\n"
    }
   }
  },
  {
   "cell_type": "markdown",
   "source": [
    "## Approach 3: Tf-Idf + Consecutive proper nouns (SpaCy)"
   ],
   "metadata": {
    "collapsed": false,
    "pycharm": {
     "name": "#%% md\n"
    }
   }
  },
  {
   "cell_type": "code",
   "execution_count": 11,
   "outputs": [
    {
     "name": "stdout",
     "output_type": "stream",
     "text": [
      "f-score: 0.6666666666666666\n",
      "Confusion matrix: (TP: 200, FP: 9, FN: 5, TN: 14)\n",
      "Accuracy=93.86% (214/228)\n"
     ]
    },
    {
     "data": {
      "text/plain": "<Figure size 432x288 with 2 Axes>",
      "image/png": "[encoded data removed]"
     },
     "metadata": {
      "needs_background": "light"
     },
     "output_type": "display_data"
    }
   ],
   "source": [
    "from sklearn.pipeline import FeatureUnion\n",
    "from util import FunctionTransformer\n",
    "model = Pipeline([\n",
    "    ('union', FeatureUnion([\n",
    "        ('vectorizer', TfidfVectorizer(ngram_range=(1, 1))),\n",
    "        ('consecutive_pronouns', FunctionTransformer(contains_consecutive_pronouns))\n",
    "    ])),\n",
    "    ('resampler', SMOTETomek(random_state=0)),\n",
    "    ('classifier', svm.LinearSVC(random_state=0))\n",
    "])\n",
    "\n",
    "fit_predict_evaluate(model, train_x, train_y, test_x, test_y)"
   ],
   "metadata": {
    "collapsed": false,
    "pycharm": {
     "name": "#%%\n"
    }
   }
  },
  {
   "cell_type": "markdown",
   "source": [
    "We're getting a better accuracy and a better f-score now."
   ],
   "metadata": {
    "collapsed": false,
    "pycharm": {
     "name": "#%% md\n"
    }
   }
  },
  {
   "cell_type": "code",
   "execution_count": 12,
   "outputs": [
    {
     "name": "stdout",
     "output_type": "stream",
     "text": [
      "1.3005         zitten    -1.1260           rode\n",
      "1.0842           demi    -0.7400        duivels\n",
      "1.0842         lovato    -0.7092            uit\n",
      "1.0787         hilton    -0.6527           club\n",
      "1.0787          paris    -0.6261           maar\n",
      "0.8728           niet    -0.6123           voor\n",
      "0.8459    belangrijke    -0.6060             op\n",
      "0.8459     executeren    -0.5970             ik\n",
      "0.8325            mol    -0.5704     temptation\n",
      "0.8307           marc    -0.5687          trump\n"
     ]
    }
   ],
   "source": [
    "show_most_informative_features(model, vectorizer=model.named_steps['union'].transformer_list[0][1])"
   ],
   "metadata": {
    "collapsed": false,
    "pycharm": {
     "name": "#%%\n"
    }
   }
  },
  {
   "cell_type": "markdown",
   "source": [
    "Some words related to \"Rode Duivels\" (rode, duivels, doelman ...). Let's try 2-grams again:"
   ],
   "metadata": {
    "collapsed": false,
    "pycharm": {
     "name": "#%% md\n"
    }
   }
  },
  {
   "cell_type": "code",
   "execution_count": 14,
   "outputs": [
    {
     "name": "stdout",
     "output_type": "stream",
     "text": [
      "f-score: 0.5714285714285714\n",
      "Confusion matrix: (TP: 193, FP: 16, FN: 5, TN: 14)\n",
      "Accuracy=90.79% (207/228)\n"
     ]
    },
    {
     "data": {
      "text/plain": "<Figure size 432x288 with 2 Axes>",
      "image/png": "[encoded data removed]"
     },
     "metadata": {
      "needs_background": "light"
     },
     "output_type": "display_data"
    }
   ],
   "source": [
    "model = Pipeline([\n",
    "    ('union', FeatureUnion([\n",
    "        ('vectorizer', TfidfVectorizer(ngram_range=(2, 2))),\n",
    "        ('consecutive_pronouns', FunctionTransformer(contains_consecutive_pronouns))\n",
    "    ])),\n",
    "    ('resampler', SMOTETomek(random_state=0)),\n",
    "    ('classifier', svm.LinearSVC(random_state=0))\n",
    "])\n",
    "\n",
    "fit_predict_evaluate(model, train_x, train_y, test_x, test_y)"
   ],
   "metadata": {
    "collapsed": false,
    "pycharm": {
     "name": "#%%\n"
    }
   }
  },
  {
   "cell_type": "code",
   "execution_count": 15,
   "outputs": [
    {
     "name": "stdout",
     "output_type": "stream",
     "text": [
      "1.0833    demi lovato    -0.8996   rode duivels\n",
      "0.9351   paris hilton    -0.6517        de rode\n",
      "0.7770      erpe mere    -0.4987          is de\n",
      "0.7770honderden treinreizigers    -0.4861    club brugge\n",
      "0.7770        in erpe    -0.4731          op de\n",
      "0.7770treinreizigers zitten    -0.4036         uit de\n",
      "0.7770    zitten vast    -0.3973temptation island\n",
      "0.7569     terug naar    -0.3883        met een\n",
      "0.6765    in kritieke    -0.3805   test aankoop\n",
      "0.6765kritieke toestand    -0.3659          in de\n"
     ]
    }
   ],
   "source": [
    "show_most_informative_features(model, vectorizer=model.named_steps['union'].transformer_list[0][1])"
   ],
   "metadata": {
    "collapsed": false,
    "pycharm": {
     "name": "#%%\n"
    }
   }
  },
  {
   "cell_type": "markdown",
   "source": [
    "Still stragne results, I would've expected way more firt+lastname pairs with a positive impact. I did expect words like \"rode duivels\", \"club brugge\", \"temptation island\" and \"test aankoop\" with a negative impact, as it's now the case."
   ],
   "metadata": {
    "collapsed": false,
    "pycharm": {
     "name": "#%% md\n"
    }
   }
  }
 ],
 "metadata": {
  "kernelspec": {
   "display_name": "Python 3",
   "language": "python",
   "name": "python3"
  },
  "language_info": {
   "codemirror_mode": {
    "name": "ipython",
    "version": 2
   },
   "file_extension": ".py",
   "mimetype": "text/x-python",
   "name": "python",
   "nbconvert_exporter": "python",
   "pygments_lexer": "ipython2",
   "version": "2.7.6"
  }
 },
 "nbformat": 4,
 "nbformat_minor": 0
}