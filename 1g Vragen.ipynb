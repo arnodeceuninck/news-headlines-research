{
 "cells": [
  {
   "cell_type": "markdown",
   "source": [
    "# Vragen\n",
    "## Details\n",
    "> Vragen in krantenkoppen zouden beter werken\n",
    "omdat ze lezers aan het denken zetten; mensen\n",
    "worden nieuwsgierig naar de inhoud van het artikel\n",
    "omdat ze een antwoord op de gestelde vraag willen\n",
    "verkrijgen."
   ],
   "metadata": {
    "collapsed": false,
    "pycharm": {
     "name": "#%% md\n"
    }
   }
  },
  {
   "cell_type": "markdown",
   "source": [
    "## Data"
   ],
   "metadata": {
    "collapsed": false,
    "pycharm": {
     "name": "#%% md\n"
    }
   }
  },
  {
   "cell_type": "code",
   "execution_count": 1,
   "outputs": [
    {
     "data": {
      "text/plain": "0    628\n1     53\nName: Vragen, dtype: int64"
     },
     "execution_count": 1,
     "metadata": {},
     "output_type": "execute_result"
    }
   ],
   "source": [
    "from util import get_cls_train_test\n",
    "\n",
    "train_x, train_y, test_x, test_y = get_cls_train_test(\"Vragen\")\n",
    "train_y.value_counts()"
   ],
   "metadata": {
    "collapsed": false,
    "pycharm": {
     "name": "#%%\n"
    }
   }
  },
  {
   "cell_type": "markdown",
   "source": [
    "## Approach 1: Question mark"
   ],
   "metadata": {
    "collapsed": false,
    "pycharm": {
     "name": "#%% md\n"
    }
   }
  },
  {
   "cell_type": "code",
   "execution_count": 2,
   "outputs": [
    {
     "name": "stdout",
     "output_type": "stream",
     "text": [
      "True\n"
     ]
    }
   ],
   "source": [
    "def contains_question(headline):\n",
    "    return \"?\" in headline\n",
    "\n",
    "\n",
    "print(contains_question(\"Een derde van de films in de cinema’s zijn prequels of sequels: hoe komt dat?\"))"
   ],
   "metadata": {
    "collapsed": false,
    "pycharm": {
     "name": "#%%\n"
    }
   }
  },
  {
   "cell_type": "code",
   "execution_count": 3,
   "outputs": [
    {
     "name": "stdout",
     "output_type": "stream",
     "text": [
      "f-score: 0.7894736842105263\n",
      "Confusion matrix: (TP: 204, FP: 1, FN: 7, TN: 15)\n",
      "Accuracy=96.48% (219/227)\n"
     ]
    },
    {
     "data": {
      "text/plain": "<Figure size 432x288 with 2 Axes>",
      "image/png": "[encoded data removed]"
     },
     "metadata": {},
     "output_type": "display_data"
    }
   ],
   "source": [
    "from util import print_evaluation\n",
    "predictions = test_x.apply(contains_question)\n",
    "print_evaluation(predictions, test_y)"
   ],
   "metadata": {
    "collapsed": false,
    "pycharm": {
     "name": "#%%\n"
    }
   }
  },
  {
   "cell_type": "markdown",
   "source": [
    "Take a look at the flse positives in the training data."
   ],
   "metadata": {
    "collapsed": false,
    "pycharm": {
     "name": "#%% md\n"
    }
   }
  },
  {
   "cell_type": "code",
   "execution_count": 4,
   "outputs": [
    {
     "data": {
      "text/plain": "Test      \n445   1123    Verrassende toptransfer in de maak? Belgische ...\n173   449     U wilt zondag naar de huldiging van de Rode Du...\n781   1951    \"Is oma gestolen?\" Boeven laten kleinzoon verw...\n602   1506    Wie heeft Anne Frank verraden? Nieuwe theorie ...\n539   1351    Eén prijs om de 17 matchen? Nee, 25 miljoen is...\nName: Headline, dtype: object"
     },
     "execution_count": 4,
     "metadata": {},
     "output_type": "execute_result"
    }
   ],
   "source": [
    "predictions = train_x.apply(contains_question)\n",
    "train_x[~train_y & predictions][:5]"
   ],
   "metadata": {
    "collapsed": false,
    "pycharm": {
     "name": "#%%\n"
    }
   }
  }
 ],
 "metadata": {
  "kernelspec": {
   "display_name": "Python 3",
   "language": "python",
   "name": "python3"
  },
  "language_info": {
   "codemirror_mode": {
    "name": "ipython",
    "version": 2
   },
   "file_extension": ".py",
   "mimetype": "text/x-python",
   "name": "python",
   "nbconvert_exporter": "python",
   "pygments_lexer": "ipython2",
   "version": "2.7.6"
  }
 },
 "nbformat": 4,
 "nbformat_minor": 0
}