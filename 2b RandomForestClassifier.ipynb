{
 "cells": [
  {
   "cell_type": "markdown",
   "source": [
    "# Random Forest Classifier\n",
    "More information on the algorithm can be found [here](https://scikit-learn.org/stable/modules/ensemble.html#forest) or [here](https://www.datacamp.com/tutorial/random-forests-classifier-python)."
   ],
   "metadata": {
    "collapsed": false,
    "pycharm": {
     "name": "#%% md\n"
    }
   }
  },
  {
   "cell_type": "code",
   "execution_count": 10,
   "outputs": [
    {
     "name": "stdout",
     "output_type": "stream",
     "text": [
      "Accuracy: 52.75% (96/182)\n"
     ]
    }
   ],
   "source": [
    "from util import get_wpm_train_test, fit_predict_print_wp\n",
    "from sklearn.ensemble import RandomForestClassifier\n",
    "\n",
    "train_x, train_y, test_x, test_y = get_wpm_train_test()\n",
    "model = RandomForestClassifier(random_state=42)\n",
    "\n",
    "fit_predict_print_wp(model, train_x, train_y, test_x, test_y)"
   ],
   "metadata": {
    "collapsed": false,
    "pycharm": {
     "name": "#%%\n"
    }
   }
  },
  {
   "cell_type": "markdown",
   "source": [
    "## Hyperparameter tuning\n",
    "Maybe our bad results are just because we didn't find the right hyperparameters. Let's try some different ones. Some of this code is based on [this site](https://www.kaggle.com/code/sociopath00/random-forest-using-gridsearchcv/notebook). Some extra parameters are based on [this site](https://towardsdatascience.com/hyperparameter-tuning-the-random-forest-in-python-using-scikit-learn-28d2aa77dd74)."
   ],
   "metadata": {
    "collapsed": false,
    "pycharm": {
     "name": "#%% md\n"
    }
   }
  },
  {
   "cell_type": "code",
   "execution_count": 25,
   "outputs": [
    {
     "name": "stdout",
     "output_type": "stream",
     "text": [
      "Fitting 5 folds for each of 140 candidates, totalling 700 fits\n"
     ]
    },
    {
     "data": {
      "text/plain": "{'criterion': 'gini',\n 'max_depth': 6,\n 'max_features': 'sqrt',\n 'n_estimators': 1500}"
     },
     "execution_count": 25,
     "metadata": {},
     "output_type": "execute_result"
    }
   ],
   "source": [
    "from sklearn.model_selection import GridSearchCV\n",
    "from util import get_manually_labeled_features\n",
    "\n",
    "param_grid = {\n",
    "    'n_estimators': [100, 200, 500, 1000, 1500],\n",
    "    'max_features': ['sqrt', 'log2'],\n",
    "    'max_depth' : [4,6,8, 10, 50, 100, None],\n",
    "    'criterion' :['gini', 'entropy']\n",
    "}\n",
    "\n",
    "grid_model = GridSearchCV(model, param_grid, cv=5, error_score=\"raise\", verbose=1)\n",
    "\n",
    "grid_model.fit(get_manually_labeled_features(train_x), train_y[\"Winner\"])\n",
    "\n",
    "grid_model.best_params_"
   ],
   "metadata": {
    "collapsed": false,
    "pycharm": {
     "name": "#%%\n"
    }
   }
  },
  {
   "cell_type": "markdown",
   "source": [
    "Let's test those parameters:"
   ],
   "metadata": {
    "collapsed": false,
    "pycharm": {
     "name": "#%% md\n"
    }
   }
  },
  {
   "cell_type": "code",
   "execution_count": 26,
   "outputs": [
    {
     "name": "stdout",
     "output_type": "stream",
     "text": [
      "Accuracy: 53.85% (98/182)\n"
     ]
    }
   ],
   "source": [
    "model = RandomForestClassifier(random_state=42, **grid_model.best_params_)\n",
    "fit_predict_print_wp(model, train_x, train_y, test_x, test_y)"
   ],
   "metadata": {
    "collapsed": false,
    "pycharm": {
     "name": "#%%\n"
    }
   }
  },
  {
   "cell_type": "markdown",
   "source": [
    "This results in only a slight increase in accuracy (+1.10%). This is still worse than the accuracy of our RandomCalssifier (with an accuracy of 54.14%)."
   ],
   "metadata": {
    "collapsed": false,
    "pycharm": {
     "name": "#%% md\n"
    }
   }
  }
 ],
 "metadata": {
  "kernelspec": {
   "display_name": "Python 3",
   "language": "python",
   "name": "python3"
  },
  "language_info": {
   "codemirror_mode": {
    "name": "ipython",
    "version": 2
   },
   "file_extension": ".py",
   "mimetype": "text/x-python",
   "name": "python",
   "nbconvert_exporter": "python",
   "pygments_lexer": "ipython2",
   "version": "2.7.6"
  }
 },
 "nbformat": 4,
 "nbformat_minor": 0
}