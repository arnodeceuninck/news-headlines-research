{
 "cells": [
  {
   "cell_type": "markdown",
   "source": [
    "# Random Forest Classifier\n",
    "TODO: Explanation of the algorithm"
   ],
   "metadata": {
    "collapsed": false,
    "pycharm": {
     "name": "#%% md\n"
    }
   }
  },
  {
   "cell_type": "code",
   "execution_count": 2,
   "outputs": [
    {
     "name": "stdout",
     "output_type": "stream",
     "text": [
      "Accuracy: 52.75% (96/182)\n"
     ]
    }
   ],
   "source": [
    "from util import get_wpm_train_test, fit_predict_print_wp\n",
    "from sklearn.ensemble import RandomForestClassifier\n",
    "\n",
    "train_x, train_y, test_x, test_y = get_wpm_train_test()\n",
    "model = RandomForestClassifier(random_state=42)\n",
    "\n",
    "fit_predict_print_wp(model, train_x, train_y, test_x, test_y)"
   ],
   "metadata": {
    "collapsed": false,
    "pycharm": {
     "name": "#%%\n"
    }
   }
  }
 ],
 "metadata": {
  "kernelspec": {
   "display_name": "Python 3",
   "language": "python",
   "name": "python3"
  },
  "language_info": {
   "codemirror_mode": {
    "name": "ipython",
    "version": 2
   },
   "file_extension": ".py",
   "mimetype": "text/x-python",
   "name": "python",
   "nbconvert_exporter": "python",
   "pygments_lexer": "ipython2",
   "version": "2.7.6"
  }
 },
 "nbformat": 4,
 "nbformat_minor": 0
}