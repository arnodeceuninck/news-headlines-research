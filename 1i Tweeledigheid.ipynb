{
 "cells": [
  {
   "cell_type": "markdown",
   "source": [
    "# Tweeledigheid\n",
    "## Details\n",
    "> Titels die bestaan uit twee delen; meestal bestaan ze uit een gewone kopaan de ene kant en een quote aan de andere kant, dit tweede deel kan echter ook gewoon wat extra uitleg zijn. De twee delen worden meestal gescheiden door een dubbelpunt, maar kan ook gewoon door een punt.\n",
    "## Example\n",
    "> Amper schaduw, geen voedsel of water: baasje laat hond aan lot over ondanks hittegolf"
   ],
   "metadata": {
    "collapsed": false,
    "pycharm": {
     "name": "#%% md\n"
    }
   }
  },
  {
   "cell_type": "markdown",
   "source": [
    "## Data"
   ],
   "metadata": {
    "collapsed": false,
    "pycharm": {
     "name": "#%% md\n"
    }
   }
  },
  {
   "cell_type": "code",
   "execution_count": 2,
   "outputs": [
    {
     "data": {
      "text/plain": "1    356\n0    325\nName: Tweeledigheid, dtype: int64"
     },
     "execution_count": 2,
     "metadata": {},
     "output_type": "execute_result"
    }
   ],
   "source": [
    "from util import get_cls_train_test\n",
    "\n",
    "train_x, train_y, test_x, test_y = get_cls_train_test(\"Tweeledigheid\")\n",
    "train_y.value_counts()"
   ],
   "metadata": {
    "collapsed": false,
    "pycharm": {
     "name": "#%%\n"
    }
   }
  },
  {
   "cell_type": "markdown",
   "source": [
    "## Approach 1: Definition Hardcoded"
   ],
   "metadata": {
    "collapsed": false,
    "pycharm": {
     "name": "#%% md\n"
    }
   }
  },
  {
   "cell_type": "code",
   "execution_count": 3,
   "outputs": [
    {
     "data": {
      "text/plain": "True"
     },
     "execution_count": 3,
     "metadata": {},
     "output_type": "execute_result"
    }
   ],
   "source": [
    "def count_occurrences(string, sub):\n",
    "    # Util function, count #times sub occurs in string, generated using GitHub Copilot\n",
    "    count = start = 0\n",
    "    while True:\n",
    "        start = string.find(sub, start) + 1\n",
    "        if start > 0:\n",
    "            count += 1\n",
    "        else:\n",
    "            return count\n",
    "\n",
    "\n",
    "def contains_two_lids(headline):\n",
    "    return \": \" in headline or (\n",
    "            \".\" in headline and count_occurrences(headline, \".\") * 3 != count_occurrences(headline, \"...\"))\n",
    "\n",
    "contains_two_lids(\"Amper schaduw, geen voedsel of water: baasje laat hond aan lot over ondanks hittegolf\")"
   ],
   "metadata": {
    "collapsed": false,
    "pycharm": {
     "name": "#%%\n"
    }
   }
  },
  {
   "cell_type": "code",
   "execution_count": 4,
   "outputs": [
    {
     "name": "stdout",
     "output_type": "stream",
     "text": [
      "f-score: 0.9051724137931033\n",
      "Confusion matrix: (TP: 100, FP: 18, FN: 4, TN: 105)\n",
      "Accuracy=90.31% (205/227)\n"
     ]
    },
    {
     "data": {
      "text/plain": "<Figure size 432x288 with 2 Axes>",
      "image/png": "[encoded data removed]"
     },
     "metadata": {},
     "output_type": "display_data"
    }
   ],
   "source": [
    "from util import print_evaluation\n",
    "predictions = test_x.apply(contains_two_lids)\n",
    "print_evaluation(test_y, predictions)"
   ],
   "metadata": {
    "collapsed": false,
    "pycharm": {
     "name": "#%%\n"
    }
   }
  },
  {
   "cell_type": "code",
   "execution_count": 4,
   "outputs": [],
   "source": [],
   "metadata": {
    "collapsed": false,
    "pycharm": {
     "name": "#%%\n"
    }
   }
  }
 ],
 "metadata": {
  "kernelspec": {
   "display_name": "Python 3",
   "language": "python",
   "name": "python3"
  },
  "language_info": {
   "codemirror_mode": {
    "name": "ipython",
    "version": 2
   },
   "file_extension": ".py",
   "mimetype": "text/x-python",
   "name": "python",
   "nbconvert_exporter": "python",
   "pygments_lexer": "ipython2",
   "version": "2.7.6"
  }
 },
 "nbformat": 4,
 "nbformat_minor": 0
}