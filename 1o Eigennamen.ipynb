{
 "cells": [
  {
   "cell_type": "markdown",
   "source": [
    "# Eigennamen\n",
    "## Details\n",
    "> Door een eigennaam van een betrokken persoon te gebruiken  in  een  titel,  in  plaats  van  een generieke benoeming, voelen de lezers sneller een band tussen henzelfen  de  besproken  persoon,omdat  de  lezers het  gevoel  hebben  dat  ze  de  persoon  in  kwestie kennen, waardoor de lezers sneller zouden klikken.\n",
    "## Example\n",
    "> 'Temptation'-Yana krijgt vier maanden effectieve celstraf na handtasdiefstalVs. ‘Temptation  Island’-verleidstermoet   vier maanden naar gevangenis\n",
    "\n"
   ],
   "metadata": {
    "collapsed": false,
    "pycharm": {
     "name": "#%% md\n"
    }
   }
  },
  {
   "cell_type": "markdown",
   "source": [
    "## Data"
   ],
   "metadata": {
    "collapsed": false,
    "pycharm": {
     "name": "#%% md\n"
    }
   }
  },
  {
   "cell_type": "code",
   "execution_count": 1,
   "outputs": [
    {
     "data": {
      "text/plain": "0    621\n1     60\nName: Eigennamen, dtype: int64"
     },
     "execution_count": 1,
     "metadata": {},
     "output_type": "execute_result"
    }
   ],
   "source": [
    "from util import get_cls_train_test\n",
    "\n",
    "train_x, train_y, test_x, test_y = get_cls_train_test(\"Eigennamen\")\n",
    "train_y.value_counts()"
   ],
   "metadata": {
    "collapsed": false,
    "pycharm": {
     "name": "#%%\n"
    }
   }
  },
  {
   "cell_type": "markdown",
   "source": [
    "## Approach 1: Tf-idf\n",
    "With tf-idf or just a count vectorizer, we might already achieve quite a good result, since it just needs to learn some adjectives."
   ],
   "metadata": {
    "collapsed": false,
    "pycharm": {
     "name": "#%% md\n"
    }
   }
  },
  {
   "cell_type": "code",
   "execution_count": 2,
   "outputs": [
    {
     "name": "stdout",
     "output_type": "stream",
     "text": [
      "f-score: 0.29411764705882354\n",
      "Confusion matrix: (TP: 199, FP: 4, FN: 20, TN: 5)\n",
      "Accuracy=89.47% (204/228)\n"
     ]
    },
    {
     "data": {
      "text/plain": "<Figure size 432x288 with 2 Axes>",
      "image/png": "[encoded data removed]"
     },
     "metadata": {
      "needs_background": "light"
     },
     "output_type": "display_data"
    }
   ],
   "source": [
    "from imblearn.pipeline import Pipeline\n",
    "from imblearn.combine import SMOTETomek\n",
    "from sklearn.feature_extraction.text import TfidfVectorizer\n",
    "from sklearn import svm\n",
    "\n",
    "from util import fit_predict_evaluate\n",
    "\n",
    "model = Pipeline([\n",
    "    ('vectorizer', TfidfVectorizer()),\n",
    "    ('resampler', SMOTETomek(random_state=0)),\n",
    "    ('classifier', svm.LinearSVC(random_state=0))\n",
    "])\n",
    "\n",
    "fit_predict_evaluate(model, train_x, train_y, test_x, test_y)"
   ],
   "metadata": {
    "collapsed": false,
    "pycharm": {
     "name": "#%%\n"
    }
   }
  },
  {
   "cell_type": "markdown",
   "source": [
    "The accuracy is high (because of the data imbalance) and the names it is learning are probably overfitting tot then names currently in the news (e.g. only the current U.S. president will get recognized and not the next one)."
   ],
   "metadata": {
    "collapsed": false,
    "pycharm": {
     "name": "#%% md\n"
    }
   }
  },
  {
   "cell_type": "code",
   "execution_count": 3,
   "outputs": [
    {
     "name": "stdout",
     "output_type": "stream",
     "text": [
      "1.5957          kevin    -0.6500            met\n",
      "1.2503     temptation    -0.6428            dit\n",
      "1.1765          blind    -0.6123         waarom\n",
      "1.1191           zijn    -0.5798           over\n",
      "1.1042      tegenslag    -0.5784           moet\n",
      "1.0895           mike    -0.5149           deze\n",
      "1.0765      clarckson    -0.5106            die\n",
      "1.0765         jeremy    -0.4953             zo\n",
      "1.0636          julie    -0.4746            mag\n",
      "1.0380          loopt    -0.4623            ons\n"
     ]
    }
   ],
   "source": [
    "from util import show_most_informative_features\n",
    "show_most_informative_features(model)"
   ],
   "metadata": {
    "collapsed": false,
    "pycharm": {
     "name": "#%%\n"
    }
   }
  },
  {
   "cell_type": "markdown",
   "source": [
    "## Approach 2: SpaCy\n",
    "Let’s see whether spacy can also recognize proper names."
   ],
   "metadata": {
    "collapsed": false,
    "pycharm": {
     "name": "#%% md\n"
    }
   }
  },
  {
   "cell_type": "code",
   "execution_count": 4,
   "outputs": [
    {
     "name": "stdout",
     "output_type": "stream",
     "text": [
      "[('Zanger', 'NOUN', 'nsubj', [('Arno', 'appos')]),\n",
      " ('Arno', 'PROPN', 'appos', []),\n",
      " ('overleden', 'VERB', 'ROOT', [('Zanger', 'nsubj')])]\n"
     ]
    }
   ],
   "source": [
    "import spacy\n",
    "from pprint import pprint\n",
    "nlp = spacy.load('nl_core_news_sm')\n",
    "pprint([(x.text,x.pos_,x.dep_,[(x.text,x.dep_) for x in list(x.children)]) for x in nlp(u\"Zanger Arno overleden\")])"
   ],
   "metadata": {
    "collapsed": false,
    "pycharm": {
     "name": "#%%\n"
    }
   }
  },
  {
   "cell_type": "markdown",
   "source": [
    "Seems to already give a label to proper pronouns. To now what each part-of-speech (pos) tag means, you can take a look at [this page](https://v2.spacy.io/api/annotation).\n",
    "Let's now create a similar function as for adjectives, but now for pronouns:"
   ],
   "metadata": {
    "collapsed": false,
    "pycharm": {
     "name": "#%% md\n"
    }
   }
  },
  {
   "cell_type": "code",
   "execution_count": 5,
   "outputs": [
    {
     "name": "stdout",
     "output_type": "stream",
     "text": [
      "True\n",
      "False\n"
     ]
    }
   ],
   "source": [
    "def contains_pronoun(headline):\n",
    "    return any(x.pos_ == 'PROPN' for x in nlp(headline))\n",
    "\n",
    "print(contains_pronoun(u\"Zanger Arno overleden\"))\n",
    "print(contains_pronoun(u\"Belgische rockzanger overleden\"))"
   ],
   "metadata": {
    "collapsed": false,
    "pycharm": {
     "name": "#%%\n"
    }
   }
  },
  {
   "cell_type": "code",
   "execution_count": 7,
   "outputs": [
    {
     "name": "stdout",
     "output_type": "stream",
     "text": [
      "f-score: 0.2543352601156069\n",
      "Confusion matrix: (TP: 77, FP: 126, FN: 3, TN: 22)\n",
      "Accuracy=43.42% (99/228)\n"
     ]
    },
    {
     "data": {
      "text/plain": "<Figure size 432x288 with 2 Axes>",
      "image/png": "[encoded data removed]"
     },
     "metadata": {
      "needs_background": "light"
     },
     "output_type": "display_data"
    }
   ],
   "source": [
    "from util import print_evaluation\n",
    "prediction = test_x.apply(contains_pronoun)\n",
    "print_evaluation(test_y, prediction)"
   ],
   "metadata": {
    "collapsed": false,
    "pycharm": {
     "name": "#%%\n"
    }
   }
  },
  {
   "cell_type": "markdown",
   "source": [
    "There are a lot more false postivies than expected. Let's take a look:"
   ],
   "metadata": {
    "collapsed": false,
    "pycharm": {
     "name": "#%% md\n"
    }
   }
  },
  {
   "cell_type": "code",
   "execution_count": 8,
   "outputs": [
    {
     "data": {
      "text/plain": "Test      \n583   1459    \"Gert en James hebben een relatie\": nieuwe gas...\n102   270     Hij is de beroemdste peuter van België, maar w...\n200   513     13.000 euro per maand? Voor Verhofstadt is zij...\n500   1249    Dit is het enige hotel in Vlaanderen met meer ...\n307   774     Doorbraak in onderzoek naar plofkraken: schepe...\nName: Headline, dtype: object"
     },
     "execution_count": 8,
     "metadata": {},
     "output_type": "execute_result"
    }
   ],
   "source": [
    "# False positives\n",
    "prediction = train_x.apply(contains_pronoun)\n",
    "train_x[(prediction != train_y) & (prediction == 1)][:5]"
   ],
   "metadata": {
    "collapsed": false,
    "pycharm": {
     "name": "#%%\n"
    }
   }
  },
  {
   "cell_type": "markdown",
   "source": [
    "Some seem wrongly labeled in the dataset (e.g. \"Gert\" and \"Verhofstadt\" are clearly proper nouns). Words like \"Manneke Pis\" or \"Vlaanderen\" are also proper nouns, but not seen as this in this dataset."
   ],
   "metadata": {
    "collapsed": false,
    "pycharm": {
     "name": "#%% md\n"
    }
   }
  },
  {
   "cell_type": "code",
   "execution_count": 9,
   "outputs": [
    {
     "name": "stdout",
     "output_type": "stream",
     "text": [
      "[('Hij', 'PRON', 'VNW|pers|pron|nomin|vol|3|ev|masc'),\n",
      " ('is', 'AUX', 'WW|pv|tgw|ev'),\n",
      " ('de', 'DET', 'LID|bep|stan|rest'),\n",
      " ('beroemdste', 'ADJ', 'ADJ|prenom|sup|met-e|stan'),\n",
      " ('peuter', 'NOUN', 'N|soort|ev|basis|zijd|stan'),\n",
      " ('van', 'ADP', 'VZ|init'),\n",
      " ('België', 'PROPN', 'N|eigen|ev|basis|onz|stan'),\n",
      " (',', 'PUNCT', 'LET'),\n",
      " ('maar', 'CCONJ', 'VG|neven'),\n",
      " ('wie', 'PRON', 'VNW|vb|pron|stan|vol|3p|getal'),\n",
      " ('woont', 'VERB', 'WW|pv|tgw|met-t'),\n",
      " ('er', 'ADV', 'VNW|aanw|adv-pron|stan|red|3|getal'),\n",
      " ('naast', 'ADP', 'VZ|fin'),\n",
      " ('?', 'PUNCT', 'LET'),\n",
      " ('Op', 'ADP', 'VZ|init'),\n",
      " ('bezoek', 'NOUN', 'N|soort|ev|basis|onz|stan'),\n",
      " ('bij', 'ADP', 'VZ|init'),\n",
      " ('de', 'DET', 'LID|bep|stan|rest'),\n",
      " ('buren', 'NOUN', 'N|soort|mv|basis'),\n",
      " ('van', 'ADP', 'VZ|init'),\n",
      " ('Manneke', 'PROPN', 'SPEC|deeleigen'),\n",
      " ('Pis', 'PROPN', 'SPEC|deeleigen')]\n"
     ]
    }
   ],
   "source": [
    "false_positive = \"Hij is de beroemdste peuter van België, maar wie woont er naast? Op bezoek bij de buren van Manneke Pis\"\n",
    "pprint(list([(x.text, x.pos_, x.tag_) for x in nlp(false_positive)]))"
   ],
   "metadata": {
    "collapsed": false,
    "pycharm": {
     "name": "#%%\n"
    }
   }
  }
 ],
 "metadata": {
  "kernelspec": {
   "display_name": "Python 3",
   "language": "python",
   "name": "python3"
  },
  "language_info": {
   "codemirror_mode": {
    "name": "ipython",
    "version": 2
   },
   "file_extension": ".py",
   "mimetype": "text/x-python",
   "name": "python",
   "nbconvert_exporter": "python",
   "pygments_lexer": "ipython2",
   "version": "2.7.6"
  }
 },
 "nbformat": 4,
 "nbformat_minor": 0
}