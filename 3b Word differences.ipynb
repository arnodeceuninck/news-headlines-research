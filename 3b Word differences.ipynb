{
 "cells": [
  {
   "cell_type": "markdown",
   "source": [
    "# Word differences\n",
    "Up to now, all our prediction are based on the headline itself (and its labels), without looking at the relation to the other headlines in the same test set.\n",
    "What I'll do now is take all words that occur in given headline, but not in any of the other headlines, as an extra feature (and find a way to embed it)."
   ],
   "metadata": {
    "collapsed": false,
    "pycharm": {
     "name": "#%% md\n"
    }
   }
  },
  {
   "cell_type": "code",
   "execution_count": 33,
   "outputs": [],
   "source": [
    "from util import get_wpm_train_test, get_label_columns\n",
    "\n",
    "train_x_full, train_y, test_x, test_y, groups = get_wpm_train_test(include_groups=True, x_train_features_only=False)\n",
    "\n",
    "features = get_label_columns()  # initially only the manual labels"
   ],
   "metadata": {
    "collapsed": false,
    "pycharm": {
     "name": "#%%\n"
    }
   }
  },
  {
   "cell_type": "markdown",
   "source": [
    "## Finding the difference\n",
    "Start by finding the words that are in one of the headlines, but not in any of the other headlines. To make it easier, we'll start with one test."
   ],
   "metadata": {
    "collapsed": false,
    "pycharm": {
     "name": "#%% md\n"
    }
   }
  },
  {
   "cell_type": "code",
   "execution_count": 34,
   "outputs": [
    {
     "data": {
      "text/plain": "  Test Headline ID                                           Headline  Actief  \\\n0    1           A  Barack en Michelle Obama laten dansmoves zien ...       0   \n1    1           B  Barack en Michelle Obama gaan helemaal los tij...       1   \n\n   Lang  Vragen  Interpunctie  Tweeledigheid  Emotie  Voorwaartse Verwijzing  \\\n0     1       0             0              0       0                       0   \n1     0       0             0              0       0                       0   \n\n   Signaalwoorden  Lidwoorden  Adjectieven  Eigennamen  Betrekking  \\\n0               0           0            0           0           0   \n1               0           0            0           0           0   \n\n   Voor+Achternaam  Cijfers  Quotes  \n0                1        0       0  \n1                1        0       0  ",
      "text/html": "<div>\n<style scoped>\n    .dataframe tbody tr th:only-of-type {\n        vertical-align: middle;\n    }\n\n    .dataframe tbody tr th {\n        vertical-align: top;\n    }\n\n    .dataframe thead th {\n        text-align: right;\n    }\n</style>\n<table border=\"1\" class=\"dataframe\">\n  <thead>\n    <tr style=\"text-align: right;\">\n      <th></th>\n      <th>Test</th>\n      <th>Headline ID</th>\n      <th>Headline</th>\n      <th>Actief</th>\n      <th>Lang</th>\n      <th>Vragen</th>\n      <th>Interpunctie</th>\n      <th>Tweeledigheid</th>\n      <th>Emotie</th>\n      <th>Voorwaartse Verwijzing</th>\n      <th>Signaalwoorden</th>\n      <th>Lidwoorden</th>\n      <th>Adjectieven</th>\n      <th>Eigennamen</th>\n      <th>Betrekking</th>\n      <th>Voor+Achternaam</th>\n      <th>Cijfers</th>\n      <th>Quotes</th>\n    </tr>\n  </thead>\n  <tbody>\n    <tr>\n      <th>0</th>\n      <td>1</td>\n      <td>A</td>\n      <td>Barack en Michelle Obama laten dansmoves zien ...</td>\n      <td>0</td>\n      <td>1</td>\n      <td>0</td>\n      <td>0</td>\n      <td>0</td>\n      <td>0</td>\n      <td>0</td>\n      <td>0</td>\n      <td>0</td>\n      <td>0</td>\n      <td>0</td>\n      <td>0</td>\n      <td>1</td>\n      <td>0</td>\n      <td>0</td>\n    </tr>\n    <tr>\n      <th>1</th>\n      <td>1</td>\n      <td>B</td>\n      <td>Barack en Michelle Obama gaan helemaal los tij...</td>\n      <td>1</td>\n      <td>0</td>\n      <td>0</td>\n      <td>0</td>\n      <td>0</td>\n      <td>0</td>\n      <td>0</td>\n      <td>0</td>\n      <td>0</td>\n      <td>0</td>\n      <td>0</td>\n      <td>0</td>\n      <td>1</td>\n      <td>0</td>\n      <td>0</td>\n    </tr>\n  </tbody>\n</table>\n</div>"
     },
     "execution_count": 34,
     "metadata": {},
     "output_type": "execute_result"
    }
   ],
   "source": [
    "# Filter train_x_full to get only test 1\n",
    "current_test = 1\n",
    "test1 = train_x_full[train_x_full['Test'] == current_test]\n",
    "test1"
   ],
   "metadata": {
    "collapsed": false,
    "pycharm": {
     "name": "#%%\n"
    }
   }
  },
  {
   "cell_type": "code",
   "execution_count": 35,
   "outputs": [
    {
     "data": {
      "text/plain": "array(['Barack en Michelle Obama laten dansmoves zien tijdens concert Beyoncé en Jay-Z',\n       'Barack en Michelle Obama gaan helemaal los tijdens concert'],\n      dtype=object)"
     },
     "execution_count": 35,
     "metadata": {},
     "output_type": "execute_result"
    }
   ],
   "source": [
    "test_headlines = test1['Headline'].values\n",
    "test_headlines"
   ],
   "metadata": {
    "collapsed": false,
    "pycharm": {
     "name": "#%%\n"
    }
   }
  },
  {
   "cell_type": "code",
   "execution_count": 36,
   "outputs": [],
   "source": [
    "test_headlines_word_sets = [set(test_headline.split()) for test_headline in test_headlines]"
   ],
   "metadata": {
    "collapsed": false,
    "pycharm": {
     "name": "#%%\n"
    }
   }
  },
  {
   "cell_type": "code",
   "execution_count": 37,
   "outputs": [
    {
     "data": {
      "text/plain": "{'Barack',\n 'Beyoncé',\n 'Jay-Z',\n 'Michelle',\n 'Obama',\n 'concert',\n 'dansmoves',\n 'en',\n 'laten',\n 'tijdens',\n 'zien'}"
     },
     "execution_count": 37,
     "metadata": {},
     "output_type": "execute_result"
    }
   ],
   "source": [
    "current_headline_id = \"A\"\n",
    "# Convert captial letter to position in alphabet\n",
    "current_headline_idx = ord(current_headline_id) - ord('A')\n",
    "test_headlines_word_sets[current_headline_idx]"
   ],
   "metadata": {
    "collapsed": false,
    "pycharm": {
     "name": "#%%\n"
    }
   }
  },
  {
   "cell_type": "code",
   "execution_count": 38,
   "outputs": [],
   "source": [
    "import re\n",
    "\n",
    "\n",
    "def get_word_sets(test_id, df):\n",
    "    test_headlines = df[df['Test'] == test_id]['Headline'].values\n",
    "    test_headlines_word_sets = [set(re.sub('[^a-z0-9 ]+', '', test_headline.lower()).split()) for test_headline in\n",
    "                                test_headlines]\n",
    "    return test_headlines_word_sets"
   ],
   "metadata": {
    "collapsed": false,
    "pycharm": {
     "name": "#%%\n"
    }
   }
  },
  {
   "cell_type": "code",
   "execution_count": 39,
   "outputs": [
    {
     "name": "stdout",
     "output_type": "stream",
     "text": [
      "False\n",
      "True\n"
     ]
    }
   ],
   "source": [
    "def word_in_other_headline(word, word_sets, current_headline_idx):\n",
    "    for i in range(len(word_sets)):\n",
    "        if i == current_headline_idx:\n",
    "            continue\n",
    "        if word in word_sets[i]:\n",
    "            return True\n",
    "    return False\n",
    "\n",
    "\n",
    "print(word_in_other_headline(\"dansmoves\", test_headlines_word_sets, current_headline_idx))\n",
    "print(word_in_other_headline(\"concert\", test_headlines_word_sets, current_headline_idx))"
   ],
   "metadata": {
    "collapsed": false,
    "pycharm": {
     "name": "#%%\n"
    }
   }
  },
  {
   "cell_type": "code",
   "execution_count": 40,
   "outputs": [
    {
     "name": "stdout",
     "output_type": "stream",
     "text": [
      "['zien', 'dansmoves', 'Beyoncé', 'laten', 'Jay-Z']\n",
      "['helemaal', 'los', 'gaan']\n"
     ]
    }
   ],
   "source": [
    "def get_word_differences(word_sets, current_headline_idx):\n",
    "    word_differences = []\n",
    "    current_headline_set = word_sets[current_headline_idx]\n",
    "    for word in current_headline_set:\n",
    "        if not word_in_other_headline(word, word_sets, current_headline_idx):\n",
    "            word_differences.append(word)\n",
    "    return word_differences\n",
    "\n",
    "\n",
    "print(get_word_differences(test_headlines_word_sets, current_headline_idx))\n",
    "print(get_word_differences(test_headlines_word_sets, 1))"
   ],
   "metadata": {
    "collapsed": false,
    "pycharm": {
     "name": "#%%\n"
    }
   }
  },
  {
   "cell_type": "code",
   "execution_count": 41,
   "outputs": [
    {
     "data": {
      "text/plain": "                                            Headline Test  \\\n0  Barack en Michelle Obama laten dansmoves zien ...    1   \n1  Barack en Michelle Obama gaan helemaal los tij...    1   \n2  Marc Coucke maakt opvallende keuze bij start v...    2   \n3  Marc Coucke: \"Spelers van 10 miljoen? Neen, li...    2   \n4  Maandag drukste dag van het jaar op Brussels A...    3   \n5  Maandag drukste dag van het jaar op Brussels A...    3   \n\n                                  Word Differences  \n0                 beyonc zien dansmoves jayz laten  \n1                                helemaal gaan los  \n2         bij seizoen maakt opvallende keuze start  \n3       eigen liever spelers miljoen jeugd neen 10  \n4  zorg en zeker bent dat goed kom voorbereid tijd  \n5                  reizigers bijna verwacht 100000  ",
      "text/html": "<div>\n<style scoped>\n    .dataframe tbody tr th:only-of-type {\n        vertical-align: middle;\n    }\n\n    .dataframe tbody tr th {\n        vertical-align: top;\n    }\n\n    .dataframe thead th {\n        text-align: right;\n    }\n</style>\n<table border=\"1\" class=\"dataframe\">\n  <thead>\n    <tr style=\"text-align: right;\">\n      <th></th>\n      <th>Headline</th>\n      <th>Test</th>\n      <th>Word Differences</th>\n    </tr>\n  </thead>\n  <tbody>\n    <tr>\n      <th>0</th>\n      <td>Barack en Michelle Obama laten dansmoves zien ...</td>\n      <td>1</td>\n      <td>beyonc zien dansmoves jayz laten</td>\n    </tr>\n    <tr>\n      <th>1</th>\n      <td>Barack en Michelle Obama gaan helemaal los tij...</td>\n      <td>1</td>\n      <td>helemaal gaan los</td>\n    </tr>\n    <tr>\n      <th>2</th>\n      <td>Marc Coucke maakt opvallende keuze bij start v...</td>\n      <td>2</td>\n      <td>bij seizoen maakt opvallende keuze start</td>\n    </tr>\n    <tr>\n      <th>3</th>\n      <td>Marc Coucke: \"Spelers van 10 miljoen? Neen, li...</td>\n      <td>2</td>\n      <td>eigen liever spelers miljoen jeugd neen 10</td>\n    </tr>\n    <tr>\n      <th>4</th>\n      <td>Maandag drukste dag van het jaar op Brussels A...</td>\n      <td>3</td>\n      <td>zorg en zeker bent dat goed kom voorbereid tijd</td>\n    </tr>\n    <tr>\n      <th>5</th>\n      <td>Maandag drukste dag van het jaar op Brussels A...</td>\n      <td>3</td>\n      <td>reizigers bijna verwacht 100000</td>\n    </tr>\n  </tbody>\n</table>\n</div>"
     },
     "execution_count": 41,
     "metadata": {},
     "output_type": "execute_result"
    }
   ],
   "source": [
    "def add_difference_strings(df):\n",
    "    new_df = df.copy()\n",
    "\n",
    "    current_test = -1\n",
    "    current_word_set = {}\n",
    "\n",
    "    new_df.reset_index(drop=True, inplace=True)\n",
    "\n",
    "    new_df['Word Differences'] = \"\"\n",
    "\n",
    "    for i in range(len(new_df)):\n",
    "        headline_letter = new_df.loc[i, 'Headline ID'][0]\n",
    "        headline_idx = ord(headline_letter) - ord('A')\n",
    "\n",
    "        test_id = new_df.loc[i, 'Test']\n",
    "\n",
    "        if test_id != current_test:\n",
    "            current_test = test_id\n",
    "            current_word_set = get_word_sets(test_id, df)\n",
    "\n",
    "        word_differences = get_word_differences(current_word_set, headline_idx)\n",
    "        new_df.loc[i, 'Word Differences'] = \" \".join(word_differences)\n",
    "\n",
    "    return new_df\n",
    "\n",
    "\n",
    "train_x_extended = add_difference_strings(train_x_full)\n",
    "train_x_extended[['Headline', 'Test', 'Word Differences']].head(n=6)"
   ],
   "metadata": {
    "collapsed": false,
    "pycharm": {
     "name": "#%%\n"
    }
   }
  },
  {
   "cell_type": "markdown",
   "source": [
    "## Using the word differences\n",
    "Now we have the different words, we can use features based on this.\n",
    "\n",
    "### Diff length\n",
    "The numbr of words in the difference or the average word length might be useful extra features.\n"
   ],
   "metadata": {
    "collapsed": false,
    "pycharm": {
     "name": "#%% md\n"
    }
   }
  },
  {
   "cell_type": "code",
   "execution_count": 42,
   "outputs": [
    {
     "data": {
      "text/plain": "                                            Headline Test  \\\n0  Barack en Michelle Obama laten dansmoves zien ...    1   \n1  Barack en Michelle Obama gaan helemaal los tij...    1   \n2  Marc Coucke maakt opvallende keuze bij start v...    2   \n3  Marc Coucke: \"Spelers van 10 miljoen? Neen, li...    2   \n4  Maandag drukste dag van het jaar op Brussels A...    3   \n5  Maandag drukste dag van het jaar op Brussels A...    3   \n\n                                  Word Differences  NumWordsDiff  \\\n0                 beyonc zien dansmoves jayz laten             5   \n1                                helemaal gaan los             3   \n2         bij seizoen maakt opvallende keuze start             6   \n3       eigen liever spelers miljoen jeugd neen 10             7   \n4  zorg en zeker bent dat goed kom voorbereid tijd             9   \n5                  reizigers bijna verwacht 100000             4   \n\n   AvgWordLengthDiff  MaxWordLengthDiff  \n0           6.400000                  9  \n1           5.666667                  8  \n2           6.666667                 10  \n3           6.000000                  7  \n4           5.222222                 10  \n5           7.750000                  9  ",
      "text/html": "<div>\n<style scoped>\n    .dataframe tbody tr th:only-of-type {\n        vertical-align: middle;\n    }\n\n    .dataframe tbody tr th {\n        vertical-align: top;\n    }\n\n    .dataframe thead th {\n        text-align: right;\n    }\n</style>\n<table border=\"1\" class=\"dataframe\">\n  <thead>\n    <tr style=\"text-align: right;\">\n      <th></th>\n      <th>Headline</th>\n      <th>Test</th>\n      <th>Word Differences</th>\n      <th>NumWordsDiff</th>\n      <th>AvgWordLengthDiff</th>\n      <th>MaxWordLengthDiff</th>\n    </tr>\n  </thead>\n  <tbody>\n    <tr>\n      <th>0</th>\n      <td>Barack en Michelle Obama laten dansmoves zien ...</td>\n      <td>1</td>\n      <td>beyonc zien dansmoves jayz laten</td>\n      <td>5</td>\n      <td>6.400000</td>\n      <td>9</td>\n    </tr>\n    <tr>\n      <th>1</th>\n      <td>Barack en Michelle Obama gaan helemaal los tij...</td>\n      <td>1</td>\n      <td>helemaal gaan los</td>\n      <td>3</td>\n      <td>5.666667</td>\n      <td>8</td>\n    </tr>\n    <tr>\n      <th>2</th>\n      <td>Marc Coucke maakt opvallende keuze bij start v...</td>\n      <td>2</td>\n      <td>bij seizoen maakt opvallende keuze start</td>\n      <td>6</td>\n      <td>6.666667</td>\n      <td>10</td>\n    </tr>\n    <tr>\n      <th>3</th>\n      <td>Marc Coucke: \"Spelers van 10 miljoen? Neen, li...</td>\n      <td>2</td>\n      <td>eigen liever spelers miljoen jeugd neen 10</td>\n      <td>7</td>\n      <td>6.000000</td>\n      <td>7</td>\n    </tr>\n    <tr>\n      <th>4</th>\n      <td>Maandag drukste dag van het jaar op Brussels A...</td>\n      <td>3</td>\n      <td>zorg en zeker bent dat goed kom voorbereid tijd</td>\n      <td>9</td>\n      <td>5.222222</td>\n      <td>10</td>\n    </tr>\n    <tr>\n      <th>5</th>\n      <td>Maandag drukste dag van het jaar op Brussels A...</td>\n      <td>3</td>\n      <td>reizigers bijna verwacht 100000</td>\n      <td>4</td>\n      <td>7.750000</td>\n      <td>9</td>\n    </tr>\n  </tbody>\n</table>\n</div>"
     },
     "execution_count": 42,
     "metadata": {},
     "output_type": "execute_result"
    }
   ],
   "source": [
    "features.append('NumWordsDiff')\n",
    "features.append('AvgWordLengthDiff')\n",
    "\n",
    "\n",
    "def count_words(word_differences):\n",
    "    return len(word_differences.split())\n",
    "\n",
    "\n",
    "def get_avg_word_length(word_differences):\n",
    "    words_count = count_words(word_differences)\n",
    "    return len(word_differences) / words_count if words_count > 0 else 0\n",
    "\n",
    "\n",
    "def get_max_word_length(word_differences):\n",
    "    words = word_differences.split()\n",
    "    return max([len(word) for word in words]) if words else 0\n",
    "\n",
    "\n",
    "def add_diff_length(df):\n",
    "    new_df = df.copy()\n",
    "    new_df[\"NumWordsDiff\"] = df[\"Word Differences\"].apply(count_words)\n",
    "    new_df[\"AvgWordLengthDiff\"] = df[\"Word Differences\"].apply(get_avg_word_length)\n",
    "    new_df[\"MaxWordLengthDiff\"] = df[\"Word Differences\"].apply(get_max_word_length)\n",
    "    return new_df\n",
    "\n",
    "\n",
    "train_x_extended = add_diff_length(train_x_extended)\n",
    "train_x_extended[\n",
    "    ['Headline', 'Test', 'Word Differences', 'NumWordsDiff', 'AvgWordLengthDiff', 'MaxWordLengthDiff']].head(n=6)"
   ],
   "metadata": {
    "collapsed": false,
    "pycharm": {
     "name": "#%%\n"
    }
   }
  },
  {
   "cell_type": "markdown",
   "source": [
    "#### Evaluate"
   ],
   "metadata": {
    "collapsed": false,
    "pycharm": {
     "name": "#%% md\n"
    }
   }
  },
  {
   "cell_type": "code",
   "execution_count": 43,
   "outputs": [],
   "source": [
    "from util import get_naive_bayes_model_wp, print_wp_evaluation, predict_wp, get_xgboost_model_wp\n",
    "\n",
    "\n",
    "def fit_predict_evaluate_extra_features(train_x_new, train_y, test_x_new, test_y, feature_columns, train_groups):\n",
    "    model_nb = get_naive_bayes_model_wp()\n",
    "\n",
    "    model_nb.fit(train_x_new[features], train_y[\"Winner\"])\n",
    "    predicted_winners = predict_wp(model_nb, test_x_new, features=feature_columns)\n",
    "    print_wp_evaluation(predicted_winners, test_y)\n",
    "\n",
    "    model_xgb = get_xgboost_model_wp()\n",
    "\n",
    "    model_xgb.fit(train_x_new[features], train_y[\"Winner\"], train_groups)\n",
    "    predicted_winners = predict_wp(model_xgb, test_x_new, features=feature_columns)\n",
    "    print_wp_evaluation(predicted_winners, test_y)\n",
    "    return model_nb, model_xgb"
   ],
   "metadata": {
    "collapsed": false,
    "pycharm": {
     "name": "#%%\n"
    }
   }
  },
  {
   "cell_type": "code",
   "execution_count": 44,
   "outputs": [
    {
     "name": "stdout",
     "output_type": "stream",
     "text": [
      "Accuracy: 57.14% (104/182)\n"
     ]
    },
    {
     "name": "stderr",
     "output_type": "stream",
     "text": [
      "C:\\Users\\arnod\\AppData\\Local\\Programs\\Python\\Python39\\lib\\site-packages\\xgboost\\core.py:525: FutureWarning: Pass `sample_weight` as keyword args.  Passing these as positional arguments will be considered as error in future releases.\n",
      "  warnings.warn(\n"
     ]
    },
    {
     "name": "stdout",
     "output_type": "stream",
     "text": [
      "Accuracy: 53.30% (97/182)\n"
     ]
    }
   ],
   "source": [
    "test_x_extended = add_diff_length(add_difference_strings(test_x))\n",
    "_, model_xgb = fit_predict_evaluate_extra_features(train_x_extended, train_y, test_x_extended, test_y, features, groups)"
   ],
   "metadata": {
    "collapsed": false,
    "pycharm": {
     "name": "#%%\n"
    }
   }
  },
  {
   "cell_type": "markdown",
   "source": [
    "This gives the same result as the baseline for Naive Bayes and for xgboost a slight increase (of the same size as the baseline).\n"
   ],
   "metadata": {
    "collapsed": false,
    "pycharm": {
     "name": "#%% md\n"
    }
   }
  },
  {
   "cell_type": "code",
   "execution_count": 45,
   "outputs": [
    {
     "data": {
      "text/plain": "<Figure size 432x288 with 1 Axes>",
      "image/png": "[encoded data removed]"
     },
     "metadata": {
      "needs_background": "light"
     },
     "output_type": "display_data"
    },
    {
     "data": {
      "text/plain": "<Figure size 1152x864 with 0 Axes>"
     },
     "metadata": {},
     "output_type": "display_data"
    }
   ],
   "source": [
    "from util import get_xgboost_importance\n",
    "\n",
    "get_xgboost_importance(model_xgb)"
   ],
   "metadata": {
    "collapsed": false,
    "pycharm": {
     "name": "#%%\n"
    }
   }
  },
  {
   "cell_type": "markdown",
   "source": [
    "### Sentence Embeddings\n",
    "We can also try to find embeddings for the words in the difference."
   ],
   "metadata": {
    "collapsed": false,
    "pycharm": {
     "name": "#%% md\n"
    }
   }
  },
  {
   "cell_type": "code",
   "execution_count": 46,
   "outputs": [
    {
     "name": "stderr",
     "output_type": "stream",
     "text": [
      "C:\\Users\\arnod\\AppData\\Local\\Programs\\Python\\Python39\\lib\\site-packages\\pandas\\core\\frame.py:3678: PerformanceWarning: DataFrame is highly fragmented.  This is usually the result of calling `frame.insert` many times, which has poor performance.  Consider joining all columns at once using pd.concat(axis=1) instead.  To get a de-fragmented frame, use `newframe = frame.copy()`\n",
      "  self[col] = igetitem(value, i)\n"
     ]
    },
    {
     "data": {
      "text/plain": "                                            Headline Test  \\\n0  Barack en Michelle Obama laten dansmoves zien ...    1   \n1  Barack en Michelle Obama gaan helemaal los tij...    1   \n2  Marc Coucke maakt opvallende keuze bij start v...    2   \n3  Marc Coucke: \"Spelers van 10 miljoen? Neen, li...    2   \n4  Maandag drukste dag van het jaar op Brussels A...    3   \n5  Maandag drukste dag van het jaar op Brussels A...    3   \n\n                                  Word Differences  DiffEmb0  DiffEmb1  \n0                 beyonc zien dansmoves jayz laten  0.003917 -0.067513  \n1                                helemaal gaan los  0.115524 -0.751650  \n2         bij seizoen maakt opvallende keuze start  0.273491 -0.293598  \n3       eigen liever spelers miljoen jeugd neen 10 -0.306837  0.778798  \n4  zorg en zeker bent dat goed kom voorbereid tijd -0.854726 -0.240404  \n5                  reizigers bijna verwacht 100000  0.265976  0.045437  ",
      "text/html": "<div>\n<style scoped>\n    .dataframe tbody tr th:only-of-type {\n        vertical-align: middle;\n    }\n\n    .dataframe tbody tr th {\n        vertical-align: top;\n    }\n\n    .dataframe thead th {\n        text-align: right;\n    }\n</style>\n<table border=\"1\" class=\"dataframe\">\n  <thead>\n    <tr style=\"text-align: right;\">\n      <th></th>\n      <th>Headline</th>\n      <th>Test</th>\n      <th>Word Differences</th>\n      <th>DiffEmb0</th>\n      <th>DiffEmb1</th>\n    </tr>\n  </thead>\n  <tbody>\n    <tr>\n      <th>0</th>\n      <td>Barack en Michelle Obama laten dansmoves zien ...</td>\n      <td>1</td>\n      <td>beyonc zien dansmoves jayz laten</td>\n      <td>0.003917</td>\n      <td>-0.067513</td>\n    </tr>\n    <tr>\n      <th>1</th>\n      <td>Barack en Michelle Obama gaan helemaal los tij...</td>\n      <td>1</td>\n      <td>helemaal gaan los</td>\n      <td>0.115524</td>\n      <td>-0.751650</td>\n    </tr>\n    <tr>\n      <th>2</th>\n      <td>Marc Coucke maakt opvallende keuze bij start v...</td>\n      <td>2</td>\n      <td>bij seizoen maakt opvallende keuze start</td>\n      <td>0.273491</td>\n      <td>-0.293598</td>\n    </tr>\n    <tr>\n      <th>3</th>\n      <td>Marc Coucke: \"Spelers van 10 miljoen? Neen, li...</td>\n      <td>2</td>\n      <td>eigen liever spelers miljoen jeugd neen 10</td>\n      <td>-0.306837</td>\n      <td>0.778798</td>\n    </tr>\n    <tr>\n      <th>4</th>\n      <td>Maandag drukste dag van het jaar op Brussels A...</td>\n      <td>3</td>\n      <td>zorg en zeker bent dat goed kom voorbereid tijd</td>\n      <td>-0.854726</td>\n      <td>-0.240404</td>\n    </tr>\n    <tr>\n      <th>5</th>\n      <td>Maandag drukste dag van het jaar op Brussels A...</td>\n      <td>3</td>\n      <td>reizigers bijna verwacht 100000</td>\n      <td>0.265976</td>\n      <td>0.045437</td>\n    </tr>\n  </tbody>\n</table>\n</div>"
     },
     "execution_count": 46,
     "metadata": {},
     "output_type": "execute_result"
    }
   ],
   "source": [
    "from util import add_headline_embedding_to_dataframe\n",
    "\n",
    "features = get_label_columns()\n",
    "\n",
    "train_x_extended = add_difference_strings(train_x_full)\n",
    "train_x_extended, new_features = add_headline_embedding_to_dataframe(train_x_extended, emb_prefix=\"DiffEmb\",\n",
    "                                                                     text_column=\"Word Differences\")\n",
    "features += new_features\n",
    "\n",
    "train_x_extended[['Headline', 'Test', 'Word Differences', 'DiffEmb0', 'DiffEmb1']].head(n=6)"
   ],
   "metadata": {
    "collapsed": false,
    "pycharm": {
     "name": "#%%\n"
    }
   }
  },
  {
   "cell_type": "code",
   "execution_count": 47,
   "outputs": [
    {
     "name": "stderr",
     "output_type": "stream",
     "text": [
      "C:\\Users\\arnod\\AppData\\Local\\Programs\\Python\\Python39\\lib\\site-packages\\pandas\\core\\frame.py:3678: PerformanceWarning: DataFrame is highly fragmented.  This is usually the result of calling `frame.insert` many times, which has poor performance.  Consider joining all columns at once using pd.concat(axis=1) instead.  To get a de-fragmented frame, use `newframe = frame.copy()`\n",
      "  self[col] = igetitem(value, i)\n"
     ]
    }
   ],
   "source": [
    "test_x_extended = add_difference_strings(test_x)\n",
    "test_x_extended, _ = add_headline_embedding_to_dataframe(test_x_extended, emb_prefix=\"DiffEmb\",\n",
    "                                                         text_column=\"Word Differences\")"
   ],
   "metadata": {
    "collapsed": false,
    "pycharm": {
     "name": "#%%\n"
    }
   }
  },
  {
   "cell_type": "code",
   "execution_count": 48,
   "outputs": [
    {
     "name": "stdout",
     "output_type": "stream",
     "text": [
      "Accuracy: 50.55% (92/182)\n"
     ]
    },
    {
     "name": "stderr",
     "output_type": "stream",
     "text": [
      "C:\\Users\\arnod\\AppData\\Local\\Programs\\Python\\Python39\\lib\\site-packages\\xgboost\\core.py:525: FutureWarning: Pass `sample_weight` as keyword args.  Passing these as positional arguments will be considered as error in future releases.\n",
      "  warnings.warn(\n"
     ]
    },
    {
     "name": "stdout",
     "output_type": "stream",
     "text": [
      "Accuracy: 47.80% (87/182)\n"
     ]
    }
   ],
   "source": [
    "_, model_xgb = fit_predict_evaluate_extra_features(train_x_extended, train_y, test_x_extended, test_y, features, groups)"
   ],
   "metadata": {
    "collapsed": false,
    "pycharm": {
     "name": "#%%\n"
    }
   }
  },
  {
   "cell_type": "markdown",
   "source": [
    "This leads to quite a high decrease (-12%) for naive bayes, but an increase (+2.75%) for xgboost."
   ],
   "metadata": {
    "collapsed": false,
    "pycharm": {
     "name": "#%% md\n"
    }
   }
  },
  {
   "cell_type": "code",
   "execution_count": 49,
   "outputs": [
    {
     "data": {
      "text/plain": "<Figure size 432x288 with 1 Axes>",
      "image/png": "[encoded data removed]"
     },
     "metadata": {
      "needs_background": "light"
     },
     "output_type": "display_data"
    },
    {
     "data": {
      "text/plain": "<Figure size 1152x864 with 0 Axes>"
     },
     "metadata": {},
     "output_type": "display_data"
    }
   ],
   "source": [
    "get_xgboost_importance(model_xgb)"
   ],
   "metadata": {
    "collapsed": false,
    "pycharm": {
     "name": "#%%\n"
    }
   }
  },
  {
   "cell_type": "markdown",
   "source": [
    "### Word Embeddings\n",
    "Since our difference is just a collection of words instead of a sentence, we can try encoding each word separately and then use a form of pooling to get one vector for all words."
   ],
   "metadata": {
    "collapsed": false,
    "pycharm": {
     "name": "#%% md\n"
    }
   }
  },
  {
   "cell_type": "code",
   "execution_count": 50,
   "outputs": [
    {
     "data": {
      "text/plain": "array([-0.3001115 , -1.2974211 , -1.8229753 ,  1.3705543 , -0.05285694],\n      dtype=float32)"
     },
     "execution_count": 50,
     "metadata": {},
     "output_type": "execute_result"
    }
   ],
   "source": [
    "from sentence_transformers import util, SentenceTransformer\n",
    "\n",
    "model = SentenceTransformer('jegormeister/bert-base-dutch-cased-snli')\n",
    "\n",
    "model.encode(\"Appel\")[:5]"
   ],
   "metadata": {
    "collapsed": false,
    "pycharm": {
     "name": "#%%\n"
    }
   }
  },
  {
   "cell_type": "code",
   "execution_count": 51,
   "outputs": [
    {
     "name": "stdout",
     "output_type": "stream",
     "text": [
      "Top-5 most similar pairs:\n",
      "Fruit \t Appel \t 0.6018\n",
      "Hond \t Wolf \t 0.5938\n",
      "Mes \t Tafel \t 0.5386\n",
      "Tafel \t Garage \t 0.5356\n",
      "Tomaat \t Paprika \t 0.5041\n"
     ]
    }
   ],
   "source": [
    "words = [\"Tomaat\", \"Paprika\", \"Fruit\", \"Mes\", \"Tafel\", \"Stoel\", \"Auto\", \"Garage\", \"Hond\", \"Wolf\", \"Appel\"]\n",
    "\n",
    "#Encode all words\n",
    "embeddings = list([model.encode(word) for word in words])\n",
    "\n",
    "#Compute cosine similarity between all pairs\n",
    "cos_sim = util.cos_sim(embeddings, embeddings)\n",
    "\n",
    "#Add all pairs to a list with their cosine similarity score\n",
    "all_word_combinations = []\n",
    "for i in range(len(cos_sim) - 1):\n",
    "    for j in range(i + 1, len(cos_sim)):\n",
    "        all_word_combinations.append([cos_sim[i][j], i, j])\n",
    "\n",
    "#Sort list by the highest cosine similarity score\n",
    "all_word_combinations = sorted(all_word_combinations, key=lambda x: x[0], reverse=True)\n",
    "\n",
    "print(\"Top-5 most similar pairs:\")\n",
    "for score, i, j in all_word_combinations[0:5]:\n",
    "    print(\"{} \\t {} \\t {:.4f}\".format(words[i], words[j], cos_sim[i][j]))"
   ],
   "metadata": {
    "collapsed": false,
    "pycharm": {
     "name": "#%%\n"
    }
   }
  },
  {
   "cell_type": "code",
   "execution_count": 74,
   "outputs": [],
   "source": [
    "import numpy as np\n",
    "import pandas as pd\n",
    "from tqdm import tqdm\n",
    "\n",
    "tqdm.pandas()\n",
    "\n",
    "def get_word_vector(words, model, pooling=\"avg\"):\n",
    "    words = words.split()\n",
    "\n",
    "    if not words:\n",
    "        return np.zeros(768)\n",
    "\n",
    "    embeddings = list([model.encode(word) for word in words])\n",
    "\n",
    "    # Some pooling methods suggested by copilot\n",
    "    if pooling == \"avg\":\n",
    "        return np.mean(embeddings, axis=0)\n",
    "    elif pooling == \"max\":\n",
    "        return np.max(embeddings, axis=0)\n",
    "    elif pooling == \"min\":\n",
    "        return np.min(embeddings, axis=0)\n",
    "    elif pooling == \"sum\":\n",
    "        return np.sum(embeddings, axis=0)\n",
    "    # elif pooling == \"concat\": # Will end up in variable number of features, so skip this one\n",
    "    #     return np.concatenate(embeddings, axis=0)\n",
    "    else:\n",
    "        raise ValueError(\"Pooling method not supported\")\n",
    "\n",
    "\n",
    "def add_pooled_word_embeddings_to_dataframe(df, emb_prefix=\"DiffEmb\", text_column=\"Word Differences\", pooling=\"avg\"):\n",
    "    bertje = SentenceTransformer(\"jegormeister/bert-base-dutch-cased-snli\")\n",
    "\n",
    "    embedding_columns = list(map(lambda i: f\"{emb_prefix}{i}\", range(768)))\n",
    "    added_features = embedding_columns\n",
    "\n",
    "    modified_df = df.copy()\n",
    "    tmp = df[text_column].progress_apply(lambda x: get_word_vector(x, bertje, pooling)).apply(pd.Series)\n",
    "    modified_df[embedding_columns] = tmp #df[text_column].progress_apply(lambda x: get_word_vector(x, bertje, pooling))\n",
    "    return modified_df, added_features"
   ],
   "metadata": {
    "collapsed": false,
    "pycharm": {
     "name": "#%%\n"
    }
   }
  },
  {
   "cell_type": "code",
   "execution_count": 75,
   "outputs": [
    {
     "name": "stderr",
     "output_type": "stream",
     "text": [
      "100%|██████████| 1804/1804 [04:43<00:00,  6.36it/s]\n",
      "C:\\Users\\arnod\\AppData\\Local\\Programs\\Python\\Python39\\lib\\site-packages\\pandas\\core\\frame.py:3641: PerformanceWarning: DataFrame is highly fragmented.  This is usually the result of calling `frame.insert` many times, which has poor performance.  Consider joining all columns at once using pd.concat(axis=1) instead.  To get a de-fragmented frame, use `newframe = frame.copy()`\n",
      "  self[k1] = value[k2]\n",
      "100%|██████████| 453/453 [01:08<00:00,  6.61it/s]\n"
     ]
    }
   ],
   "source": [
    "from util import get_label_columns\n",
    "\n",
    "features = get_label_columns()\n",
    "\n",
    "train_x_extended = add_difference_strings(train_x_full)\n",
    "train_x_extended, new_features = add_pooled_word_embeddings_to_dataframe(train_x_extended)\n",
    "\n",
    "features += new_features\n",
    "\n",
    "test_x_extended = add_difference_strings(test_x)\n",
    "test_x_extended, _ = add_pooled_word_embeddings_to_dataframe(test_x_extended)"
   ],
   "metadata": {
    "collapsed": false,
    "pycharm": {
     "name": "#%%\n"
    }
   }
  },
  {
   "cell_type": "code",
   "execution_count": 76,
   "outputs": [
    {
     "name": "stdout",
     "output_type": "stream",
     "text": [
      "Accuracy: 49.45% (90/182)\n"
     ]
    },
    {
     "name": "stderr",
     "output_type": "stream",
     "text": [
      "C:\\Users\\arnod\\AppData\\Local\\Programs\\Python\\Python39\\lib\\site-packages\\xgboost\\core.py:525: FutureWarning: Pass `sample_weight` as keyword args.  Passing these as positional arguments will be considered as error in future releases.\n",
      "  warnings.warn(\n"
     ]
    },
    {
     "name": "stdout",
     "output_type": "stream",
     "text": [
      "Accuracy: 51.10% (93/182)\n"
     ]
    }
   ],
   "source": [
    "_, model_xgb = fit_predict_evaluate_extra_features(train_x_extended, train_y, test_x_extended, test_y, features, groups)"
   ],
   "metadata": {
    "collapsed": false,
    "pycharm": {
     "name": "#%%\n"
    }
   }
  },
  {
   "cell_type": "code",
   "execution_count": 77,
   "outputs": [
    {
     "data": {
      "text/plain": "<Figure size 432x288 with 1 Axes>",
      "image/png": "[encoded data removed]"
     },
     "metadata": {
      "needs_background": "light"
     },
     "output_type": "display_data"
    },
    {
     "data": {
      "text/plain": "<Figure size 1152x864 with 0 Axes>"
     },
     "metadata": {},
     "output_type": "display_data"
    }
   ],
   "source": [
    "get_xgboost_importance(model_xgb)"
   ],
   "metadata": {
    "collapsed": false,
    "pycharm": {
     "name": "#%%\n"
    }
   }
  }
 ],
 "metadata": {
  "kernelspec": {
   "display_name": "Python 3",
   "language": "python",
   "name": "python3"
  },
  "language_info": {
   "codemirror_mode": {
    "name": "ipython",
    "version": 2
   },
   "file_extension": ".py",
   "mimetype": "text/x-python",
   "name": "python",
   "nbconvert_exporter": "python",
   "pygments_lexer": "ipython2",
   "version": "2.7.6"
  }
 },
 "nbformat": 4,
 "nbformat_minor": 0
}