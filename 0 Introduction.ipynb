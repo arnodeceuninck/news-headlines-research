{
 "cells": [
  {
   "cell_type": "markdown",
   "source": [
    "# News Headlines\n",
    "Margaux Soubry published in 2020 a paper for the VUB where she manually labeled a lot of news headlines or potential headlines and also took a look at the impact of some labels in potential headlines in order to become the chosen headline.\n",
    "\n",
    "I continued based on this research in order to predict those manually labeled automaticlly using Natural Language Processing techniques (NLP) and predict the finally selected headlines from the multiple candidates. This might then be continued to predict which of the headlines will perform best (will result in the most readers), suggest changes to th title to improve the performance or even suggest a good performing title, given the full article.\n",
    "\n",
    "## Dataset\n",
    "Soubry manualy labeled headlines for her thesis. Let's take a look at them:\n",
    "Note: Soubry her analysis and thesis where written in Dutch, so quotations from there or the dataset are also Dutch."
   ],
   "metadata": {
    "collapsed": false,
    "pycharm": {
     "name": "#%% md\n"
    }
   }
  },
  {
   "cell_type": "code",
   "execution_count": 7,
   "outputs": [
    {
     "data": {
      "text/plain": "  Test  Headline ID  Winner  \\\n0     1           A   False   \n1   NaN           B    True   \n2     2           A    True   \n3   NaN           B   False   \n4     3           A    True   \n\n                                           Headline   Actief  Lang  Vragen  \\\n0  Barack en Michelle Obama laten dansmoves zien ...       0     1       0   \n1  Barack en Michelle Obama gaan helemaal los tij...       1     0       0   \n2  Marc Coucke maakt opvallende keuze bij start v...       1     0       0   \n3  Marc Coucke: \"Spelers van 10 miljoen? Neen, li...       1     0       0   \n4  Maandag drukste dag van het jaar op Brussels A...       1     1       0   \n\n   Interpunctie  Tweeledigheid  Emotie  ...  Lidwoorden  Adjectieven  \\\n0             0              0       0  ...           0            0   \n1             0              0       0  ...           0            0   \n2             0              0       0  ...           0            0   \n3             0              1       0  ...           0            0   \n4             0              1       0  ...           0            0   \n\n   Eigennamen  Betrekking  Voor+Achternaam  Cijfers  Quotes  \\\n0           0           0                1        0       0   \n1           0           0                1        0       0   \n2           0           0                1        0       0   \n3           0           0                1        0       1   \n4           0           1                0        0       1   \n\n   Wat zit erin voor mij?   Modaliteit   Sensatie  \n0                      NaN          NaN       NaN  \n1                      NaN          NaN       NaN  \n2                      NaN          NaN       NaN  \n3                      NaN          NaN       NaN  \n4                      1.0          NaN       NaN  \n\n[5 rows x 22 columns]",
      "text/html": "<div>\n<style scoped>\n    .dataframe tbody tr th:only-of-type {\n        vertical-align: middle;\n    }\n\n    .dataframe tbody tr th {\n        vertical-align: top;\n    }\n\n    .dataframe thead th {\n        text-align: right;\n    }\n</style>\n<table border=\"1\" class=\"dataframe\">\n  <thead>\n    <tr style=\"text-align: right;\">\n      <th></th>\n      <th>Test</th>\n      <th>Headline ID</th>\n      <th>Winner</th>\n      <th>Headline</th>\n      <th>Actief</th>\n      <th>Lang</th>\n      <th>Vragen</th>\n      <th>Interpunctie</th>\n      <th>Tweeledigheid</th>\n      <th>Emotie</th>\n      <th>...</th>\n      <th>Lidwoorden</th>\n      <th>Adjectieven</th>\n      <th>Eigennamen</th>\n      <th>Betrekking</th>\n      <th>Voor+Achternaam</th>\n      <th>Cijfers</th>\n      <th>Quotes</th>\n      <th>Wat zit erin voor mij?</th>\n      <th>Modaliteit</th>\n      <th>Sensatie</th>\n    </tr>\n  </thead>\n  <tbody>\n    <tr>\n      <th>0</th>\n      <td>1</td>\n      <td>A</td>\n      <td>False</td>\n      <td>Barack en Michelle Obama laten dansmoves zien ...</td>\n      <td>0</td>\n      <td>1</td>\n      <td>0</td>\n      <td>0</td>\n      <td>0</td>\n      <td>0</td>\n      <td>...</td>\n      <td>0</td>\n      <td>0</td>\n      <td>0</td>\n      <td>0</td>\n      <td>1</td>\n      <td>0</td>\n      <td>0</td>\n      <td>NaN</td>\n      <td>NaN</td>\n      <td>NaN</td>\n    </tr>\n    <tr>\n      <th>1</th>\n      <td>NaN</td>\n      <td>B</td>\n      <td>True</td>\n      <td>Barack en Michelle Obama gaan helemaal los tij...</td>\n      <td>1</td>\n      <td>0</td>\n      <td>0</td>\n      <td>0</td>\n      <td>0</td>\n      <td>0</td>\n      <td>...</td>\n      <td>0</td>\n      <td>0</td>\n      <td>0</td>\n      <td>0</td>\n      <td>1</td>\n      <td>0</td>\n      <td>0</td>\n      <td>NaN</td>\n      <td>NaN</td>\n      <td>NaN</td>\n    </tr>\n    <tr>\n      <th>2</th>\n      <td>2</td>\n      <td>A</td>\n      <td>True</td>\n      <td>Marc Coucke maakt opvallende keuze bij start v...</td>\n      <td>1</td>\n      <td>0</td>\n      <td>0</td>\n      <td>0</td>\n      <td>0</td>\n      <td>0</td>\n      <td>...</td>\n      <td>0</td>\n      <td>0</td>\n      <td>0</td>\n      <td>0</td>\n      <td>1</td>\n      <td>0</td>\n      <td>0</td>\n      <td>NaN</td>\n      <td>NaN</td>\n      <td>NaN</td>\n    </tr>\n    <tr>\n      <th>3</th>\n      <td>NaN</td>\n      <td>B</td>\n      <td>False</td>\n      <td>Marc Coucke: \"Spelers van 10 miljoen? Neen, li...</td>\n      <td>1</td>\n      <td>0</td>\n      <td>0</td>\n      <td>0</td>\n      <td>1</td>\n      <td>0</td>\n      <td>...</td>\n      <td>0</td>\n      <td>0</td>\n      <td>0</td>\n      <td>0</td>\n      <td>1</td>\n      <td>0</td>\n      <td>1</td>\n      <td>NaN</td>\n      <td>NaN</td>\n      <td>NaN</td>\n    </tr>\n    <tr>\n      <th>4</th>\n      <td>3</td>\n      <td>A</td>\n      <td>True</td>\n      <td>Maandag drukste dag van het jaar op Brussels A...</td>\n      <td>1</td>\n      <td>1</td>\n      <td>0</td>\n      <td>0</td>\n      <td>1</td>\n      <td>0</td>\n      <td>...</td>\n      <td>0</td>\n      <td>0</td>\n      <td>0</td>\n      <td>1</td>\n      <td>0</td>\n      <td>0</td>\n      <td>1</td>\n      <td>1.0</td>\n      <td>NaN</td>\n      <td>NaN</td>\n    </tr>\n  </tbody>\n</table>\n<p>5 rows × 22 columns</p>\n</div>"
     },
     "execution_count": 7,
     "metadata": {},
     "output_type": "execute_result"
    }
   ],
   "source": [
    "import pandas as pd\n",
    "import openpyxl  # Dependency of pandas that's not automatically installed\n",
    "\n",
    "df = pd.read_excel('headline-data/Dataverwerking.xlsx', sheet_name='Verwerking')\n",
    "df.head()"
   ],
   "metadata": {
    "collapsed": false,
    "pycharm": {
     "name": "#%%\n"
    }
   }
  },
  {
   "cell_type": "code",
   "execution_count": 8,
   "outputs": [
    {
     "name": "stdout",
     "output_type": "stream",
     "text": [
      "Soubry labeled 2257 headlines.\n"
     ]
    }
   ],
   "source": [
    "print(f\"Soubry labeled {len(df.index)} headlines.\")"
   ],
   "metadata": {
    "collapsed": false,
    "pycharm": {
     "name": "#%%\n"
    }
   }
  },
  {
   "cell_type": "markdown",
   "source": [
    "## Preprocessing\n",
    "### Column names\n",
    "A lot of the column names contain spaces at the end, let's remove them:"
   ],
   "metadata": {
    "collapsed": false,
    "pycharm": {
     "name": "#%% md\n"
    }
   },
   "outputs": []
  },
  {
   "cell_type": "code",
   "execution_count": 9,
   "outputs": [
    {
     "name": "stdout",
     "output_type": "stream",
     "text": [
      "E.g. the first column has the name: 'Test '\n",
      "The new name of this column is: 'Test'\n"
     ]
    }
   ],
   "source": [
    "# Remove spaces at the end of the column names\n",
    "print(f\"E.g. the first column has the name: '{df.columns[0]}'\")\n",
    "df.columns = [x.strip() for x in df.columns]\n",
    "print(f\"The new name of this column is: '{df.columns[0]}'\")"
   ],
   "metadata": {
    "collapsed": false,
    "pycharm": {
     "name": "#%%\n"
    }
   }
  },
  {
   "cell_type": "markdown",
   "source": [
    "### Test ID's\n",
    "Only the first row of each test has a test ID. Let's add the ID to each of the rows."
   ],
   "metadata": {
    "collapsed": false,
    "pycharm": {
     "name": "#%% md\n"
    }
   }
  },
  {
   "cell_type": "code",
   "execution_count": 12,
   "outputs": [
    {
     "data": {
      "text/plain": "  Test Headline ID  Winner                                           Headline  \\\n0    1           A   False  Barack en Michelle Obama laten dansmoves zien ...   \n1    1           B    True  Barack en Michelle Obama gaan helemaal los tij...   \n2    2           A    True  Marc Coucke maakt opvallende keuze bij start v...   \n3    2           B   False  Marc Coucke: \"Spelers van 10 miljoen? Neen, li...   \n4    3           A    True  Maandag drukste dag van het jaar op Brussels A...   \n\n   Actief  Lang  Vragen  Interpunctie  Tweeledigheid  Emotie  ...  Lidwoorden  \\\n0       0     1       0             0              0       0  ...           0   \n1       1     0       0             0              0       0  ...           0   \n2       1     0       0             0              0       0  ...           0   \n3       1     0       0             0              1       0  ...           0   \n4       1     1       0             0              1       0  ...           0   \n\n   Adjectieven  Eigennamen  Betrekking  Voor+Achternaam  Cijfers  Quotes  \\\n0            0           0           0                1        0       0   \n1            0           0           0                1        0       0   \n2            0           0           0                1        0       0   \n3            0           0           0                1        0       1   \n4            0           0           1                0        0       1   \n\n   Wat zit erin voor mij?  Modaliteit  Sensatie  \n0                     NaN         NaN       NaN  \n1                     NaN         NaN       NaN  \n2                     NaN         NaN       NaN  \n3                     NaN         NaN       NaN  \n4                     1.0         NaN       NaN  \n\n[5 rows x 22 columns]",
      "text/html": "<div>\n<style scoped>\n    .dataframe tbody tr th:only-of-type {\n        vertical-align: middle;\n    }\n\n    .dataframe tbody tr th {\n        vertical-align: top;\n    }\n\n    .dataframe thead th {\n        text-align: right;\n    }\n</style>\n<table border=\"1\" class=\"dataframe\">\n  <thead>\n    <tr style=\"text-align: right;\">\n      <th></th>\n      <th>Test</th>\n      <th>Headline ID</th>\n      <th>Winner</th>\n      <th>Headline</th>\n      <th>Actief</th>\n      <th>Lang</th>\n      <th>Vragen</th>\n      <th>Interpunctie</th>\n      <th>Tweeledigheid</th>\n      <th>Emotie</th>\n      <th>...</th>\n      <th>Lidwoorden</th>\n      <th>Adjectieven</th>\n      <th>Eigennamen</th>\n      <th>Betrekking</th>\n      <th>Voor+Achternaam</th>\n      <th>Cijfers</th>\n      <th>Quotes</th>\n      <th>Wat zit erin voor mij?</th>\n      <th>Modaliteit</th>\n      <th>Sensatie</th>\n    </tr>\n  </thead>\n  <tbody>\n    <tr>\n      <th>0</th>\n      <td>1</td>\n      <td>A</td>\n      <td>False</td>\n      <td>Barack en Michelle Obama laten dansmoves zien ...</td>\n      <td>0</td>\n      <td>1</td>\n      <td>0</td>\n      <td>0</td>\n      <td>0</td>\n      <td>0</td>\n      <td>...</td>\n      <td>0</td>\n      <td>0</td>\n      <td>0</td>\n      <td>0</td>\n      <td>1</td>\n      <td>0</td>\n      <td>0</td>\n      <td>NaN</td>\n      <td>NaN</td>\n      <td>NaN</td>\n    </tr>\n    <tr>\n      <th>1</th>\n      <td>1</td>\n      <td>B</td>\n      <td>True</td>\n      <td>Barack en Michelle Obama gaan helemaal los tij...</td>\n      <td>1</td>\n      <td>0</td>\n      <td>0</td>\n      <td>0</td>\n      <td>0</td>\n      <td>0</td>\n      <td>...</td>\n      <td>0</td>\n      <td>0</td>\n      <td>0</td>\n      <td>0</td>\n      <td>1</td>\n      <td>0</td>\n      <td>0</td>\n      <td>NaN</td>\n      <td>NaN</td>\n      <td>NaN</td>\n    </tr>\n    <tr>\n      <th>2</th>\n      <td>2</td>\n      <td>A</td>\n      <td>True</td>\n      <td>Marc Coucke maakt opvallende keuze bij start v...</td>\n      <td>1</td>\n      <td>0</td>\n      <td>0</td>\n      <td>0</td>\n      <td>0</td>\n      <td>0</td>\n      <td>...</td>\n      <td>0</td>\n      <td>0</td>\n      <td>0</td>\n      <td>0</td>\n      <td>1</td>\n      <td>0</td>\n      <td>0</td>\n      <td>NaN</td>\n      <td>NaN</td>\n      <td>NaN</td>\n    </tr>\n    <tr>\n      <th>3</th>\n      <td>2</td>\n      <td>B</td>\n      <td>False</td>\n      <td>Marc Coucke: \"Spelers van 10 miljoen? Neen, li...</td>\n      <td>1</td>\n      <td>0</td>\n      <td>0</td>\n      <td>0</td>\n      <td>1</td>\n      <td>0</td>\n      <td>...</td>\n      <td>0</td>\n      <td>0</td>\n      <td>0</td>\n      <td>0</td>\n      <td>1</td>\n      <td>0</td>\n      <td>1</td>\n      <td>NaN</td>\n      <td>NaN</td>\n      <td>NaN</td>\n    </tr>\n    <tr>\n      <th>4</th>\n      <td>3</td>\n      <td>A</td>\n      <td>True</td>\n      <td>Maandag drukste dag van het jaar op Brussels A...</td>\n      <td>1</td>\n      <td>1</td>\n      <td>0</td>\n      <td>0</td>\n      <td>1</td>\n      <td>0</td>\n      <td>...</td>\n      <td>0</td>\n      <td>0</td>\n      <td>0</td>\n      <td>1</td>\n      <td>0</td>\n      <td>0</td>\n      <td>1</td>\n      <td>1.0</td>\n      <td>NaN</td>\n      <td>NaN</td>\n    </tr>\n  </tbody>\n</table>\n<p>5 rows × 22 columns</p>\n</div>"
     },
     "execution_count": 12,
     "metadata": {},
     "output_type": "execute_result"
    }
   ],
   "source": [
    "# iterate over dataframe rows, if test is NaN, set test id to previous test id\n",
    "for i in range(1, len(df)):\n",
    "    if pd.isna(df.loc[i, 'Test']) or str(df.loc[i, 'Test']).strip() == '':\n",
    "        df.loc[i, 'Test'] = df.loc[i - 1, 'Test']\n",
    "df.head()"
   ],
   "metadata": {
    "collapsed": false,
    "pycharm": {
     "name": "#%%\n"
    }
   }
  }
 ],
 "metadata": {
  "kernelspec": {
   "display_name": "Python 3",
   "language": "python",
   "name": "python3"
  },
  "language_info": {
   "codemirror_mode": {
    "name": "ipython",
    "version": 2
   },
   "file_extension": ".py",
   "mimetype": "text/x-python",
   "name": "python",
   "nbconvert_exporter": "python",
   "pygments_lexer": "ipython2",
   "version": "2.7.6"
  }
 },
 "nbformat": 4,
 "nbformat_minor": 0
}