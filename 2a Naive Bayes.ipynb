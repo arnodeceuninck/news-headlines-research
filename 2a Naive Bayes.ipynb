{
 "cells": [
  {
   "cell_type": "markdown",
   "source": [
    "# Naive Bayes\n",
    "[The sklearn documentation](https://scikit-learn.org/stable/modules/naive_bayes.html) contains a good explanation for Naive Bayes. It (naively) assumes conditional independence between all of the classes and tries to find the maximum likely y based on $P(y)\\Pi_{i=1}^N P(x_i|y)$. We don't have specific classes to classify to, but given multiple headlines, we need to find the winner and thus the most likely one (accoording to th people that picked the winners) to be the most popular one. The different classes (y) are then the different headlines, so we can just keep P(y) out of the equation.\n",
    "\n",
    "Since all the manually assigned labels are bernouilli distributed, we can use the [Bernoulli Naive Bayes classifier](https://scikit-learn.org/stable/modules/naive_bayes.html#bernoulli-naive-bayes). However, we still have the problem that we want the headline with the maximum probability to be the winner and not assign for each of them whether it's a winner or not (the classifications per test are dependent on each other).\n",
    "\n",
    "## Train Data"
   ],
   "metadata": {
    "collapsed": false,
    "pycharm": {
     "name": "#%% md\n"
    }
   }
  },
  {
   "cell_type": "code",
   "execution_count": 33,
   "outputs": [
    {
     "data": {
      "text/plain": "  Test Headline ID                                           Headline  Actief  \\\n0    1           A  Barack en Michelle Obama laten dansmoves zien ...       0   \n1    1           B  Barack en Michelle Obama gaan helemaal los tij...       1   \n2    2           A  Marc Coucke maakt opvallende keuze bij start v...       1   \n3    2           B  Marc Coucke: \"Spelers van 10 miljoen? Neen, li...       1   \n4    3           A  Maandag drukste dag van het jaar op Brussels A...       1   \n\n   Lang  Vragen  Interpunctie  Tweeledigheid  Emotie  Voorwaartse Verwijzing  \\\n0     1       0             0              0       0                       0   \n1     0       0             0              0       0                       0   \n2     0       0             0              0       0                       1   \n3     0       0             0              1       0                       0   \n4     1       0             0              1       0                       0   \n\n   Signaalwoorden  Lidwoorden  Adjectieven  Eigennamen  Betrekking  \\\n0               0           0            0           0           0   \n1               0           0            0           0           0   \n2               0           0            0           0           0   \n3               0           0            0           0           0   \n4               0           0            0           0           1   \n\n   Voor+Achternaam  Cijfers  Quotes  \n0                1        0       0  \n1                1        0       0  \n2                1        0       0  \n3                1        0       1  \n4                0        0       1  ",
      "text/html": "<div>\n<style scoped>\n    .dataframe tbody tr th:only-of-type {\n        vertical-align: middle;\n    }\n\n    .dataframe tbody tr th {\n        vertical-align: top;\n    }\n\n    .dataframe thead th {\n        text-align: right;\n    }\n</style>\n<table border=\"1\" class=\"dataframe\">\n  <thead>\n    <tr style=\"text-align: right;\">\n      <th></th>\n      <th>Test</th>\n      <th>Headline ID</th>\n      <th>Headline</th>\n      <th>Actief</th>\n      <th>Lang</th>\n      <th>Vragen</th>\n      <th>Interpunctie</th>\n      <th>Tweeledigheid</th>\n      <th>Emotie</th>\n      <th>Voorwaartse Verwijzing</th>\n      <th>Signaalwoorden</th>\n      <th>Lidwoorden</th>\n      <th>Adjectieven</th>\n      <th>Eigennamen</th>\n      <th>Betrekking</th>\n      <th>Voor+Achternaam</th>\n      <th>Cijfers</th>\n      <th>Quotes</th>\n    </tr>\n  </thead>\n  <tbody>\n    <tr>\n      <th>0</th>\n      <td>1</td>\n      <td>A</td>\n      <td>Barack en Michelle Obama laten dansmoves zien ...</td>\n      <td>0</td>\n      <td>1</td>\n      <td>0</td>\n      <td>0</td>\n      <td>0</td>\n      <td>0</td>\n      <td>0</td>\n      <td>0</td>\n      <td>0</td>\n      <td>0</td>\n      <td>0</td>\n      <td>0</td>\n      <td>1</td>\n      <td>0</td>\n      <td>0</td>\n    </tr>\n    <tr>\n      <th>1</th>\n      <td>1</td>\n      <td>B</td>\n      <td>Barack en Michelle Obama gaan helemaal los tij...</td>\n      <td>1</td>\n      <td>0</td>\n      <td>0</td>\n      <td>0</td>\n      <td>0</td>\n      <td>0</td>\n      <td>0</td>\n      <td>0</td>\n      <td>0</td>\n      <td>0</td>\n      <td>0</td>\n      <td>0</td>\n      <td>1</td>\n      <td>0</td>\n      <td>0</td>\n    </tr>\n    <tr>\n      <th>2</th>\n      <td>2</td>\n      <td>A</td>\n      <td>Marc Coucke maakt opvallende keuze bij start v...</td>\n      <td>1</td>\n      <td>0</td>\n      <td>0</td>\n      <td>0</td>\n      <td>0</td>\n      <td>0</td>\n      <td>1</td>\n      <td>0</td>\n      <td>0</td>\n      <td>0</td>\n      <td>0</td>\n      <td>0</td>\n      <td>1</td>\n      <td>0</td>\n      <td>0</td>\n    </tr>\n    <tr>\n      <th>3</th>\n      <td>2</td>\n      <td>B</td>\n      <td>Marc Coucke: \"Spelers van 10 miljoen? Neen, li...</td>\n      <td>1</td>\n      <td>0</td>\n      <td>0</td>\n      <td>0</td>\n      <td>1</td>\n      <td>0</td>\n      <td>0</td>\n      <td>0</td>\n      <td>0</td>\n      <td>0</td>\n      <td>0</td>\n      <td>0</td>\n      <td>1</td>\n      <td>0</td>\n      <td>1</td>\n    </tr>\n    <tr>\n      <th>4</th>\n      <td>3</td>\n      <td>A</td>\n      <td>Maandag drukste dag van het jaar op Brussels A...</td>\n      <td>1</td>\n      <td>1</td>\n      <td>0</td>\n      <td>0</td>\n      <td>1</td>\n      <td>0</td>\n      <td>0</td>\n      <td>0</td>\n      <td>0</td>\n      <td>0</td>\n      <td>0</td>\n      <td>1</td>\n      <td>0</td>\n      <td>0</td>\n      <td>1</td>\n    </tr>\n  </tbody>\n</table>\n</div>"
     },
     "execution_count": 33,
     "metadata": {},
     "output_type": "execute_result"
    }
   ],
   "source": [
    "import numpy as np\n",
    "\n",
    "from util import get_wpm_train_test\n",
    "train_x, train_y, test_x, test_y = get_wpm_train_test(full_y_test=True)\n",
    "train_x.head()"
   ],
   "metadata": {
    "collapsed": false,
    "pycharm": {
     "name": "#%%\n"
    }
   }
  },
  {
   "cell_type": "code",
   "execution_count": 34,
   "outputs": [
    {
     "data": {
      "text/plain": "   Test Headline ID                                           Headline  \\\n11    6           A  Cafébazin krijgt GAS-boete van 350 euro omdat ...   \n12    6           B  Cafébazin krijgt GAS-boete van 350 euro omdat ...   \n61   24           A  Zaakvoerder betrapt winkeldief, en niet alleen...   \n62   24           B  Betrapte dievegge in winterjas staat plots op ...   \n65   26           A  Knuffel is op zoek naar verloren kindje: \"Mijn...   \n\n    Actief  Lang  Vragen  Interpunctie  Tweeledigheid  Emotie  \\\n11       0     1       0             0              1       0   \n12       0     1       1             0              1       0   \n61       1     0       0             0              0       0   \n62       1     1       0             0              0       0   \n65       1     1       0             0              1       1   \n\n    Voorwaartse Verwijzing  Signaalwoorden  Lidwoorden  Adjectieven  \\\n11                       0               0           0            0   \n12                       0               0           0            0   \n61                       1               0           0            0   \n62                       0               0           0            0   \n65                       0               0           0            0   \n\n    Eigennamen  Betrekking  Voor+Achternaam  Cijfers  Quotes  \n11           0           0                0        1       1  \n12           0           0                0        1       0  \n61           0           0                0        0       0  \n62           0           0                0        0       0  \n65           0           0                0        0       1  ",
      "text/html": "<div>\n<style scoped>\n    .dataframe tbody tr th:only-of-type {\n        vertical-align: middle;\n    }\n\n    .dataframe tbody tr th {\n        vertical-align: top;\n    }\n\n    .dataframe thead th {\n        text-align: right;\n    }\n</style>\n<table border=\"1\" class=\"dataframe\">\n  <thead>\n    <tr style=\"text-align: right;\">\n      <th></th>\n      <th>Test</th>\n      <th>Headline ID</th>\n      <th>Headline</th>\n      <th>Actief</th>\n      <th>Lang</th>\n      <th>Vragen</th>\n      <th>Interpunctie</th>\n      <th>Tweeledigheid</th>\n      <th>Emotie</th>\n      <th>Voorwaartse Verwijzing</th>\n      <th>Signaalwoorden</th>\n      <th>Lidwoorden</th>\n      <th>Adjectieven</th>\n      <th>Eigennamen</th>\n      <th>Betrekking</th>\n      <th>Voor+Achternaam</th>\n      <th>Cijfers</th>\n      <th>Quotes</th>\n    </tr>\n  </thead>\n  <tbody>\n    <tr>\n      <th>11</th>\n      <td>6</td>\n      <td>A</td>\n      <td>Cafébazin krijgt GAS-boete van 350 euro omdat ...</td>\n      <td>0</td>\n      <td>1</td>\n      <td>0</td>\n      <td>0</td>\n      <td>1</td>\n      <td>0</td>\n      <td>0</td>\n      <td>0</td>\n      <td>0</td>\n      <td>0</td>\n      <td>0</td>\n      <td>0</td>\n      <td>0</td>\n      <td>1</td>\n      <td>1</td>\n    </tr>\n    <tr>\n      <th>12</th>\n      <td>6</td>\n      <td>B</td>\n      <td>Cafébazin krijgt GAS-boete van 350 euro omdat ...</td>\n      <td>0</td>\n      <td>1</td>\n      <td>1</td>\n      <td>0</td>\n      <td>1</td>\n      <td>0</td>\n      <td>0</td>\n      <td>0</td>\n      <td>0</td>\n      <td>0</td>\n      <td>0</td>\n      <td>0</td>\n      <td>0</td>\n      <td>1</td>\n      <td>0</td>\n    </tr>\n    <tr>\n      <th>61</th>\n      <td>24</td>\n      <td>A</td>\n      <td>Zaakvoerder betrapt winkeldief, en niet alleen...</td>\n      <td>1</td>\n      <td>0</td>\n      <td>0</td>\n      <td>0</td>\n      <td>0</td>\n      <td>0</td>\n      <td>1</td>\n      <td>0</td>\n      <td>0</td>\n      <td>0</td>\n      <td>0</td>\n      <td>0</td>\n      <td>0</td>\n      <td>0</td>\n      <td>0</td>\n    </tr>\n    <tr>\n      <th>62</th>\n      <td>24</td>\n      <td>B</td>\n      <td>Betrapte dievegge in winterjas staat plots op ...</td>\n      <td>1</td>\n      <td>1</td>\n      <td>0</td>\n      <td>0</td>\n      <td>0</td>\n      <td>0</td>\n      <td>0</td>\n      <td>0</td>\n      <td>0</td>\n      <td>0</td>\n      <td>0</td>\n      <td>0</td>\n      <td>0</td>\n      <td>0</td>\n      <td>0</td>\n    </tr>\n    <tr>\n      <th>65</th>\n      <td>26</td>\n      <td>A</td>\n      <td>Knuffel is op zoek naar verloren kindje: \"Mijn...</td>\n      <td>1</td>\n      <td>1</td>\n      <td>0</td>\n      <td>0</td>\n      <td>1</td>\n      <td>1</td>\n      <td>0</td>\n      <td>0</td>\n      <td>0</td>\n      <td>0</td>\n      <td>0</td>\n      <td>0</td>\n      <td>0</td>\n      <td>0</td>\n      <td>1</td>\n    </tr>\n  </tbody>\n</table>\n</div>"
     },
     "execution_count": 34,
     "metadata": {},
     "output_type": "execute_result"
    }
   ],
   "source": [
    "test_x.head()"
   ],
   "metadata": {
    "collapsed": false,
    "pycharm": {
     "name": "#%%\n"
    }
   }
  },
  {
   "cell_type": "code",
   "execution_count": 35,
   "outputs": [
    {
     "data": {
      "text/plain": "   Actief  Lang  Vragen  Interpunctie  Tweeledigheid  Emotie  \\\n0       0     1       0             0              0       0   \n1       1     0       0             0              0       0   \n2       1     0       0             0              0       0   \n3       1     0       0             0              1       0   \n4       1     1       0             0              1       0   \n\n   Voorwaartse Verwijzing  Signaalwoorden  Lidwoorden  Adjectieven  \\\n0                       0               0           0            0   \n1                       0               0           0            0   \n2                       1               0           0            0   \n3                       0               0           0            0   \n4                       0               0           0            0   \n\n   Eigennamen  Betrekking  Voor+Achternaam  Cijfers  Quotes  \n0           0           0                1        0       0  \n1           0           0                1        0       0  \n2           0           0                1        0       0  \n3           0           0                1        0       1  \n4           0           1                0        0       1  ",
      "text/html": "<div>\n<style scoped>\n    .dataframe tbody tr th:only-of-type {\n        vertical-align: middle;\n    }\n\n    .dataframe tbody tr th {\n        vertical-align: top;\n    }\n\n    .dataframe thead th {\n        text-align: right;\n    }\n</style>\n<table border=\"1\" class=\"dataframe\">\n  <thead>\n    <tr style=\"text-align: right;\">\n      <th></th>\n      <th>Actief</th>\n      <th>Lang</th>\n      <th>Vragen</th>\n      <th>Interpunctie</th>\n      <th>Tweeledigheid</th>\n      <th>Emotie</th>\n      <th>Voorwaartse Verwijzing</th>\n      <th>Signaalwoorden</th>\n      <th>Lidwoorden</th>\n      <th>Adjectieven</th>\n      <th>Eigennamen</th>\n      <th>Betrekking</th>\n      <th>Voor+Achternaam</th>\n      <th>Cijfers</th>\n      <th>Quotes</th>\n    </tr>\n  </thead>\n  <tbody>\n    <tr>\n      <th>0</th>\n      <td>0</td>\n      <td>1</td>\n      <td>0</td>\n      <td>0</td>\n      <td>0</td>\n      <td>0</td>\n      <td>0</td>\n      <td>0</td>\n      <td>0</td>\n      <td>0</td>\n      <td>0</td>\n      <td>0</td>\n      <td>1</td>\n      <td>0</td>\n      <td>0</td>\n    </tr>\n    <tr>\n      <th>1</th>\n      <td>1</td>\n      <td>0</td>\n      <td>0</td>\n      <td>0</td>\n      <td>0</td>\n      <td>0</td>\n      <td>0</td>\n      <td>0</td>\n      <td>0</td>\n      <td>0</td>\n      <td>0</td>\n      <td>0</td>\n      <td>1</td>\n      <td>0</td>\n      <td>0</td>\n    </tr>\n    <tr>\n      <th>2</th>\n      <td>1</td>\n      <td>0</td>\n      <td>0</td>\n      <td>0</td>\n      <td>0</td>\n      <td>0</td>\n      <td>1</td>\n      <td>0</td>\n      <td>0</td>\n      <td>0</td>\n      <td>0</td>\n      <td>0</td>\n      <td>1</td>\n      <td>0</td>\n      <td>0</td>\n    </tr>\n    <tr>\n      <th>3</th>\n      <td>1</td>\n      <td>0</td>\n      <td>0</td>\n      <td>0</td>\n      <td>1</td>\n      <td>0</td>\n      <td>0</td>\n      <td>0</td>\n      <td>0</td>\n      <td>0</td>\n      <td>0</td>\n      <td>0</td>\n      <td>1</td>\n      <td>0</td>\n      <td>1</td>\n    </tr>\n    <tr>\n      <th>4</th>\n      <td>1</td>\n      <td>1</td>\n      <td>0</td>\n      <td>0</td>\n      <td>1</td>\n      <td>0</td>\n      <td>0</td>\n      <td>0</td>\n      <td>0</td>\n      <td>0</td>\n      <td>0</td>\n      <td>1</td>\n      <td>0</td>\n      <td>0</td>\n      <td>1</td>\n    </tr>\n  </tbody>\n</table>\n</div>"
     },
     "execution_count": 35,
     "metadata": {},
     "output_type": "execute_result"
    }
   ],
   "source": [
    "from util import get_manually_labeled_features\n",
    "train_x_features = get_manually_labeled_features(train_x)\n",
    "train_x_features.head()"
   ],
   "metadata": {
    "collapsed": false,
    "pycharm": {
     "name": "#%%\n"
    }
   }
  },
  {
   "cell_type": "code",
   "execution_count": 36,
   "outputs": [
    {
     "data": {
      "text/plain": "0    False\n1     True\n2     True\n3    False\n4     True\nName: Winner, dtype: bool"
     },
     "execution_count": 36,
     "metadata": {},
     "output_type": "execute_result"
    }
   ],
   "source": [
    "train_y_winner = train_y['Winner']\n",
    "train_y_winner.head()"
   ],
   "metadata": {
    "collapsed": false,
    "pycharm": {
     "name": "#%%\n"
    }
   }
  },
  {
   "cell_type": "markdown",
   "source": [
    "## Training"
   ],
   "metadata": {
    "collapsed": false,
    "pycharm": {
     "name": "#%% md\n"
    }
   }
  },
  {
   "cell_type": "markdown",
   "source": [
    "### Predict labels"
   ],
   "metadata": {
    "collapsed": false,
    "pycharm": {
     "name": "#%% md\n"
    }
   }
  },
  {
   "cell_type": "code",
   "execution_count": 37,
   "outputs": [
    {
     "data": {
      "text/plain": "BernoulliNB()",
      "text/html": "<style>#sk-container-id-3 {color: black;background-color: white;}#sk-container-id-3 pre{padding: 0;}#sk-container-id-3 div.sk-toggleable {background-color: white;}#sk-container-id-3 label.sk-toggleable__label {cursor: pointer;display: block;width: 100%;margin-bottom: 0;padding: 0.3em;box-sizing: border-box;text-align: center;}#sk-container-id-3 label.sk-toggleable__label-arrow:before {content: \"▸\";float: left;margin-right: 0.25em;color: #696969;}#sk-container-id-3 label.sk-toggleable__label-arrow:hover:before {color: black;}#sk-container-id-3 div.sk-estimator:hover label.sk-toggleable__label-arrow:before {color: black;}#sk-container-id-3 div.sk-toggleable__content {max-height: 0;max-width: 0;overflow: hidden;text-align: left;background-color: #f0f8ff;}#sk-container-id-3 div.sk-toggleable__content pre {margin: 0.2em;color: black;border-radius: 0.25em;background-color: #f0f8ff;}#sk-container-id-3 input.sk-toggleable__control:checked~div.sk-toggleable__content {max-height: 200px;max-width: 100%;overflow: auto;}#sk-container-id-3 input.sk-toggleable__control:checked~label.sk-toggleable__label-arrow:before {content: \"▾\";}#sk-container-id-3 div.sk-estimator input.sk-toggleable__control:checked~label.sk-toggleable__label {background-color: #d4ebff;}#sk-container-id-3 div.sk-label input.sk-toggleable__control:checked~label.sk-toggleable__label {background-color: #d4ebff;}#sk-container-id-3 input.sk-hidden--visually {border: 0;clip: rect(1px 1px 1px 1px);clip: rect(1px, 1px, 1px, 1px);height: 1px;margin: -1px;overflow: hidden;padding: 0;position: absolute;width: 1px;}#sk-container-id-3 div.sk-estimator {font-family: monospace;background-color: #f0f8ff;border: 1px dotted black;border-radius: 0.25em;box-sizing: border-box;margin-bottom: 0.5em;}#sk-container-id-3 div.sk-estimator:hover {background-color: #d4ebff;}#sk-container-id-3 div.sk-parallel-item::after {content: \"\";width: 100%;border-bottom: 1px solid gray;flex-grow: 1;}#sk-container-id-3 div.sk-label:hover label.sk-toggleable__label {background-color: #d4ebff;}#sk-container-id-3 div.sk-serial::before {content: \"\";position: absolute;border-left: 1px solid gray;box-sizing: border-box;top: 0;bottom: 0;left: 50%;z-index: 0;}#sk-container-id-3 div.sk-serial {display: flex;flex-direction: column;align-items: center;background-color: white;padding-right: 0.2em;padding-left: 0.2em;position: relative;}#sk-container-id-3 div.sk-item {position: relative;z-index: 1;}#sk-container-id-3 div.sk-parallel {display: flex;align-items: stretch;justify-content: center;background-color: white;position: relative;}#sk-container-id-3 div.sk-item::before, #sk-container-id-3 div.sk-parallel-item::before {content: \"\";position: absolute;border-left: 1px solid gray;box-sizing: border-box;top: 0;bottom: 0;left: 50%;z-index: -1;}#sk-container-id-3 div.sk-parallel-item {display: flex;flex-direction: column;z-index: 1;position: relative;background-color: white;}#sk-container-id-3 div.sk-parallel-item:first-child::after {align-self: flex-end;width: 50%;}#sk-container-id-3 div.sk-parallel-item:last-child::after {align-self: flex-start;width: 50%;}#sk-container-id-3 div.sk-parallel-item:only-child::after {width: 0;}#sk-container-id-3 div.sk-dashed-wrapped {border: 1px dashed gray;margin: 0 0.4em 0.5em 0.4em;box-sizing: border-box;padding-bottom: 0.4em;background-color: white;}#sk-container-id-3 div.sk-label label {font-family: monospace;font-weight: bold;display: inline-block;line-height: 1.2em;}#sk-container-id-3 div.sk-label-container {text-align: center;}#sk-container-id-3 div.sk-container {/* jupyter's `normalize.less` sets `[hidden] { display: none; }` but bootstrap.min.css set `[hidden] { display: none !important; }` so we also need the `!important` here to be able to override the default hidden behavior on the sphinx rendered scikit-learn.org. See: https://github.com/scikit-learn/scikit-learn/issues/21755 */display: inline-block !important;position: relative;}#sk-container-id-3 div.sk-text-repr-fallback {display: none;}</style><div id=\"sk-container-id-3\" class=\"sk-top-container\"><div class=\"sk-text-repr-fallback\"><pre>BernoulliNB()</pre><b>In a Jupyter environment, please rerun this cell to show the HTML representation or trust the notebook. <br />On GitHub, the HTML representation is unable to render, please try loading this page with nbviewer.org.</b></div><div class=\"sk-container\" hidden><div class=\"sk-item\"><div class=\"sk-estimator sk-toggleable\"><input class=\"sk-toggleable__control sk-hidden--visually\" id=\"sk-estimator-id-3\" type=\"checkbox\" checked><label for=\"sk-estimator-id-3\" class=\"sk-toggleable__label sk-toggleable__label-arrow\">BernoulliNB</label><div class=\"sk-toggleable__content\"><pre>BernoulliNB()</pre></div></div></div></div></div>"
     },
     "execution_count": 37,
     "metadata": {},
     "output_type": "execute_result"
    }
   ],
   "source": [
    "from sklearn.naive_bayes import BernoulliNB\n",
    "\n",
    "model = BernoulliNB()\n",
    "\n",
    "model.fit(train_x_features, train_y_winner)"
   ],
   "metadata": {
    "collapsed": false,
    "pycharm": {
     "name": "#%%\n"
    }
   }
  },
  {
   "cell_type": "markdown",
   "source": [
    "Based on this model, we can try to predict the winner for each headline independently (so it's for example possible (even highly probable) that one test has multiple winners or none winner)."
   ],
   "metadata": {
    "collapsed": false,
    "pycharm": {
     "name": "#%% md\n"
    }
   }
  },
  {
   "cell_type": "code",
   "execution_count": 38,
   "outputs": [
    {
     "data": {
      "text/plain": "array([False, False,  True, False, False])"
     },
     "execution_count": 38,
     "metadata": {},
     "output_type": "execute_result"
    }
   ],
   "source": [
    "test_x_features = get_manually_labeled_features(test_x)\n",
    "predictions = model.predict(test_x_features)\n",
    "predictions[:5]"
   ],
   "metadata": {
    "collapsed": false,
    "pycharm": {
     "name": "#%%\n"
    }
   }
  },
  {
   "cell_type": "markdown",
   "source": [
    "For example for the first headline (corresponding with row 0 and 1) we can see that there is no winner."
   ],
   "metadata": {
    "collapsed": false,
    "pycharm": {
     "name": "#%% md\n"
    }
   }
  },
  {
   "cell_type": "code",
   "execution_count": 39,
   "outputs": [
    {
     "name": "stdout",
     "output_type": "stream",
     "text": [
      "f-score: 0.4246575342465754\n",
      "Confusion matrix: (TP: 223, FP: 48, FN: 120, TN: 62)\n",
      "Accuracy=62.91% (285/453)\n"
     ]
    },
    {
     "data": {
      "text/plain": "<Figure size 432x288 with 2 Axes>",
      "image/png": "[encoded data removed]"
     },
     "metadata": {
      "needs_background": "light"
     },
     "output_type": "display_data"
    }
   ],
   "source": [
    "from util import print_evaluation\n",
    "test_y_winner = test_y['Winner']\n",
    "print_evaluation(test_y_winner, predictions)"
   ],
   "metadata": {
    "collapsed": false,
    "pycharm": {
     "name": "#%%\n"
    }
   }
  },
  {
   "cell_type": "markdown",
   "source": [
    "The results are actually less bad than I expected (but still not good). Because all tests have at least one Winner=False and exactly one Winner=True, there are a lot more negative values than positive values (and because of this data imbalance, the chance of predicting winner as negative is of course also higher, which explains the higher than expected results)."
   ],
   "metadata": {
    "collapsed": false,
    "pycharm": {
     "name": "#%% md\n"
    }
   }
  },
  {
   "cell_type": "code",
   "execution_count": 40,
   "outputs": [
    {
     "data": {
      "text/plain": "   Test Headline ID                                           Headline  Winner\n11    6           A  Cafébazin krijgt GAS-boete van 350 euro omdat ...   False\n12    6           B  Cafébazin krijgt GAS-boete van 350 euro omdat ...   False\n61   24           A  Zaakvoerder betrapt winkeldief, en niet alleen...    True\n62   24           B  Betrapte dievegge in winterjas staat plots op ...   False\n65   26           A  Knuffel is op zoek naar verloren kindje: \"Mijn...   False",
      "text/html": "<div>\n<style scoped>\n    .dataframe tbody tr th:only-of-type {\n        vertical-align: middle;\n    }\n\n    .dataframe tbody tr th {\n        vertical-align: top;\n    }\n\n    .dataframe thead th {\n        text-align: right;\n    }\n</style>\n<table border=\"1\" class=\"dataframe\">\n  <thead>\n    <tr style=\"text-align: right;\">\n      <th></th>\n      <th>Test</th>\n      <th>Headline ID</th>\n      <th>Headline</th>\n      <th>Winner</th>\n    </tr>\n  </thead>\n  <tbody>\n    <tr>\n      <th>11</th>\n      <td>6</td>\n      <td>A</td>\n      <td>Cafébazin krijgt GAS-boete van 350 euro omdat ...</td>\n      <td>False</td>\n    </tr>\n    <tr>\n      <th>12</th>\n      <td>6</td>\n      <td>B</td>\n      <td>Cafébazin krijgt GAS-boete van 350 euro omdat ...</td>\n      <td>False</td>\n    </tr>\n    <tr>\n      <th>61</th>\n      <td>24</td>\n      <td>A</td>\n      <td>Zaakvoerder betrapt winkeldief, en niet alleen...</td>\n      <td>True</td>\n    </tr>\n    <tr>\n      <th>62</th>\n      <td>24</td>\n      <td>B</td>\n      <td>Betrapte dievegge in winterjas staat plots op ...</td>\n      <td>False</td>\n    </tr>\n    <tr>\n      <th>65</th>\n      <td>26</td>\n      <td>A</td>\n      <td>Knuffel is op zoek naar verloren kindje: \"Mijn...</td>\n      <td>False</td>\n    </tr>\n  </tbody>\n</table>\n</div>"
     },
     "execution_count": 40,
     "metadata": {},
     "output_type": "execute_result"
    }
   ],
   "source": [
    "# Create a new dataframe, being test_x with an extra column for the predictions\n",
    "from util import get_label_columns, drop_labels\n",
    "test_x_predictions = drop_labels(test_x) # drop some columns for readability\n",
    "test_x_predictions['Winner'] = predictions\n",
    "test_x_predictions.head()"
   ],
   "metadata": {
    "collapsed": false,
    "pycharm": {
     "name": "#%%\n"
    }
   }
  },
  {
   "cell_type": "code",
   "execution_count": 41,
   "outputs": [
    {
     "name": "stdout",
     "output_type": "stream",
     "text": [
      "55 tests have exactly one winner predicted (out of 182 tests)\n"
     ]
    }
   ],
   "source": [
    "# See how many rows with same id in \"Test\" have exactly one Winner=True row\n",
    "exactly_one_winner_predicted_tests = test_x_predictions.groupby('Test').filter(lambda x: x['Winner'].sum() == 1)\n",
    "# Only keep winner=true rows\n",
    "exactly_one_winner_predicted_tests = exactly_one_winner_predicted_tests[exactly_one_winner_predicted_tests['Winner'] == True]\n",
    "print(f\"{len(exactly_one_winner_predicted_tests)} tests have exactly one winner predicted (out of {len(test_x.Test.unique())} tests)\")"
   ],
   "metadata": {
    "collapsed": false,
    "pycharm": {
     "name": "#%%\n"
    }
   }
  },
  {
   "cell_type": "markdown",
   "source": [
    "Let's see how many of those are correct:"
   ],
   "metadata": {
    "collapsed": false,
    "pycharm": {
     "name": "#%% md\n"
    }
   }
  },
  {
   "cell_type": "code",
   "execution_count": 42,
   "outputs": [
    {
     "name": "stdout",
     "output_type": "stream",
     "text": [
      "38 winners are predicted correctly\n"
     ]
    }
   ],
   "source": [
    "winners_only = exactly_one_winner_predicted_tests[exactly_one_winner_predicted_tests['Winner'] == True]\n",
    "test_y_winner_only = test_y[test_y['Winner'] == True]\n",
    "# Get how many (Test, Headline ID) pairs of winners only are in the test_y_winner_only dataframe\n",
    "winners_only_in_test_y_winner_only = winners_only.merge(test_y_winner_only, on=['Test', 'Headline ID'], how='inner')\n",
    "print(f\"{len(winners_only_in_test_y_winner_only)} winners are predicted correctly\")"
   ],
   "metadata": {
    "collapsed": false,
    "pycharm": {
     "name": "#%%\n"
    }
   }
  },
  {
   "cell_type": "markdown",
   "source": [
    "Given the 47 tests with exactly one winner, this number is reasonable (70% accuracy). Maybe this is still better because there are some features that characterize a bad news headline. When looking at all tests, this number is of course terribly row (18% accuracy)."
   ],
   "metadata": {
    "collapsed": false,
    "pycharm": {
     "name": "#%% md\n"
    }
   }
  },
  {
   "cell_type": "markdown",
   "source": [
    "### Predict scores\n",
    "Up to now, we have assigned a winner label true or false. However, we want only one winner per test, so a possible way is to assign a score to each headline and assign the winner label to the headline with the highest score. The [BernouilliNB documentation](https://scikit-learn.org/stable/modules/generated/sklearn.naive_bayes.BernoulliNB.html) contains a method `predict_proba` that returns the probability of each class for each row (and thus how likely winner=True accoording to the model, of which we can take the max). Let's try."
   ],
   "metadata": {
    "collapsed": false,
    "pycharm": {
     "name": "#%% md\n"
    }
   }
  },
  {
   "cell_type": "code",
   "execution_count": 43,
   "outputs": [
    {
     "data": {
      "text/plain": "array([[0.84045974, 0.15954026],\n       [0.81509241, 0.18490759],\n       [0.36713847, 0.63286153],\n       [0.64815556, 0.35184444],\n       [0.54601412, 0.45398588]])"
     },
     "execution_count": 43,
     "metadata": {},
     "output_type": "execute_result"
    }
   ],
   "source": [
    "predicted_probs = model.predict_proba(test_x_features)\n",
    "predicted_probs[:5]"
   ],
   "metadata": {
    "collapsed": false,
    "pycharm": {
     "name": "#%%\n"
    }
   }
  },
  {
   "cell_type": "markdown",
   "source": [
    "Add those probabilities to a copy of the test_x_predictions dataframe."
   ],
   "metadata": {
    "collapsed": false,
    "pycharm": {
     "name": "#%% md\n"
    }
   }
  },
  {
   "cell_type": "code",
   "execution_count": 44,
   "outputs": [
    {
     "name": "stdout",
     "output_type": "stream",
     "text": [
      "453 rows in test_x_predictions\n"
     ]
    },
    {
     "data": {
      "text/plain": "  Test Headline ID                                           Headline  \\\n0    6           A  Cafébazin krijgt GAS-boete van 350 euro omdat ...   \n1    6           B  Cafébazin krijgt GAS-boete van 350 euro omdat ...   \n2   24           A  Zaakvoerder betrapt winkeldief, en niet alleen...   \n3   24           B  Betrapte dievegge in winterjas staat plots op ...   \n4   26           A  Knuffel is op zoek naar verloren kindje: \"Mijn...   \n\n          0         1  \n0  0.840460  0.159540  \n1  0.815092  0.184908  \n2  0.367138  0.632862  \n3  0.648156  0.351844  \n4  0.546014  0.453986  ",
      "text/html": "<div>\n<style scoped>\n    .dataframe tbody tr th:only-of-type {\n        vertical-align: middle;\n    }\n\n    .dataframe tbody tr th {\n        vertical-align: top;\n    }\n\n    .dataframe thead th {\n        text-align: right;\n    }\n</style>\n<table border=\"1\" class=\"dataframe\">\n  <thead>\n    <tr style=\"text-align: right;\">\n      <th></th>\n      <th>Test</th>\n      <th>Headline ID</th>\n      <th>Headline</th>\n      <th>0</th>\n      <th>1</th>\n    </tr>\n  </thead>\n  <tbody>\n    <tr>\n      <th>0</th>\n      <td>6</td>\n      <td>A</td>\n      <td>Cafébazin krijgt GAS-boete van 350 euro omdat ...</td>\n      <td>0.840460</td>\n      <td>0.159540</td>\n    </tr>\n    <tr>\n      <th>1</th>\n      <td>6</td>\n      <td>B</td>\n      <td>Cafébazin krijgt GAS-boete van 350 euro omdat ...</td>\n      <td>0.815092</td>\n      <td>0.184908</td>\n    </tr>\n    <tr>\n      <th>2</th>\n      <td>24</td>\n      <td>A</td>\n      <td>Zaakvoerder betrapt winkeldief, en niet alleen...</td>\n      <td>0.367138</td>\n      <td>0.632862</td>\n    </tr>\n    <tr>\n      <th>3</th>\n      <td>24</td>\n      <td>B</td>\n      <td>Betrapte dievegge in winterjas staat plots op ...</td>\n      <td>0.648156</td>\n      <td>0.351844</td>\n    </tr>\n    <tr>\n      <th>4</th>\n      <td>26</td>\n      <td>A</td>\n      <td>Knuffel is op zoek naar verloren kindje: \"Mijn...</td>\n      <td>0.546014</td>\n      <td>0.453986</td>\n    </tr>\n  </tbody>\n</table>\n</div>"
     },
     "execution_count": 44,
     "metadata": {},
     "output_type": "execute_result"
    }
   ],
   "source": [
    "import pandas as pd\n",
    "test_x_predictions = drop_labels(test_x) # drop some columns for readability\n",
    "\n",
    "assert len(test_x_predictions) == len(predicted_probs)\n",
    "print(f\"{len(test_x_predictions)} rows in test_x_predictions\")\n",
    "\n",
    "class_names = list(range(len(model.classes_)))\n",
    "\n",
    "test_x_predictions.reset_index(drop=True, inplace=True) # This is important to map the first row of predicted probs to the first row of test_x_predictions, otherwise, it will map those rows to the original dataframe and thus not provide a number for each of the row (resulting in a lot of NaN's) (took way too long for me to find this problem)\n",
    "test_x_predictions[class_names] = pd.DataFrame(predicted_probs)\n",
    "test_x_predictions.head()"
   ],
   "metadata": {
    "collapsed": false,
    "pycharm": {
     "name": "#%%\n"
    }
   }
  },
  {
   "cell_type": "markdown",
   "source": [
    "Take the candidate headline with the highest winner probability (column 1) for each test"
   ],
   "metadata": {
    "collapsed": false,
    "pycharm": {
     "name": "#%% md\n"
    }
   }
  },
  {
   "cell_type": "code",
   "execution_count": 45,
   "outputs": [
    {
     "data": {
      "text/plain": "        Test Headline ID                                           Headline  \\\nTest                                                                          \n6    1     6           B  Cafébazin krijgt GAS-boete van 350 euro omdat ...   \n24   2    24           A  Zaakvoerder betrapt winkeldief, en niet alleen...   \n26   6    26           C  Duizenden mensen zoeken mee naar eigenaar van ...   \n31   7    31           A  Deze vijfjarige is 'het mooiste meisje op Inst...   \n32   10   32           B  Bekende actrice (op leeftijd) nieuwe ster van ...   \n\n                0         1  \nTest                         \n6    1   0.815092  0.184908  \n24   2   0.367138  0.632862  \n26   6   0.172852  0.827148  \n31   7   0.349084  0.650916  \n32   10  0.268926  0.731074  ",
      "text/html": "<div>\n<style scoped>\n    .dataframe tbody tr th:only-of-type {\n        vertical-align: middle;\n    }\n\n    .dataframe tbody tr th {\n        vertical-align: top;\n    }\n\n    .dataframe thead th {\n        text-align: right;\n    }\n</style>\n<table border=\"1\" class=\"dataframe\">\n  <thead>\n    <tr style=\"text-align: right;\">\n      <th></th>\n      <th></th>\n      <th>Test</th>\n      <th>Headline ID</th>\n      <th>Headline</th>\n      <th>0</th>\n      <th>1</th>\n    </tr>\n    <tr>\n      <th>Test</th>\n      <th></th>\n      <th></th>\n      <th></th>\n      <th></th>\n      <th></th>\n      <th></th>\n    </tr>\n  </thead>\n  <tbody>\n    <tr>\n      <th>6</th>\n      <th>1</th>\n      <td>6</td>\n      <td>B</td>\n      <td>Cafébazin krijgt GAS-boete van 350 euro omdat ...</td>\n      <td>0.815092</td>\n      <td>0.184908</td>\n    </tr>\n    <tr>\n      <th>24</th>\n      <th>2</th>\n      <td>24</td>\n      <td>A</td>\n      <td>Zaakvoerder betrapt winkeldief, en niet alleen...</td>\n      <td>0.367138</td>\n      <td>0.632862</td>\n    </tr>\n    <tr>\n      <th>26</th>\n      <th>6</th>\n      <td>26</td>\n      <td>C</td>\n      <td>Duizenden mensen zoeken mee naar eigenaar van ...</td>\n      <td>0.172852</td>\n      <td>0.827148</td>\n    </tr>\n    <tr>\n      <th>31</th>\n      <th>7</th>\n      <td>31</td>\n      <td>A</td>\n      <td>Deze vijfjarige is 'het mooiste meisje op Inst...</td>\n      <td>0.349084</td>\n      <td>0.650916</td>\n    </tr>\n    <tr>\n      <th>32</th>\n      <th>10</th>\n      <td>32</td>\n      <td>B</td>\n      <td>Bekende actrice (op leeftijd) nieuwe ster van ...</td>\n      <td>0.268926</td>\n      <td>0.731074</td>\n    </tr>\n  </tbody>\n</table>\n</div>"
     },
     "execution_count": 45,
     "metadata": {},
     "output_type": "execute_result"
    }
   ],
   "source": [
    "predicted_winners = test_x_predictions.groupby('Test').apply(lambda x: x.sort_values(by=1, ascending=False).head(1))\n",
    "predicted_winners.head()"
   ],
   "metadata": {
    "collapsed": false,
    "pycharm": {
     "name": "#%%\n"
    }
   }
  },
  {
   "cell_type": "markdown",
   "source": [
    "Filter test_y to only get winner=True (note: normally this is the case, but now not since we supplied the full_y_test=True label in our get_wpm_train_test function)"
   ],
   "metadata": {
    "collapsed": false,
    "pycharm": {
     "name": "#%% md\n"
    }
   }
  },
  {
   "cell_type": "code",
   "execution_count": 46,
   "outputs": [
    {
     "data": {
      "text/plain": "   Test Headline ID  Winner\n11    6           A    True\n61   24           A    True\n67   26           C    True\n78   31           B    True\n80   32           B    True",
      "text/html": "<div>\n<style scoped>\n    .dataframe tbody tr th:only-of-type {\n        vertical-align: middle;\n    }\n\n    .dataframe tbody tr th {\n        vertical-align: top;\n    }\n\n    .dataframe thead th {\n        text-align: right;\n    }\n</style>\n<table border=\"1\" class=\"dataframe\">\n  <thead>\n    <tr style=\"text-align: right;\">\n      <th></th>\n      <th>Test</th>\n      <th>Headline ID</th>\n      <th>Winner</th>\n    </tr>\n  </thead>\n  <tbody>\n    <tr>\n      <th>11</th>\n      <td>6</td>\n      <td>A</td>\n      <td>True</td>\n    </tr>\n    <tr>\n      <th>61</th>\n      <td>24</td>\n      <td>A</td>\n      <td>True</td>\n    </tr>\n    <tr>\n      <th>67</th>\n      <td>26</td>\n      <td>C</td>\n      <td>True</td>\n    </tr>\n    <tr>\n      <th>78</th>\n      <td>31</td>\n      <td>B</td>\n      <td>True</td>\n    </tr>\n    <tr>\n      <th>80</th>\n      <td>32</td>\n      <td>B</td>\n      <td>True</td>\n    </tr>\n  </tbody>\n</table>\n</div>"
     },
     "execution_count": 46,
     "metadata": {},
     "output_type": "execute_result"
    }
   ],
   "source": [
    "test_y_winner = test_y[test_y['Winner'] == True]\n",
    "test_y_winner.head()"
   ],
   "metadata": {
    "collapsed": false,
    "pycharm": {
     "name": "#%%\n"
    }
   }
  },
  {
   "cell_type": "code",
   "execution_count": 47,
   "outputs": [
    {
     "data": {
      "text/plain": "         Test Headline ID                                           Headline  \\\nTest                                                                           \n6    1      6           B  Cafébazin krijgt GAS-boete van 350 euro omdat ...   \n24   2     24           A  Zaakvoerder betrapt winkeldief, en niet alleen...   \n26   6     26           C  Duizenden mensen zoeken mee naar eigenaar van ...   \n31   7     31           A  Deze vijfjarige is 'het mooiste meisje op Inst...   \n32   10    32           B  Bekende actrice (op leeftijd) nieuwe ster van ...   \n...       ...         ...                                                ...   \n887  443  887           B  Vader die vermoorde kapster Julie (24) aantrof...   \n894  445  894           B  Bernard zag kinderen garage afbreken en greep ...   \n903  446  903           A  Rusland zendt zijn 'nucleaire Titanic' de zee ...   \n904  448  904           A  Na 'Blind Getrouwd' nu ook een 'Temptation Isl...   \n907  450  907           A  Dit verandert allemaal vanaf vandaag: tunnel g...   \n\n                 0         1  \nTest                          \n6    1    0.815092  0.184908  \n24   2    0.367138  0.632862  \n26   6    0.172852  0.827148  \n31   7    0.349084  0.650916  \n32   10   0.268926  0.731074  \n...            ...       ...  \n887  443  0.459487  0.540513  \n894  445  0.708132  0.291868  \n903  446  0.604350  0.395650  \n904  448  0.580581  0.419419  \n907  450  0.433169  0.566831  \n\n[182 rows x 5 columns]",
      "text/html": "<div>\n<style scoped>\n    .dataframe tbody tr th:only-of-type {\n        vertical-align: middle;\n    }\n\n    .dataframe tbody tr th {\n        vertical-align: top;\n    }\n\n    .dataframe thead th {\n        text-align: right;\n    }\n</style>\n<table border=\"1\" class=\"dataframe\">\n  <thead>\n    <tr style=\"text-align: right;\">\n      <th></th>\n      <th></th>\n      <th>Test</th>\n      <th>Headline ID</th>\n      <th>Headline</th>\n      <th>0</th>\n      <th>1</th>\n    </tr>\n    <tr>\n      <th>Test</th>\n      <th></th>\n      <th></th>\n      <th></th>\n      <th></th>\n      <th></th>\n      <th></th>\n    </tr>\n  </thead>\n  <tbody>\n    <tr>\n      <th>6</th>\n      <th>1</th>\n      <td>6</td>\n      <td>B</td>\n      <td>Cafébazin krijgt GAS-boete van 350 euro omdat ...</td>\n      <td>0.815092</td>\n      <td>0.184908</td>\n    </tr>\n    <tr>\n      <th>24</th>\n      <th>2</th>\n      <td>24</td>\n      <td>A</td>\n      <td>Zaakvoerder betrapt winkeldief, en niet alleen...</td>\n      <td>0.367138</td>\n      <td>0.632862</td>\n    </tr>\n    <tr>\n      <th>26</th>\n      <th>6</th>\n      <td>26</td>\n      <td>C</td>\n      <td>Duizenden mensen zoeken mee naar eigenaar van ...</td>\n      <td>0.172852</td>\n      <td>0.827148</td>\n    </tr>\n    <tr>\n      <th>31</th>\n      <th>7</th>\n      <td>31</td>\n      <td>A</td>\n      <td>Deze vijfjarige is 'het mooiste meisje op Inst...</td>\n      <td>0.349084</td>\n      <td>0.650916</td>\n    </tr>\n    <tr>\n      <th>32</th>\n      <th>10</th>\n      <td>32</td>\n      <td>B</td>\n      <td>Bekende actrice (op leeftijd) nieuwe ster van ...</td>\n      <td>0.268926</td>\n      <td>0.731074</td>\n    </tr>\n    <tr>\n      <th>...</th>\n      <th>...</th>\n      <td>...</td>\n      <td>...</td>\n      <td>...</td>\n      <td>...</td>\n      <td>...</td>\n    </tr>\n    <tr>\n      <th>887</th>\n      <th>443</th>\n      <td>887</td>\n      <td>B</td>\n      <td>Vader die vermoorde kapster Julie (24) aantrof...</td>\n      <td>0.459487</td>\n      <td>0.540513</td>\n    </tr>\n    <tr>\n      <th>894</th>\n      <th>445</th>\n      <td>894</td>\n      <td>B</td>\n      <td>Bernard zag kinderen garage afbreken en greep ...</td>\n      <td>0.708132</td>\n      <td>0.291868</td>\n    </tr>\n    <tr>\n      <th>903</th>\n      <th>446</th>\n      <td>903</td>\n      <td>A</td>\n      <td>Rusland zendt zijn 'nucleaire Titanic' de zee ...</td>\n      <td>0.604350</td>\n      <td>0.395650</td>\n    </tr>\n    <tr>\n      <th>904</th>\n      <th>448</th>\n      <td>904</td>\n      <td>A</td>\n      <td>Na 'Blind Getrouwd' nu ook een 'Temptation Isl...</td>\n      <td>0.580581</td>\n      <td>0.419419</td>\n    </tr>\n    <tr>\n      <th>907</th>\n      <th>450</th>\n      <td>907</td>\n      <td>A</td>\n      <td>Dit verandert allemaal vanaf vandaag: tunnel g...</td>\n      <td>0.433169</td>\n      <td>0.566831</td>\n    </tr>\n  </tbody>\n</table>\n<p>182 rows × 5 columns</p>\n</div>"
     },
     "execution_count": 47,
     "metadata": {},
     "output_type": "execute_result"
    }
   ],
   "source": [
    "predicted_winners"
   ],
   "metadata": {
    "collapsed": false,
    "pycharm": {
     "name": "#%%\n"
    }
   }
  },
  {
   "cell_type": "markdown",
   "source": [
    "Get the accuracy of Headline ID between test_y_winner and predicted_winners"
   ],
   "metadata": {
    "collapsed": false,
    "pycharm": {
     "name": "#%% md\n"
    }
   }
  },
  {
   "cell_type": "code",
   "execution_count": 48,
   "outputs": [
    {
     "name": "stdout",
     "output_type": "stream",
     "text": [
      "Accuracy: 57.14% (104/182)\n"
     ]
    }
   ],
   "source": [
    "from util import print_wp_evaluation\n",
    "print_wp_evaluation(test_y_winner, predicted_winners)"
   ],
   "metadata": {
    "collapsed": false,
    "pycharm": {
     "name": "#%%\n"
    }
   }
  },
  {
   "cell_type": "markdown",
   "source": [
    "This accuracy is 3% higher than our random model, which isn't a very good improvement."
   ],
   "metadata": {
    "collapsed": false,
    "pycharm": {
     "name": "#%% md\n"
    }
   }
  },
  {
   "cell_type": "markdown",
   "source": [
    "# Analysis\n",
    "Let's take a look at the important labels accoording to the model"
   ],
   "metadata": {
    "collapsed": false,
    "pycharm": {
     "name": "#%% md\n"
    }
   }
  },
  {
   "cell_type": "code",
   "execution_count": 52,
   "outputs": [
    {
     "data": {
      "text/plain": "array([0.59756098, 0.40243902])"
     },
     "execution_count": 52,
     "metadata": {},
     "output_type": "execute_result"
    }
   ],
   "source": [
    "# The probability for each of the classes\n",
    "import math\n",
    "math.e**model.class_log_prior_"
   ],
   "metadata": {
    "collapsed": false,
    "pycharm": {
     "name": "#%%\n"
    }
   }
  },
  {
   "cell_type": "code",
   "execution_count": 81,
   "outputs": [
    {
     "data": {
      "text/plain": "array([[0.77962963, 0.67592593, 0.07222222, 0.09166667, 0.5287037 ,\n        0.06944444, 0.12314815, 0.01851852, 0.18240741, 0.19259259,\n        0.1       , 0.06296296, 0.09722222, 0.18981481, 0.34907407],\n       [0.89423077, 0.63598901, 0.07417582, 0.08379121, 0.50412088,\n        0.12774725, 0.27197802, 0.01923077, 0.19917582, 0.27335165,\n        0.08516484, 0.08241758, 0.10027473, 0.20054945, 0.31593407]])"
     },
     "execution_count": 81,
     "metadata": {},
     "output_type": "execute_result"
    }
   ],
   "source": [
    "feature_probs = math.e**model.feature_log_prob_\n",
    "feature_probs"
   ],
   "metadata": {
    "collapsed": false,
    "pycharm": {
     "name": "#%%\n"
    }
   }
  },
  {
   "cell_type": "code",
   "execution_count": 85,
   "outputs": [
    {
     "data": {
      "text/plain": "array([[0.77962963, 0.67592593, 0.07222222, 0.09166667, 0.5287037 ,\n        0.06944444, 0.12314815, 0.01851852, 0.18240741, 0.19259259,\n        0.1       , 0.06296296, 0.09722222, 0.18981481, 0.34907407],\n       [0.89423077, 0.63598901, 0.07417582, 0.08379121, 0.50412088,\n        0.12774725, 0.27197802, 0.01923077, 0.19917582, 0.27335165,\n        0.08516484, 0.08241758, 0.10027473, 0.20054945, 0.31593407],\n       [0.82649667, 0.66019956, 0.07206208, 0.08758315, 0.51884701,\n        0.09201774, 0.18237251, 0.01773836, 0.18847007, 0.22450111,\n        0.09312639, 0.06984479, 0.09756098, 0.19345898, 0.33536585]])"
     },
     "execution_count": 85,
     "metadata": {},
     "output_type": "execute_result"
    }
   ],
   "source": [
    "total_train_samples = model.class_count_.sum()\n",
    "n_samples_per_class = model.feature_count_.sum(axis=0)\n",
    "fraction_positive_total = n_samples_per_class/total_train_samples\n",
    "# Add fraction_positive_total as row in feature_probs\n",
    "feature_probs_with_total = np.array([*feature_probs, fraction_positive_total])\n",
    "feature_probs_with_total"
   ],
   "metadata": {
    "collapsed": false,
    "pycharm": {
     "name": "#%%\n"
    }
   }
  },
  {
   "cell_type": "code",
   "execution_count": 88,
   "outputs": [
    {
     "data": {
      "text/plain": "            Actief      Lang    Vragen  Interpunctie  Tweeledigheid    Emotie  \\\nP(w=0|f)  0.779630  0.675926  0.072222      0.091667       0.528704  0.069444   \nP(w=1|f)  0.894231  0.635989  0.074176      0.083791       0.504121  0.127747   \nP(f)      0.826497  0.660200  0.072062      0.087583       0.518847  0.092018   \n\n          Voorwaartse Verwijzing  Signaalwoorden  Lidwoorden  Adjectieven  \\\nP(w=0|f)                0.123148        0.018519    0.182407     0.192593   \nP(w=1|f)                0.271978        0.019231    0.199176     0.273352   \nP(f)                    0.182373        0.017738    0.188470     0.224501   \n\n          Eigennamen  Betrekking  Voor+Achternaam   Cijfers    Quotes  \nP(w=0|f)    0.100000    0.062963         0.097222  0.189815  0.349074  \nP(w=1|f)    0.085165    0.082418         0.100275  0.200549  0.315934  \nP(f)        0.093126    0.069845         0.097561  0.193459  0.335366  ",
      "text/html": "<div>\n<style scoped>\n    .dataframe tbody tr th:only-of-type {\n        vertical-align: middle;\n    }\n\n    .dataframe tbody tr th {\n        vertical-align: top;\n    }\n\n    .dataframe thead th {\n        text-align: right;\n    }\n</style>\n<table border=\"1\" class=\"dataframe\">\n  <thead>\n    <tr style=\"text-align: right;\">\n      <th></th>\n      <th>Actief</th>\n      <th>Lang</th>\n      <th>Vragen</th>\n      <th>Interpunctie</th>\n      <th>Tweeledigheid</th>\n      <th>Emotie</th>\n      <th>Voorwaartse Verwijzing</th>\n      <th>Signaalwoorden</th>\n      <th>Lidwoorden</th>\n      <th>Adjectieven</th>\n      <th>Eigennamen</th>\n      <th>Betrekking</th>\n      <th>Voor+Achternaam</th>\n      <th>Cijfers</th>\n      <th>Quotes</th>\n    </tr>\n  </thead>\n  <tbody>\n    <tr>\n      <th>P(w=0|f)</th>\n      <td>0.779630</td>\n      <td>0.675926</td>\n      <td>0.072222</td>\n      <td>0.091667</td>\n      <td>0.528704</td>\n      <td>0.069444</td>\n      <td>0.123148</td>\n      <td>0.018519</td>\n      <td>0.182407</td>\n      <td>0.192593</td>\n      <td>0.100000</td>\n      <td>0.062963</td>\n      <td>0.097222</td>\n      <td>0.189815</td>\n      <td>0.349074</td>\n    </tr>\n    <tr>\n      <th>P(w=1|f)</th>\n      <td>0.894231</td>\n      <td>0.635989</td>\n      <td>0.074176</td>\n      <td>0.083791</td>\n      <td>0.504121</td>\n      <td>0.127747</td>\n      <td>0.271978</td>\n      <td>0.019231</td>\n      <td>0.199176</td>\n      <td>0.273352</td>\n      <td>0.085165</td>\n      <td>0.082418</td>\n      <td>0.100275</td>\n      <td>0.200549</td>\n      <td>0.315934</td>\n    </tr>\n    <tr>\n      <th>P(f)</th>\n      <td>0.826497</td>\n      <td>0.660200</td>\n      <td>0.072062</td>\n      <td>0.087583</td>\n      <td>0.518847</td>\n      <td>0.092018</td>\n      <td>0.182373</td>\n      <td>0.017738</td>\n      <td>0.188470</td>\n      <td>0.224501</td>\n      <td>0.093126</td>\n      <td>0.069845</td>\n      <td>0.097561</td>\n      <td>0.193459</td>\n      <td>0.335366</td>\n    </tr>\n  </tbody>\n</table>\n</div>"
     },
     "execution_count": 88,
     "metadata": {},
     "output_type": "execute_result"
    }
   ],
   "source": [
    "feature_names = model.feature_names_in_\n",
    "# Create a dataframe with the feature names and the probabilities\n",
    "feature_probs_df = pd.DataFrame(feature_probs_with_total, columns=feature_names)\n",
    "feature_probs_df.index = [\"P(w=0|f)\", \"P(w=1|f)\", \"P(f)\"]\n",
    "feature_probs_df"
   ],
   "metadata": {
    "collapsed": false,
    "pycharm": {
     "name": "#%%\n"
    }
   }
  },
  {
   "cell_type": "markdown",
   "source": [
    "Row 0 is for Winner=False, Row 1 is for Winner=True, Row 2 is for the entire data (winner=True or winner=False)"
   ],
   "metadata": {
    "collapsed": false,
    "pycharm": {
     "name": "#%% md\n"
    }
   }
  }
 ],
 "metadata": {
  "kernelspec": {
   "display_name": "Python 3",
   "language": "python",
   "name": "python3"
  },
  "language_info": {
   "codemirror_mode": {
    "name": "ipython",
    "version": 2
   },
   "file_extension": ".py",
   "mimetype": "text/x-python",
   "name": "python",
   "nbconvert_exporter": "python",
   "pygments_lexer": "ipython2",
   "version": "2.7.6"
  }
 },
 "nbformat": 4,
 "nbformat_minor": 0
}