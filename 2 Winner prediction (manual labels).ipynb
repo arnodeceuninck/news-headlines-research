{
 "cells": [
  {
   "cell_type": "markdown",
   "source": [
    "# Winner prediction (manual labels)\n",
    "In our dataset, we have multiple candidate, of which one gets selected as a winner. My goal in this section is to predict this winner based on the manually labelled data."
   ],
   "metadata": {
    "collapsed": false,
    "pycharm": {
     "name": "#%% md\n"
    }
   }
  },
  {
   "cell_type": "code",
   "execution_count": 1,
   "outputs": [
    {
     "data": {
      "text/plain": "  Test Headline ID  Winner                                           Headline  \\\n0    1           A   False  Barack en Michelle Obama laten dansmoves zien ...   \n1    1           B    True  Barack en Michelle Obama gaan helemaal los tij...   \n\n   Actief  Lang  Vragen  Interpunctie  Tweeledigheid  Emotie  \\\n0       0     1       0             0              0       0   \n1       1     0       0             0              0       0   \n\n   Voorwaartse Verwijzing  Signaalwoorden  Lidwoorden  Adjectieven  \\\n0                       0               0           0            0   \n1                       0               0           0            0   \n\n   Eigennamen  Betrekking  Voor+Achternaam  Cijfers  Quotes  \n0           0           0                1        0       0  \n1           0           0                1        0       0  ",
      "text/html": "<div>\n<style scoped>\n    .dataframe tbody tr th:only-of-type {\n        vertical-align: middle;\n    }\n\n    .dataframe tbody tr th {\n        vertical-align: top;\n    }\n\n    .dataframe thead th {\n        text-align: right;\n    }\n</style>\n<table border=\"1\" class=\"dataframe\">\n  <thead>\n    <tr style=\"text-align: right;\">\n      <th></th>\n      <th>Test</th>\n      <th>Headline ID</th>\n      <th>Winner</th>\n      <th>Headline</th>\n      <th>Actief</th>\n      <th>Lang</th>\n      <th>Vragen</th>\n      <th>Interpunctie</th>\n      <th>Tweeledigheid</th>\n      <th>Emotie</th>\n      <th>Voorwaartse Verwijzing</th>\n      <th>Signaalwoorden</th>\n      <th>Lidwoorden</th>\n      <th>Adjectieven</th>\n      <th>Eigennamen</th>\n      <th>Betrekking</th>\n      <th>Voor+Achternaam</th>\n      <th>Cijfers</th>\n      <th>Quotes</th>\n    </tr>\n  </thead>\n  <tbody>\n    <tr>\n      <th>0</th>\n      <td>1</td>\n      <td>A</td>\n      <td>False</td>\n      <td>Barack en Michelle Obama laten dansmoves zien ...</td>\n      <td>0</td>\n      <td>1</td>\n      <td>0</td>\n      <td>0</td>\n      <td>0</td>\n      <td>0</td>\n      <td>0</td>\n      <td>0</td>\n      <td>0</td>\n      <td>0</td>\n      <td>0</td>\n      <td>0</td>\n      <td>1</td>\n      <td>0</td>\n      <td>0</td>\n    </tr>\n    <tr>\n      <th>1</th>\n      <td>1</td>\n      <td>B</td>\n      <td>True</td>\n      <td>Barack en Michelle Obama gaan helemaal los tij...</td>\n      <td>1</td>\n      <td>0</td>\n      <td>0</td>\n      <td>0</td>\n      <td>0</td>\n      <td>0</td>\n      <td>0</td>\n      <td>0</td>\n      <td>0</td>\n      <td>0</td>\n      <td>0</td>\n      <td>0</td>\n      <td>1</td>\n      <td>0</td>\n      <td>0</td>\n    </tr>\n  </tbody>\n</table>\n</div>"
     },
     "execution_count": 1,
     "metadata": {},
     "output_type": "execute_result"
    }
   ],
   "source": [
    "from util import get_preprocessed_dataset\n",
    "\n",
    "df = get_preprocessed_dataset()\n",
    "df[df[\"Test\"] == 1]"
   ],
   "metadata": {
    "collapsed": false,
    "pycharm": {
     "name": "#%%\n"
    }
   }
  },
  {
   "cell_type": "markdown",
   "source": [
    "The number of candidate headlines per test is often different, e.g.:"
   ],
   "metadata": {
    "collapsed": false,
    "pycharm": {
     "name": "#%% md\n"
    }
   }
  },
  {
   "cell_type": "code",
   "execution_count": 2,
   "outputs": [
    {
     "data": {
      "text/plain": "   Test Headline ID  Winner  \\\n37   16           A   False   \n38   16           B   False   \n39   16           C   False   \n40   16           D   False   \n41   16           E    True   \n42   16           F   False   \n43   16           G   False   \n44   16           H   False   \n\n                                             Headline  Actief  Lang  Vragen  \\\n37  Verpleegster klapt uit de biecht: \"Ja, onze pa...       1     1       0   \n38  Verpleegster klapt uit de biecht: \"Ik kijk pat...       1     1       0   \n39  Verpleegster klapt uit de biecht: \"Ik kijk hen...       1     1       0   \n40  Verpleegster klapt uit de biecht: \"Soms is het...       1     1       0   \n41  Verpleegster klapt uit de biecht: \"Ook wij voe...       1     1       0   \n42  Verpleegster klapt uit de biecht: \"Ik gooide k...       1     1       0   \n43  Verpleegster klapt uit de biecht., \"Eén keer g...       1     1       0   \n44  Verpleegster klapt uit de biecht: \"Ik was 25 e...       1     1       0   \n\n    Interpunctie  Tweeledigheid  Emotie  Voorwaartse Verwijzing  \\\n37             0              1       0                       0   \n38             0              1       0                       0   \n39             0              1       0                       0   \n40             0              1       0                       0   \n41             0              1       0                       0   \n42             0              1       0                       0   \n43             0              1       0                       0   \n44             0              1       0                       0   \n\n    Signaalwoorden  Lidwoorden  Adjectieven  Eigennamen  Betrekking  \\\n37               0           0            0           0           0   \n38               0           0            0           0           0   \n39               0           0            0           0           0   \n40               0           0            0           0           0   \n41               0           0            0           0           0   \n42               0           0            0           0           0   \n43               0           0            0           0           0   \n44               0           0            0           0           0   \n\n    Voor+Achternaam  Cijfers  Quotes  \n37                0        0       1  \n38                0        0       1  \n39                0        0       1  \n40                0        0       1  \n41                0        0       1  \n42                0        0       1  \n43                0        1       1  \n44                0        1       1  ",
      "text/html": "<div>\n<style scoped>\n    .dataframe tbody tr th:only-of-type {\n        vertical-align: middle;\n    }\n\n    .dataframe tbody tr th {\n        vertical-align: top;\n    }\n\n    .dataframe thead th {\n        text-align: right;\n    }\n</style>\n<table border=\"1\" class=\"dataframe\">\n  <thead>\n    <tr style=\"text-align: right;\">\n      <th></th>\n      <th>Test</th>\n      <th>Headline ID</th>\n      <th>Winner</th>\n      <th>Headline</th>\n      <th>Actief</th>\n      <th>Lang</th>\n      <th>Vragen</th>\n      <th>Interpunctie</th>\n      <th>Tweeledigheid</th>\n      <th>Emotie</th>\n      <th>Voorwaartse Verwijzing</th>\n      <th>Signaalwoorden</th>\n      <th>Lidwoorden</th>\n      <th>Adjectieven</th>\n      <th>Eigennamen</th>\n      <th>Betrekking</th>\n      <th>Voor+Achternaam</th>\n      <th>Cijfers</th>\n      <th>Quotes</th>\n    </tr>\n  </thead>\n  <tbody>\n    <tr>\n      <th>37</th>\n      <td>16</td>\n      <td>A</td>\n      <td>False</td>\n      <td>Verpleegster klapt uit de biecht: \"Ja, onze pa...</td>\n      <td>1</td>\n      <td>1</td>\n      <td>0</td>\n      <td>0</td>\n      <td>1</td>\n      <td>0</td>\n      <td>0</td>\n      <td>0</td>\n      <td>0</td>\n      <td>0</td>\n      <td>0</td>\n      <td>0</td>\n      <td>0</td>\n      <td>0</td>\n      <td>1</td>\n    </tr>\n    <tr>\n      <th>38</th>\n      <td>16</td>\n      <td>B</td>\n      <td>False</td>\n      <td>Verpleegster klapt uit de biecht: \"Ik kijk pat...</td>\n      <td>1</td>\n      <td>1</td>\n      <td>0</td>\n      <td>0</td>\n      <td>1</td>\n      <td>0</td>\n      <td>0</td>\n      <td>0</td>\n      <td>0</td>\n      <td>0</td>\n      <td>0</td>\n      <td>0</td>\n      <td>0</td>\n      <td>0</td>\n      <td>1</td>\n    </tr>\n    <tr>\n      <th>39</th>\n      <td>16</td>\n      <td>C</td>\n      <td>False</td>\n      <td>Verpleegster klapt uit de biecht: \"Ik kijk hen...</td>\n      <td>1</td>\n      <td>1</td>\n      <td>0</td>\n      <td>0</td>\n      <td>1</td>\n      <td>0</td>\n      <td>0</td>\n      <td>0</td>\n      <td>0</td>\n      <td>0</td>\n      <td>0</td>\n      <td>0</td>\n      <td>0</td>\n      <td>0</td>\n      <td>1</td>\n    </tr>\n    <tr>\n      <th>40</th>\n      <td>16</td>\n      <td>D</td>\n      <td>False</td>\n      <td>Verpleegster klapt uit de biecht: \"Soms is het...</td>\n      <td>1</td>\n      <td>1</td>\n      <td>0</td>\n      <td>0</td>\n      <td>1</td>\n      <td>0</td>\n      <td>0</td>\n      <td>0</td>\n      <td>0</td>\n      <td>0</td>\n      <td>0</td>\n      <td>0</td>\n      <td>0</td>\n      <td>0</td>\n      <td>1</td>\n    </tr>\n    <tr>\n      <th>41</th>\n      <td>16</td>\n      <td>E</td>\n      <td>True</td>\n      <td>Verpleegster klapt uit de biecht: \"Ook wij voe...</td>\n      <td>1</td>\n      <td>1</td>\n      <td>0</td>\n      <td>0</td>\n      <td>1</td>\n      <td>0</td>\n      <td>0</td>\n      <td>0</td>\n      <td>0</td>\n      <td>0</td>\n      <td>0</td>\n      <td>0</td>\n      <td>0</td>\n      <td>0</td>\n      <td>1</td>\n    </tr>\n    <tr>\n      <th>42</th>\n      <td>16</td>\n      <td>F</td>\n      <td>False</td>\n      <td>Verpleegster klapt uit de biecht: \"Ik gooide k...</td>\n      <td>1</td>\n      <td>1</td>\n      <td>0</td>\n      <td>0</td>\n      <td>1</td>\n      <td>0</td>\n      <td>0</td>\n      <td>0</td>\n      <td>0</td>\n      <td>0</td>\n      <td>0</td>\n      <td>0</td>\n      <td>0</td>\n      <td>0</td>\n      <td>1</td>\n    </tr>\n    <tr>\n      <th>43</th>\n      <td>16</td>\n      <td>G</td>\n      <td>False</td>\n      <td>Verpleegster klapt uit de biecht., \"Eén keer g...</td>\n      <td>1</td>\n      <td>1</td>\n      <td>0</td>\n      <td>0</td>\n      <td>1</td>\n      <td>0</td>\n      <td>0</td>\n      <td>0</td>\n      <td>0</td>\n      <td>0</td>\n      <td>0</td>\n      <td>0</td>\n      <td>0</td>\n      <td>1</td>\n      <td>1</td>\n    </tr>\n    <tr>\n      <th>44</th>\n      <td>16</td>\n      <td>H</td>\n      <td>False</td>\n      <td>Verpleegster klapt uit de biecht: \"Ik was 25 e...</td>\n      <td>1</td>\n      <td>1</td>\n      <td>0</td>\n      <td>0</td>\n      <td>1</td>\n      <td>0</td>\n      <td>0</td>\n      <td>0</td>\n      <td>0</td>\n      <td>0</td>\n      <td>0</td>\n      <td>0</td>\n      <td>0</td>\n      <td>1</td>\n      <td>1</td>\n    </tr>\n  </tbody>\n</table>\n</div>"
     },
     "execution_count": 2,
     "metadata": {},
     "output_type": "execute_result"
    }
   ],
   "source": [
    "df[df[\"Test\"] == 16]"
   ],
   "metadata": {
    "collapsed": false,
    "pycharm": {
     "name": "#%%\n"
    }
   }
  },
  {
   "cell_type": "markdown",
   "source": [
    "In this set, you can already see that only the features that were manually labelled won't be enough to predict the winner."
   ],
   "metadata": {
    "collapsed": false,
    "pycharm": {
     "name": "#%% md\n"
    }
   }
  },
  {
   "cell_type": "code",
   "execution_count": 3,
   "outputs": [
    {
     "name": "stdout",
     "output_type": "stream",
     "text": [
      "There are 909 tests in total, with on average 2.48 candidate headlines per test.\n"
     ]
    }
   ],
   "source": [
    "print(\n",
    "    f\"There are {len(df.Test.unique())} tests in total, with on average {len(df.Test) / len(df.Test.unique()):.2f} candidate headlines per test.\")"
   ],
   "metadata": {
    "collapsed": false,
    "pycharm": {
     "name": "#%%\n"
    }
   }
  },
  {
   "cell_type": "markdown",
   "source": [
    "## Train-test split\n",
    "Our train-test split is of course different than for our label classification problem. We now need to have all candidate headlines for a certain test in the same split, instead of only one candidate per test in each of them."
   ],
   "metadata": {
    "collapsed": false,
    "pycharm": {
     "name": "#%% md\n"
    }
   }
  },
  {
   "cell_type": "code",
   "execution_count": 4,
   "outputs": [
    {
     "data": {
      "text/plain": "array([84, 11, 617, 250, 870], dtype=object)"
     },
     "execution_count": 4,
     "metadata": {},
     "output_type": "execute_result"
    }
   ],
   "source": [
    "from sklearn.model_selection import train_test_split\n",
    "\n",
    "# Get the unique test IDs\n",
    "test_ids = df.Test.unique()\n",
    "\n",
    "# Create a train test split based on the test IDs\n",
    "train_ids, test_ids = train_test_split(test_ids, test_size=0.2, random_state=42)\n",
    "train_ids[:5]"
   ],
   "metadata": {
    "collapsed": false,
    "pycharm": {
     "name": "#%%\n"
    }
   }
  },
  {
   "cell_type": "code",
   "execution_count": 5,
   "outputs": [
    {
     "data": {
      "text/plain": "  Test Headline ID  Winner                                           Headline  \\\n0    1           A   False  Barack en Michelle Obama laten dansmoves zien ...   \n1    1           B    True  Barack en Michelle Obama gaan helemaal los tij...   \n2    2           A    True  Marc Coucke maakt opvallende keuze bij start v...   \n3    2           B   False  Marc Coucke: \"Spelers van 10 miljoen? Neen, li...   \n4    3           A    True  Maandag drukste dag van het jaar op Brussels A...   \n\n   Actief  Lang  Vragen  Interpunctie  Tweeledigheid  Emotie  \\\n0       0     1       0             0              0       0   \n1       1     0       0             0              0       0   \n2       1     0       0             0              0       0   \n3       1     0       0             0              1       0   \n4       1     1       0             0              1       0   \n\n   Voorwaartse Verwijzing  Signaalwoorden  Lidwoorden  Adjectieven  \\\n0                       0               0           0            0   \n1                       0               0           0            0   \n2                       1               0           0            0   \n3                       0               0           0            0   \n4                       0               0           0            0   \n\n   Eigennamen  Betrekking  Voor+Achternaam  Cijfers  Quotes  \n0           0           0                1        0       0  \n1           0           0                1        0       0  \n2           0           0                1        0       0  \n3           0           0                1        0       1  \n4           0           1                0        0       1  ",
      "text/html": "<div>\n<style scoped>\n    .dataframe tbody tr th:only-of-type {\n        vertical-align: middle;\n    }\n\n    .dataframe tbody tr th {\n        vertical-align: top;\n    }\n\n    .dataframe thead th {\n        text-align: right;\n    }\n</style>\n<table border=\"1\" class=\"dataframe\">\n  <thead>\n    <tr style=\"text-align: right;\">\n      <th></th>\n      <th>Test</th>\n      <th>Headline ID</th>\n      <th>Winner</th>\n      <th>Headline</th>\n      <th>Actief</th>\n      <th>Lang</th>\n      <th>Vragen</th>\n      <th>Interpunctie</th>\n      <th>Tweeledigheid</th>\n      <th>Emotie</th>\n      <th>Voorwaartse Verwijzing</th>\n      <th>Signaalwoorden</th>\n      <th>Lidwoorden</th>\n      <th>Adjectieven</th>\n      <th>Eigennamen</th>\n      <th>Betrekking</th>\n      <th>Voor+Achternaam</th>\n      <th>Cijfers</th>\n      <th>Quotes</th>\n    </tr>\n  </thead>\n  <tbody>\n    <tr>\n      <th>0</th>\n      <td>1</td>\n      <td>A</td>\n      <td>False</td>\n      <td>Barack en Michelle Obama laten dansmoves zien ...</td>\n      <td>0</td>\n      <td>1</td>\n      <td>0</td>\n      <td>0</td>\n      <td>0</td>\n      <td>0</td>\n      <td>0</td>\n      <td>0</td>\n      <td>0</td>\n      <td>0</td>\n      <td>0</td>\n      <td>0</td>\n      <td>1</td>\n      <td>0</td>\n      <td>0</td>\n    </tr>\n    <tr>\n      <th>1</th>\n      <td>1</td>\n      <td>B</td>\n      <td>True</td>\n      <td>Barack en Michelle Obama gaan helemaal los tij...</td>\n      <td>1</td>\n      <td>0</td>\n      <td>0</td>\n      <td>0</td>\n      <td>0</td>\n      <td>0</td>\n      <td>0</td>\n      <td>0</td>\n      <td>0</td>\n      <td>0</td>\n      <td>0</td>\n      <td>0</td>\n      <td>1</td>\n      <td>0</td>\n      <td>0</td>\n    </tr>\n    <tr>\n      <th>2</th>\n      <td>2</td>\n      <td>A</td>\n      <td>True</td>\n      <td>Marc Coucke maakt opvallende keuze bij start v...</td>\n      <td>1</td>\n      <td>0</td>\n      <td>0</td>\n      <td>0</td>\n      <td>0</td>\n      <td>0</td>\n      <td>1</td>\n      <td>0</td>\n      <td>0</td>\n      <td>0</td>\n      <td>0</td>\n      <td>0</td>\n      <td>1</td>\n      <td>0</td>\n      <td>0</td>\n    </tr>\n    <tr>\n      <th>3</th>\n      <td>2</td>\n      <td>B</td>\n      <td>False</td>\n      <td>Marc Coucke: \"Spelers van 10 miljoen? Neen, li...</td>\n      <td>1</td>\n      <td>0</td>\n      <td>0</td>\n      <td>0</td>\n      <td>1</td>\n      <td>0</td>\n      <td>0</td>\n      <td>0</td>\n      <td>0</td>\n      <td>0</td>\n      <td>0</td>\n      <td>0</td>\n      <td>1</td>\n      <td>0</td>\n      <td>1</td>\n    </tr>\n    <tr>\n      <th>4</th>\n      <td>3</td>\n      <td>A</td>\n      <td>True</td>\n      <td>Maandag drukste dag van het jaar op Brussels A...</td>\n      <td>1</td>\n      <td>1</td>\n      <td>0</td>\n      <td>0</td>\n      <td>1</td>\n      <td>0</td>\n      <td>0</td>\n      <td>0</td>\n      <td>0</td>\n      <td>0</td>\n      <td>0</td>\n      <td>1</td>\n      <td>0</td>\n      <td>0</td>\n      <td>1</td>\n    </tr>\n  </tbody>\n</table>\n</div>"
     },
     "execution_count": 5,
     "metadata": {},
     "output_type": "execute_result"
    }
   ],
   "source": [
    "# Get the train and test dataframes\n",
    "train_df = df[df[\"Test\"].isin(train_ids)]\n",
    "test_df = df[df[\"Test\"].isin(test_ids)]\n",
    "train_df.head()"
   ],
   "metadata": {
    "collapsed": false,
    "pycharm": {
     "name": "#%%\n"
    }
   }
  },
  {
   "cell_type": "code",
   "execution_count": 6,
   "outputs": [
    {
     "data": {
      "text/plain": "   Test Headline ID  Winner  \\\n11    6           A    True   \n12    6           B   False   \n61   24           A    True   \n62   24           B   False   \n65   26           A   False   \n\n                                             Headline  Actief  Lang  Vragen  \\\n11  Cafébazin krijgt GAS-boete van 350 euro omdat ...       0     1       0   \n12  Cafébazin krijgt GAS-boete van 350 euro omdat ...       0     1       1   \n61  Zaakvoerder betrapt winkeldief, en niet alleen...       1     0       0   \n62  Betrapte dievegge in winterjas staat plots op ...       1     1       0   \n65  Knuffel is op zoek naar verloren kindje: \"Mijn...       1     1       0   \n\n    Interpunctie  Tweeledigheid  Emotie  Voorwaartse Verwijzing  \\\n11             0              1       0                       0   \n12             0              1       0                       0   \n61             0              0       0                       1   \n62             0              0       0                       0   \n65             0              1       1                       0   \n\n    Signaalwoorden  Lidwoorden  Adjectieven  Eigennamen  Betrekking  \\\n11               0           0            0           0           0   \n12               0           0            0           0           0   \n61               0           0            0           0           0   \n62               0           0            0           0           0   \n65               0           0            0           0           0   \n\n    Voor+Achternaam  Cijfers  Quotes  \n11                0        1       1  \n12                0        1       0  \n61                0        0       0  \n62                0        0       0  \n65                0        0       1  ",
      "text/html": "<div>\n<style scoped>\n    .dataframe tbody tr th:only-of-type {\n        vertical-align: middle;\n    }\n\n    .dataframe tbody tr th {\n        vertical-align: top;\n    }\n\n    .dataframe thead th {\n        text-align: right;\n    }\n</style>\n<table border=\"1\" class=\"dataframe\">\n  <thead>\n    <tr style=\"text-align: right;\">\n      <th></th>\n      <th>Test</th>\n      <th>Headline ID</th>\n      <th>Winner</th>\n      <th>Headline</th>\n      <th>Actief</th>\n      <th>Lang</th>\n      <th>Vragen</th>\n      <th>Interpunctie</th>\n      <th>Tweeledigheid</th>\n      <th>Emotie</th>\n      <th>Voorwaartse Verwijzing</th>\n      <th>Signaalwoorden</th>\n      <th>Lidwoorden</th>\n      <th>Adjectieven</th>\n      <th>Eigennamen</th>\n      <th>Betrekking</th>\n      <th>Voor+Achternaam</th>\n      <th>Cijfers</th>\n      <th>Quotes</th>\n    </tr>\n  </thead>\n  <tbody>\n    <tr>\n      <th>11</th>\n      <td>6</td>\n      <td>A</td>\n      <td>True</td>\n      <td>Cafébazin krijgt GAS-boete van 350 euro omdat ...</td>\n      <td>0</td>\n      <td>1</td>\n      <td>0</td>\n      <td>0</td>\n      <td>1</td>\n      <td>0</td>\n      <td>0</td>\n      <td>0</td>\n      <td>0</td>\n      <td>0</td>\n      <td>0</td>\n      <td>0</td>\n      <td>0</td>\n      <td>1</td>\n      <td>1</td>\n    </tr>\n    <tr>\n      <th>12</th>\n      <td>6</td>\n      <td>B</td>\n      <td>False</td>\n      <td>Cafébazin krijgt GAS-boete van 350 euro omdat ...</td>\n      <td>0</td>\n      <td>1</td>\n      <td>1</td>\n      <td>0</td>\n      <td>1</td>\n      <td>0</td>\n      <td>0</td>\n      <td>0</td>\n      <td>0</td>\n      <td>0</td>\n      <td>0</td>\n      <td>0</td>\n      <td>0</td>\n      <td>1</td>\n      <td>0</td>\n    </tr>\n    <tr>\n      <th>61</th>\n      <td>24</td>\n      <td>A</td>\n      <td>True</td>\n      <td>Zaakvoerder betrapt winkeldief, en niet alleen...</td>\n      <td>1</td>\n      <td>0</td>\n      <td>0</td>\n      <td>0</td>\n      <td>0</td>\n      <td>0</td>\n      <td>1</td>\n      <td>0</td>\n      <td>0</td>\n      <td>0</td>\n      <td>0</td>\n      <td>0</td>\n      <td>0</td>\n      <td>0</td>\n      <td>0</td>\n    </tr>\n    <tr>\n      <th>62</th>\n      <td>24</td>\n      <td>B</td>\n      <td>False</td>\n      <td>Betrapte dievegge in winterjas staat plots op ...</td>\n      <td>1</td>\n      <td>1</td>\n      <td>0</td>\n      <td>0</td>\n      <td>0</td>\n      <td>0</td>\n      <td>0</td>\n      <td>0</td>\n      <td>0</td>\n      <td>0</td>\n      <td>0</td>\n      <td>0</td>\n      <td>0</td>\n      <td>0</td>\n      <td>0</td>\n    </tr>\n    <tr>\n      <th>65</th>\n      <td>26</td>\n      <td>A</td>\n      <td>False</td>\n      <td>Knuffel is op zoek naar verloren kindje: \"Mijn...</td>\n      <td>1</td>\n      <td>1</td>\n      <td>0</td>\n      <td>0</td>\n      <td>1</td>\n      <td>1</td>\n      <td>0</td>\n      <td>0</td>\n      <td>0</td>\n      <td>0</td>\n      <td>0</td>\n      <td>0</td>\n      <td>0</td>\n      <td>0</td>\n      <td>1</td>\n    </tr>\n  </tbody>\n</table>\n</div>"
     },
     "execution_count": 6,
     "metadata": {},
     "output_type": "execute_result"
    }
   ],
   "source": [
    "test_df.head()"
   ],
   "metadata": {
    "collapsed": false,
    "pycharm": {
     "name": "#%%\n"
    }
   }
  },
  {
   "cell_type": "code",
   "execution_count": 7,
   "outputs": [
    {
     "name": "stdout",
     "output_type": "stream",
     "text": [
      "727 tests in the train set, 182 tests in the test set\n"
     ]
    }
   ],
   "source": [
    "# Get the number of unique values in \"Test\" column\n",
    "print(f\"{len(train_df.Test.unique())} tests in the train set, {len(test_df.Test.unique())} tests in the test set\")"
   ],
   "metadata": {
    "collapsed": false,
    "pycharm": {
     "name": "#%%\n"
    }
   }
  },
  {
   "cell_type": "code",
   "execution_count": 8,
   "outputs": [],
   "source": [
    "# Split into train_x (containing all columns except Winner) and train_y (containing the Winner column)\n",
    "train_x = train_df.drop(columns=[\"Winner\"])\n",
    "train_y = train_df[train_df[\"Winner\"] == True][[\"Test\", \"Headline ID\"]]\n",
    "\n",
    "test_x = test_df.drop(columns=[\"Winner\"])\n",
    "test_y = test_df[test_df[\"Winner\"] == True][[\"Test\", \"Headline ID\"]]"
   ],
   "metadata": {
    "collapsed": false,
    "pycharm": {
     "name": "#%%\n"
    }
   }
  },
  {
   "cell_type": "code",
   "execution_count": 9,
   "outputs": [
    {
     "data": {
      "text/plain": "  Test Headline ID                                           Headline  Actief  \\\n0    1           A  Barack en Michelle Obama laten dansmoves zien ...       0   \n1    1           B  Barack en Michelle Obama gaan helemaal los tij...       1   \n2    2           A  Marc Coucke maakt opvallende keuze bij start v...       1   \n3    2           B  Marc Coucke: \"Spelers van 10 miljoen? Neen, li...       1   \n4    3           A  Maandag drukste dag van het jaar op Brussels A...       1   \n\n   Lang  Vragen  Interpunctie  Tweeledigheid  Emotie  Voorwaartse Verwijzing  \\\n0     1       0             0              0       0                       0   \n1     0       0             0              0       0                       0   \n2     0       0             0              0       0                       1   \n3     0       0             0              1       0                       0   \n4     1       0             0              1       0                       0   \n\n   Signaalwoorden  Lidwoorden  Adjectieven  Eigennamen  Betrekking  \\\n0               0           0            0           0           0   \n1               0           0            0           0           0   \n2               0           0            0           0           0   \n3               0           0            0           0           0   \n4               0           0            0           0           1   \n\n   Voor+Achternaam  Cijfers  Quotes  \n0                1        0       0  \n1                1        0       0  \n2                1        0       0  \n3                1        0       1  \n4                0        0       1  ",
      "text/html": "<div>\n<style scoped>\n    .dataframe tbody tr th:only-of-type {\n        vertical-align: middle;\n    }\n\n    .dataframe tbody tr th {\n        vertical-align: top;\n    }\n\n    .dataframe thead th {\n        text-align: right;\n    }\n</style>\n<table border=\"1\" class=\"dataframe\">\n  <thead>\n    <tr style=\"text-align: right;\">\n      <th></th>\n      <th>Test</th>\n      <th>Headline ID</th>\n      <th>Headline</th>\n      <th>Actief</th>\n      <th>Lang</th>\n      <th>Vragen</th>\n      <th>Interpunctie</th>\n      <th>Tweeledigheid</th>\n      <th>Emotie</th>\n      <th>Voorwaartse Verwijzing</th>\n      <th>Signaalwoorden</th>\n      <th>Lidwoorden</th>\n      <th>Adjectieven</th>\n      <th>Eigennamen</th>\n      <th>Betrekking</th>\n      <th>Voor+Achternaam</th>\n      <th>Cijfers</th>\n      <th>Quotes</th>\n    </tr>\n  </thead>\n  <tbody>\n    <tr>\n      <th>0</th>\n      <td>1</td>\n      <td>A</td>\n      <td>Barack en Michelle Obama laten dansmoves zien ...</td>\n      <td>0</td>\n      <td>1</td>\n      <td>0</td>\n      <td>0</td>\n      <td>0</td>\n      <td>0</td>\n      <td>0</td>\n      <td>0</td>\n      <td>0</td>\n      <td>0</td>\n      <td>0</td>\n      <td>0</td>\n      <td>1</td>\n      <td>0</td>\n      <td>0</td>\n    </tr>\n    <tr>\n      <th>1</th>\n      <td>1</td>\n      <td>B</td>\n      <td>Barack en Michelle Obama gaan helemaal los tij...</td>\n      <td>1</td>\n      <td>0</td>\n      <td>0</td>\n      <td>0</td>\n      <td>0</td>\n      <td>0</td>\n      <td>0</td>\n      <td>0</td>\n      <td>0</td>\n      <td>0</td>\n      <td>0</td>\n      <td>0</td>\n      <td>1</td>\n      <td>0</td>\n      <td>0</td>\n    </tr>\n    <tr>\n      <th>2</th>\n      <td>2</td>\n      <td>A</td>\n      <td>Marc Coucke maakt opvallende keuze bij start v...</td>\n      <td>1</td>\n      <td>0</td>\n      <td>0</td>\n      <td>0</td>\n      <td>0</td>\n      <td>0</td>\n      <td>1</td>\n      <td>0</td>\n      <td>0</td>\n      <td>0</td>\n      <td>0</td>\n      <td>0</td>\n      <td>1</td>\n      <td>0</td>\n      <td>0</td>\n    </tr>\n    <tr>\n      <th>3</th>\n      <td>2</td>\n      <td>B</td>\n      <td>Marc Coucke: \"Spelers van 10 miljoen? Neen, li...</td>\n      <td>1</td>\n      <td>0</td>\n      <td>0</td>\n      <td>0</td>\n      <td>1</td>\n      <td>0</td>\n      <td>0</td>\n      <td>0</td>\n      <td>0</td>\n      <td>0</td>\n      <td>0</td>\n      <td>0</td>\n      <td>1</td>\n      <td>0</td>\n      <td>1</td>\n    </tr>\n    <tr>\n      <th>4</th>\n      <td>3</td>\n      <td>A</td>\n      <td>Maandag drukste dag van het jaar op Brussels A...</td>\n      <td>1</td>\n      <td>1</td>\n      <td>0</td>\n      <td>0</td>\n      <td>1</td>\n      <td>0</td>\n      <td>0</td>\n      <td>0</td>\n      <td>0</td>\n      <td>0</td>\n      <td>0</td>\n      <td>1</td>\n      <td>0</td>\n      <td>0</td>\n      <td>1</td>\n    </tr>\n  </tbody>\n</table>\n</div>"
     },
     "execution_count": 9,
     "metadata": {},
     "output_type": "execute_result"
    }
   ],
   "source": [
    "train_x.head()"
   ],
   "metadata": {
    "collapsed": false,
    "pycharm": {
     "name": "#%%\n"
    }
   }
  },
  {
   "cell_type": "code",
   "execution_count": 10,
   "outputs": [
    {
     "data": {
      "text/plain": "   Test Headline ID\n1     1           B\n2     2           A\n4     3           A\n8     4           B\n10    5           B",
      "text/html": "<div>\n<style scoped>\n    .dataframe tbody tr th:only-of-type {\n        vertical-align: middle;\n    }\n\n    .dataframe tbody tr th {\n        vertical-align: top;\n    }\n\n    .dataframe thead th {\n        text-align: right;\n    }\n</style>\n<table border=\"1\" class=\"dataframe\">\n  <thead>\n    <tr style=\"text-align: right;\">\n      <th></th>\n      <th>Test</th>\n      <th>Headline ID</th>\n    </tr>\n  </thead>\n  <tbody>\n    <tr>\n      <th>1</th>\n      <td>1</td>\n      <td>B</td>\n    </tr>\n    <tr>\n      <th>2</th>\n      <td>2</td>\n      <td>A</td>\n    </tr>\n    <tr>\n      <th>4</th>\n      <td>3</td>\n      <td>A</td>\n    </tr>\n    <tr>\n      <th>8</th>\n      <td>4</td>\n      <td>B</td>\n    </tr>\n    <tr>\n      <th>10</th>\n      <td>5</td>\n      <td>B</td>\n    </tr>\n  </tbody>\n</table>\n</div>"
     },
     "execution_count": 10,
     "metadata": {},
     "output_type": "execute_result"
    }
   ],
   "source": [
    "train_y.head()"
   ],
   "metadata": {
    "collapsed": false,
    "pycharm": {
     "name": "#%%\n"
    }
   }
  },
  {
   "cell_type": "code",
   "execution_count": 11,
   "outputs": [],
   "source": [
    "# Assert no duplicate entries in train_y Test column\n",
    "assert len(train_y.Test.unique()) == len(train_y)"
   ],
   "metadata": {
    "collapsed": false,
    "pycharm": {
     "name": "#%%\n"
    }
   }
  },
  {
   "cell_type": "markdown",
   "source": [
    "Only the test and the headline ID is the prefered format for the test dataset, but for the training dataset it might be useful to keep the Winner label, so it doesn't need to be reconstructed:"
   ],
   "metadata": {
    "collapsed": false,
    "pycharm": {
     "name": "#%% md\n"
    }
   }
  },
  {
   "cell_type": "code",
   "execution_count": 12,
   "outputs": [
    {
     "data": {
      "text/plain": "   Test Headline ID  Winner\n1     1           B    True\n2     2           A    True\n4     3           A    True\n8     4           B    True\n10    5           B    True",
      "text/html": "<div>\n<style scoped>\n    .dataframe tbody tr th:only-of-type {\n        vertical-align: middle;\n    }\n\n    .dataframe tbody tr th {\n        vertical-align: top;\n    }\n\n    .dataframe thead th {\n        text-align: right;\n    }\n</style>\n<table border=\"1\" class=\"dataframe\">\n  <thead>\n    <tr style=\"text-align: right;\">\n      <th></th>\n      <th>Test</th>\n      <th>Headline ID</th>\n      <th>Winner</th>\n    </tr>\n  </thead>\n  <tbody>\n    <tr>\n      <th>1</th>\n      <td>1</td>\n      <td>B</td>\n      <td>True</td>\n    </tr>\n    <tr>\n      <th>2</th>\n      <td>2</td>\n      <td>A</td>\n      <td>True</td>\n    </tr>\n    <tr>\n      <th>4</th>\n      <td>3</td>\n      <td>A</td>\n      <td>True</td>\n    </tr>\n    <tr>\n      <th>8</th>\n      <td>4</td>\n      <td>B</td>\n      <td>True</td>\n    </tr>\n    <tr>\n      <th>10</th>\n      <td>5</td>\n      <td>B</td>\n      <td>True</td>\n    </tr>\n  </tbody>\n</table>\n</div>"
     },
     "execution_count": 12,
     "metadata": {},
     "output_type": "execute_result"
    }
   ],
   "source": [
    "train_y_full = train_df[train_df[\"Winner\"] == True][[\"Test\", \"Headline ID\", \"Winner\"]]\n",
    "train_y_full.head()"
   ],
   "metadata": {
    "collapsed": false,
    "pycharm": {
     "name": "#%%\n"
    }
   }
  },
  {
   "cell_type": "markdown",
   "source": [
    "### Feature vectors\n",
    "Often classifiers will only want the features itself as training set, instead of the entire dataframe, so let's also provide something for that."
   ],
   "metadata": {
    "collapsed": false,
    "pycharm": {
     "name": "#%% md\n"
    }
   }
  },
  {
   "cell_type": "code",
   "execution_count": 13,
   "outputs": [
    {
     "data": {
      "text/plain": "   Actief  Lang  Vragen  Interpunctie  Tweeledigheid  Emotie  \\\n0       0     1       0             0              0       0   \n1       1     0       0             0              0       0   \n2       1     0       0             0              0       0   \n3       1     0       0             0              1       0   \n4       1     1       0             0              1       0   \n\n   Voorwaartse Verwijzing  Signaalwoorden  Lidwoorden  Adjectieven  \\\n0                       0               0           0            0   \n1                       0               0           0            0   \n2                       1               0           0            0   \n3                       0               0           0            0   \n4                       0               0           0            0   \n\n   Eigennamen  Betrekking  Voor+Achternaam  Cijfers  Quotes  \n0           0           0                1        0       0  \n1           0           0                1        0       0  \n2           0           0                1        0       0  \n3           0           0                1        0       1  \n4           0           1                0        0       1  ",
      "text/html": "<div>\n<style scoped>\n    .dataframe tbody tr th:only-of-type {\n        vertical-align: middle;\n    }\n\n    .dataframe tbody tr th {\n        vertical-align: top;\n    }\n\n    .dataframe thead th {\n        text-align: right;\n    }\n</style>\n<table border=\"1\" class=\"dataframe\">\n  <thead>\n    <tr style=\"text-align: right;\">\n      <th></th>\n      <th>Actief</th>\n      <th>Lang</th>\n      <th>Vragen</th>\n      <th>Interpunctie</th>\n      <th>Tweeledigheid</th>\n      <th>Emotie</th>\n      <th>Voorwaartse Verwijzing</th>\n      <th>Signaalwoorden</th>\n      <th>Lidwoorden</th>\n      <th>Adjectieven</th>\n      <th>Eigennamen</th>\n      <th>Betrekking</th>\n      <th>Voor+Achternaam</th>\n      <th>Cijfers</th>\n      <th>Quotes</th>\n    </tr>\n  </thead>\n  <tbody>\n    <tr>\n      <th>0</th>\n      <td>0</td>\n      <td>1</td>\n      <td>0</td>\n      <td>0</td>\n      <td>0</td>\n      <td>0</td>\n      <td>0</td>\n      <td>0</td>\n      <td>0</td>\n      <td>0</td>\n      <td>0</td>\n      <td>0</td>\n      <td>1</td>\n      <td>0</td>\n      <td>0</td>\n    </tr>\n    <tr>\n      <th>1</th>\n      <td>1</td>\n      <td>0</td>\n      <td>0</td>\n      <td>0</td>\n      <td>0</td>\n      <td>0</td>\n      <td>0</td>\n      <td>0</td>\n      <td>0</td>\n      <td>0</td>\n      <td>0</td>\n      <td>0</td>\n      <td>1</td>\n      <td>0</td>\n      <td>0</td>\n    </tr>\n    <tr>\n      <th>2</th>\n      <td>1</td>\n      <td>0</td>\n      <td>0</td>\n      <td>0</td>\n      <td>0</td>\n      <td>0</td>\n      <td>1</td>\n      <td>0</td>\n      <td>0</td>\n      <td>0</td>\n      <td>0</td>\n      <td>0</td>\n      <td>1</td>\n      <td>0</td>\n      <td>0</td>\n    </tr>\n    <tr>\n      <th>3</th>\n      <td>1</td>\n      <td>0</td>\n      <td>0</td>\n      <td>0</td>\n      <td>1</td>\n      <td>0</td>\n      <td>0</td>\n      <td>0</td>\n      <td>0</td>\n      <td>0</td>\n      <td>0</td>\n      <td>0</td>\n      <td>1</td>\n      <td>0</td>\n      <td>1</td>\n    </tr>\n    <tr>\n      <th>4</th>\n      <td>1</td>\n      <td>1</td>\n      <td>0</td>\n      <td>0</td>\n      <td>1</td>\n      <td>0</td>\n      <td>0</td>\n      <td>0</td>\n      <td>0</td>\n      <td>0</td>\n      <td>0</td>\n      <td>1</td>\n      <td>0</td>\n      <td>0</td>\n      <td>1</td>\n    </tr>\n  </tbody>\n</table>\n</div>"
     },
     "execution_count": 13,
     "metadata": {},
     "output_type": "execute_result"
    }
   ],
   "source": [
    "from util import get_label_columns\n",
    "train_x_features = train_x[get_label_columns()]\n",
    "train_x_features.head()"
   ],
   "metadata": {
    "collapsed": false,
    "pycharm": {
     "name": "#%%\n"
    }
   }
  },
  {
   "cell_type": "markdown",
   "source": [
    "## Metrics\n",
    "Remind that this is our test_y:"
   ],
   "metadata": {
    "collapsed": false,
    "pycharm": {
     "name": "#%% md\n"
    }
   }
  },
  {
   "cell_type": "code",
   "execution_count": 31,
   "outputs": [
    {
     "data": {
      "text/plain": "  Test Headline ID\n0    6           A\n1   24           A\n2   26           C\n3   31           B\n4   32           B",
      "text/html": "<div>\n<style scoped>\n    .dataframe tbody tr th:only-of-type {\n        vertical-align: middle;\n    }\n\n    .dataframe tbody tr th {\n        vertical-align: top;\n    }\n\n    .dataframe thead th {\n        text-align: right;\n    }\n</style>\n<table border=\"1\" class=\"dataframe\">\n  <thead>\n    <tr style=\"text-align: right;\">\n      <th></th>\n      <th>Test</th>\n      <th>Headline ID</th>\n    </tr>\n  </thead>\n  <tbody>\n    <tr>\n      <th>0</th>\n      <td>6</td>\n      <td>A</td>\n    </tr>\n    <tr>\n      <th>1</th>\n      <td>24</td>\n      <td>A</td>\n    </tr>\n    <tr>\n      <th>2</th>\n      <td>26</td>\n      <td>C</td>\n    </tr>\n    <tr>\n      <th>3</th>\n      <td>31</td>\n      <td>B</td>\n    </tr>\n    <tr>\n      <th>4</th>\n      <td>32</td>\n      <td>B</td>\n    </tr>\n  </tbody>\n</table>\n</div>"
     },
     "execution_count": 31,
     "metadata": {},
     "output_type": "execute_result"
    }
   ],
   "source": [
    "test_y.head()"
   ],
   "metadata": {
    "collapsed": false,
    "pycharm": {
     "name": "#%%\n"
    }
   }
  },
  {
   "cell_type": "markdown",
   "source": [
    "For our predictions, we'll also generate a list of candidates, let's create a random prediction by picking a random candidate for each test:"
   ],
   "metadata": {
    "collapsed": false,
    "pycharm": {
     "name": "#%% md\n"
    }
   }
  },
  {
   "cell_type": "code",
   "execution_count": 32,
   "outputs": [
    {
     "data": {
      "text/plain": "        Test Headline ID\nTest                    \n6    12    6           B\n24   62   24           B\n26   65   26           A\n31   78   31           B\n32   80   32           B",
      "text/html": "<div>\n<style scoped>\n    .dataframe tbody tr th:only-of-type {\n        vertical-align: middle;\n    }\n\n    .dataframe tbody tr th {\n        vertical-align: top;\n    }\n\n    .dataframe thead th {\n        text-align: right;\n    }\n</style>\n<table border=\"1\" class=\"dataframe\">\n  <thead>\n    <tr style=\"text-align: right;\">\n      <th></th>\n      <th></th>\n      <th>Test</th>\n      <th>Headline ID</th>\n    </tr>\n    <tr>\n      <th>Test</th>\n      <th></th>\n      <th></th>\n      <th></th>\n    </tr>\n  </thead>\n  <tbody>\n    <tr>\n      <th>6</th>\n      <th>12</th>\n      <td>6</td>\n      <td>B</td>\n    </tr>\n    <tr>\n      <th>24</th>\n      <th>62</th>\n      <td>24</td>\n      <td>B</td>\n    </tr>\n    <tr>\n      <th>26</th>\n      <th>65</th>\n      <td>26</td>\n      <td>A</td>\n    </tr>\n    <tr>\n      <th>31</th>\n      <th>78</th>\n      <td>31</td>\n      <td>B</td>\n    </tr>\n    <tr>\n      <th>32</th>\n      <th>80</th>\n      <td>32</td>\n      <td>B</td>\n    </tr>\n  </tbody>\n</table>\n</div>"
     },
     "execution_count": 32,
     "metadata": {},
     "output_type": "execute_result"
    }
   ],
   "source": [
    "random_predictions = test_x.groupby(\"Test\").apply(lambda x: x.sample(1, random_state=42))[[\"Test\", \"Headline ID\"]]\n",
    "random_predictions.head()"
   ],
   "metadata": {
    "collapsed": false,
    "pycharm": {
     "name": "#%%\n"
    }
   }
  },
  {
   "cell_type": "code",
   "execution_count": 33,
   "outputs": [
    {
     "data": {
      "text/plain": "  Test Headline ID Headline ID Predicted\n0    6           A                     B\n1   24           A                     B\n2   26           C                     A\n3   31           B                     B\n4   32           B                     B",
      "text/html": "<div>\n<style scoped>\n    .dataframe tbody tr th:only-of-type {\n        vertical-align: middle;\n    }\n\n    .dataframe tbody tr th {\n        vertical-align: top;\n    }\n\n    .dataframe thead th {\n        text-align: right;\n    }\n</style>\n<table border=\"1\" class=\"dataframe\">\n  <thead>\n    <tr style=\"text-align: right;\">\n      <th></th>\n      <th>Test</th>\n      <th>Headline ID</th>\n      <th>Headline ID Predicted</th>\n    </tr>\n  </thead>\n  <tbody>\n    <tr>\n      <th>0</th>\n      <td>6</td>\n      <td>A</td>\n      <td>B</td>\n    </tr>\n    <tr>\n      <th>1</th>\n      <td>24</td>\n      <td>A</td>\n      <td>B</td>\n    </tr>\n    <tr>\n      <th>2</th>\n      <td>26</td>\n      <td>C</td>\n      <td>A</td>\n    </tr>\n    <tr>\n      <th>3</th>\n      <td>31</td>\n      <td>B</td>\n      <td>B</td>\n    </tr>\n    <tr>\n      <th>4</th>\n      <td>32</td>\n      <td>B</td>\n      <td>B</td>\n    </tr>\n  </tbody>\n</table>\n</div>"
     },
     "execution_count": 33,
     "metadata": {},
     "output_type": "execute_result"
    }
   ],
   "source": [
    "# Merge the random predictions with the test_y (change \"Headline ID\" to \"Predicted Headline ID\" for random_predictions)\n",
    "# random_predictions_renamed = random_predictions.rename(columns={\"Headline ID\": \"Predicted Headline ID\"}, inplace=True)\n",
    "import pandas as pd\n",
    "\n",
    "# Reset indices to avoid ambiguous index/column level problems\n",
    "# src: https://stackoverflow.com/questions/67686902/valueerror-movieid-is-both-an-index-level-and-a-column-label-which-is-ambigu\n",
    "test_y.reset_index(drop = True, inplace = True)\n",
    "random_predictions.reset_index(drop = True, inplace = True)\n",
    "\n",
    "test_y_pred = pd.merge(test_y, random_predictions, on=[\"Test\"], suffixes=(\"\", \" Predicted\"))\n",
    "test_y_pred.head()"
   ],
   "metadata": {
    "collapsed": false,
    "pycharm": {
     "name": "#%%\n"
    }
   }
  },
  {
   "cell_type": "code",
   "execution_count": 34,
   "outputs": [
    {
     "name": "stdout",
     "output_type": "stream",
     "text": [
      "Random predictions accuracy: 54.14%\n"
     ]
    }
   ],
   "source": [
    "# Calculate the accuracy of the random predictions\n",
    "from sklearn.metrics import accuracy_score\n",
    "score = accuracy_score(test_y_pred[\"Headline ID\"], test_y_pred[\"Headline ID Predicted\"])\n",
    "print(f\"Random predictions accuracy: {100*score:.2f}%\")"
   ],
   "metadata": {
    "collapsed": false,
    "pycharm": {
     "name": "#%%\n"
    }
   }
  },
  {
   "cell_type": "markdown",
   "source": [
    "This accuracy is actually higher than I would've expected, since there are often more than two candidate headlines.\n",
    "\n",
    "Accuracy is a good metric to use for this problem, since we won't have problems with data imbalance (since we'll pick only one winner instead of classifying each candidate as winner or not)."
   ],
   "metadata": {
    "collapsed": false,
    "pycharm": {
     "name": "#%% md\n"
    }
   }
  }
 ],
 "metadata": {
  "kernelspec": {
   "display_name": "Python 3",
   "language": "python",
   "name": "python3"
  },
  "language_info": {
   "codemirror_mode": {
    "name": "ipython",
    "version": 2
   },
   "file_extension": ".py",
   "mimetype": "text/x-python",
   "name": "python",
   "nbconvert_exporter": "python",
   "pygments_lexer": "ipython2",
   "version": "2.7.6"
  }
 },
 "nbformat": 4,
 "nbformat_minor": 0
}