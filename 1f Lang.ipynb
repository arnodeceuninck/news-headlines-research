{
 "cells": [
  {
   "cell_type": "markdown",
   "source": [
    "# Lang\n",
    "## Details\n",
    "> Lange titels zouden beter werken dan korte, omdat\n",
    "ze meer informatie kunnen doorspelen via de kop\n",
    "aan de lezers. Onder korte koppen verstaan we in\n",
    "deze studie krantenkoppen die minder dan 76 tekens\n",
    "(inclusief spaties) bevatten. Lange krantenkoppen\n",
    "zijn dan koppen die uit 76 of meer tekens bestaan.\n",
    "## Data"
   ],
   "metadata": {
    "collapsed": false,
    "pycharm": {
     "name": "#%% md\n"
    }
   }
  },
  {
   "cell_type": "code",
   "execution_count": 1,
   "outputs": [
    {
     "data": {
      "text/plain": "1    449\n0    232\nName: Lang, dtype: int64"
     },
     "execution_count": 1,
     "metadata": {},
     "output_type": "execute_result"
    }
   ],
   "source": [
    "from util import get_cls_train_test\n",
    "\n",
    "train_x, train_y, test_x, test_y = get_cls_train_test(\"Lang\")\n",
    "train_y.value_counts()"
   ],
   "metadata": {
    "collapsed": false,
    "pycharm": {
     "name": "#%%\n"
    }
   }
  },
  {
   "cell_type": "markdown",
   "source": [
    "## Approach 1: Hardcoded\n",
    "Lang has a clear description (#chars > 76), so can probably be easily manually implemented."
   ],
   "metadata": {
    "collapsed": false,
    "pycharm": {
     "name": "#%% md\n"
    }
   }
  },
  {
   "cell_type": "code",
   "execution_count": 2,
   "outputs": [
    {
     "name": "stdout",
     "output_type": "stream",
     "text": [
      "False\n",
      "True\n"
     ]
    }
   ],
   "source": [
    "def is_long_headline(headline):\n",
    "    return len(headline) >= 76\n",
    "\n",
    "print(is_long_headline(\"Doel: Vandeput een hak zetten. Resultaat: Crombez in z'n hemd gezet\"))\n",
    "print(is_long_headline(\n",
    "    \"Vermoedelijk vervalste mails brengen Crombez (SP.A) in verlegenheid: \\\"Ik had ze beter niet gebruikt\\\"\"))"
   ],
   "metadata": {
    "collapsed": false,
    "pycharm": {
     "name": "#%%\n"
    }
   }
  },
  {
   "cell_type": "code",
   "execution_count": 3,
   "outputs": [
    {
     "name": "stdout",
     "output_type": "stream",
     "text": [
      "f-score: 0.9833887043189369\n",
      "Confusion matrix: (TP: 75, FP: 5, FN: 0, TN: 148)\n",
      "Accuracy=97.81% (223/228)\n"
     ]
    },
    {
     "data": {
      "text/plain": "<Figure size 432x288 with 2 Axes>",
      "image/png": "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\n"
     },
     "metadata": {
      "needs_background": "light"
     },
     "output_type": "display_data"
    }
   ],
   "source": [
    "import numpy as np\n",
    "from util import print_evaluation\n",
    "prediction = np.vectorize(is_long_headline)(test_x)\n",
    "print_evaluation(test_y, prediction)"
   ],
   "metadata": {
    "collapsed": false,
    "pycharm": {
     "name": "#%%\n"
    }
   }
  },
  {
   "cell_type": "markdown",
   "source": [
    "Still strange that there are still some false positives. This are misclassifcations in the dataset. (mainly when length is 76)"
   ],
   "metadata": {
    "collapsed": false,
    "pycharm": {
     "name": "#%% md\n"
    }
   }
  },
  {
   "cell_type": "markdown",
   "source": [
    "## Approach 2: Length as feature"
   ],
   "metadata": {
    "collapsed": false,
    "pycharm": {
     "name": "#%% md\n"
    }
   }
  },
  {
   "cell_type": "code",
   "execution_count": 5,
   "outputs": [
    {
     "name": "stdout",
     "output_type": "stream",
     "text": [
      "f-score: 0.9794520547945206\n",
      "Confusion matrix: (TP: 79, FP: 1, FN: 5, TN: 143)\n",
      "Accuracy=97.37% (222/228)\n"
     ]
    },
    {
     "data": {
      "text/plain": "<Figure size 432x288 with 2 Axes>",
      "image/png": "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\n"
     },
     "metadata": {
      "needs_background": "light"
     },
     "output_type": "display_data"
    }
   ],
   "source": [
    "from sklearn.pipeline import Pipeline\n",
    "from sklearn.linear_model import LogisticRegression\n",
    "\n",
    "from util import FunctionTransformer\n",
    "\n",
    "model = Pipeline([\n",
    "    ('length_counter', FunctionTransformer(func=lambda x: len(x))),\n",
    "    ('classifier', LogisticRegression())\n",
    "])\n",
    "\n",
    "model.fit(train_x, train_y)\n",
    "\n",
    "prediction = model.predict(test_x)\n",
    "print_evaluation(test_y, prediction)"
   ],
   "metadata": {
    "collapsed": false,
    "pycharm": {
     "name": "#%%\n"
    }
   }
  },
  {
   "cell_type": "markdown",
   "source": [
    "A slightly worse result than Approach 1."
   ],
   "metadata": {
    "collapsed": false,
    "pycharm": {
     "name": "#%% md\n"
    }
   }
  }
 ]
}