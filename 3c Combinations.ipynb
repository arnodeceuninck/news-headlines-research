{
 "cells": [
  {
   "cell_type": "markdown",
   "source": [
    "# Combinations\n",
    "Let's combine the different extra features that gave better results and see whether this improves the overall performance."
   ],
   "metadata": {
    "collapsed": false,
    "pycharm": {
     "name": "#%% md\n"
    }
   }
  },
  {
   "cell_type": "code",
   "execution_count": 36,
   "outputs": [],
   "source": [
    "from util import get_wpm_train_test, get_label_columns\n",
    "\n",
    "train_x_full, train_y, test_x, test_y, groups = get_wpm_train_test(include_groups=True, x_train_features_only=False)\n",
    "\n",
    "features = get_label_columns()  # initially only the manual labels"
   ],
   "metadata": {
    "collapsed": false,
    "pycharm": {
     "name": "#%%\n"
    }
   }
  },
  {
   "cell_type": "markdown",
   "source": [
    "## Add features"
   ],
   "metadata": {
    "collapsed": false,
    "pycharm": {
     "name": "#%% md\n"
    }
   }
  },
  {
   "cell_type": "code",
   "execution_count": 37,
   "outputs": [],
   "source": [
    "from util import add_length_to_dataframe\n",
    "features.append(\"Length\")\n",
    "train_x_full = add_length_to_dataframe(train_x_full)\n",
    "test_x = add_length_to_dataframe(test_x)"
   ],
   "metadata": {
    "collapsed": false,
    "pycharm": {
     "name": "#%%\n"
    }
   }
  },
  {
   "cell_type": "code",
   "execution_count": 38,
   "outputs": [],
   "source": [
    "# from util import add_headline_embedding_to_dataframe\n",
    "# train_x_full, extra_features = add_headline_embedding_to_dataframe(train_x_full)\n",
    "# test_x, _ = add_headline_embedding_to_dataframe(test_x)\n",
    "# features += extra_features"
   ],
   "metadata": {
    "collapsed": false,
    "pycharm": {
     "name": "#%%\n"
    }
   }
  },
  {
   "cell_type": "code",
   "execution_count": 39,
   "outputs": [],
   "source": [
    "from util import add_diff_length\n",
    "features.append('NumWordsDiff')\n",
    "features.append('AvgWordLengthDiff')\n",
    "features.append('MaxWordLengthDiff')\n",
    "train_x_full = add_diff_length(train_x_full)\n",
    "test_x = add_diff_length(test_x)"
   ],
   "metadata": {
    "collapsed": false,
    "pycharm": {
     "name": "#%%\n"
    }
   }
  },
  {
   "cell_type": "markdown",
   "source": [
    "## Evaluate"
   ],
   "metadata": {
    "collapsed": false,
    "pycharm": {
     "name": "#%% md\n"
    }
   }
  },
  {
   "cell_type": "code",
   "execution_count": 40,
   "outputs": [
    {
     "name": "stdout",
     "output_type": "stream",
     "text": [
      "Accuracy: 56.59% (103/182)\n"
     ]
    },
    {
     "name": "stderr",
     "output_type": "stream",
     "text": [
      "C:\\Users\\arnod\\AppData\\Local\\Programs\\Python\\Python39\\lib\\site-packages\\xgboost\\core.py:525: FutureWarning: Pass `sample_weight` as keyword args.  Passing these as positional arguments will be considered as error in future releases.\n",
      "  warnings.warn(\n"
     ]
    },
    {
     "name": "stdout",
     "output_type": "stream",
     "text": [
      "Accuracy: 52.20% (95/182)\n"
     ]
    }
   ],
   "source": [
    "from util import fit_predict_evaluate_extra_features, get_xgboost_importance\n",
    "_, model_xgb = fit_predict_evaluate_extra_features(train_x_full, train_y, test_x, test_y, features, groups)"
   ],
   "metadata": {
    "collapsed": false,
    "pycharm": {
     "name": "#%%\n"
    }
   }
  },
  {
   "cell_type": "markdown",
   "source": [
    "## Hyperparameter tuning"
   ],
   "metadata": {
    "collapsed": false,
    "pycharm": {
     "name": "#%% md\n"
    }
   }
  },
  {
   "cell_type": "code",
   "execution_count": 41,
   "outputs": [],
   "source": [
    "from util import get_winners_only, predict_wp, evaluate_wp\n",
    "from xgboost import XGBClassifier\n",
    "from sklearn.model_selection import GroupKFold\n",
    "import numpy as np\n",
    "from hyperopt import STATUS_OK, Trials, fmin, hp, tpe\n",
    "\n",
    "group_kfold = GroupKFold(n_splits=5)\n",
    "\n",
    "train_x_full.reset_index(drop=True, inplace=True)\n",
    "train_y.reset_index(drop=True, inplace=True)\n",
    "\n",
    "\n",
    "def objective_cv(space):\n",
    "    if 'max_depth' in space:\n",
    "        space['max_depth'] = int(space['max_depth'])\n",
    "\n",
    "    model = XGBClassifier(**space)\n",
    "\n",
    "    accuracies = []\n",
    "    for train_index, val_index in group_kfold.split(train_x_full, train_y, groups=train_x_full['Test']):\n",
    "\n",
    "        train_x_small, train_y_small = train_x_full.iloc[train_index], train_y.iloc[train_index]\n",
    "        val_x, val_y = train_x_full.iloc[val_index], get_winners_only(train_y.iloc[val_index])\n",
    "        # groups_val = train_x_full.iloc[val_index]['Test']\n",
    "\n",
    "        model.fit(train_x_small[features], train_y_small['Winner']) #, groups_val, sample_weight=None, verbose=0)\n",
    "\n",
    "        predicted_winners = predict_wp(model, val_x, features=features)\n",
    "\n",
    "        assert len(predicted_winners) == len(val_y)\n",
    "\n",
    "        accuracy = evaluate_wp(val_y, predicted_winners)\n",
    "\n",
    "        accuracies.append(accuracy)\n",
    "\n",
    "    accuracy_mean = np.mean(accuracies)\n",
    "    print(f\"Accuracy mean: {accuracy_mean} for parameters {space}\")\n",
    "\n",
    "    return {'loss': -accuracy_mean, 'status': STATUS_OK}"
   ],
   "metadata": {
    "collapsed": false,
    "pycharm": {
     "name": "#%%\n"
    }
   }
  },
  {
   "cell_type": "code",
   "execution_count": null,
   "outputs": [],
   "source": [
    "space = {\n",
    "    'reg_alpha': hp.quniform('reg_alpha', 40, 180, 1),\n",
    "    'reg_lambda': hp.uniform('reg_lambda', 0, 1),\n",
    "    'gamma': hp.uniform('gamma', 1, 9),\n",
    "    'learning_rate': hp.uniform('learning_rate', 0.01, 0.2),\n",
    "    'colsample_bytree': hp.uniform('colsample_bytree', 0.5, 1),\n",
    "    'max_depth': hp.quniform('max_depth', 2, 8, 1),\n",
    "    'n_estimators': 500,\n",
    "}\n",
    "trials = Trials()\n",
    "\n",
    "best_params = fmin(fn=objective_cv,\n",
    "                   space=space,\n",
    "                   algo=tpe.suggest,\n",
    "                   max_evals=100,\n",
    "                   trials=trials)\n",
    "best_params"
   ],
   "metadata": {
    "collapsed": false,
    "pycharm": {
     "name": "#%%\n"
    }
   }
  },
  {
   "cell_type": "code",
   "execution_count": null,
   "outputs": [],
   "source": [
    "# Sad noises, I accidentially removed the results from the previous run that took a while, the accuracy was 55.9%, which is still not that good."
   ],
   "metadata": {
    "collapsed": false,
    "pycharm": {
     "name": "#%%\n"
    }
   }
  },
  {
   "cell_type": "markdown",
   "source": [
    "For some reason does this take way longer than when running this in chapter 2e, even though I think the only difference were the extra features I've added. But we added way more extra features, which makes sense why it takes so long. I'm first searching hyper parameters without embeded headline, since this is a lot faster."
   ],
   "metadata": {
    "collapsed": false,
    "pycharm": {
     "name": "#%% md\n"
    }
   }
  },
  {
   "cell_type": "code",
   "execution_count": 45,
   "outputs": [],
   "source": [
    "# best_params = {'colsample_bytree': 0.8376842762481432, # TODO: This are still the parameters from another chapter\n",
    "#                'gamma': 1.0100982566020316,\n",
    "#                'learning_rate': 0.10560571568287097,\n",
    "#                'max_depth': 5,\n",
    "#                'reg_alpha': 41.0,\n",
    "#                'reg_lambda': 0.46191366472424383}"
   ],
   "metadata": {
    "collapsed": false,
    "pycharm": {
     "name": "#%%\n"
    }
   }
  },
  {
   "cell_type": "code",
   "execution_count": 46,
   "outputs": [
    {
     "name": "stderr",
     "output_type": "stream",
     "text": [
      "C:\\Users\\arnod\\AppData\\Local\\Programs\\Python\\Python39\\lib\\site-packages\\xgboost\\core.py:525: FutureWarning: Pass `sample_weight` as keyword args.  Passing these as positional arguments will be considered as error in future releases.\n",
      "  warnings.warn(\n"
     ]
    },
    {
     "name": "stdout",
     "output_type": "stream",
     "text": [
      "Accuracy: 51.65% (94/182)\n"
     ]
    }
   ],
   "source": [
    "from util import fit_predict_print_wp\n",
    "\n",
    "model = XGBClassifier(n_estimators=500, random_state=42, **best_params)\n",
    "fit_predict_print_wp(model, train_x_full, train_y, test_x, test_y, groups=train_x_full['Test'])"
   ],
   "metadata": {
    "collapsed": false,
    "pycharm": {
     "name": "#%%\n"
    }
   }
  }
 ],
 "metadata": {
  "kernelspec": {
   "display_name": "Python 3",
   "language": "python",
   "name": "python3"
  },
  "language_info": {
   "codemirror_mode": {
    "name": "ipython",
    "version": 2
   },
   "file_extension": ".py",
   "mimetype": "text/x-python",
   "name": "python",
   "nbconvert_exporter": "python",
   "pygments_lexer": "ipython2",
   "version": "2.7.6"
  }
 },
 "nbformat": 4,
 "nbformat_minor": 0
}