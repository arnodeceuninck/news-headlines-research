{
 "cells": [
  {
   "cell_type": "markdown",
   "source": [
    "# Signaalwoorden\n",
    "## Details\n",
    "> Signaalwoorden  zoals In  kaart,  Overzicht,  Getest, Update, Breaking, Live, Nieuwsflits, ...zorgen ervoor dat meer mensen klikken op een bepaalde titel.\n",
    "## Example\n",
    "> LIVEBLOG.Zo   beleven   BV's   de   halve   finale #FRABEL"
   ],
   "metadata": {
    "collapsed": false,
    "pycharm": {
     "name": "#%% md\n"
    }
   }
  },
  {
   "cell_type": "markdown",
   "source": [
    "## Data"
   ],
   "metadata": {
    "collapsed": false,
    "pycharm": {
     "name": "#%% md\n"
    }
   }
  },
  {
   "cell_type": "code",
   "execution_count": 5,
   "outputs": [
    {
     "data": {
      "text/plain": "0    669\n1     12\nName: Signaalwoorden, dtype: int64"
     },
     "execution_count": 5,
     "metadata": {},
     "output_type": "execute_result"
    }
   ],
   "source": [
    "from util import get_cls_train_test\n",
    "\n",
    "train_x, train_y, test_x, test_y = get_cls_train_test(\"Signaalwoorden\")\n",
    "train_y.value_counts()"
   ],
   "metadata": {
    "collapsed": false,
    "pycharm": {
     "name": "#%%\n"
    }
   }
  },
  {
   "cell_type": "markdown",
   "source": [
    "Here is a serious data imbalance (which might result in more overfitting)."
   ],
   "metadata": {
    "collapsed": false,
    "pycharm": {
     "name": "#%% md\n"
    }
   }
  },
  {
   "cell_type": "code",
   "execution_count": 2,
   "outputs": [
    {
     "data": {
      "text/plain": "Test      \n596   1494    VIDEO. Onweer en zware hagelbuien houden lelij...\n114   303     ANALYSE. Hoe prins Laurent het feestje van zij...\n337   850     KAART: Hier past u binnenkort maar best op voo...\n95    248     EXCLUSIEF. Onze reporter mocht op de Main Stag...\n204   521     LIVE. Vier geredde jongens 'in goede gezondhei...\n196   505     LIVEBLOG. Zo beleven BV's de halve finale #FRABEL\n681   1703    HERBELEEF. De mooiste momenten van het huwelij...\n763   1909    KAART. In de steek gelaten door onze buren, ma...\n203   519     LIVE. Reddingsactie in Thaise grot hervat: \"Eé...\n202   517     LIVE. Reddingsactie in Thaise grot hervat: \"Op...\n806   2013    LIVE. Stoot onze Sennek door naar de finale va...\n215   545     RECONSTRUCTIE. De overval die bedacht werd tus...\nName: Headline, dtype: object"
     },
     "execution_count": 2,
     "metadata": {},
     "output_type": "execute_result"
    }
   ],
   "source": [
    "train_x[train_y == 1]"
   ],
   "metadata": {
    "collapsed": false,
    "pycharm": {
     "name": "#%%\n"
    }
   }
  },
  {
   "cell_type": "markdown",
   "source": [
    "## Approach 1: Simple function\n",
    "Signal words are in headlines almost always full caps. However, we have to be careful with custom functions because of overfitting."
   ],
   "metadata": {
    "collapsed": false,
    "pycharm": {
     "name": "#%% md\n"
    }
   }
  },
  {
   "cell_type": "code",
   "execution_count": 3,
   "outputs": [],
   "source": [
    "# Check if any word in the sentence is full caps\n",
    "def is_full_caps(sentence):\n",
    "    return any(word.isupper() for word in sentence.split())"
   ],
   "metadata": {
    "collapsed": false,
    "pycharm": {
     "name": "#%%\n"
    }
   }
  },
  {
   "cell_type": "code",
   "execution_count": 8,
   "outputs": [
    {
     "name": "stdout",
     "output_type": "stream",
     "text": [
      "f-score: 0.5384615384615385\n",
      "Confusion matrix: (TP: 209, FP: 11, FN: 1, TN: 7)\n",
      "Accuracy=94.74% (216/228)\n"
     ]
    },
    {
     "data": {
      "text/plain": "<Figure size 432x288 with 2 Axes>",
      "image/png": "[encoded data removed]"
     },
     "metadata": {
      "needs_background": "light"
     },
     "output_type": "display_data"
    }
   ],
   "source": [
    "from util import print_evaluation\n",
    "prediction = test_x.apply(is_full_caps)\n",
    "print_evaluation(test_y, prediction)"
   ],
   "metadata": {
    "collapsed": false,
    "pycharm": {
     "name": "#%%\n"
    }
   }
  },
  {
   "cell_type": "markdown",
   "source": [
    "## Approach 2: Tf-idf\n",
    "The signal words are ofen the same, so just use tf-idf to find the most important words. Stemming isn't required here."
   ],
   "metadata": {
    "collapsed": false,
    "pycharm": {
     "name": "#%% md\n"
    }
   }
  },
  {
   "cell_type": "code",
   "execution_count": 11,
   "outputs": [
    {
     "name": "stdout",
     "output_type": "stream",
     "text": [
      "f-score: 0.4\n",
      "Confusion matrix: (TP: 220, FP: 0, FN: 6, TN: 2)\n",
      "Accuracy=97.37% (222/228)\n"
     ]
    },
    {
     "data": {
      "text/plain": "<Figure size 432x288 with 2 Axes>",
      "image/png": "[encoded data removed]"
     },
     "metadata": {
      "needs_background": "light"
     },
     "output_type": "display_data"
    }
   ],
   "source": [
    "from sklearn import svm\n",
    "from util import stem_analyzer, fit_predict_evaluate\n",
    "from imblearn.pipeline import Pipeline\n",
    "from imblearn.combine import SMOTETomek\n",
    "\n",
    "from sklearn.feature_extraction.text import TfidfVectorizer\n",
    "\n",
    "model = Pipeline([\n",
    "    ('vectorizer', TfidfVectorizer()),\n",
    "    ('resampler', SMOTETomek(random_state=42)),\n",
    "    ('classifier', svm.LinearSVC(random_state=42))\n",
    "])\n",
    "\n",
    "fit_predict_evaluate(model, train_x, train_y, test_x, test_y)"
   ],
   "metadata": {
    "collapsed": false,
    "pycharm": {
     "name": "#%%\n"
    }
   }
  },
  {
   "cell_type": "markdown",
   "source": [
    "This has a higher accuracy than the previous approach, but a lower F1 score."
   ],
   "metadata": {
    "collapsed": false,
    "pycharm": {
     "name": "#%% md\n"
    }
   }
  },
  {
   "cell_type": "markdown",
   "source": [
    "## Approach 3: Extra features"
   ],
   "metadata": {
    "collapsed": false,
    "pycharm": {
     "name": "#%% md\n"
    }
   }
  },
  {
   "cell_type": "code",
   "execution_count": 12,
   "outputs": [
    {
     "name": "stdout",
     "output_type": "stream",
     "text": [
      "f-score: 0.8571428571428571\n",
      "Confusion matrix: (TP: 220, FP: 0, FN: 2, TN: 6)\n",
      "Accuracy=99.12% (226/228)\n"
     ]
    },
    {
     "data": {
      "text/plain": "<Figure size 432x288 with 2 Axes>",
      "image/png": "[encoded data removed]"
     },
     "metadata": {
      "needs_background": "light"
     },
     "output_type": "display_data"
    }
   ],
   "source": [
    "from sklearn.pipeline import FeatureUnion\n",
    "from util import FunctionTransformer\n",
    "\n",
    "def is_dot_after_first_word(sentence):\n",
    "    words = sentence.split()\n",
    "    return words[0].endswith(\".\")\n",
    "\n",
    "def first_word_full_caps(sentence):\n",
    "    words = sentence.split()\n",
    "    return words[0].isupper()\n",
    "\n",
    "model = Pipeline([\n",
    "    ('union', FeatureUnion([\n",
    "        ('vectorizer', TfidfVectorizer()),\n",
    "        ('dot_after_first_word', FunctionTransformer(func=is_dot_after_first_word)),\n",
    "        ('first_word_full_caps', FunctionTransformer(func=first_word_full_caps)),\n",
    "        ('full_caps_word', FunctionTransformer(func=is_full_caps))\n",
    "    ])),\n",
    "    ('classifier', svm.LinearSVC(random_state=0))\n",
    "])\n",
    "\n",
    "fit_predict_evaluate(model, train_x, train_y, test_x, test_y)"
   ],
   "metadata": {
    "collapsed": false,
    "pycharm": {
     "name": "#%%\n"
    }
   }
  },
  {
   "cell_type": "markdown",
   "source": [
    "As expected up to now, this gives the best results."
   ],
   "metadata": {
    "collapsed": false,
    "pycharm": {
     "name": "#%% md\n"
    }
   }
  }
 ],
 "metadata": {
  "kernelspec": {
   "display_name": "Python 3",
   "language": "python",
   "name": "python3"
  },
  "language_info": {
   "codemirror_mode": {
    "name": "ipython",
    "version": 2
   },
   "file_extension": ".py",
   "mimetype": "text/x-python",
   "name": "python",
   "nbconvert_exporter": "python",
   "pygments_lexer": "ipython2",
   "version": "2.7.6"
  }
 },
 "nbformat": 4,
 "nbformat_minor": 0
}