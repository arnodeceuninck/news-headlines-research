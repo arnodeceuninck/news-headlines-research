{
 "cells": [
  {
   "cell_type": "markdown",
   "source": [
    "# Cijfers\n",
    "## Details\n",
    "> Het  gebruik  van  cijfers  in  koppen  maakt  de  inhoud van het artikel voorspelbaar voor de lezers. Het geeft hen  zekerheid  waardoor  ze  weten  wat  ze  kunnen verwachten. Cijfers kunnen krantenkoppen interessanter  maken,  vooral  wanneer  het  gaat  om grote getallen (1). Ook kunnen cijfers inspelen op de gevoelens van mensen door bijvoorbeeld de leeftijd weer tegeven (2).\n",
    "## Example\n",
    "> (1) Iedereen dacht dat 313kinderen ziek werden door zijn lasagne, maar dat klopt niet: \"Wat dan wél?\"(2) Kranige  oma (93)bewijst  dat  er  op  angst overwinnen geen leeftijd staat"
   ],
   "metadata": {
    "collapsed": false,
    "pycharm": {
     "name": "#%% md\n"
    }
   }
  },
  {
   "cell_type": "markdown",
   "source": [
    "## Data"
   ],
   "metadata": {
    "collapsed": false,
    "pycharm": {
     "name": "#%% md\n"
    }
   }
  },
  {
   "cell_type": "code",
   "execution_count": 4,
   "outputs": [
    {
     "data": {
      "text/plain": "0    559\n1    122\nName: Cijfers, dtype: int64"
     },
     "execution_count": 4,
     "metadata": {},
     "output_type": "execute_result"
    }
   ],
   "source": [
    "from util import get_cls_train_test\n",
    "\n",
    "train_x, train_y, test_x, test_y = get_cls_train_test(\"Cijfers\")\n",
    "train_y.value_counts()"
   ],
   "metadata": {
    "collapsed": false,
    "pycharm": {
     "name": "#%%\n"
    }
   }
  },
  {
   "cell_type": "markdown",
   "source": [
    "## Approach 1: Tf-idf\n",
    "This will probably overfit on the numbers we've already seen"
   ],
   "metadata": {
    "collapsed": false,
    "pycharm": {
     "name": "#%% md\n"
    }
   }
  },
  {
   "cell_type": "code",
   "execution_count": 5,
   "outputs": [
    {
     "name": "stdout",
     "output_type": "stream",
     "text": [
      "f-score: 0.4857142857142858\n",
      "Confusion matrix: (TP: 175, FP: 6, FN: 30, TN: 17)\n",
      "Accuracy=84.21% (192/228)\n"
     ]
    },
    {
     "data": {
      "text/plain": "<Figure size 432x288 with 2 Axes>",
      "image/png": "[encoded data removed]"
     },
     "metadata": {
      "needs_background": "light"
     },
     "output_type": "display_data"
    }
   ],
   "source": [
    "from imblearn.pipeline import Pipeline\n",
    "from imblearn.combine import SMOTETomek\n",
    "from sklearn.feature_extraction.text import TfidfVectorizer\n",
    "from sklearn import svm\n",
    "\n",
    "from util import fit_predict_evaluate\n",
    "\n",
    "model = Pipeline([\n",
    "    ('vectorizer', TfidfVectorizer()),\n",
    "    ('resampler', SMOTETomek(random_state=0)),\n",
    "    ('classifier', svm.LinearSVC(random_state=0))\n",
    "])\n",
    "\n",
    "fit_predict_evaluate(model, train_x, train_y, test_x, test_y)"
   ],
   "metadata": {
    "collapsed": false,
    "pycharm": {
     "name": "#%%\n"
    }
   }
  },
  {
   "cell_type": "code",
   "execution_count": 6,
   "outputs": [
    {
     "name": "stdout",
     "output_type": "stream",
     "text": [
      "2.7186           jaar    -0.7803           maar\n",
      "2.2859            000    -0.6940           deze\n",
      "2.1316           euro    -0.6653         meghan\n",
      "1.5962         graden    -0.6162          heeft\n",
      "1.5491             24    -0.5948          vrouw\n",
      "1.4937            eén    -0.5763            dat\n",
      "1.4067          meter    -0.5753           zien\n",
      "1.3941             al    -0.5172           weer\n",
      "1.3424        miljoen    -0.5133           gaat\n",
      "1.3315          enige    -0.5102         gedaan\n"
     ]
    }
   ],
   "source": [
    "from util import show_most_informative_features\n",
    "show_most_informative_features(model)"
   ],
   "metadata": {
    "collapsed": false,
    "pycharm": {
     "name": "#%%\n"
    }
   }
  },
  {
   "cell_type": "markdown",
   "source": [
    "I didn't expect words like \"jaar\", \"euro\" or \"graden\" here, but it's quite a smart solution to the problem. Also \"000\" is interesting, since it get's seen as a seperate token in large number (because a \".\" means new token, e.g. 7.000.000 -> \"7\", \"000\" and \"000\")."
   ],
   "metadata": {
    "collapsed": false,
    "pycharm": {
     "name": "#%% md\n"
    }
   }
  },
  {
   "cell_type": "markdown",
   "source": [
    "## Approach 2: Char grams\n",
    "Since a lot of number (e.g. \"zevenhonderddrieëntwintig\") consist of existing number, we can try to use char grams to predict whether there is a number. \"Char-wb\" stays between word boundries."
   ],
   "metadata": {
    "collapsed": false,
    "pycharm": {
     "name": "#%% md\n"
    }
   }
  },
  {
   "cell_type": "code",
   "execution_count": 7,
   "outputs": [
    {
     "name": "stdout",
     "output_type": "stream",
     "text": [
      "f-score: 0.5217391304347826\n",
      "Confusion matrix: (TP: 177, FP: 4, FN: 29, TN: 18)\n",
      "Accuracy=85.53% (195/228)\n"
     ]
    },
    {
     "data": {
      "text/plain": "<Figure size 432x288 with 2 Axes>",
      "image/png": "[encoded data removed]"
     },
     "metadata": {
      "needs_background": "light"
     },
     "output_type": "display_data"
    }
   ],
   "source": [
    "model = Pipeline([\n",
    "    ('vectorizer', TfidfVectorizer(analyzer=\"char_wb\", ngram_range=(1, 6))), # 2 e.g. -ig, 6 e.g. twaalf; 1 e.g. 1 (the number 1)\n",
    "    ('resampler', SMOTETomek(random_state=0)),\n",
    "    ('classifier', svm.LinearSVC(random_state=0))\n",
    "])\n",
    "\n",
    "fit_predict_evaluate(model, train_x, train_y, test_x, test_y)"
   ],
   "metadata": {
    "collapsed": false,
    "pycharm": {
     "name": "#%%\n"
    }
   }
  },
  {
   "cell_type": "code",
   "execution_count": 8,
   "outputs": [
    {
     "name": "stdout",
     "output_type": "stream",
     "text": [
      "2.6915              0    -0.5970             t \n",
      "1.6069              1    -0.5216             on\n",
      "1.5240             0     -0.5142             ns\n",
      "1.4168              2    -0.4811              o\n",
      "1.3265             00    -0.4747              z\n",
      "1.2748                   -0.4474              r\n",
      "1.2497              (    -0.4133              '\n",
      "1.2497              (    -0.4017             he\n",
      "1.2497              )    -0.3977              g\n",
      "1.1836              3    -0.3894             du\n",
      "1.1315             )     -0.3822              n\n",
      "1.0214              1    -0.3695            ns \n",
      "0.9975              2    -0.3679             sc\n",
      "0.9817              4    -0.3666             ck\n",
      "0.8864              5    -0.3600           maar\n",
      "0.8856            00     -0.3574          maar \n",
      "0.8130           jaar    -0.3486            et \n",
      "0.8087           jaar    -0.3470              e\n",
      "0.8022              7    -0.3466            sch\n",
      "0.7967            jaa    -0.3442           maar\n"
     ]
    }
   ],
   "source": [
    "show_most_informative_features(model, n=20)"
   ],
   "metadata": {
    "collapsed": false,
    "pycharm": {
     "name": "#%%\n"
    }
   }
  },
  {
   "cell_type": "markdown",
   "source": [
    "Previousely seen digits seem important. I have no explanation for the characters on the negative side. \"Jaar\" also stays something with a clear positive impact."
   ],
   "metadata": {
    "collapsed": false,
    "pycharm": {
     "name": "#%% md\n"
    }
   }
  },
  {
   "cell_type": "markdown",
   "source": [
    "### Approach 3: Own function\n",
    "Our function from earlier checks whether there is any digit or whether it contains a number as text (based on a list of known numbers). However as warned for earlier, this kind of functions are prone to overfitting, but I want to test it anyway to compare it with our char-gram model."
   ],
   "metadata": {
    "collapsed": false,
    "pycharm": {
     "name": "#%% md\n"
    }
   }
  },
  {
   "cell_type": "code",
   "execution_count": 9,
   "outputs": [
    {
     "name": "stdout",
     "output_type": "stream",
     "text": [
      "True\n",
      "True\n"
     ]
    }
   ],
   "source": [
    "def contains_number_word(headline):\n",
    "    # Note: I didn't write this entire list all by myself, it was suggested by GitHub Co-Pilot\n",
    "    numbers = [\"één\", \"twee\", \"drie\", \"vier\", \"vijf\", \"zes\", \"zeven\", \"acht\", \"negen\", \"tien\", \"elf\", \"twaalf\",\n",
    "               \"dertien\", \"veertien\", \"vijftien\", \"zestien\", \"zeventien\", \"achttien\", \"negentien\", \"twintig\", \"dertig\",\n",
    "               \"veertig\", \"vijftig\", \"zestig\", \"zeventig\", \"tachtig\", \"negentig\", \"honderd\", \"duizend\", \"miljoen\",\n",
    "               \"miljard\", \"biljoen\", \"biljard\",\n",
    "               \"triljoen\"]  #, \"triljard\", \"quadriljoen\", \"quadriljard\", \"quintiljoen\", \"quintiljard\", \"sextiljoen\", \"sextiljard\", \"septiljoen\", \"septiljard\", \"octiljoen\", \"octiljard\", \"noniljoen\", \"noniljard\", \"deciljoen\", \"deciljard\", \"undeciljoen\", \"undeciljard\", \"duodeciljoen\", \"duodeciljard\", \"tredeciljoen\", \"tredeciljard\", \"quattuordeciljoen\", \"quattuordeciljard\", \"quindeciljoen\", \"quindeciljard\", \"sexdeciljoen\", \"sexdeciljard\", \"septendeciljoen\", \"septendeciljard\", \"octodeciljoen\", \"octodeciljard\", \"novemdeciljoen\", \"novemdeciljard\", \"vigintiljoen\", \"vigintiljard\", \"unvigintiljoen\", \"unvigintiljard\", \"duovigintiljoen\", \"duovigintiljard\", \"trevigintiljoen\", \"trevigintiljard\", \"quattuorvigintiljoen\", \"quattuorvigintiljard\", \"quinquavigintiljoen\", \"quinquavigintiljard\", \"sexvigintiljoen\", \"sexvigintiljard\", \"septenvigintiljoen\",\n",
    "    headline = headline.lower().split()\n",
    "    for number in numbers:\n",
    "        if number in headline:\n",
    "            return True\n",
    "    return False\n",
    "\n",
    "\n",
    "def contains_number(headline):\n",
    "    # TODO? This doesn't check numbers written as text (e.g. \"five\")\n",
    "    return any(char.isdigit() for char in headline)  # or contains_number_word(headline)\n",
    "\n",
    "def contains_number_or_number_word(headline):\n",
    "    return contains_number(headline) or contains_number_word(headline)\n",
    "\n",
    "print(contains_number(\n",
    "    \"Iedereen dacht dat 313 kinderen ziek werden door zijn lasagne, maar dat klopt niet: \\\"Wat dan wél?\\\"\"))\n",
    "print(contains_number(\"Kranige oma (93) bewijst dat er op angst overwinnen geen leeftijd staat\"))"
   ],
   "metadata": {
    "collapsed": false,
    "pycharm": {
     "name": "#%%\n"
    }
   }
  },
  {
   "cell_type": "code",
   "execution_count": 10,
   "outputs": [
    {
     "name": "stdout",
     "output_type": "stream",
     "text": [
      "f-score: 0.8\n",
      "Confusion matrix: (TP: 162, FP: 19, FN: 3, TN: 44)\n",
      "Accuracy=90.35% (206/228)\n"
     ]
    },
    {
     "data": {
      "text/plain": "<Figure size 432x288 with 2 Axes>",
      "image/png": "[encoded data removed]"
     },
     "metadata": {
      "needs_background": "light"
     },
     "output_type": "display_data"
    }
   ],
   "source": [
    "from util import print_evaluation\n",
    "predict = test_x.apply(contains_number_or_number_word)\n",
    "print_evaluation(test_y, predict)"
   ],
   "metadata": {
    "collapsed": false,
    "pycharm": {
     "name": "#%%\n"
    }
   }
  },
  {
   "cell_type": "markdown",
   "source": [
    "This gives the best results."
   ],
   "metadata": {
    "collapsed": false,
    "pycharm": {
     "name": "#%% md\n"
    }
   }
  },
  {
   "cell_type": "markdown",
   "source": [
    "## Approach 2: SpaCy\n",
    "Maybe SpaCy can also detect numbers, let's see:"
   ],
   "metadata": {
    "collapsed": false,
    "pycharm": {
     "name": "#%% md\n"
    }
   }
  },
  {
   "cell_type": "code",
   "execution_count": 11,
   "outputs": [
    {
     "name": "stdout",
     "output_type": "stream",
     "text": [
      "[('Het', 'DET', 'LID|bep|stan|evon'),\n",
      " ('getal', 'NOUN', 'N|soort|ev|basis|onz|stan'),\n",
      " ('acht', 'VERB', 'WW|pv|tgw|ev'),\n",
      " ('kan', 'AUX', 'WW|pv|tgw|ev'),\n",
      " ('ook', 'ADV', 'BW'),\n",
      " ('geschreven', 'VERB', 'WW|vd|vrij|zonder'),\n",
      " ('worden', 'AUX', 'WW|inf|vrij|zonder'),\n",
      " ('als', 'SCONJ', 'VG|onder'),\n",
      " ('8', 'NUM', 'TW|hoofd|vrij'),\n",
      " ('.', 'PUNCT', 'LET')]\n"
     ]
    }
   ],
   "source": [
    "import spacy\n",
    "from pprint import pprint\n",
    "\n",
    "nlp = spacy.load('nl_core_news_sm')\n",
    "pprint([(x.text, x.pos_, x.tag_) for x in nlp(u\"Het getal acht kan ook geschreven worden als 8.\")])"
   ],
   "metadata": {
    "collapsed": false,
    "pycharm": {
     "name": "#%%\n"
    }
   }
  },
  {
   "cell_type": "markdown",
   "source": [
    "It sees \"acht\" as a verb instead of a number, but \"NUM\" is also an option. Let's try another sentence:"
   ],
   "metadata": {
    "collapsed": false,
    "pycharm": {
     "name": "#%% md\n"
    }
   }
  },
  {
   "cell_type": "code",
   "execution_count": 12,
   "outputs": [
    {
     "name": "stdout",
     "output_type": "stream",
     "text": [
      "[('Drie', 'NUM', 'TW|hoofd|prenom|stan'),\n",
      " ('dagen', 'NOUN', 'N|soort|mv|basis'),\n",
      " ('geleden', 'ADV', 'BW'),\n",
      " ('was', 'AUX', 'WW|pv|verl|ev'),\n",
      " ('het', 'PRON', 'VNW|pers|pron|stan|red|3|ev|onz'),\n",
      " ('7', 'NUM', 'TW|hoofd|vrij'),\n",
      " ('augustus', 'PROPN', 'N|eigen|ev|basis|zijd|stan')]\n"
     ]
    }
   ],
   "source": [
    "pprint([(x.text, x.pos_, x.tag_) for x in nlp(u\"Drie dagen geleden was het 7 augustus\")])"
   ],
   "metadata": {
    "collapsed": false,
    "pycharm": {
     "name": "#%%\n"
    }
   }
  },
  {
   "cell_type": "markdown",
   "source": [
    "The numbers are now correctly recognized. Let's create a function for this:"
   ],
   "metadata": {
    "collapsed": false,
    "pycharm": {
     "name": "#%% md\n"
    }
   }
  },
  {
   "cell_type": "code",
   "execution_count": 13,
   "outputs": [],
   "source": [
    "def contains_number(headline):\n",
    "    return any(x.pos_ == 'NUM' for x in nlp(headline))"
   ],
   "metadata": {
    "collapsed": false,
    "pycharm": {
     "name": "#%%\n"
    }
   }
  },
  {
   "cell_type": "code",
   "execution_count": 14,
   "outputs": [
    {
     "name": "stdout",
     "output_type": "stream",
     "text": [
      "f-score: 0.7777777777777777\n",
      "Confusion matrix: (TP: 162, FP: 19, FN: 5, TN: 42)\n",
      "Accuracy=89.47% (204/228)\n"
     ]
    },
    {
     "data": {
      "text/plain": "<Figure size 432x288 with 2 Axes>",
      "image/png": "[encoded data removed]"
     },
     "metadata": {
      "needs_background": "light"
     },
     "output_type": "display_data"
    }
   ],
   "source": [
    "predictions = test_x.apply(contains_number)\n",
    "print_evaluation(test_y, predictions)"
   ],
   "metadata": {
    "collapsed": false,
    "pycharm": {
     "name": "#%%\n"
    }
   }
  },
  {
   "cell_type": "markdown",
   "source": [
    "This gives slightly worse results than the previous approach, but is probably safer for overfitting."
   ],
   "metadata": {
    "collapsed": false,
    "pycharm": {
     "name": "#%% md\n"
    }
   }
  }
 ],
 "metadata": {
  "kernelspec": {
   "display_name": "Python 3",
   "language": "python",
   "name": "python3"
  },
  "language_info": {
   "codemirror_mode": {
    "name": "ipython",
    "version": 2
   },
   "file_extension": ".py",
   "mimetype": "text/x-python",
   "name": "python",
   "nbconvert_exporter": "python",
   "pygments_lexer": "ipython2",
   "version": "2.7.6"
  }
 },
 "nbformat": 4,
 "nbformat_minor": 0
}