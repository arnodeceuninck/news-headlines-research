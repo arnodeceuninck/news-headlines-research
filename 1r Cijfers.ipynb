{
 "cells": [
  {
   "cell_type": "markdown",
   "source": [
    "# Cijfers\n",
    "## Details\n",
    "> Het  gebruik  van  cijfers  in  koppen  maakt  de  inhoud van het artikel voorspelbaar voor de lezers. Het geeft hen  zekerheid  waardoor  ze  weten  wat  ze  kunnen verwachten. Cijfers kunnen krantenkoppen interessanter  maken,  vooral  wanneer  het  gaat  om grote getallen (1). Ook kunnen cijfers inspelen op de gevoelens van mensen door bijvoorbeeld de leeftijd weer tegeven (2).\n",
    "## Example\n",
    "> (1) Iedereen dacht dat 313kinderen ziek werden door zijn lasagne, maar dat klopt niet: \"Wat dan wél?\"(2) Kranige  oma (93)bewijst  dat  er  op  angst overwinnen geen leeftijd staat"
   ],
   "metadata": {
    "collapsed": false,
    "pycharm": {
     "name": "#%% md\n"
    }
   }
  },
  {
   "cell_type": "markdown",
   "source": [
    "## Data"
   ],
   "metadata": {
    "collapsed": false,
    "pycharm": {
     "name": "#%% md\n"
    }
   }
  },
  {
   "cell_type": "code",
   "execution_count": 1,
   "outputs": [
    {
     "data": {
      "text/plain": "0    559\n1    122\nName: Cijfers, dtype: int64"
     },
     "execution_count": 1,
     "metadata": {},
     "output_type": "execute_result"
    }
   ],
   "source": [
    "from util import get_cls_train_test\n",
    "\n",
    "train_x, train_y, test_x, test_y = get_cls_train_test(\"Cijfers\")\n",
    "train_y.value_counts()"
   ],
   "metadata": {
    "collapsed": false,
    "pycharm": {
     "name": "#%%\n"
    }
   }
  },
  {
   "cell_type": "markdown",
   "source": [
    "## Approach 1: Tf-idf\n",
    "This will probably overfit on the numbers we've already seen"
   ],
   "metadata": {
    "collapsed": false,
    "pycharm": {
     "name": "#%% md\n"
    }
   }
  },
  {
   "cell_type": "code",
   "execution_count": 2,
   "outputs": [
    {
     "name": "stdout",
     "output_type": "stream",
     "text": [
      "f-score: 0.4857142857142858\n",
      "Confusion matrix: (TP: 175, FP: 6, FN: 30, TN: 17)\n",
      "Accuracy=84.21% (192/228)\n"
     ]
    },
    {
     "data": {
      "text/plain": "<Figure size 432x288 with 2 Axes>",
      "image/png": "[encoded data removed]"
     },
     "metadata": {
      "needs_background": "light"
     },
     "output_type": "display_data"
    }
   ],
   "source": [
    "from imblearn.pipeline import Pipeline\n",
    "from imblearn.combine import SMOTETomek\n",
    "from sklearn.feature_extraction.text import TfidfVectorizer\n",
    "from sklearn import svm\n",
    "\n",
    "from util import fit_predict_evaluate\n",
    "\n",
    "model = Pipeline([\n",
    "    ('vectorizer', TfidfVectorizer()),\n",
    "    ('resampler', SMOTETomek(random_state=0)),\n",
    "    ('classifier', svm.LinearSVC(random_state=0))\n",
    "])\n",
    "\n",
    "fit_predict_evaluate(model, train_x, train_y, test_x, test_y)"
   ],
   "metadata": {
    "collapsed": false,
    "pycharm": {
     "name": "#%%\n"
    }
   }
  },
  {
   "cell_type": "code",
   "execution_count": 3,
   "outputs": [
    {
     "name": "stdout",
     "output_type": "stream",
     "text": [
      "2.7186           jaar    -0.7803           maar\n",
      "2.2859            000    -0.6940           deze\n",
      "2.1316           euro    -0.6653         meghan\n",
      "1.5962         graden    -0.6162          heeft\n",
      "1.5491             24    -0.5948          vrouw\n",
      "1.4937            eén    -0.5763            dat\n",
      "1.4067          meter    -0.5753           zien\n",
      "1.3941             al    -0.5172           weer\n",
      "1.3424        miljoen    -0.5133           gaat\n",
      "1.3315          enige    -0.5102         gedaan\n"
     ]
    }
   ],
   "source": [
    "from util import show_most_informative_features\n",
    "show_most_informative_features(model)"
   ],
   "metadata": {
    "collapsed": false,
    "pycharm": {
     "name": "#%%\n"
    }
   }
  },
  {
   "cell_type": "markdown",
   "source": [
    "I didn't expect words like \"jaar\", \"euro\" or \"graden\" here, but it's quite a smart solution to the problem. Also \"000\" is interesting, since it get's seen as a seperate token in large number (because a \".\" means new token, e.g. 7.000.000 -> \"7\", \"000\" and \"000\")."
   ],
   "metadata": {
    "collapsed": false,
    "pycharm": {
     "name": "#%% md\n"
    }
   }
  },
  {
   "cell_type": "markdown",
   "source": [
    "## Approach 2: Char grams\n",
    "Since a lot of number (e.g. \"zevenhonderddrieëntwintig\") consist of existing number, we can try to use char grams to predict whether there is a number. \"Char-wb\" stays between word boundries."
   ],
   "metadata": {
    "collapsed": false,
    "pycharm": {
     "name": "#%% md\n"
    }
   }
  },
  {
   "cell_type": "code",
   "execution_count": 4,
   "outputs": [
    {
     "name": "stdout",
     "output_type": "stream",
     "text": [
      "f-score: 0.5217391304347826\n",
      "Confusion matrix: (TP: 177, FP: 4, FN: 29, TN: 18)\n",
      "Accuracy=85.53% (195/228)\n"
     ]
    },
    {
     "data": {
      "text/plain": "<Figure size 432x288 with 2 Axes>",
      "image/png": "[encoded data removed]"
     },
     "metadata": {
      "needs_background": "light"
     },
     "output_type": "display_data"
    }
   ],
   "source": [
    "model = Pipeline([\n",
    "    ('vectorizer', TfidfVectorizer(analyzer=\"char_wb\", ngram_range=(1, 6))), # 2 e.g. -ig, 6 e.g. twaalf; 1 e.g. 1 (the number 1)\n",
    "    ('resampler', SMOTETomek(random_state=0)),\n",
    "    ('classifier', svm.LinearSVC(random_state=0))\n",
    "])\n",
    "\n",
    "fit_predict_evaluate(model, train_x, train_y, test_x, test_y)"
   ],
   "metadata": {
    "collapsed": false,
    "pycharm": {
     "name": "#%%\n"
    }
   }
  },
  {
   "cell_type": "code",
   "execution_count": 6,
   "outputs": [
    {
     "name": "stdout",
     "output_type": "stream",
     "text": [
      "2.6915              0    -0.5970             t \n",
      "1.6069              1    -0.5216             on\n",
      "1.5240             0     -0.5142             ns\n",
      "1.4168              2    -0.4811              o\n",
      "1.3265             00    -0.4747              z\n",
      "1.2748                   -0.4474              r\n",
      "1.2497              (    -0.4133              '\n",
      "1.2497              (    -0.4017             he\n",
      "1.2497              )    -0.3977              g\n",
      "1.1836              3    -0.3894             du\n",
      "1.1315             )     -0.3822              n\n",
      "1.0214              1    -0.3695            ns \n",
      "0.9975              2    -0.3679             sc\n",
      "0.9817              4    -0.3666             ck\n",
      "0.8864              5    -0.3600           maar\n",
      "0.8856            00     -0.3574          maar \n",
      "0.8130           jaar    -0.3486            et \n",
      "0.8087           jaar    -0.3470              e\n",
      "0.8022              7    -0.3466            sch\n",
      "0.7967            jaa    -0.3442           maar\n"
     ]
    }
   ],
   "source": [
    "show_most_informative_features(model, n=20)"
   ],
   "metadata": {
    "collapsed": false,
    "pycharm": {
     "name": "#%%\n"
    }
   }
  },
  {
   "cell_type": "markdown",
   "source": [
    "Previousely seen digits seem important. I have no explanation for the characters on the negative side. \"Jaar\" also stays something with a clear positive impact."
   ],
   "metadata": {
    "collapsed": false,
    "pycharm": {
     "name": "#%% md\n"
    }
   }
  },
  {
   "cell_type": "markdown",
   "source": [
    "### Approach 3: Own function\n",
    "Our function from earlier checks whether there is any digit or whether it contains a number as text (based on a list of known numbers). However as warned for earlier, this kind of functions are prone to overfitting, but I want to test it anyway to compare it with our char-gram model."
   ],
   "metadata": {
    "collapsed": false,
    "pycharm": {
     "name": "#%% md\n"
    }
   }
  },
  {
   "cell_type": "code",
   "execution_count": 7,
   "outputs": [
    {
     "name": "stdout",
     "output_type": "stream",
     "text": [
      "True\n",
      "True\n"
     ]
    }
   ],
   "source": [
    "def contains_number_word(headline):\n",
    "    # Note: I didn't write this entire list all by myself, it was suggested by GitHub Co-Pilot\n",
    "    numbers = [\"één\", \"twee\", \"drie\", \"vier\", \"vijf\", \"zes\", \"zeven\", \"acht\", \"negen\", \"tien\", \"elf\", \"twaalf\",\n",
    "               \"dertien\", \"veertien\", \"vijftien\", \"zestien\", \"zeventien\", \"achttien\", \"negentien\", \"twintig\", \"dertig\",\n",
    "               \"veertig\", \"vijftig\", \"zestig\", \"zeventig\", \"tachtig\", \"negentig\", \"honderd\", \"duizend\", \"miljoen\",\n",
    "               \"miljard\", \"biljoen\", \"biljard\",\n",
    "               \"triljoen\"]  #, \"triljard\", \"quadriljoen\", \"quadriljard\", \"quintiljoen\", \"quintiljard\", \"sextiljoen\", \"sextiljard\", \"septiljoen\", \"septiljard\", \"octiljoen\", \"octiljard\", \"noniljoen\", \"noniljard\", \"deciljoen\", \"deciljard\", \"undeciljoen\", \"undeciljard\", \"duodeciljoen\", \"duodeciljard\", \"tredeciljoen\", \"tredeciljard\", \"quattuordeciljoen\", \"quattuordeciljard\", \"quindeciljoen\", \"quindeciljard\", \"sexdeciljoen\", \"sexdeciljard\", \"septendeciljoen\", \"septendeciljard\", \"octodeciljoen\", \"octodeciljard\", \"novemdeciljoen\", \"novemdeciljard\", \"vigintiljoen\", \"vigintiljard\", \"unvigintiljoen\", \"unvigintiljard\", \"duovigintiljoen\", \"duovigintiljard\", \"trevigintiljoen\", \"trevigintiljard\", \"quattuorvigintiljoen\", \"quattuorvigintiljard\", \"quinquavigintiljoen\", \"quinquavigintiljard\", \"sexvigintiljoen\", \"sexvigintiljard\", \"septenvigintiljoen\",\n",
    "    headline = headline.lower().split()\n",
    "    for number in numbers:\n",
    "        if number in headline:\n",
    "            return True\n",
    "    return False\n",
    "\n",
    "\n",
    "def contains_number(headline):\n",
    "    # TODO? This doesn't check numbers written as text (e.g. \"five\")\n",
    "    return any(char.isdigit() for char in headline)  # or contains_number_word(headline)\n",
    "\n",
    "def contains_number_or_number_word(headline):\n",
    "    return contains_number(headline) or contains_number_word(headline)\n",
    "\n",
    "print(contains_number(\n",
    "    \"Iedereen dacht dat 313 kinderen ziek werden door zijn lasagne, maar dat klopt niet: \\\"Wat dan wél?\\\"\"))\n",
    "print(contains_number(\"Kranige oma (93) bewijst dat er op angst overwinnen geen leeftijd staat\"))"
   ],
   "metadata": {
    "collapsed": false,
    "pycharm": {
     "name": "#%%\n"
    }
   }
  },
  {
   "cell_type": "code",
   "execution_count": 8,
   "outputs": [
    {
     "name": "stdout",
     "output_type": "stream",
     "text": [
      "f-score: 0.8\n",
      "Confusion matrix: (TP: 162, FP: 19, FN: 3, TN: 44)\n",
      "Accuracy=90.35% (206/228)\n"
     ]
    },
    {
     "data": {
      "text/plain": "<Figure size 432x288 with 2 Axes>",
      "image/png": "[encoded data removed]"
     },
     "metadata": {
      "needs_background": "light"
     },
     "output_type": "display_data"
    }
   ],
   "source": [
    "from util import print_evaluation\n",
    "predict = test_x.apply(contains_number_or_number_word)\n",
    "print_evaluation(test_y, predict)"
   ],
   "metadata": {
    "collapsed": false,
    "pycharm": {
     "name": "#%%\n"
    }
   }
  },
  {
   "cell_type": "markdown",
   "source": [
    "This gives the best results."
   ],
   "metadata": {
    "collapsed": false,
    "pycharm": {
     "name": "#%% md\n"
    }
   }
  },
  {
   "cell_type": "markdown",
   "source": [
    "## Approach 2: SpaCy\n",
    "SpaCy was excellent in detecting proper nouns. We might be able to check for two consequtive proper nouns."
   ],
   "metadata": {
    "collapsed": false,
    "pycharm": {
     "name": "#%% md\n"
    }
   }
  },
  {
   "cell_type": "code",
   "execution_count": 6,
   "outputs": [
    {
     "name": "stdout",
     "output_type": "stream",
     "text": [
      "[('Zanger', 'NOUN', 'ROOT', []),\n",
      " ('Arno', 'PROPN', 'amod', []),\n",
      " ('Hintjes', 'NOUN', 'obj', [('Arno', 'amod')]),\n",
      " ('overleden', 'VERB', 'ROOT', [('Hintjes', 'obj')])]\n"
     ]
    }
   ],
   "source": [
    "import spacy\n",
    "from pprint import pprint\n",
    "\n",
    "nlp = spacy.load('nl_core_news_sm')\n",
    "pprint([(x.text, x.pos_, x.dep_, [(x.text, x.dep_) for x in list(x.children)]) for x in nlp(u\"Zanger Arno Hintjes overleden\")])"
   ],
   "metadata": {
    "collapsed": false,
    "pycharm": {
     "name": "#%%\n"
    }
   }
  },
  {
   "cell_type": "markdown",
   "source": [
    "Quite strange \"Hintjes\" is not a proper noun."
   ],
   "metadata": {
    "collapsed": false,
    "pycharm": {
     "name": "#%% md\n"
    }
   }
  },
  {
   "cell_type": "code",
   "execution_count": 7,
   "outputs": [
    {
     "name": "stdout",
     "output_type": "stream",
     "text": [
      "[('Meghan', 'PROPN', 'Meghan'),\n",
      " ('Markles', 'PROPN', 'Markles'),\n",
      " ('papa', 'VERB', 'papa'),\n",
      " ('in', 'ADP', 'in'),\n",
      " ('tranen', 'NOUN', 'tranen'),\n",
      " ('toen', 'SCONJ', 'toen'),\n",
      " ('prins', 'NOUN', 'prins'),\n",
      " ('Charles', 'PROPN', 'Charles'),\n",
      " ('zijn', 'PRON', 'zijn'),\n",
      " ('dochter', 'NOUN', 'dochter'),\n",
      " ('weggaf', 'VERB', 'weggaf'),\n",
      " (':', 'PUNCT', ':'),\n",
      " ('\"', 'PUNCT', '\"'),\n",
      " ('Ik', 'PRON', 'Ik'),\n",
      " ('wenste', 'VERB', 'wenste'),\n",
      " ('dat', 'SCONJ', 'dat'),\n",
      " ('ik', 'PRON', 'ik'),\n",
      " ('daar', 'ADV', 'daar'),\n",
      " ('was', 'VERB', 'was'),\n",
      " ('\"', 'PUNCT', '\"')]\n"
     ]
    }
   ],
   "source": [
    "pprint([(x.text, x.pos_, x.text) for x in nlp(u\"Meghan Markles papa in tranen toen prins Charles zijn dochter weggaf: \\\"Ik wenste dat ik daar was\\\"\")])"
   ],
   "metadata": {
    "collapsed": false,
    "pycharm": {
     "name": "#%%\n"
    }
   }
  },
  {
   "cell_type": "code",
   "execution_count": 8,
   "outputs": [
    {
     "name": "stdout",
     "output_type": "stream",
     "text": [
      "True\n",
      "False\n"
     ]
    }
   ],
   "source": [
    "def contains_consecutive_pronouns(headline):\n",
    "    previous_propn = False\n",
    "    for x in nlp(headline):\n",
    "        if x.pos_ == 'PROPN' and previous_propn:\n",
    "            return True\n",
    "        previous_propn = x.pos_ == 'PROPN'\n",
    "    return False\n",
    "\n",
    "print(contains_consecutive_pronouns(u\"Meghan Markles papa in tranen toen prins Charles zijn dochter weggaf\"))\n",
    "print(contains_consecutive_pronouns(u\"Meghans papa in tranen toen prins Charles zijn dochter weggaf\"))"
   ],
   "metadata": {
    "collapsed": false,
    "pycharm": {
     "name": "#%%\n"
    }
   }
  },
  {
   "cell_type": "code",
   "execution_count": 9,
   "outputs": [
    {
     "name": "stdout",
     "output_type": "stream",
     "text": [
      "f-score: 0.5245901639344263\n",
      "Confusion matrix: (TP: 183, FP: 26, FN: 3, TN: 16)\n",
      "Accuracy=87.28% (199/228)\n"
     ]
    },
    {
     "data": {
      "text/plain": "<Figure size 432x288 with 2 Axes>",
      "image/png": "[encoded data removed]"
     },
     "metadata": {
      "needs_background": "light"
     },
     "output_type": "display_data"
    }
   ],
   "source": [
    "import numpy as np\n",
    "from util import print_evaluation\n",
    "\n",
    "prediction = np.vectorize(contains_consecutive_pronouns)(test_x)\n",
    "print_evaluation(test_y, prediction)"
   ],
   "metadata": {
    "collapsed": false,
    "pycharm": {
     "name": "#%%\n"
    }
   }
  },
  {
   "cell_type": "markdown",
   "source": [
    " A slightly worse accuracy, but the f-score is already better."
   ],
   "metadata": {
    "collapsed": false,
    "pycharm": {
     "name": "#%% md\n"
    }
   }
  },
  {
   "cell_type": "code",
   "execution_count": 10,
   "outputs": [
    {
     "data": {
      "text/plain": "Test      \n102   270     Hij is de beroemdste peuter van België, maar w...\n733   1834    \"Zo ga ik beroemd worden\": cliniclown Kevin (3...\n3     4       Maandag drukste dag van het jaar op Brussels A...\n465   1172    Club Brugge haalt Nederlands talent met straff...\n495   1237    Man zwemt in zes maanden en in 9.000 kilometer...\nName: Headline, dtype: object"
     },
     "execution_count": 10,
     "metadata": {},
     "output_type": "execute_result"
    }
   ],
   "source": [
    "# False positives\n",
    "prediction = train_x.apply(contains_consecutive_pronouns)\n",
    "train_x[(prediction != train_y) & (prediction == 1)][:5]"
   ],
   "metadata": {
    "collapsed": false,
    "pycharm": {
     "name": "#%%\n"
    }
   }
  },
  {
   "cell_type": "markdown",
   "source": [
    "Things like \"Manneke Pis\", \"Club Brugge\", \"Stille Ocean\" are false positives. Let's see if we can solve this by combining this function with Tf-Idf."
   ],
   "metadata": {
    "collapsed": false,
    "pycharm": {
     "name": "#%% md\n"
    }
   }
  },
  {
   "cell_type": "markdown",
   "source": [
    "## Approach 3: Tf-Idf + Consecutive proper nouns (SpaCy)"
   ],
   "metadata": {
    "collapsed": false,
    "pycharm": {
     "name": "#%% md\n"
    }
   }
  },
  {
   "cell_type": "code",
   "execution_count": 11,
   "outputs": [
    {
     "name": "stdout",
     "output_type": "stream",
     "text": [
      "f-score: 0.6666666666666666\n",
      "Confusion matrix: (TP: 200, FP: 9, FN: 5, TN: 14)\n",
      "Accuracy=93.86% (214/228)\n"
     ]
    },
    {
     "data": {
      "text/plain": "<Figure size 432x288 with 2 Axes>",
      "image/png": "[encoded data removed]"
     },
     "metadata": {
      "needs_background": "light"
     },
     "output_type": "display_data"
    }
   ],
   "source": [
    "from sklearn.pipeline import FeatureUnion\n",
    "from util import FunctionTransformer\n",
    "model = Pipeline([\n",
    "    ('union', FeatureUnion([\n",
    "        ('vectorizer', TfidfVectorizer(ngram_range=(1, 1))),\n",
    "        ('consecutive_pronouns', FunctionTransformer(contains_consecutive_pronouns))\n",
    "    ])),\n",
    "    ('resampler', SMOTETomek(random_state=0)),\n",
    "    ('classifier', svm.LinearSVC(random_state=0))\n",
    "])\n",
    "\n",
    "fit_predict_evaluate(model, train_x, train_y, test_x, test_y)"
   ],
   "metadata": {
    "collapsed": false,
    "pycharm": {
     "name": "#%%\n"
    }
   }
  },
  {
   "cell_type": "markdown",
   "source": [
    "We're getting a better accuracy and a better f-score now."
   ],
   "metadata": {
    "collapsed": false,
    "pycharm": {
     "name": "#%% md\n"
    }
   }
  },
  {
   "cell_type": "code",
   "execution_count": 12,
   "outputs": [
    {
     "name": "stdout",
     "output_type": "stream",
     "text": [
      "1.3005         zitten    -1.1260           rode\n",
      "1.0842           demi    -0.7400        duivels\n",
      "1.0842         lovato    -0.7092            uit\n",
      "1.0787         hilton    -0.6527           club\n",
      "1.0787          paris    -0.6261           maar\n",
      "0.8728           niet    -0.6123           voor\n",
      "0.8459    belangrijke    -0.6060             op\n",
      "0.8459     executeren    -0.5970             ik\n",
      "0.8325            mol    -0.5704     temptation\n",
      "0.8307           marc    -0.5687          trump\n"
     ]
    }
   ],
   "source": [
    "show_most_informative_features(model, vectorizer=model.named_steps['union'].transformer_list[0][1])"
   ],
   "metadata": {
    "collapsed": false,
    "pycharm": {
     "name": "#%%\n"
    }
   }
  },
  {
   "cell_type": "markdown",
   "source": [
    "Some words related to \"Rode Duivels\" (rode, duivels, doelman ...). Let's try 2-grams again:"
   ],
   "metadata": {
    "collapsed": false,
    "pycharm": {
     "name": "#%% md\n"
    }
   }
  },
  {
   "cell_type": "code",
   "execution_count": 14,
   "outputs": [
    {
     "name": "stdout",
     "output_type": "stream",
     "text": [
      "f-score: 0.5714285714285714\n",
      "Confusion matrix: (TP: 193, FP: 16, FN: 5, TN: 14)\n",
      "Accuracy=90.79% (207/228)\n"
     ]
    },
    {
     "data": {
      "text/plain": "<Figure size 432x288 with 2 Axes>",
      "image/png": "[encoded data removed]"
     },
     "metadata": {
      "needs_background": "light"
     },
     "output_type": "display_data"
    }
   ],
   "source": [
    "model = Pipeline([\n",
    "    ('union', FeatureUnion([\n",
    "        ('vectorizer', TfidfVectorizer(ngram_range=(2, 2))),\n",
    "        ('consecutive_pronouns', FunctionTransformer(contains_consecutive_pronouns))\n",
    "    ])),\n",
    "    ('resampler', SMOTETomek(random_state=0)),\n",
    "    ('classifier', svm.LinearSVC(random_state=0))\n",
    "])\n",
    "\n",
    "fit_predict_evaluate(model, train_x, train_y, test_x, test_y)"
   ],
   "metadata": {
    "collapsed": false,
    "pycharm": {
     "name": "#%%\n"
    }
   }
  },
  {
   "cell_type": "code",
   "execution_count": 15,
   "outputs": [
    {
     "name": "stdout",
     "output_type": "stream",
     "text": [
      "1.0833    demi lovato    -0.8996   rode duivels\n",
      "0.9351   paris hilton    -0.6517        de rode\n",
      "0.7770      erpe mere    -0.4987          is de\n",
      "0.7770honderden treinreizigers    -0.4861    club brugge\n",
      "0.7770        in erpe    -0.4731          op de\n",
      "0.7770treinreizigers zitten    -0.4036         uit de\n",
      "0.7770    zitten vast    -0.3973temptation island\n",
      "0.7569     terug naar    -0.3883        met een\n",
      "0.6765    in kritieke    -0.3805   test aankoop\n",
      "0.6765kritieke toestand    -0.3659          in de\n"
     ]
    }
   ],
   "source": [
    "show_most_informative_features(model, vectorizer=model.named_steps['union'].transformer_list[0][1])"
   ],
   "metadata": {
    "collapsed": false,
    "pycharm": {
     "name": "#%%\n"
    }
   }
  },
  {
   "cell_type": "markdown",
   "source": [
    "Still stragne results, I would've expected way more firt+lastname pairs with a positive impact. I did expect words like \"rode duivels\", \"club brugge\", \"temptation island\" and \"test aankoop\" with a negative impact, as it's now the case."
   ],
   "metadata": {
    "collapsed": false,
    "pycharm": {
     "name": "#%% md\n"
    }
   }
  }
 ],
 "metadata": {
  "kernelspec": {
   "display_name": "Python 3",
   "language": "python",
   "name": "python3"
  },
  "language_info": {
   "codemirror_mode": {
    "name": "ipython",
    "version": 2
   },
   "file_extension": ".py",
   "mimetype": "text/x-python",
   "name": "python",
   "nbconvert_exporter": "python",
   "pygments_lexer": "ipython2",
   "version": "2.7.6"
  }
 },
 "nbformat": 4,
 "nbformat_minor": 0
}