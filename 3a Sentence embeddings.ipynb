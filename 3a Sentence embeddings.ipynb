{
 "cells": [
  {
   "cell_type": "markdown",
   "source": [
    "# Sentence Embedding\n",
    "Let's try embedding the headlines as an extra feature."
   ],
   "metadata": {
    "collapsed": false,
    "pycharm": {
     "name": "#%% md\n"
    }
   }
  },
  {
   "cell_type": "code",
   "execution_count": 2,
   "outputs": [],
   "source": [
    "from util import get_wpm_train_test, get_label_columns\n",
    "\n",
    "train_x_full, train_y, test_x, test_y, groups = get_wpm_train_test(include_groups=True, x_train_features_only=False)\n",
    "\n",
    "features = get_label_columns() # initially only the manual labels"
   ],
   "metadata": {
    "collapsed": false,
    "pycharm": {
     "name": "#%%\n"
    }
   }
  },
  {
   "cell_type": "markdown",
   "source": [
    "## Sample feature\n",
    "Let's add the length of the headline as extra feature. The model can be found on [HuggingFace](https://huggingface.co/jegormeister/bert-base-dutch-cased-snli)."
   ],
   "metadata": {
    "collapsed": false,
    "pycharm": {
     "name": "#%% md\n"
    }
   }
  },
  {
   "cell_type": "code",
   "execution_count": 9,
   "outputs": [
    {
     "data": {
      "text/plain": "array([-0.55458266,  0.09503073, -0.31788656, -0.15507075,  0.12698768],\n      dtype=float32)"
     },
     "execution_count": 9,
     "metadata": {},
     "output_type": "execute_result"
    }
   ],
   "source": [
    "from sentence_transformers import SentenceTransformer\n",
    "\n",
    "bertje = SentenceTransformer(\"jegormeister/bert-base-dutch-cased-snli\")\n",
    "bertje.encode(\"Wat een sprookjesverhaal, zijn we niet allemaal unicorns en dolfijnen?\")[:5]"
   ],
   "metadata": {
    "collapsed": false,
    "pycharm": {
     "name": "#%%\n"
    }
   }
  },
  {
   "cell_type": "code",
   "execution_count": 19,
   "outputs": [
    {
     "data": {
      "text/plain": "(5, 768)"
     },
     "execution_count": 19,
     "metadata": {},
     "output_type": "execute_result"
    }
   ],
   "source": [
    "import numpy as np\n",
    "np.shape(bertje.encode(train_x_full[\"Headline\"].head().tolist()))"
   ],
   "metadata": {
    "collapsed": false,
    "pycharm": {
     "name": "#%%\n"
    }
   }
  },
  {
   "cell_type": "code",
   "execution_count": 20,
   "outputs": [
    {
     "data": {
      "text/plain": "                                               Headline  Lang\n1352  Waarom 25 miljoen het strafste cijfer is van h...     1\n1981  Staking bij Carrefour-winkels in Brugge en Bru...     0\n381   Opvallend zicht bij modeshow: model trotseert ...     1\n357   Waarom je toch best een donsdeken kiest, zelfs...     0\n73    Hoe raak ik in slaap? Mag ik thuisblijven? Kan...     1",
      "text/html": "<div>\n<style scoped>\n    .dataframe tbody tr th:only-of-type {\n        vertical-align: middle;\n    }\n\n    .dataframe tbody tr th {\n        vertical-align: top;\n    }\n\n    .dataframe thead th {\n        text-align: right;\n    }\n</style>\n<table border=\"1\" class=\"dataframe\">\n  <thead>\n    <tr style=\"text-align: right;\">\n      <th></th>\n      <th>Headline</th>\n      <th>Lang</th>\n    </tr>\n  </thead>\n  <tbody>\n    <tr>\n      <th>1352</th>\n      <td>Waarom 25 miljoen het strafste cijfer is van h...</td>\n      <td>1</td>\n    </tr>\n    <tr>\n      <th>1981</th>\n      <td>Staking bij Carrefour-winkels in Brugge en Bru...</td>\n      <td>0</td>\n    </tr>\n    <tr>\n      <th>381</th>\n      <td>Opvallend zicht bij modeshow: model trotseert ...</td>\n      <td>1</td>\n    </tr>\n    <tr>\n      <th>357</th>\n      <td>Waarom je toch best een donsdeken kiest, zelfs...</td>\n      <td>0</td>\n    </tr>\n    <tr>\n      <th>73</th>\n      <td>Hoe raak ik in slaap? Mag ik thuisblijven? Kan...</td>\n      <td>1</td>\n    </tr>\n  </tbody>\n</table>\n</div>"
     },
     "execution_count": 20,
     "metadata": {},
     "output_type": "execute_result"
    }
   ],
   "source": [
    "random_df = train_x_full.sample(n=5)[[\"Headline\", \"Lang\"]]\n",
    "random_df"
   ],
   "metadata": {
    "collapsed": false,
    "pycharm": {
     "name": "#%%\n"
    }
   }
  },
  {
   "cell_type": "markdown",
   "source": [
    "Let's see how we can add the embedding to this dataframe:"
   ],
   "metadata": {
    "collapsed": false,
    "pycharm": {
     "name": "#%% md\n"
    }
   }
  },
  {
   "cell_type": "code",
   "execution_count": 22,
   "outputs": [
    {
     "name": "stderr",
     "output_type": "stream",
     "text": [
      "C:\\Users\\arnod\\AppData\\Local\\Programs\\Python\\Python39\\lib\\site-packages\\pandas\\core\\frame.py:3678: PerformanceWarning: DataFrame is highly fragmented.  This is usually the result of calling `frame.insert` many times, which has poor performance.  Consider joining all columns at once using pd.concat(axis=1) instead.  To get a de-fragmented frame, use `newframe = frame.copy()`\n",
      "  self[col] = igetitem(value, i)\n"
     ]
    },
    {
     "data": {
      "text/plain": "                                               Headline  Lang      Emb0  \\\n1352  Waarom 25 miljoen het strafste cijfer is van h...     1  0.448517   \n1981  Staking bij Carrefour-winkels in Brugge en Bru...     0  0.942102   \n381   Opvallend zicht bij modeshow: model trotseert ...     1  0.454693   \n357   Waarom je toch best een donsdeken kiest, zelfs...     0 -0.070716   \n73    Hoe raak ik in slaap? Mag ik thuisblijven? Kan...     1  0.443153   \n\n          Emb1      Emb2      Emb3      Emb4      Emb5      Emb6      Emb7  \\\n1352  0.278199 -0.420898  0.145133  0.690802  0.283390  0.939838 -0.180650   \n1981 -0.463839  0.095217  0.519902  0.521845 -0.734484  0.155477 -1.265249   \n381   0.516306  0.277446  0.632530  0.593025 -0.135509  0.381431 -0.619849   \n357  -0.425522 -1.031793  0.662382  0.110643 -0.640449  0.808782 -0.147474   \n73    0.556215  0.188518  0.301115 -0.004819 -0.256097  0.009731  0.231806   \n\n      ...    Emb758    Emb759    Emb760    Emb761    Emb762    Emb763  \\\n1352  ...  0.444060  6.597753 -1.051205 -0.426392 -0.275842  0.141099   \n1981  ...  0.208803  6.282385  0.193626 -1.060673  0.305996  1.511493   \n381   ...  0.674591  6.123947 -0.339718 -0.694232  0.345503  0.705886   \n357   ...  0.351059  6.178370  0.838096 -0.332504  0.244777  0.887251   \n73    ...  0.880076  6.366153  0.561849 -0.525922 -1.409188  0.644791   \n\n        Emb764    Emb765    Emb766    Emb767  \n1352 -0.712734 -0.552485  1.015597  0.408669  \n1981 -0.576653  0.800232 -0.826304  0.546866  \n381  -0.535159  0.641356  0.171154 -0.483703  \n357  -0.540983 -0.255850 -0.249933  0.110593  \n73    0.002090 -0.122780  0.314283  0.169879  \n\n[5 rows x 770 columns]",
      "text/html": "<div>\n<style scoped>\n    .dataframe tbody tr th:only-of-type {\n        vertical-align: middle;\n    }\n\n    .dataframe tbody tr th {\n        vertical-align: top;\n    }\n\n    .dataframe thead th {\n        text-align: right;\n    }\n</style>\n<table border=\"1\" class=\"dataframe\">\n  <thead>\n    <tr style=\"text-align: right;\">\n      <th></th>\n      <th>Headline</th>\n      <th>Lang</th>\n      <th>Emb0</th>\n      <th>Emb1</th>\n      <th>Emb2</th>\n      <th>Emb3</th>\n      <th>Emb4</th>\n      <th>Emb5</th>\n      <th>Emb6</th>\n      <th>Emb7</th>\n      <th>...</th>\n      <th>Emb758</th>\n      <th>Emb759</th>\n      <th>Emb760</th>\n      <th>Emb761</th>\n      <th>Emb762</th>\n      <th>Emb763</th>\n      <th>Emb764</th>\n      <th>Emb765</th>\n      <th>Emb766</th>\n      <th>Emb767</th>\n    </tr>\n  </thead>\n  <tbody>\n    <tr>\n      <th>1352</th>\n      <td>Waarom 25 miljoen het strafste cijfer is van h...</td>\n      <td>1</td>\n      <td>0.448517</td>\n      <td>0.278199</td>\n      <td>-0.420898</td>\n      <td>0.145133</td>\n      <td>0.690802</td>\n      <td>0.283390</td>\n      <td>0.939838</td>\n      <td>-0.180650</td>\n      <td>...</td>\n      <td>0.444060</td>\n      <td>6.597753</td>\n      <td>-1.051205</td>\n      <td>-0.426392</td>\n      <td>-0.275842</td>\n      <td>0.141099</td>\n      <td>-0.712734</td>\n      <td>-0.552485</td>\n      <td>1.015597</td>\n      <td>0.408669</td>\n    </tr>\n    <tr>\n      <th>1981</th>\n      <td>Staking bij Carrefour-winkels in Brugge en Bru...</td>\n      <td>0</td>\n      <td>0.942102</td>\n      <td>-0.463839</td>\n      <td>0.095217</td>\n      <td>0.519902</td>\n      <td>0.521845</td>\n      <td>-0.734484</td>\n      <td>0.155477</td>\n      <td>-1.265249</td>\n      <td>...</td>\n      <td>0.208803</td>\n      <td>6.282385</td>\n      <td>0.193626</td>\n      <td>-1.060673</td>\n      <td>0.305996</td>\n      <td>1.511493</td>\n      <td>-0.576653</td>\n      <td>0.800232</td>\n      <td>-0.826304</td>\n      <td>0.546866</td>\n    </tr>\n    <tr>\n      <th>381</th>\n      <td>Opvallend zicht bij modeshow: model trotseert ...</td>\n      <td>1</td>\n      <td>0.454693</td>\n      <td>0.516306</td>\n      <td>0.277446</td>\n      <td>0.632530</td>\n      <td>0.593025</td>\n      <td>-0.135509</td>\n      <td>0.381431</td>\n      <td>-0.619849</td>\n      <td>...</td>\n      <td>0.674591</td>\n      <td>6.123947</td>\n      <td>-0.339718</td>\n      <td>-0.694232</td>\n      <td>0.345503</td>\n      <td>0.705886</td>\n      <td>-0.535159</td>\n      <td>0.641356</td>\n      <td>0.171154</td>\n      <td>-0.483703</td>\n    </tr>\n    <tr>\n      <th>357</th>\n      <td>Waarom je toch best een donsdeken kiest, zelfs...</td>\n      <td>0</td>\n      <td>-0.070716</td>\n      <td>-0.425522</td>\n      <td>-1.031793</td>\n      <td>0.662382</td>\n      <td>0.110643</td>\n      <td>-0.640449</td>\n      <td>0.808782</td>\n      <td>-0.147474</td>\n      <td>...</td>\n      <td>0.351059</td>\n      <td>6.178370</td>\n      <td>0.838096</td>\n      <td>-0.332504</td>\n      <td>0.244777</td>\n      <td>0.887251</td>\n      <td>-0.540983</td>\n      <td>-0.255850</td>\n      <td>-0.249933</td>\n      <td>0.110593</td>\n    </tr>\n    <tr>\n      <th>73</th>\n      <td>Hoe raak ik in slaap? Mag ik thuisblijven? Kan...</td>\n      <td>1</td>\n      <td>0.443153</td>\n      <td>0.556215</td>\n      <td>0.188518</td>\n      <td>0.301115</td>\n      <td>-0.004819</td>\n      <td>-0.256097</td>\n      <td>0.009731</td>\n      <td>0.231806</td>\n      <td>...</td>\n      <td>0.880076</td>\n      <td>6.366153</td>\n      <td>0.561849</td>\n      <td>-0.525922</td>\n      <td>-1.409188</td>\n      <td>0.644791</td>\n      <td>0.002090</td>\n      <td>-0.122780</td>\n      <td>0.314283</td>\n      <td>0.169879</td>\n    </tr>\n  </tbody>\n</table>\n<p>5 rows × 770 columns</p>\n</div>"
     },
     "execution_count": 22,
     "metadata": {},
     "output_type": "execute_result"
    }
   ],
   "source": [
    "# Add the sentence embedding of headline as extra feature (along with \"Lang\")\n",
    "random_df[list(map(lambda i: f\"Emb{i}\", range(768)))] = bertje.encode(random_df[\"Headline\"].tolist())\n",
    "random_df.head()"
   ],
   "metadata": {
    "collapsed": false,
    "pycharm": {
     "name": "#%%\n"
    }
   }
  },
  {
   "cell_type": "markdown",
   "source": [
    "Alright, seems like I've found a way to add the sentence embedding to the dataframe."
   ],
   "metadata": {
    "collapsed": false,
    "pycharm": {
     "name": "#%% md\n"
    }
   }
  },
  {
   "cell_type": "code",
   "execution_count": 23,
   "outputs": [
    {
     "name": "stderr",
     "output_type": "stream",
     "text": [
      "C:\\Users\\arnod\\AppData\\Local\\Programs\\Python\\Python39\\lib\\site-packages\\pandas\\core\\frame.py:3678: PerformanceWarning: DataFrame is highly fragmented.  This is usually the result of calling `frame.insert` many times, which has poor performance.  Consider joining all columns at once using pd.concat(axis=1) instead.  To get a de-fragmented frame, use `newframe = frame.copy()`\n",
      "  self[col] = igetitem(value, i)\n"
     ]
    }
   ],
   "source": [
    "embedding_columns = list(map(lambda i: f\"Emb{i}\", range(768)))\n",
    "features = features + embedding_columns\n",
    "def add_headline_embedding_to_dataframe(df):\n",
    "    modified_df = df.copy()\n",
    "    modified_df[embedding_columns] = bertje.encode(df[\"Headline\"].tolist())\n",
    "    return modified_df\n",
    "\n",
    "train_x_full_new = add_headline_embedding_to_dataframe(train_x_full)\n",
    "test_x_new = add_headline_embedding_to_dataframe(test_x)"
   ],
   "metadata": {
    "collapsed": false,
    "pycharm": {
     "name": "#%%\n"
    }
   }
  },
  {
   "cell_type": "markdown",
   "source": [
    "Note: There probably must be a better way to do this, possibly with FeatureUnion, but that's also difficult to get to work, since FeatureUnion doesn't like the other parameters in a dataframe."
   ],
   "metadata": {
    "collapsed": false,
    "pycharm": {
     "name": "#%% md\n"
    }
   }
  },
  {
   "cell_type": "markdown",
   "source": [
    "### Evaluate"
   ],
   "metadata": {
    "collapsed": false,
    "pycharm": {
     "name": "#%% md\n"
    }
   }
  },
  {
   "cell_type": "code",
   "execution_count": 26,
   "outputs": [
    {
     "name": "stdout",
     "output_type": "stream",
     "text": [
      "Accuracy: 52.20% (95/182)\n"
     ]
    }
   ],
   "source": [
    "from util import get_naive_bayes_model_wp, fit_predict_print_wp, print_wp_evaluation, predict_wp\n",
    "\n",
    "model = get_naive_bayes_model_wp()\n",
    "\n",
    "model.fit(train_x_full_new[features], train_y[\"Winner\"])\n",
    "predicted_winners = predict_wp(model, test_x_new, features=features)\n",
    "print_wp_evaluation(predicted_winners, test_y)"
   ],
   "metadata": {
    "collapsed": false,
    "pycharm": {
     "name": "#%%\n"
    }
   }
  },
  {
   "cell_type": "code",
   "execution_count": 31,
   "outputs": [
    {
     "name": "stderr",
     "output_type": "stream",
     "text": [
      "C:\\Users\\arnod\\AppData\\Local\\Programs\\Python\\Python39\\lib\\site-packages\\xgboost\\core.py:525: FutureWarning: Pass `sample_weight` as keyword args.  Passing these as positional arguments will be considered as error in future releases.\n",
      "  warnings.warn(\n"
     ]
    },
    {
     "name": "stdout",
     "output_type": "stream",
     "text": [
      "Accuracy: 52.75% (96/182)\n"
     ]
    }
   ],
   "source": [
    "from util import get_xgboost_model_wp, fit_predict_print_wp, print_wp_evaluation, predict_wp\n",
    "\n",
    "model = get_xgboost_model_wp()\n",
    "\n",
    "model.fit(train_x_full_new[features], train_y[\"Winner\"], groups)\n",
    "predicted_winners = predict_wp(model, test_x_new, features=features)\n",
    "print_wp_evaluation(predicted_winners, test_y)"
   ],
   "metadata": {
    "collapsed": false,
    "pycharm": {
     "name": "#%%\n"
    }
   }
  },
  {
   "cell_type": "markdown",
   "source": [
    "Strange, in both cases, this makes the model worse. Maybe we need to focus more on the difference between sentences.\n",
    "Let's take a look at the importance of the features in xgboost:"
   ],
   "metadata": {
    "collapsed": false,
    "pycharm": {
     "name": "#%% md\n"
    }
   }
  },
  {
   "cell_type": "code",
   "execution_count": 32,
   "outputs": [
    {
     "data": {
      "text/plain": "<Figure size 432x288 with 1 Axes>",
      "image/png": "[encoded data removed]"
     },
     "metadata": {
      "needs_background": "light"
     },
     "output_type": "display_data"
    },
    {
     "data": {
      "text/plain": "<Figure size 1152x864 with 0 Axes>"
     },
     "metadata": {},
     "output_type": "display_data"
    }
   ],
   "source": [
    "import xgboost as xgb\n",
    "import matplotlib.pyplot as plt\n",
    "\n",
    "xgb.plot_importance(model, max_num_features=10)\n",
    "plt.figure(figsize=(16, 12))\n",
    "plt.show()"
   ],
   "metadata": {
    "collapsed": false,
    "pycharm": {
     "name": "#%%\n"
    }
   }
  },
  {
   "cell_type": "markdown",
   "source": [
    "Some of the embedding numbers are more important accoording to the model than other manually labelled features. It's also quite strange that the order of importance of the manually labelled features has completely changed. The previous top 3 was \"Voorwaartse verwijzing\", \"Actief\" and \"Emotie\". \"Adjectieven\" was only 9th. (but the model is worse than when only using the manual labels, so maybe I shouldn't trust the model)."
   ],
   "metadata": {
    "collapsed": false,
    "pycharm": {
     "name": "#%% md\n"
    }
   }
  },
  {
   "cell_type": "markdown",
   "source": [
    "Because of the bad performance, let's take a quick look whether the sentence embeddings are actually working for dutch by doing a similarity test. This code is strongly baased (almost copied) on the code from [this documentation](https://www.sbert.net/docs/quickstart.html#comparing-sentence-similarities)."
   ],
   "metadata": {
    "collapsed": false,
    "pycharm": {
     "name": "#%% md\n"
    }
   }
  },
  {
   "cell_type": "code",
   "execution_count": 29,
   "outputs": [
    {
     "name": "stdout",
     "output_type": "stream",
     "text": [
      "Top-5 most similar pairs:\n",
      "Een man eet voedsel. \t Een man is een stuk brood aan het eten. \t 0.7251\n",
      "Een man rijdt paard. \t Een man rijd op een wit paard in een afgesloten grond. \t 0.7103\n",
      "Een aap speelt drum. \t Iemand in een gorilla kostuum speelt op een drumstel. \t 0.6851\n",
      "Een vrouw is viool aan het spelen. \t Iemand in een gorilla kostuum speelt op een drumstel. \t 0.3039\n",
      "Het meisje draagt een baby. \t Iemand in een gorilla kostuum speelt op een drumstel. \t 0.2685\n"
     ]
    }
   ],
   "source": [
    "from sentence_transformers import SentenceTransformer, util\n",
    "model = SentenceTransformer('jegormeister/bert-base-dutch-cased-snli')\n",
    "\n",
    "sentences_original = ['A man is eating food.',\n",
    "          'A man is eating a piece of bread.',\n",
    "          'The girl is carrying a baby.',\n",
    "          'A man is riding a horse.',\n",
    "          'A woman is playing violin.',\n",
    "          'Two men pushed carts through the woods.',\n",
    "          'A man is riding a white horse on an enclosed ground.',\n",
    "          'A monkey is playing drums.',\n",
    "          'Someone in a gorilla costume is playing a set of drums.'\n",
    "          ]\n",
    "\n",
    "# Translated the sentences to dutch\n",
    "sentences = ['Een man eet voedsel.',\n",
    "             'Een man is een stuk brood aan het eten.',\n",
    "             'Het meisje draagt een baby.',\n",
    "             'Een man rijdt paard.',\n",
    "             'Een vrouw is viool aan het spelen.',\n",
    "             'Twee mannen duwen carts door het bos.',\n",
    "             'Een man rijd op een wit paard in een afgesloten grond.',\n",
    "             'Een aap speelt drum.',\n",
    "             'Iemand in een gorilla kostuum speelt op een drumstel.']\n",
    "\n",
    "#Encode all sentences\n",
    "embeddings = model.encode(sentences)\n",
    "\n",
    "#Compute cosine similarity between all pairs\n",
    "cos_sim = util.cos_sim(embeddings, embeddings)\n",
    "\n",
    "#Add all pairs to a list with their cosine similarity score\n",
    "all_sentence_combinations = []\n",
    "for i in range(len(cos_sim)-1):\n",
    "    for j in range(i+1, len(cos_sim)):\n",
    "        all_sentence_combinations.append([cos_sim[i][j], i, j])\n",
    "\n",
    "#Sort list by the highest cosine similarity score\n",
    "all_sentence_combinations = sorted(all_sentence_combinations, key=lambda x: x[0], reverse=True)\n",
    "\n",
    "print(\"Top-5 most similar pairs:\")\n",
    "for score, i, j in all_sentence_combinations[0:5]:\n",
    "    print(\"{} \\t {} \\t {:.4f}\".format(sentences[i], sentences[j], cos_sim[i][j]))"
   ],
   "metadata": {
    "collapsed": false,
    "pycharm": {
     "name": "#%%\n"
    }
   }
  },
  {
   "cell_type": "markdown",
   "source": [
    "Yup, the sentence embeddings seem to work. It's just not a useful feature in this scenario."
   ],
   "metadata": {
    "collapsed": false,
    "pycharm": {
     "name": "#%% md\n"
    }
   }
  }
 ],
 "metadata": {
  "kernelspec": {
   "display_name": "Python 3",
   "language": "python",
   "name": "python3"
  },
  "language_info": {
   "codemirror_mode": {
    "name": "ipython",
    "version": 2
   },
   "file_extension": ".py",
   "mimetype": "text/x-python",
   "name": "python",
   "nbconvert_exporter": "python",
   "pygments_lexer": "ipython2",
   "version": "2.7.6"
  }
 },
 "nbformat": 4,
 "nbformat_minor": 0
}