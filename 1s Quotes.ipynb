{
 "cells": [
  {
   "cell_type": "markdown",
   "source": [
    "# Quotes\n",
    "## Details\n",
    "> Een  citaat  benadrukt  een  belangrijk  deel  van  het artikel,  waardoor  het  de  lezers  prikkelt  om  ook  het achterliggende verhaal te willen lezen.\n",
    "## Example\n",
    "> Pakkende  getuigenis  van  ex-gevangene: \"In  de cel hingen de muren vol stront\""
   ],
   "metadata": {
    "collapsed": false,
    "pycharm": {
     "name": "#%% md\n"
    }
   }
  },
  {
   "cell_type": "markdown",
   "source": [
    "## Data"
   ],
   "metadata": {
    "collapsed": false,
    "pycharm": {
     "name": "#%% md\n"
    }
   }
  },
  {
   "cell_type": "code",
   "execution_count": 1,
   "outputs": [
    {
     "data": {
      "text/plain": "0    469\n1    212\nName: Quotes, dtype: int64"
     },
     "execution_count": 1,
     "metadata": {},
     "output_type": "execute_result"
    }
   ],
   "source": [
    "from util import get_cls_train_test\n",
    "\n",
    "train_x, train_y, test_x, test_y = get_cls_train_test(\"Quotes\")\n",
    "train_y.value_counts()"
   ],
   "metadata": {
    "collapsed": false,
    "pycharm": {
     "name": "#%%\n"
    }
   }
  },
  {
   "cell_type": "markdown",
   "source": [
    "## Approach 1: All headlines containing quotation mark"
   ],
   "metadata": {
    "collapsed": false,
    "pycharm": {
     "name": "#%% md\n"
    }
   }
  },
  {
   "cell_type": "code",
   "execution_count": 4,
   "outputs": [],
   "source": [
    "def contains_quotation_mark(text):\n",
    "    return \"\\\"\" in text"
   ],
   "metadata": {
    "collapsed": false,
    "pycharm": {
     "name": "#%%\n"
    }
   }
  },
  {
   "cell_type": "code",
   "execution_count": 14,
   "outputs": [
    {
     "name": "stdout",
     "output_type": "stream",
     "text": [
      "f-score: 0.9645390070921985\n",
      "Confusion matrix: (TP: 155, FP: 5, FN: 0, TN: 68)\n",
      "Accuracy=97.81% (223/228)\n"
     ]
    },
    {
     "data": {
      "text/plain": "<Figure size 432x288 with 2 Axes>",
      "image/png": "[encoded data removed]"
     },
     "metadata": {
      "needs_background": "light"
     },
     "output_type": "display_data"
    }
   ],
   "source": [
    "from util import print_evaluation\n",
    "predictions = test_x.apply(contains_quotation_mark).apply(lambda x: int(x)) # also convert bool to int\n",
    "print_evaluation(test_y, predictions)"
   ],
   "metadata": {
    "collapsed": false,
    "pycharm": {
     "name": "#%%\n"
    }
   }
  },
  {
   "cell_type": "markdown",
   "source": [
    "As expected, this trivial solutions performs quite good. Let’s see at the misclassifications in our training data:"
   ],
   "metadata": {
    "collapsed": false,
    "pycharm": {
     "name": "#%% md\n"
    }
   }
  },
  {
   "cell_type": "code",
   "execution_count": 15,
   "outputs": [
    {
     "data": {
      "text/plain": "Test      \n149   387     \"Iedereen\" krijgt psycholoog terugbetaald... b...\n333   840     Stranden populaire vakantiebestemming overspoe...\n820   2047    De Amerikaan die streed voor vrouwenrechten en...\n164   430     \"Kwetsbare\" Luc (57) spoorloos na bezoek aan L...\n579   1451    Het (slechte) rapport van Jani's 'Matchmakers'...\nName: Headline, dtype: object"
     },
     "execution_count": 15,
     "metadata": {},
     "output_type": "execute_result"
    }
   ],
   "source": [
    "import numpy as np\n",
    "# False positives:\n",
    "predict = np.vectorize(contains_quotation_mark)(train_x)\n",
    "train_x[(predict != train_y) & (predict == 1)][:5]"
   ],
   "metadata": {
    "collapsed": false,
    "pycharm": {
     "name": "#%%\n"
    }
   }
  },
  {
   "cell_type": "markdown",
   "source": [
    "## Approach 2: Tf-Idf + Quotation as feature\n",
    "This probably won't work, but still trying since tf-idf sometimes does some magic."
   ],
   "metadata": {
    "collapsed": false,
    "pycharm": {
     "name": "#%% md\n"
    }
   }
  },
  {
   "cell_type": "code",
   "execution_count": 18,
   "outputs": [
    {
     "name": "stdout",
     "output_type": "stream",
     "text": [
      "f-score: 0.9645390070921985\n",
      "Confusion matrix: (TP: 155, FP: 5, FN: 0, TN: 68)\n",
      "Accuracy=97.81% (223/228)\n"
     ]
    },
    {
     "data": {
      "text/plain": "<Figure size 432x288 with 2 Axes>",
      "image/png": "[encoded data removed]"
     },
     "metadata": {
      "needs_background": "light"
     },
     "output_type": "display_data"
    }
   ],
   "source": [
    "from imblearn.pipeline import Pipeline\n",
    "from sklearn.pipeline import FeatureUnion\n",
    "from sklearn.feature_extraction.text import TfidfVectorizer\n",
    "from sklearn import svm\n",
    "from imblearn.combine import SMOTETomek\n",
    "\n",
    "from util import FunctionTransformer, fit_predict_evaluate\n",
    "model = Pipeline([\n",
    "    ('union', FeatureUnion([\n",
    "        ('vectorizer', TfidfVectorizer()),\n",
    "        ('quotation_mark', FunctionTransformer(contains_quotation_mark))\n",
    "    ])),\n",
    "    ('resampler', SMOTETomek(random_state=0)),\n",
    "    ('classifier', svm.LinearSVC(random_state=0))\n",
    "])\n",
    "\n",
    "fit_predict_evaluate(model, train_x, train_y, test_x, test_y)"
   ],
   "metadata": {
    "collapsed": false,
    "pycharm": {
     "name": "#%%\n"
    }
   }
  },
  {
   "cell_type": "markdown",
   "source": [
    "As expected, the tf-idf didn't make any difference."
   ],
   "metadata": {
    "collapsed": false,
    "pycharm": {
     "name": "#%% md\n"
    }
   }
  },
  {
   "cell_type": "markdown",
   "source": [
    "### Approach 3: Tf-Idf + Quotation as feature + #Words in quotation as feature\n",
    "The words inside the quotation brackets might also be an interesting feature."
   ],
   "metadata": {
    "collapsed": false,
    "pycharm": {
     "name": "#%% md\n"
    }
   }
  },
  {
   "cell_type": "code",
   "execution_count": 19,
   "outputs": [
    {
     "data": {
      "text/plain": "6"
     },
     "execution_count": 19,
     "metadata": {},
     "output_type": "execute_result"
    }
   ],
   "source": [
    "import re\n",
    "\n",
    "def get_quotation_words(text):\n",
    "    return re.findall(r'\"([^\"]*)\"', text)\n",
    "\n",
    "def get_num_words(text):\n",
    "    return len(text.split())\n",
    "\n",
    "def get_quotation_word_count(text):\n",
    "    # Returns the #words of the longest quote in the text\n",
    "    quotes = get_quotation_words(text)\n",
    "    quotes_length = list(map(get_num_words, quotes))\n",
    "    return max(quotes_length) if quotes_length else 0\n",
    "\n",
    "sentence = 'En hij zei \"Leef!\", \"Alsof het je laatste dag is!\"' # Should return 6, since the longest quote has 6 words\n",
    "get_quotation_word_count(sentence)"
   ],
   "metadata": {
    "collapsed": false,
    "pycharm": {
     "name": "#%%\n"
    }
   }
  },
  {
   "cell_type": "code",
   "execution_count": 25,
   "outputs": [
    {
     "name": "stdout",
     "output_type": "stream",
     "text": [
      "f-score: 0.9645390070921985\n",
      "Confusion matrix: (TP: 155, FP: 5, FN: 0, TN: 68)\n",
      "Accuracy=97.81% (223/228)\n"
     ]
    },
    {
     "name": "stderr",
     "output_type": "stream",
     "text": [
      "C:\\Users\\arnod\\AppData\\Roaming\\Python\\Python39\\site-packages\\sklearn\\svm\\_base.py:1225: ConvergenceWarning: Liblinear failed to converge, increase the number of iterations.\n",
      "  warnings.warn(\n"
     ]
    },
    {
     "data": {
      "text/plain": "<Figure size 432x288 with 2 Axes>",
      "image/png": "[encoded data removed]"
     },
     "metadata": {
      "needs_background": "light"
     },
     "output_type": "display_data"
    }
   ],
   "source": [
    "model = Pipeline([\n",
    "    ('union', FeatureUnion([\n",
    "        ('vectorizer', TfidfVectorizer()),\n",
    "        ('quotation_mark', FunctionTransformer(contains_quotation_mark)),\n",
    "        ('words_between_quotes', FunctionTransformer(get_quotation_word_count))\n",
    "    ])),\n",
    "    ('resampler', SMOTETomek(random_state=0)),\n",
    "    ('classifier', svm.LinearSVC(random_state=0))\n",
    "])\n",
    "\n",
    "fit_predict_evaluate(model, train_x, train_y, test_x, test_y)"
   ],
   "metadata": {
    "collapsed": false,
    "pycharm": {
     "name": "#%%\n"
    }
   }
  },
  {
   "cell_type": "markdown",
   "source": [
    "Strangely, this doesn't seem to make a difference."
   ],
   "metadata": {
    "collapsed": false,
    "pycharm": {
     "name": "#%% md\n"
    }
   }
  },
  {
   "cell_type": "markdown",
   "source": [
    "### Approach 4: Tf-Idf + Quotation as feature + #quotation words + whether there is a double point\n",
    "Adding whether there is a double point in a headline might also be an interesting feature (since quotes are often preceeded with that)"
   ],
   "metadata": {
    "collapsed": false,
    "pycharm": {
     "name": "#%% md\n"
    }
   }
  },
  {
   "cell_type": "code",
   "execution_count": 27,
   "outputs": [],
   "source": [
    "def contains_double_point(text):\n",
    "    return \":\" in text"
   ],
   "metadata": {
    "collapsed": false,
    "pycharm": {
     "name": "#%%\n"
    }
   }
  },
  {
   "cell_type": "code",
   "execution_count": 28,
   "outputs": [
    {
     "name": "stdout",
     "output_type": "stream",
     "text": [
      "f-score: 0.9714285714285714\n",
      "Confusion matrix: (TP: 156, FP: 4, FN: 0, TN: 68)\n",
      "Accuracy=98.25% (224/228)\n"
     ]
    },
    {
     "name": "stderr",
     "output_type": "stream",
     "text": [
      "C:\\Users\\arnod\\AppData\\Roaming\\Python\\Python39\\site-packages\\sklearn\\svm\\_base.py:1225: ConvergenceWarning: Liblinear failed to converge, increase the number of iterations.\n",
      "  warnings.warn(\n"
     ]
    },
    {
     "data": {
      "text/plain": "<Figure size 432x288 with 2 Axes>",
      "image/png": "[encoded data removed]"
     },
     "metadata": {
      "needs_background": "light"
     },
     "output_type": "display_data"
    }
   ],
   "source": [
    "model = Pipeline([\n",
    "    ('union', FeatureUnion([\n",
    "        ('vectorizer', TfidfVectorizer()),\n",
    "        ('quotation_mark', FunctionTransformer(contains_quotation_mark)),\n",
    "        ('words_between_quotes', FunctionTransformer(get_quotation_word_count)),\n",
    "        ('double_point', FunctionTransformer(contains_double_point))\n",
    "    ])),\n",
    "    ('resampler', SMOTETomek(random_state=0)),\n",
    "    ('classifier', svm.LinearSVC(random_state=0))\n",
    "])\n",
    "\n",
    "fit_predict_evaluate(model, train_x, train_y, test_x, test_y)"
   ],
   "metadata": {
    "collapsed": false,
    "pycharm": {
     "name": "#%%\n"
    }
   }
  },
  {
   "cell_type": "markdown",
   "source": [
    "A slight increase :)"
   ],
   "metadata": {
    "collapsed": false,
    "pycharm": {
     "name": "#%% md\n"
    }
   }
  }
 ],
 "metadata": {
  "kernelspec": {
   "display_name": "Python 3",
   "language": "python",
   "name": "python3"
  },
  "language_info": {
   "codemirror_mode": {
    "name": "ipython",
    "version": 2
   },
   "file_extension": ".py",
   "mimetype": "text/x-python",
   "name": "python",
   "nbconvert_exporter": "python",
   "pygments_lexer": "ipython2",
   "version": "2.7.6"
  }
 },
 "nbformat": 4,
 "nbformat_minor": 0
}