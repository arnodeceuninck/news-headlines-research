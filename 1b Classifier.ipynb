{
 "cells": [
  {
   "cell_type": "markdown",
   "source": [
    "# Classifier\n",
    "A classifier takes a vector as input and returns a class label. In our scenario, we only have binary classes (each of the attributes is either 0 or 1).\n",
    "\n",
    "## Logistic Regression\n",
    "More info about the logistic regression classifier can be found [here](https://towardsdatascience.com/the-perfect-recipe-for-classification-using-logistic-regression-f8648e267592).\n",
    "\n",
    "## LinearSVC\n",
    "More info can be found [here](https://towardsdatascience.com/the-perfect-recipe-for-classification-using-logistic-regression-f8648e267592).\n",
    "\n",
    "TODO: The info here must be expanded\n",
    "# TODO: Data imbalance explanation"
   ],
   "metadata": {
    "collapsed": false,
    "pycharm": {
     "name": "#%% md\n"
    }
   }
  }
 ],
 "metadata": {
  "kernelspec": {
   "display_name": "Python 3",
   "language": "python",
   "name": "python3"
  },
  "language_info": {
   "codemirror_mode": {
    "name": "ipython",
    "version": 2
   },
   "file_extension": ".py",
   "mimetype": "text/x-python",
   "name": "python",
   "nbconvert_exporter": "python",
   "pygments_lexer": "ipython2",
   "version": "2.7.6"
  }
 },
 "nbformat": 4,
 "nbformat_minor": 0
}