{
 "cells": [
  {
   "cell_type": "markdown",
   "source": [
    "# Interpunctie\n",
    "## Details\n",
    "> Met uitroeptekens (1) willen journalisten sterke emoties opwekken bij de lezers waardoor ze zouden getriggerd zijn om te klikken. Door beletseltekens (2) te gebruiken zorgen journalisten dan weer voor een cliffhanger-gevoel bij de lezers. Aanhalingstekens (3) kunnen ofwel betekenen dat er een citaat in de kop staat of dat er een aanname wordt gemaakt. Bij interpunctie kijken we alleen naar aanhalingstekens die dienen als aanname."
   ],
   "metadata": {
    "collapsed": false,
    "pycharm": {
     "name": "#%% md\n"
    }
   }
  },
  {
   "cell_type": "markdown",
   "source": [
    "## Data"
   ],
   "metadata": {
    "collapsed": false,
    "pycharm": {
     "name": "#%% md\n"
    }
   }
  },
  {
   "cell_type": "code",
   "execution_count": 1,
   "outputs": [
    {
     "data": {
      "text/plain": "0    614\n1     67\nName: Interpunctie, dtype: int64"
     },
     "execution_count": 1,
     "metadata": {},
     "output_type": "execute_result"
    }
   ],
   "source": [
    "from util import get_cls_train_test\n",
    "\n",
    "train_x, train_y, test_x, test_y = get_cls_train_test(\"Interpunctie\")\n",
    "train_y.value_counts()"
   ],
   "metadata": {
    "collapsed": false,
    "pycharm": {
     "name": "#%%\n"
    }
   }
  },
  {
   "cell_type": "markdown",
   "source": [
    "## Approach 1: Definition Hardcoded"
   ],
   "metadata": {
    "collapsed": false,
    "pycharm": {
     "name": "#%% md\n"
    }
   }
  },
  {
   "cell_type": "code",
   "execution_count": 2,
   "outputs": [
    {
     "name": "stdout",
     "output_type": "stream",
     "text": [
      "True\n",
      "True\n",
      "True\n"
     ]
    }
   ],
   "source": [
    "def contains_interpunct(headline):\n",
    "    return \"!\" in headline or \"...\" in headline or headline.count(\"'\") >= 2\n",
    "\n",
    "\n",
    "print(contains_interpunct(\"Bestuurder rijdt 3 kilometer (!) achteruit \\\"door defect\\\" en legt positieve drugstest af\"))\n",
    "print(contains_interpunct(\"Deze man rijdt letterlijk zijn gras af, maar of dat nu de meeste effectieve manier is...\"))\n",
    "print(contains_interpunct(\"Deze vijfjarige is 'het mooiste meisje op Instagram'\"))"
   ],
   "metadata": {
    "collapsed": false,
    "pycharm": {
     "name": "#%%\n"
    }
   }
  },
  {
   "cell_type": "code",
   "execution_count": 3,
   "outputs": [
    {
     "name": "stdout",
     "output_type": "stream",
     "text": [
      "f-score: 0.5633802816901409\n",
      "Confusion matrix: (TP: 579, FP: 27, FN: 35, TN: 40)\n",
      "Accuracy=90.90% (619/681)\n"
     ]
    },
    {
     "data": {
      "text/plain": "<Figure size 432x288 with 2 Axes>",
      "image/png": "[encoded data removed]"
     },
     "metadata": {
      "needs_background": "light"
     },
     "output_type": "display_data"
    }
   ],
   "source": [
    "from util import print_evaluation\n",
    "predictions = train_x.apply(contains_interpunct)\n",
    "print_evaluation(predictions, train_y)"
   ],
   "metadata": {
    "collapsed": false,
    "pycharm": {
     "name": "#%%\n"
    }
   }
  }
 ],
 "metadata": {
  "kernelspec": {
   "display_name": "Python 3",
   "language": "python",
   "name": "python3"
  },
  "language_info": {
   "codemirror_mode": {
    "name": "ipython",
    "version": 2
   },
   "file_extension": ".py",
   "mimetype": "text/x-python",
   "name": "python",
   "nbconvert_exporter": "python",
   "pygments_lexer": "ipython2",
   "version": "2.7.6"
  }
 },
 "nbformat": 4,
 "nbformat_minor": 0
}