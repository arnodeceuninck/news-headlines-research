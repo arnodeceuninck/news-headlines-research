{
 "cells": [
  {
   "cell_type": "markdown",
   "source": [
    "# Interpunctie\n",
    "## Details\n",
    "> Met uitroeptekens (1) willen journalisten sterke emoties opwekken bij de lezers waardoor ze zouden getriggerd zijn om te klikken. Door beletseltekens (2) te gebruiken zorgen journalisten dan weer voor een cliffhanger-gevoel bij de lezers. Aanhalingstekens (3) kunnen ofwel betekenen dat er een citaat in de kop staat of dat er een aanname wordt gemaakt. Bij interpunctie kijken we alleen naar aanhalingstekens die dienen als aanname."
   ],
   "metadata": {
    "collapsed": false,
    "pycharm": {
     "name": "#%% md\n"
    }
   }
  },
  {
   "cell_type": "markdown",
   "source": [
    "## Data"
   ],
   "metadata": {
    "collapsed": false,
    "pycharm": {
     "name": "#%% md\n"
    }
   }
  },
  {
   "cell_type": "code",
   "execution_count": 1,
   "outputs": [
    {
     "data": {
      "text/plain": "0    616\n1     65\nName: Interpunctie, dtype: int64"
     },
     "execution_count": 1,
     "metadata": {},
     "output_type": "execute_result"
    }
   ],
   "source": [
    "from util import get_cls_train_test\n",
    "\n",
    "train_x, train_y, test_x, test_y = get_cls_train_test(\"Interpunctie\")\n",
    "train_y.value_counts()"
   ],
   "metadata": {
    "collapsed": false,
    "pycharm": {
     "name": "#%%\n"
    }
   }
  },
  {
   "cell_type": "markdown",
   "source": [
    "## Approach 1: Definition Hardcoded"
   ],
   "metadata": {
    "collapsed": false,
    "pycharm": {
     "name": "#%% md\n"
    }
   }
  },
  {
   "cell_type": "code",
   "execution_count": 2,
   "outputs": [
    {
     "name": "stdout",
     "output_type": "stream",
     "text": [
      "True\n",
      "True\n",
      "True\n"
     ]
    }
   ],
   "source": [
    "def contains_interpunct(headline):\n",
    "    return \"!\" in headline or \"...\" in headline or headline.count(\"'\") >= 2\n",
    "\n",
    "\n",
    "print(contains_interpunct(\"Bestuurder rijdt 3 kilometer (!) achteruit \\\"door defect\\\" en legt positieve drugstest af\"))\n",
    "print(contains_interpunct(\"Deze man rijdt letterlijk zijn gras af, maar of dat nu de meeste effectieve manier is...\"))\n",
    "print(contains_interpunct(\"Deze vijfjarige is 'het mooiste meisje op Instagram'\"))"
   ],
   "metadata": {
    "collapsed": false,
    "pycharm": {
     "name": "#%%\n"
    }
   }
  },
  {
   "cell_type": "code",
   "execution_count": 3,
   "outputs": [
    {
     "name": "stdout",
     "output_type": "stream",
     "text": [
      "f-score: 0.5714285714285715\n",
      "Confusion matrix: (TP: 197, FP: 6, FN: 12, TN: 12)\n",
      "Accuracy=92.07% (209/227)\n"
     ]
    },
    {
     "data": {
      "text/plain": "<Figure size 432x288 with 2 Axes>",
      "image/png": "[encoded data removed]"
     },
     "metadata": {},
     "output_type": "display_data"
    }
   ],
   "source": [
    "from util import print_evaluation\n",
    "predictions = test_x.apply(contains_interpunct)\n",
    "print_evaluation(predictions, test_y)"
   ],
   "metadata": {
    "collapsed": false,
    "pycharm": {
     "name": "#%%\n"
    }
   }
  },
  {
   "cell_type": "markdown",
   "source": [
    "Check the misclassifications:"
   ],
   "metadata": {
    "collapsed": false,
    "pycharm": {
     "name": "#%% md\n"
    }
   }
  },
  {
   "cell_type": "code",
   "execution_count": 4,
   "outputs": [],
   "source": [
    "predictions = train_x.apply(contains_interpunct)"
   ],
   "metadata": {
    "collapsed": false,
    "pycharm": {
     "name": "#%%\n"
    }
   }
  },
  {
   "cell_type": "code",
   "execution_count": 5,
   "outputs": [
    {
     "data": {
      "text/plain": "Test      \n740   1854    De geheime relatie van Mike tijdens 'Blind Get...\n531   1335    Kim Kardashian lijkt blij dat 'mei plasticvrij...\n791   1975    Over en uit voor Luc Bomans: oudgediende en ic...\n835   2088    Sfeer tussen kandidaten bereikt dieptepunt vla...\n133   349     Trump trekt verklaringen terug in: \"Ik was gew...\nName: Headline, dtype: object"
     },
     "execution_count": 5,
     "metadata": {},
     "output_type": "execute_result"
    }
   ],
   "source": [
    "# False positives\n",
    "train_x[~train_y & predictions][:5]"
   ],
   "metadata": {
    "collapsed": false,
    "pycharm": {
     "name": "#%%\n"
    }
   }
  },
  {
   "cell_type": "code",
   "execution_count": 6,
   "outputs": [
    {
     "data": {
      "text/plain": "Test      \n755   1891    Reusachtig \"monster\" zaait paniek onder toeris...\n665   1658    \"Vermiste\" man reageert via Facebook op opspor...\n182   471     Zo duur zijn de outfits van meghan Markle (en ...\n758   1900    Bent u er klaar voor? Dit is hem volgens u (en...\n722   1799    Dagboek van Anne Frank geeft laatste geheimen ...\nName: Headline, dtype: object"
     },
     "execution_count": 6,
     "metadata": {},
     "output_type": "execute_result"
    }
   ],
   "source": [
    "# False negatives\n",
    "train_x[train_y & ~predictions][:5]"
   ],
   "metadata": {
    "collapsed": false,
    "pycharm": {
     "name": "#%%\n"
    }
   }
  }
 ],
 "metadata": {
  "kernelspec": {
   "display_name": "Python 3",
   "language": "python",
   "name": "python3"
  },
  "language_info": {
   "codemirror_mode": {
    "name": "ipython",
    "version": 2
   },
   "file_extension": ".py",
   "mimetype": "text/x-python",
   "name": "python",
   "nbconvert_exporter": "python",
   "pygments_lexer": "ipython2",
   "version": "2.7.6"
  }
 },
 "nbformat": 4,
 "nbformat_minor": 0
}