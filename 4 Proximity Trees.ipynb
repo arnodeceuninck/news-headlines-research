{
 "cells": [
  {
   "cell_type": "markdown",
   "source": [
    "# Proximity Trees\n",
    "This is an algorithm made up by Bart Goethals. It doesn't exist yet. It's bsed on another algorithm created for other purposes.\n",
    "\n",
    "You can read section 3 of [this paper](https://arxiv.org/pdf/1808.10594.pdf) (skip 3.1).\n",
    "Lucas, B., Shifaz, A., Pelletier, C., O’Neill, L., Zaidi, N., Goethals, B., ... & Webb, G. I. (2019). Proximity forest: an effective and scalable distance-based classifier for time series. Data Mining and Knowledge Discovery, 33(3), 607-635."
   ],
   "metadata": {
    "collapsed": false,
    "pycharm": {
     "name": "#%% md\n"
    }
   }
  },
  {
   "cell_type": "code",
   "execution_count": null,
   "outputs": [],
   "source": [
    "import numpy as np\n",
    "\n",
    "\n",
    "class Branch:\n",
    "    def __init__(self, exemplar, subtree=None):\n",
    "        self.exemplar = exemplar  # An object, if from a node it is closest to this exemplar, it goes to given tree\n",
    "        self.subtree = subtree  # Should be an internal node or a leaf node\n",
    "\n",
    "\n",
    "class TreeNode:\n",
    "    pass\n",
    "\n",
    "\n",
    "def get_random_sample_per_class(data):\n",
    "    data_x, data_y = data\n",
    "\n",
    "    unique_y = np.unique(data_y)  # The different classes\n",
    "\n",
    "    samples = []\n",
    "    for y in unique_y:\n",
    "        # Get the elements with given label\n",
    "        indices = np.where(data_y == y)[0]\n",
    "        x = data_x[indices]\n",
    "        # Randomly sample an element from x\n",
    "        exemplar = x[np.random.randint(0, len(x))]\n",
    "        samples.append(exemplar)\n",
    "\n",
    "    return samples\n",
    "\n",
    "\n",
    "def gen_candidate_splitter(data, measures):\n",
    "    measure = np.random.choice(measures)\n",
    "    exemplars = get_random_sample_per_class(data)\n",
    "    return measure, exemplars\n",
    "\n",
    "\n",
    "def calculate_gini_index(split):\n",
    "    pass\n",
    "\n",
    "\n",
    "def get_best_splitter(splits):\n",
    "    # Return argmax of gini index of each of the splits\n",
    "    gini_indices = [calculate_gini_index(split) for split in splits]\n",
    "    return np.argmax(gini_indices)  # TODO: Should return mesure and exemplars\n",
    "\n",
    "\n",
    "def get_closest_exemplars(exemplars, data, measure):\n",
    "    # Return the index of the exemplar that is closest to the data point\n",
    "    distances = [measure(data, exemplar) for exemplar in exemplars]\n",
    "    closest_exemplar_indices = np.argmin(distances)\n",
    "    assert len(closest_exemplar_indices) == len(data)\n",
    "    return closest_exemplar_indices\n",
    "\n",
    "def get_candidate_splits(data, r, measures):\n",
    "    splits = []\n",
    "    for i in range(r):\n",
    "        # Generate a candidate splitter\n",
    "        candidate_splitter = gen_candidate_splitter(data, measures)\n",
    "        splits.append(candidate_splitter)\n",
    "    return splits\n",
    "\n",
    "class InternalNode(TreeNode):\n",
    "    def __init__(self, data, r, measures):\n",
    "        assert len(data) == 2  # first index contains features, second the labels\n",
    "\n",
    "        # self.measure = measure if measure is not None else lambda x, y: np.linalg.norm(x - y)\n",
    "        self.branches = []  # Contains internal nodes or leaf nodes\n",
    "\n",
    "        splits = get_candidate_splits(data, r, measures)\n",
    "\n",
    "        self.measure, exemplars = get_best_splitter(splits)\n",
    "\n",
    "        closest_exemplars = get_closest_exemplars(exemplars, data, self.measure)\n",
    "\n",
    "        for i, exemplar in enumerate(exemplars):\n",
    "            # Find the data items that are closest to the exemplar (and thus having i in the closest_exemplars array)\n",
    "            closest_data_items = data[closest_exemplars == i]\n",
    "            subtree = get_node(closest_data_items, r, measures)\n",
    "            self.branches.append(Branch(exemplar, subtree))  # TODO: Fix label somewhere here instead of i\n",
    "\n",
    "    def predict(self, data):\n",
    "        # Return the label of the closest subtree to the data point\n",
    "        exemplar_distance = [self.measure(data, branch.exemplar) for branch in self.branches]\n",
    "        closest_exemplars = get_closest_exemplars(exemplar_distance, [data], self.measure)\n",
    "        branch = self.branches[closest_exemplars[0]]\n",
    "        return branch.subtree.predict(data)\n",
    "\n",
    "\n",
    "# if all data reaching a node has the same class (node is pure), create_leaf function creates a new leaf node and assigns this class lbel to its field class\n",
    "class LeafNode(TreeNode):\n",
    "    def __init__(self, class_label):\n",
    "        self.class_label = class_label  # This label is assigned to all data reaching this node\n",
    "\n",
    "    def predict(self, data):\n",
    "        return self.class_label"
   ],
   "metadata": {
    "collapsed": false,
    "pycharm": {
     "name": "#%%\n"
    }
   }
  },
  {
   "cell_type": "code",
   "execution_count": null,
   "outputs": [],
   "source": [
    "def is_pure(data):\n",
    "    # Check if all data has the same class label\n",
    "    unique_y = np.unique(data[1])\n",
    "    return len(unique_y) == 1\n",
    "\n",
    "\n",
    "def get_node(data, r, measures):\n",
    "    if is_pure(data):\n",
    "        class_label = data[1][0]  # Label of first element in data\n",
    "        return LeafNode(class_label)\n",
    "    else:\n",
    "        return InternalNode(data, r, measures)\n",
    "\n",
    "\n",
    "# Splitting criteriaa\n",
    "class ProximityTreeClassifier:\n",
    "\n",
    "    def __init__(self, r, measures):\n",
    "        self.root = None\n",
    "        self.r = r\n",
    "        self.measures = measures\n",
    "\n",
    "    def fit(self, data):\n",
    "        self.root = get_node(data, self.r, self.measures)\n",
    "        return self\n",
    "\n",
    "    def predict(self, data):\n",
    "        return self.root.predict(data)"
   ],
   "metadata": {
    "collapsed": false,
    "pycharm": {
     "name": "#%%\n"
    }
   }
  },
  {
   "cell_type": "markdown",
   "source": [
    "TODO: Continue from 3.3 Classifying with a Proximity Forest"
   ],
   "metadata": {
    "collapsed": false,
    "pycharm": {
     "name": "#%% md\n"
    }
   }
  }
 ],
 "metadata": {
  "kernelspec": {
   "display_name": "Python 3",
   "language": "python",
   "name": "python3"
  },
  "language_info": {
   "codemirror_mode": {
    "name": "ipython",
    "version": 2
   },
   "file_extension": ".py",
   "mimetype": "text/x-python",
   "name": "python",
   "nbconvert_exporter": "python",
   "pygments_lexer": "ipython2",
   "version": "2.7.6"
  }
 },
 "nbformat": 4,
 "nbformat_minor": 0
}