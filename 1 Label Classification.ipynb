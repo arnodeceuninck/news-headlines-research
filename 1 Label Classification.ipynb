{
 "cells": [
  {
   "cell_type": "markdown",
   "source": [
    "# Label Classification\n",
    "Soubry defined multiple labels per headline, like whether it contains emotion, uses the combination of first and last name or contains a quotation. Let's take a look at the labels she defined:\n"
   ],
   "metadata": {
    "collapsed": false,
    "pycharm": {
     "name": "#%% md\n"
    }
   }
  },
  {
   "cell_type": "code",
   "execution_count": 1,
   "outputs": [
    {
     "name": "stdout",
     "output_type": "stream",
     "text": [
      "Check\n",
      "The columns in the dataset are: Test, Headline ID, Winner, Headline, Actief, Lang, Vragen, Interpunctie, Tweeledigheid, Emotie, Voorwaartse Verwijzing, Signaalwoorden, Lidwoorden, Adjectieven, Eigennamen, Betrekking, Voor+Achternaam, Cijfers, Quotes, Wat zit erin voor mij?, Modaliteit, Sensatie\n"
     ]
    }
   ],
   "source": [
    "from util import get_preprocessed_dataset\n",
    "df = get_preprocessed_dataset()\n",
    "print(f\"The columns in the dataset are: {', '.join(df.columns)}\")"
   ],
   "metadata": {
    "collapsed": false,
    "pycharm": {
     "name": "#%%\n"
    }
   }
  },
  {
   "cell_type": "markdown",
   "source": [
    "\"Test\" contains a unique number per test, in order to know whether two headlines are from the same test. For each test, there is always one headline which gets selected as \"Winner\" (which is the finally chosen headline to publish). For example for the first test, we have those two headlines, of which the second one is the winner and thus used for the published article:"
   ],
   "metadata": {
    "collapsed": false,
    "pycharm": {
     "name": "#%% md\n"
    }
   }
  },
  {
   "cell_type": "code",
   "execution_count": 2,
   "outputs": [
    {
     "data": {
      "text/plain": "  Test Headline ID  Winner                                           Headline  \\\n0    1           A   False  Barack en Michelle Obama laten dansmoves zien ...   \n1    1           B    True  Barack en Michelle Obama gaan helemaal los tij...   \n\n   Actief  Lang  Vragen  Interpunctie  Tweeledigheid  Emotie  ...  Lidwoorden  \\\n0       0     1       0             0              0       0  ...           0   \n1       1     0       0             0              0       0  ...           0   \n\n   Adjectieven  Eigennamen  Betrekking  Voor+Achternaam  Cijfers  Quotes  \\\n0            0           0           0                1        0       0   \n1            0           0           0                1        0       0   \n\n   Wat zit erin voor mij?  Modaliteit  Sensatie  \n0                     NaN         NaN       NaN  \n1                     NaN         NaN       NaN  \n\n[2 rows x 22 columns]",
      "text/html": "<div>\n<style scoped>\n    .dataframe tbody tr th:only-of-type {\n        vertical-align: middle;\n    }\n\n    .dataframe tbody tr th {\n        vertical-align: top;\n    }\n\n    .dataframe thead th {\n        text-align: right;\n    }\n</style>\n<table border=\"1\" class=\"dataframe\">\n  <thead>\n    <tr style=\"text-align: right;\">\n      <th></th>\n      <th>Test</th>\n      <th>Headline ID</th>\n      <th>Winner</th>\n      <th>Headline</th>\n      <th>Actief</th>\n      <th>Lang</th>\n      <th>Vragen</th>\n      <th>Interpunctie</th>\n      <th>Tweeledigheid</th>\n      <th>Emotie</th>\n      <th>...</th>\n      <th>Lidwoorden</th>\n      <th>Adjectieven</th>\n      <th>Eigennamen</th>\n      <th>Betrekking</th>\n      <th>Voor+Achternaam</th>\n      <th>Cijfers</th>\n      <th>Quotes</th>\n      <th>Wat zit erin voor mij?</th>\n      <th>Modaliteit</th>\n      <th>Sensatie</th>\n    </tr>\n  </thead>\n  <tbody>\n    <tr>\n      <th>0</th>\n      <td>1</td>\n      <td>A</td>\n      <td>False</td>\n      <td>Barack en Michelle Obama laten dansmoves zien ...</td>\n      <td>0</td>\n      <td>1</td>\n      <td>0</td>\n      <td>0</td>\n      <td>0</td>\n      <td>0</td>\n      <td>...</td>\n      <td>0</td>\n      <td>0</td>\n      <td>0</td>\n      <td>0</td>\n      <td>1</td>\n      <td>0</td>\n      <td>0</td>\n      <td>NaN</td>\n      <td>NaN</td>\n      <td>NaN</td>\n    </tr>\n    <tr>\n      <th>1</th>\n      <td>1</td>\n      <td>B</td>\n      <td>True</td>\n      <td>Barack en Michelle Obama gaan helemaal los tij...</td>\n      <td>1</td>\n      <td>0</td>\n      <td>0</td>\n      <td>0</td>\n      <td>0</td>\n      <td>0</td>\n      <td>...</td>\n      <td>0</td>\n      <td>0</td>\n      <td>0</td>\n      <td>0</td>\n      <td>1</td>\n      <td>0</td>\n      <td>0</td>\n      <td>NaN</td>\n      <td>NaN</td>\n      <td>NaN</td>\n    </tr>\n  </tbody>\n</table>\n<p>2 rows × 22 columns</p>\n</div>"
     },
     "execution_count": 2,
     "metadata": {},
     "output_type": "execute_result"
    }
   ],
   "source": [
    "df[df[\"Test\"]==1].head()"
   ],
   "metadata": {
    "collapsed": false,
    "pycharm": {
     "name": "#%%\n"
    }
   }
  },
  {
   "cell_type": "markdown",
   "source": [
    "\"Headline ID\" contains a unique letter per headline in given test. The last three columns (\"Wat zit erin voor mij?\", \"Modaliteit\" and \"Sensatie\") are columns that weren't used in the analysis, so we'll just ignore them. The other columns contain attributes which are manually labeled for each of the headlines, which we'll try to predict in the following chapters.\n",
    "\n",
    "## Train-test split\n",
    "We need to split our data in a training and testing set. Since the labels are independent of the tests, I started by randomly selecting headlines as train or test set. The problem here however is that labels with the same test number are often the same (not all of them, but most), which leads to overfitting on specific words from the headlines in the training set, which also occured in the testing set. So to create our train and test split, I'll only use one headline per test and split this then in our train and testing set."
   ],
   "metadata": {
    "collapsed": false,
    "pycharm": {
     "name": "#%% md\n"
    }
   }
  },
  {
   "cell_type": "code",
   "execution_count": 6,
   "outputs": [
    {
     "name": "stdout",
     "output_type": "stream",
     "text": [
      "Selected 1692 headlines as training set and 565 headlines as testing set.\n"
     ]
    },
    {
     "data": {
      "text/plain": "     Test Headline ID  Winner  \\\n1572  628           B   False   \n458   176           B   False   \n78     31           B    True   \n32     13           D   False   \n1557  623           B   False   \n\n                                               Headline  Actief  Lang  Vragen  \\\n1572  Deze jobs zijn zware beroepen volgens de vakbo...       1     1       0   \n458   Vandereycken onthult ware toedracht over vertr...       1     1       0   \n78    Vijfjarige en haar zusjes mooiste meisjes op I...       1     0       0   \n32    Arrestant klimt op dak van rijdende politiewag...       1     1       0   \n1557  Een maand lang werd ze gemarteld en uitgehonge...       0     1       0   \n\n      Interpunctie  Tweeledigheid  Emotie  ...  Lidwoorden  Adjectieven  \\\n1572             1              1       0  ...           0            0   \n458              0              1       0  ...           0            0   \n78               0              0       0  ...           0            0   \n32               0              1       0  ...           1            0   \n1557             0              0       1  ...           1            0   \n\n      Eigennamen  Betrekking  Voor+Achternaam  Cijfers  Quotes  \\\n1572           0           0                0        0       0   \n458            0           0                0        0       1   \n78             0           0                0        1       0   \n32             0           0                0        0       0   \n1557           1           0                0        1       0   \n\n      Wat zit erin voor mij?  Modaliteit  Sensatie  \n1572                     NaN         NaN       NaN  \n458                      NaN         NaN       NaN  \n78                       NaN         NaN       NaN  \n32                       NaN         NaN       0.0  \n1557                     NaN         NaN       NaN  \n\n[5 rows x 22 columns]",
      "text/html": "<div>\n<style scoped>\n    .dataframe tbody tr th:only-of-type {\n        vertical-align: middle;\n    }\n\n    .dataframe tbody tr th {\n        vertical-align: top;\n    }\n\n    .dataframe thead th {\n        text-align: right;\n    }\n</style>\n<table border=\"1\" class=\"dataframe\">\n  <thead>\n    <tr style=\"text-align: right;\">\n      <th></th>\n      <th>Test</th>\n      <th>Headline ID</th>\n      <th>Winner</th>\n      <th>Headline</th>\n      <th>Actief</th>\n      <th>Lang</th>\n      <th>Vragen</th>\n      <th>Interpunctie</th>\n      <th>Tweeledigheid</th>\n      <th>Emotie</th>\n      <th>...</th>\n      <th>Lidwoorden</th>\n      <th>Adjectieven</th>\n      <th>Eigennamen</th>\n      <th>Betrekking</th>\n      <th>Voor+Achternaam</th>\n      <th>Cijfers</th>\n      <th>Quotes</th>\n      <th>Wat zit erin voor mij?</th>\n      <th>Modaliteit</th>\n      <th>Sensatie</th>\n    </tr>\n  </thead>\n  <tbody>\n    <tr>\n      <th>1572</th>\n      <td>628</td>\n      <td>B</td>\n      <td>False</td>\n      <td>Deze jobs zijn zware beroepen volgens de vakbo...</td>\n      <td>1</td>\n      <td>1</td>\n      <td>0</td>\n      <td>1</td>\n      <td>1</td>\n      <td>0</td>\n      <td>...</td>\n      <td>0</td>\n      <td>0</td>\n      <td>0</td>\n      <td>0</td>\n      <td>0</td>\n      <td>0</td>\n      <td>0</td>\n      <td>NaN</td>\n      <td>NaN</td>\n      <td>NaN</td>\n    </tr>\n    <tr>\n      <th>458</th>\n      <td>176</td>\n      <td>B</td>\n      <td>False</td>\n      <td>Vandereycken onthult ware toedracht over vertr...</td>\n      <td>1</td>\n      <td>1</td>\n      <td>0</td>\n      <td>0</td>\n      <td>1</td>\n      <td>0</td>\n      <td>...</td>\n      <td>0</td>\n      <td>0</td>\n      <td>0</td>\n      <td>0</td>\n      <td>0</td>\n      <td>0</td>\n      <td>1</td>\n      <td>NaN</td>\n      <td>NaN</td>\n      <td>NaN</td>\n    </tr>\n    <tr>\n      <th>78</th>\n      <td>31</td>\n      <td>B</td>\n      <td>True</td>\n      <td>Vijfjarige en haar zusjes mooiste meisjes op I...</td>\n      <td>1</td>\n      <td>0</td>\n      <td>0</td>\n      <td>0</td>\n      <td>0</td>\n      <td>0</td>\n      <td>...</td>\n      <td>0</td>\n      <td>0</td>\n      <td>0</td>\n      <td>0</td>\n      <td>0</td>\n      <td>1</td>\n      <td>0</td>\n      <td>NaN</td>\n      <td>NaN</td>\n      <td>NaN</td>\n    </tr>\n    <tr>\n      <th>32</th>\n      <td>13</td>\n      <td>D</td>\n      <td>False</td>\n      <td>Arrestant klimt op dak van rijdende politiewag...</td>\n      <td>1</td>\n      <td>1</td>\n      <td>0</td>\n      <td>0</td>\n      <td>1</td>\n      <td>0</td>\n      <td>...</td>\n      <td>1</td>\n      <td>0</td>\n      <td>0</td>\n      <td>0</td>\n      <td>0</td>\n      <td>0</td>\n      <td>0</td>\n      <td>NaN</td>\n      <td>NaN</td>\n      <td>0.0</td>\n    </tr>\n    <tr>\n      <th>1557</th>\n      <td>623</td>\n      <td>B</td>\n      <td>False</td>\n      <td>Een maand lang werd ze gemarteld en uitgehonge...</td>\n      <td>0</td>\n      <td>1</td>\n      <td>0</td>\n      <td>0</td>\n      <td>0</td>\n      <td>1</td>\n      <td>...</td>\n      <td>1</td>\n      <td>0</td>\n      <td>1</td>\n      <td>0</td>\n      <td>0</td>\n      <td>1</td>\n      <td>0</td>\n      <td>NaN</td>\n      <td>NaN</td>\n      <td>NaN</td>\n    </tr>\n  </tbody>\n</table>\n<p>5 rows × 22 columns</p>\n</div>"
     },
     "execution_count": 6,
     "metadata": {},
     "output_type": "execute_result"
    }
   ],
   "source": [
    "from sklearn import model_selection\n",
    "df_per_test = df.groupby(\"Test\").apply(lambda x: x.sample(1))\n",
    "train, test = model_selection.train_test_split(df, random_state=42)\n",
    "print(f\"Selected {len(train)} headlines as training set and {len(test)} headlines as testing set.\")\n",
    "train.head()"
   ],
   "metadata": {
    "collapsed": false,
    "pycharm": {
     "name": "#%%\n"
    }
   }
  },
  {
   "cell_type": "markdown",
   "source": [
    "### Per label\n",
    "For our current train and test scenarios, we only need the headline and the column we're trying to predict, e.g. for \"Actief\":\n"
   ],
   "metadata": {
    "collapsed": false,
    "pycharm": {
     "name": "#%% md\n"
    }
   }
  },
  {
   "cell_type": "code",
   "execution_count": 16,
   "outputs": [],
   "source": [
    "train_x = train[[\"Headline\"]]\n",
    "train_y = train[[\"Actief\"]]"
   ],
   "metadata": {
    "collapsed": false,
    "pycharm": {
     "name": "#%%\n"
    }
   }
  },
  {
   "cell_type": "code",
   "execution_count": 17,
   "outputs": [
    {
     "data": {
      "text/plain": "                                               Headline\n1572  Deze jobs zijn zware beroepen volgens de vakbo...\n458   Vandereycken onthult ware toedracht over vertr...\n78    Vijfjarige en haar zusjes mooiste meisjes op I...\n32    Arrestant klimt op dak van rijdende politiewag...\n1557  Een maand lang werd ze gemarteld en uitgehonge...",
      "text/html": "<div>\n<style scoped>\n    .dataframe tbody tr th:only-of-type {\n        vertical-align: middle;\n    }\n\n    .dataframe tbody tr th {\n        vertical-align: top;\n    }\n\n    .dataframe thead th {\n        text-align: right;\n    }\n</style>\n<table border=\"1\" class=\"dataframe\">\n  <thead>\n    <tr style=\"text-align: right;\">\n      <th></th>\n      <th>Headline</th>\n    </tr>\n  </thead>\n  <tbody>\n    <tr>\n      <th>1572</th>\n      <td>Deze jobs zijn zware beroepen volgens de vakbo...</td>\n    </tr>\n    <tr>\n      <th>458</th>\n      <td>Vandereycken onthult ware toedracht over vertr...</td>\n    </tr>\n    <tr>\n      <th>78</th>\n      <td>Vijfjarige en haar zusjes mooiste meisjes op I...</td>\n    </tr>\n    <tr>\n      <th>32</th>\n      <td>Arrestant klimt op dak van rijdende politiewag...</td>\n    </tr>\n    <tr>\n      <th>1557</th>\n      <td>Een maand lang werd ze gemarteld en uitgehonge...</td>\n    </tr>\n  </tbody>\n</table>\n</div>"
     },
     "execution_count": 17,
     "metadata": {},
     "output_type": "execute_result"
    }
   ],
   "source": [
    "train_x.head()"
   ],
   "metadata": {
    "collapsed": false,
    "pycharm": {
     "name": "#%%\n"
    }
   }
  },
  {
   "cell_type": "code",
   "execution_count": 18,
   "outputs": [
    {
     "data": {
      "text/plain": "      Actief\n1572       1\n458        1\n78         1\n32         1\n1557       0",
      "text/html": "<div>\n<style scoped>\n    .dataframe tbody tr th:only-of-type {\n        vertical-align: middle;\n    }\n\n    .dataframe tbody tr th {\n        vertical-align: top;\n    }\n\n    .dataframe thead th {\n        text-align: right;\n    }\n</style>\n<table border=\"1\" class=\"dataframe\">\n  <thead>\n    <tr style=\"text-align: right;\">\n      <th></th>\n      <th>Actief</th>\n    </tr>\n  </thead>\n  <tbody>\n    <tr>\n      <th>1572</th>\n      <td>1</td>\n    </tr>\n    <tr>\n      <th>458</th>\n      <td>1</td>\n    </tr>\n    <tr>\n      <th>78</th>\n      <td>1</td>\n    </tr>\n    <tr>\n      <th>32</th>\n      <td>1</td>\n    </tr>\n    <tr>\n      <th>1557</th>\n      <td>0</td>\n    </tr>\n  </tbody>\n</table>\n</div>"
     },
     "execution_count": 18,
     "metadata": {},
     "output_type": "execute_result"
    }
   ],
   "source": [
    "train_y.head()"
   ],
   "metadata": {
    "collapsed": false,
    "pycharm": {
     "name": "#%%\n"
    }
   }
  }
 ],
 "metadata": {
  "kernelspec": {
   "display_name": "Python 3",
   "language": "python",
   "name": "python3"
  },
  "language_info": {
   "codemirror_mode": {
    "name": "ipython",
    "version": 2
   },
   "file_extension": ".py",
   "mimetype": "text/x-python",
   "name": "python",
   "nbconvert_exporter": "python",
   "pygments_lexer": "ipython2",
   "version": "2.7.6"
  }
 },
 "nbformat": 4,
 "nbformat_minor": 0
}