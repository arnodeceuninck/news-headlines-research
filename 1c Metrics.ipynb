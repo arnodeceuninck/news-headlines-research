{
 "cells": [
  {
   "cell_type": "markdown",
   "source": [
    "# Metrics\n",
    "A metric defines a way to quantify the quality of a model.\n",
    "\n",
    "## Confusion Matrix\n",
    "The confusion matrix contains the number of true positives, true negatives, false positives, and false negatives.\n",
    "\n",
    "## Accuracy\n",
    "TODO\n",
    "\n",
    "## F1 Score\n",
    "The f1 score is a single number which takes class imbalance into account (because e.g. a high accuracy can be obtained by classifying everything as positive or negative, without doing any real classification)."
   ],
   "metadata": {
    "collapsed": false,
    "pycharm": {
     "name": "#%% md\n"
    }
   }
  }
 ],
 "metadata": {
  "kernelspec": {
   "display_name": "Python 3",
   "language": "python",
   "name": "python3"
  },
  "language_info": {
   "codemirror_mode": {
    "name": "ipython",
    "version": 2
   },
   "file_extension": ".py",
   "mimetype": "text/x-python",
   "name": "python",
   "nbconvert_exporter": "python",
   "pygments_lexer": "ipython2",
   "version": "2.7.6"
  }
 },
 "nbformat": 4,
 "nbformat_minor": 0
}