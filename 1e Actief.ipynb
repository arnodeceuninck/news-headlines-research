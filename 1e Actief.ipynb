{
 "cells": [
  {
   "cell_type": "markdown",
   "source": [
    "# Actief\n",
    "This is the first label of our dataset we'll try to predict.\n",
    "## Details\n",
    "> Een actieve of passieve constructie wijst op de vorm die  het  werkwoord  aanneemt  in  de  zin.  Er  zouden eerder   actieve   constructies   worden   gebruikt   in koppen, dan passieve.Ook   verstaan   we   in   deze   studie   onder   actieve constructies koppen die directer overkomen dan hun concurrentie, die misschien wat meer omslachtig is.Bij  een  directe  kop  staat  het  hoofdnieuws  van  het artikel vooraan, een indirectere kop geeft eerst nog watalgemene of onbeduidende informatie.\n",
    "## Example\n",
    "> Actief: Weg met perfectie: H&M werktde kleine details van bikinimodellen niet langer weg\n",
    "> Passief:  Weg  met  perfectie:  striemen,  beharing en littekens     van badpakmodellen H&M (worden) niet langer gefotoshopt\n",
    "> Directer: Proximus werktaan  eigen  Belgische Netflix\n",
    "> Indirecter: Proximus denktaan  eigen  Belgische Netflix\n",
    "## Data"
   ],
   "metadata": {
    "collapsed": false,
    "pycharm": {
     "name": "#%% md\n"
    }
   },
   "outputs": []
  },
  {
   "cell_type": "code",
   "execution_count": 1,
   "outputs": [
    {
     "data": {
      "text/plain": "Actief\n1         1388\n0          304\ndtype: int64"
     },
     "execution_count": 1,
     "metadata": {},
     "output_type": "execute_result"
    }
   ],
   "source": [
    "from util import get_cls_train_test\n",
    "train_x, train_y, test_x, test_y = get_cls_train_test(\"Actief\")\n",
    "train_y.value_counts()"
   ],
   "metadata": {
    "collapsed": false,
    "pycharm": {
     "name": "#%%\n"
    }
   }
  },
  {
   "cell_type": "markdown",
   "source": [
    "## Approach 1: Past paricle\n",
    "A passive construction will often contain a past particle, so it might be useful to train a model to search for those. However, this won't be an ideal scenario, since more indirect forms (like the one given above using \"to think\") will be ignored with this.\n",
    "In the English language, we have following markers for a passive construction: be, -ed and by ([src](https://www.academypublication.com/issues/past/jltr/vol01/06/32.pdf), Classification and SLA Studies of Passive Voice, Yuanying Wang). This translates in dutch to forms of \"worden\", \"ge-\" and \"door\"."
   ],
   "metadata": {
    "collapsed": false,
    "pycharm": {
     "name": "#%% md\n"
    }
   }
  },
  {
   "cell_type": "code",
   "execution_count": 2,
   "outputs": [
    {
     "name": "stdout",
     "output_type": "stream",
     "text": [
      "True\n"
     ]
    }
   ],
   "source": [
    "def is_passive(headline):\n",
    "    # TODO: Maybe I can check this with spacy? Since this manual construction is probbly overfitting\n",
    "\n",
    "    # Check if any word in headline start with \"ge\"\n",
    "    for word in headline.split():\n",
    "        if word.startswith(\"ge\") or word.startswith(\"Ge\"):\n",
    "            return True\n",
    "        if word == \"door\" or word == \"Door\":\n",
    "            return True\n",
    "        if \"word\" in word or word in [\"zijn\", \"is\", \"ben\", \"bent\"]:  # Check for any form of the verb \"worden\"\n",
    "            return True\n",
    "    return False\n",
    "\n",
    "\n",
    "def is_active(headline):\n",
    "    return not is_passive(headline)\n",
    "\n",
    "\n",
    "print(is_passive(\"Verdachte gevlucht na overval\"))"
   ],
   "metadata": {
    "collapsed": false,
    "pycharm": {
     "name": "#%%\n"
    }
   }
  },
  {
   "cell_type": "code",
   "execution_count": 3,
   "outputs": [
    {
     "name": "stdout",
     "output_type": "stream",
     "text": [
      "f-score: 0.5551020408163265\n",
      "Confusion matrix: (TP: 34, FP: 50, FN: 277, TN: 204)\n",
      "Accuracy=34.36% (238/565)\n"
     ]
    },
    {
     "data": {
      "text/plain": "<Figure size 432x288 with 2 Axes>",
      "image/png": "[encoded data removed]"
     },
     "metadata": {
      "needs_background": "light"
     },
     "output_type": "display_data"
    }
   ],
   "source": [
    "from util import print_evalution\n",
    "import numpy as np\n",
    "predictions = np.vectorize(is_passive)(test_x)\n",
    "print_evalution(test_y, predictions)"
   ],
   "metadata": {
    "collapsed": false,
    "pycharm": {
     "name": "#%%\n"
    }
   }
  },
  {
   "cell_type": "code",
   "execution_count": null,
   "outputs": [],
   "source": [],
   "metadata": {
    "collapsed": false,
    "pycharm": {
     "name": "#%%\n"
    }
   }
  }
 ],
 "metadata": {
  "kernelspec": {
   "display_name": "Python 3",
   "language": "python",
   "name": "python3"
  },
  "language_info": {
   "codemirror_mode": {
    "name": "ipython",
    "version": 2
   },
   "file_extension": ".py",
   "mimetype": "text/x-python",
   "name": "python",
   "nbconvert_exporter": "python",
   "pygments_lexer": "ipython2",
   "version": "2.7.6"
  }
 },
 "nbformat": 4,
 "nbformat_minor": 0
}