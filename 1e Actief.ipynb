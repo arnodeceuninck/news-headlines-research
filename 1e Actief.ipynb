{
 "cells": [
  {
   "cell_type": "markdown",
   "source": [
    "# Actief\n",
    "This is the first label of our dataset we'll try to predict.\n",
    "## Details\n",
    "> Een actieve of passieve constructie wijst op de vorm die  het  werkwoord  aanneemt  in  de  zin.  Er  zouden eerder   actieve   constructies   worden   gebruikt   in koppen, dan passieve.Ook   verstaan   we   in   deze   studie   onder   actieve constructies koppen die directer overkomen dan hun concurrentie, die misschien wat meer omslachtig is.Bij  een  directe  kop  staat  het  hoofdnieuws  van  het artikel vooraan, een indirectere kop geeft eerst nog watalgemene of onbeduidende informatie.\n",
    "## Example\n",
    "> Actief: Weg met perfectie: H&M werktde kleine details van bikinimodellen niet langer weg\n",
    "> Passief:  Weg  met  perfectie:  striemen,  beharing en littekens     van badpakmodellen H&M (worden) niet langer gefotoshopt\n",
    "> Directer: Proximus werktaan  eigen  Belgische Netflix\n",
    "> Indirecter: Proximus denktaan  eigen  Belgische Netflix\n",
    "## Data"
   ],
   "metadata": {
    "collapsed": false,
    "pycharm": {
     "name": "#%% md\n"
    }
   },
   "outputs": []
  },
  {
   "cell_type": "code",
   "execution_count": 25,
   "outputs": [
    {
     "data": {
      "text/plain": "1    569\n0    112\nName: Actief, dtype: int64"
     },
     "execution_count": 25,
     "metadata": {},
     "output_type": "execute_result"
    }
   ],
   "source": [
    "from util import get_cls_train_test\n",
    "\n",
    "train_x, train_y, test_x, test_y = get_cls_train_test(\"Actief\")\n",
    "train_y.value_counts()"
   ],
   "metadata": {
    "collapsed": false,
    "pycharm": {
     "name": "#%%\n"
    }
   }
  },
  {
   "cell_type": "markdown",
   "source": [
    "## Approach 1: Past paricle using own function\n",
    "A passive construction will often contain a past particle, so it might be useful to train a model to search for those. However, this won't be an ideal scenario, since more indirect forms (like the one given above using \"to think\") will be ignored with this.\n",
    "In the English language, we have following markers for a passive construction: be, -ed and by ([src](https://www.academypublication.com/issues/past/jltr/vol01/06/32.pdf), Classification and SLA Studies of Passive Voice, Yuanying Wang). This translates in dutch to forms of \"worden\", \"ge-\" and \"door\"."
   ],
   "metadata": {
    "collapsed": false,
    "pycharm": {
     "name": "#%% md\n"
    }
   }
  },
  {
   "cell_type": "code",
   "execution_count": 26,
   "outputs": [
    {
     "name": "stdout",
     "output_type": "stream",
     "text": [
      "True\n"
     ]
    }
   ],
   "source": [
    "# Warning: This manually writtn functions are prone to overfitting, so it's better to actually use nlp methods\n",
    "def is_passive(headline):\n",
    "    # TODO: Maybe I can check this with spacy? Since this manual construction is probbly overfitting\n",
    "\n",
    "    # Check if any word in headline start with \"ge\"\n",
    "    for word in headline.split():\n",
    "        if word.startswith(\"ge\") or word.startswith(\"Ge\"):\n",
    "            return True\n",
    "        if word == \"door\" or word == \"Door\":\n",
    "            return True\n",
    "        if \"word\" in word or word in [\"zijn\", \"is\", \"ben\", \"bent\"]:  # Check for any form of the verb \"worden\"\n",
    "            return True\n",
    "    return False\n",
    "\n",
    "\n",
    "def is_active(headline):\n",
    "    return not is_passive(headline)\n",
    "\n",
    "\n",
    "print(is_passive(\"Verdachte gevlucht na overval\"))"
   ],
   "metadata": {
    "collapsed": false,
    "pycharm": {
     "name": "#%%\n"
    }
   }
  },
  {
   "cell_type": "code",
   "execution_count": 27,
   "outputs": [
    {
     "name": "stdout",
     "output_type": "stream",
     "text": [
      "f-score: 0.584192439862543\n",
      "Confusion matrix: (TP: 22, FP: 19, FN: 102, TN: 85)\n",
      "Accuracy=46.93% (107/228)\n"
     ]
    },
    {
     "data": {
      "text/plain": "<Figure size 432x288 with 2 Axes>",
      "image/png": "[encoded data removed]"
     },
     "metadata": {
      "needs_background": "light"
     },
     "output_type": "display_data"
    }
   ],
   "source": [
    "from util import print_evalution\n",
    "import numpy as np\n",
    "\n",
    "predictions = np.vectorize(is_passive)(test_x)\n",
    "print_evalution(test_y, predictions)"
   ],
   "metadata": {
    "collapsed": false,
    "pycharm": {
     "name": "#%%\n"
    }
   }
  },
  {
   "cell_type": "markdown",
   "source": [
    "Too much words starting with “Ge-” (e.g. Geen,gewoon, gebouw, …) are seen as passive indications, even though they aren’t. Let’s try without the “ge-” prefix detection."
   ],
   "metadata": {
    "collapsed": false,
    "pycharm": {
     "name": "#%% md\n"
    }
   }
  },
  {
   "cell_type": "code",
   "execution_count": 28,
   "outputs": [
    {
     "name": "stdout",
     "output_type": "stream",
     "text": [
      "f-score: 0.7714285714285715\n",
      "Confusion matrix: (TP: 13, FP: 28, FN: 52, TN: 135)\n",
      "Accuracy=64.91% (148/228)\n"
     ]
    },
    {
     "data": {
      "text/plain": "<Figure size 432x288 with 2 Axes>",
      "image/png": "[encoded data removed]"
     },
     "metadata": {
      "needs_background": "light"
     },
     "output_type": "display_data"
    }
   ],
   "source": [
    "def is_active_no_ge_prefix(headline):\n",
    "    # Check if any word in headline start with \"ge\"\n",
    "    for word in headline.split():\n",
    "        if word == \"door\" or word == \"Door\":\n",
    "            return False\n",
    "        if \"word\" in word or word in [\"zijn\", \"is\", \"ben\", \"bent\"]:  # Check for any form of the verb \"worden\"\n",
    "            return False\n",
    "    return True\n",
    "\n",
    "\n",
    "from util import print_evalution\n",
    "import numpy as np\n",
    "\n",
    "predictions = np.vectorize(is_active_no_ge_prefix)(test_x)\n",
    "print_evalution(test_y, predictions)"
   ],
   "metadata": {
    "collapsed": false,
    "pycharm": {
     "name": "#%%\n"
    }
   }
  },
  {
   "cell_type": "markdown",
   "source": [
    "## Approach 2: Past particle using spacy"
   ],
   "metadata": {
    "collapsed": false,
    "pycharm": {
     "name": "#%% md\n"
    }
   }
  },
  {
   "cell_type": "code",
   "execution_count": 29,
   "outputs": [
    {
     "name": "stdout",
     "output_type": "stream",
     "text": [
      "[('Verdachte', 'PROPN', 'N|eigen|mv|basis'),\n",
      " ('gevlucht', 'VERB', 'WW|vd|vrij|zonder'),\n",
      " ('na', 'ADP', 'VZ|init'),\n",
      " ('overval', 'NOUN', 'N|soort|ev|basis|zijd|stan')]\n"
     ]
    }
   ],
   "source": [
    "import spacy\n",
    "from pprint import pprint\n",
    "\n",
    "nlp = spacy.load('nl_core_news_sm')\n",
    "pprint(list([(x.text, x.pos_, x.tag_) for x in nlp(\"Verdachte gevlucht na overval\")]))"
   ],
   "metadata": {
    "collapsed": false,
    "pycharm": {
     "name": "#%%\n"
    }
   }
  },
  {
   "cell_type": "code",
   "execution_count": 30,
   "outputs": [
    {
     "name": "stdout",
     "output_type": "stream",
     "text": [
      "False\n",
      "True\n"
     ]
    }
   ],
   "source": [
    "def contains_past_partiple(headline):\n",
    "    return any('|vd|' in x.tag_ for x in nlp(headline))\n",
    "\n",
    "\n",
    "def is_active_pp_spacy(headline):\n",
    "    return not contains_past_partiple(headline)\n",
    "\n",
    "\n",
    "print(is_active_pp_spacy(u\"Slachtoffer is vermoord in Antwerpen\"))\n",
    "print(is_active_pp_spacy(u\"Verdachte pleegt moord in Antwerpen\"))"
   ],
   "metadata": {
    "collapsed": false,
    "pycharm": {
     "name": "#%%\n"
    }
   }
  },
  {
   "cell_type": "code",
   "execution_count": 31,
   "outputs": [
    {
     "name": "stdout",
     "output_type": "stream",
     "text": [
      "f-score: 0.7942028985507246\n",
      "Confusion matrix: (TP: 20, FP: 21, FN: 50, TN: 137)\n",
      "Accuracy=68.86% (157/228)\n"
     ]
    },
    {
     "data": {
      "text/plain": "<Figure size 432x288 with 2 Axes>",
      "image/png": "[encoded data removed]"
     },
     "metadata": {
      "needs_background": "light"
     },
     "output_type": "display_data"
    }
   ],
   "source": [
    "predictions = np.vectorize(is_active_pp_spacy)(test_x)\n",
    "print_evalution(test_y, predictions)"
   ],
   "metadata": {
    "collapsed": false,
    "pycharm": {
     "name": "#%%\n"
    }
   }
  },
  {
   "cell_type": "markdown",
   "source": [
    "## Approach 3: Tf-idf\n",
    "Passive sentences often contain chargrams like \"ge-\", \"-d\", \"-t\", \"door\" or forms of \"zijn\". Because of this, word or character tokenized tf-idf might work well.\n"
   ],
   "metadata": {
    "collapsed": false,
    "pycharm": {
     "name": "#%% md\n"
    }
   }
  },
  {
   "cell_type": "markdown",
   "source": [
    "### Word-tokenized"
   ],
   "metadata": {
    "collapsed": false,
    "pycharm": {
     "name": "#%% md\n"
    }
   }
  },
  {
   "cell_type": "code",
   "execution_count": 42,
   "outputs": [
    {
     "name": "stdout",
     "output_type": "stream",
     "text": [
      "f-score: 0.9029126213592233\n",
      "Confusion matrix: (TP: 2, FP: 39, FN: 1, TN: 186)\n",
      "Accuracy=82.46% (188/228)\n"
     ]
    },
    {
     "data": {
      "text/plain": "<Figure size 432x288 with 2 Axes>",
      "image/png": "[encoded data removed]"
     },
     "metadata": {
      "needs_background": "light"
     },
     "output_type": "display_data"
    }
   ],
   "source": [
    "from imblearn.pipeline import Pipeline\n",
    "from sklearn.feature_extraction.text import TfidfVectorizer\n",
    "from sklearn import svm\n",
    "\n",
    "model = Pipeline([\n",
    "    ('vectorizer', TfidfVectorizer(ngram_range=(1, 1))),\n",
    "    ('classifier', svm.LinearSVC(random_state=42))\n",
    "])\n",
    "\n",
    "model.fit(train_x, train_y)\n",
    "\n",
    "prediction = model.predict(test_x)\n",
    "print_evalution(test_y, prediction)"
   ],
   "metadata": {
    "collapsed": false,
    "pycharm": {
     "name": "#%%\n"
    }
   }
  },
  {
   "cell_type": "code",
   "execution_count": 38,
   "outputs": [
    {
     "name": "stdout",
     "output_type": "stream",
     "text": [
      "0.9423          geeft    -1.4026           twee\n",
      "0.8565     vlaanderen    -1.3728          omdat\n",
      "0.7812     temptation    -1.3492       opgepakt\n",
      "0.6972   gewaarschuwd    -1.2324             dj\n",
      "0.6917           auto    -1.2024       verdacht\n",
      "0.6903        politie    -1.1650   geschiedenis\n",
      "0.6783            dag    -1.1412      herbeleef\n",
      "0.6690          tegen    -1.1127            tot\n",
      "0.6684        bekende    -1.1102         vriend\n",
      "0.6613             va    -1.0826           belg\n"
     ]
    }
   ],
   "source": [
    "from util import show_most_informative_features\n",
    "show_most_informative_features(model)"
   ],
   "metadata": {
    "collapsed": false,
    "pycharm": {
     "name": "#%%\n"
    }
   }
  },
  {
   "cell_type": "markdown",
   "source": [
    "Those are not what I expected (I expected more past particles on th negative side, \"verdacht\" and \"opgepakt\" are the only ones in the top 10). \"Door\" is also a logical one on the negative side (but dissapeared because the random seed wasn't fixed)."
   ],
   "metadata": {
    "collapsed": false,
    "pycharm": {
     "name": "#%% md\n"
    }
   }
  },
  {
   "cell_type": "markdown",
   "source": [
    "### Character-tokenized"
   ],
   "metadata": {
    "collapsed": false,
    "pycharm": {
     "name": "#%% md\n"
    }
   }
  },
  {
   "cell_type": "code",
   "execution_count": 43,
   "outputs": [
    {
     "name": "stdout",
     "output_type": "stream",
     "text": [
      "f-score: 0.8980582524271844\n",
      "Confusion matrix: (TP: 1, FP: 40, FN: 2, TN: 185)\n",
      "Accuracy=81.58% (186/228)\n"
     ]
    },
    {
     "data": {
      "text/plain": "<Figure size 432x288 with 2 Axes>",
      "image/png": "[encoded data removed]"
     },
     "metadata": {
      "needs_background": "light"
     },
     "output_type": "display_data"
    }
   ],
   "source": [
    "model = Pipeline([\n",
    "    ('vectorizer', TfidfVectorizer(analyzer=\"char_wb\", ngram_range=(1, 4))), # \"-d\" to \"door\"\n",
    "    ('classifier', svm.LinearSVC(random_state=42))\n",
    "])\n",
    "\n",
    "model.fit(train_x, train_y)\n",
    "\n",
    "prediction = model.predict(test_x)\n",
    "print_evalution(test_y, prediction)"
   ],
   "metadata": {
    "collapsed": false,
    "pycharm": {
     "name": "#%%\n"
    }
   }
  },
  {
   "cell_type": "markdown",
   "source": [
    "Let's take a look at which characters are important:"
   ],
   "metadata": {
    "collapsed": false,
    "pycharm": {
     "name": "#%% md\n"
    }
   }
  },
  {
   "cell_type": "code",
   "execution_count": 40,
   "outputs": [
    {
     "name": "stdout",
     "output_type": "stream",
     "text": [
      "0.7428              \"    -0.9306             ak\n",
      "0.6615            laa    -0.8761            doo\n",
      "0.6575             ol    -0.8609             u \n",
      "0.6429              l    -0.8525            erd\n",
      "0.6384            lt     -0.8006            era\n",
      "0.6300            ag     -0.7675            gel\n",
      "0.6118             ov    -0.7650            ng \n",
      "0.6103             bl    -0.7536            ot \n",
      "0.5940             li    -0.7345             af\n",
      "0.5808              o    -0.6986            af \n"
     ]
    }
   ],
   "source": [
    "show_most_informative_features(model)"
   ],
   "metadata": {
    "collapsed": false,
    "pycharm": {
     "name": "#%%\n"
    }
   }
  },
  {
   "cell_type": "markdown",
   "source": [
    "\"doo(r)\" was expectd. \" ge-\" is surprisingly not part of the top 10 negatives (but \"gel-\" is). \"-erd\" is also one that makes sense."
   ],
   "metadata": {
    "collapsed": false,
    "pycharm": {
     "name": "#%% md\n"
    }
   }
  },
  {
   "cell_type": "markdown",
   "source": [
    "## Approach 4: char-gram Tf-idf + past particle as extra feature"
   ],
   "metadata": {
    "collapsed": false,
    "pycharm": {
     "name": "#%% md\n"
    }
   }
  },
  {
   "cell_type": "code",
   "execution_count": 44,
   "outputs": [
    {
     "name": "stdout",
     "output_type": "stream",
     "text": [
      "f-score: 0.8980582524271844\n",
      "Confusion matrix: (TP: 1, FP: 40, FN: 2, TN: 185)\n",
      "Accuracy=81.58% (186/228)\n"
     ]
    },
    {
     "data": {
      "text/plain": "<Figure size 432x288 with 2 Axes>",
      "image/png": "[encoded data removed]"
     },
     "metadata": {
      "needs_background": "light"
     },
     "output_type": "display_data"
    }
   ],
   "source": [
    "from sklearn.pipeline import FeatureUnion\n",
    "from util import FunctionTransformer\n",
    "\n",
    "model = Pipeline([\n",
    "    ('union', FeatureUnion([\n",
    "        ('vectorizer', TfidfVectorizer(analyzer=\"char_wb\", ngram_range=(1, 4))),\n",
    "        ('consecutive_pronouns', FunctionTransformer(func=is_active_pp_spacy))\n",
    "    ])),\n",
    "    ('classifier', svm.LinearSVC(random_state=0))\n",
    "])\n",
    "\n",
    "model.fit(train_x, train_y)\n",
    "\n",
    "prediction = model.predict(test_x)\n",
    "print_evalution(test_y, prediction)"
   ],
   "metadata": {
    "collapsed": false,
    "pycharm": {
     "name": "#%%\n"
    }
   }
  },
  {
   "cell_type": "markdown",
   "source": [
    "Surprisingly, this doesn't give any increase."
   ],
   "metadata": {
    "collapsed": false,
    "pycharm": {
     "name": "#%% md\n"
    }
   }
  }
 ],
 "metadata": {
  "kernelspec": {
   "display_name": "Python 3",
   "language": "python",
   "name": "python3"
  },
  "language_info": {
   "codemirror_mode": {
    "name": "ipython",
    "version": 2
   },
   "file_extension": ".py",
   "mimetype": "text/x-python",
   "name": "python",
   "nbconvert_exporter": "python",
   "pygments_lexer": "ipython2",
   "version": "2.7.6"
  }
 },
 "nbformat": 4,
 "nbformat_minor": 0
}