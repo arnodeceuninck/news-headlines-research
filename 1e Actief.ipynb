{
 "cells": [
  {
   "cell_type": "markdown",
   "source": [
    "# Actief\n",
    "This is the first label of our dataset we'll try to predict.\n",
    "## Details\n",
    "> Een actieve of passieve constructie wijst op de vorm die  het  werkwoord  aanneemt  in  de  zin.  Er  zouden eerder   actieve   constructies   worden   gebruikt   in koppen, dan passieve.Ook   verstaan   we   in   deze   studie   onder   actieve constructies koppen die directer overkomen dan hun concurrentie, die misschien wat meer omslachtig is.Bij  een  directe  kop  staat  het  hoofdnieuws  van  het artikel vooraan, een indirectere kop geeft eerst nog watalgemene of onbeduidende informatie.\n",
    "## Example\n",
    "> Actief: Weg met perfectie: H&M werktde kleine details van bikinimodellen niet langer weg\n",
    "> Passief:  Weg  met  perfectie:  striemen,  beharing en littekens     van badpakmodellen H&M (worden) niet langer gefotoshopt\n",
    "> Directer: Proximus werktaan  eigen  Belgische Netflix\n",
    "> Indirecter: Proximus denktaan  eigen  Belgische Netflix\n",
    "## Data"
   ],
   "metadata": {
    "collapsed": false,
    "pycharm": {
     "name": "#%% md\n"
    }
   },
   "outputs": []
  },
  {
   "cell_type": "code",
   "execution_count": 5,
   "outputs": [
    {
     "data": {
      "text/plain": "1    567\n0    114\nName: Actief, dtype: int64"
     },
     "execution_count": 5,
     "metadata": {},
     "output_type": "execute_result"
    }
   ],
   "source": [
    "from util import get_cls_train_test\n",
    "\n",
    "train_x, train_y, test_x, test_y = get_cls_train_test(\"Actief\")\n",
    "train_y.value_counts()"
   ],
   "metadata": {
    "collapsed": false,
    "pycharm": {
     "name": "#%%\n"
    }
   }
  },
  {
   "cell_type": "markdown",
   "source": [
    "## Approach 1: Past paricle using own function\n",
    "A passive construction will often contain a past particle, so it might be useful to train a model to search for those. However, this won't be an ideal scenario, since more indirect forms (like the one given above using \"to think\") will be ignored with this.\n",
    "In the English language, we have following markers for a passive construction: be, -ed and by ([src](https://www.academypublication.com/issues/past/jltr/vol01/06/32.pdf), Classification and SLA Studies of Passive Voice, Yuanying Wang). This translates in dutch to forms of \"worden\", \"ge-\" and \"door\"."
   ],
   "metadata": {
    "collapsed": false,
    "pycharm": {
     "name": "#%% md\n"
    }
   }
  },
  {
   "cell_type": "code",
   "execution_count": 6,
   "outputs": [
    {
     "name": "stdout",
     "output_type": "stream",
     "text": [
      "True\n"
     ]
    }
   ],
   "source": [
    "# Warning: This manually writtn functions are prone to overfitting, so it's better to actually use nlp methods\n",
    "def is_passive(headline):\n",
    "    # TODO: Maybe I can check this with spacy? Since this manual construction is probbly overfitting\n",
    "\n",
    "    # Check if any word in headline start with \"ge\"\n",
    "    for word in headline.split():\n",
    "        if word.startswith(\"ge\") or word.startswith(\"Ge\"):\n",
    "            return True\n",
    "        if word == \"door\" or word == \"Door\":\n",
    "            return True\n",
    "        if \"word\" in word or word in [\"zijn\", \"is\", \"ben\", \"bent\"]:  # Check for any form of the verb \"worden\"\n",
    "            return True\n",
    "    return False\n",
    "\n",
    "\n",
    "def is_active(headline):\n",
    "    return not is_passive(headline)\n",
    "\n",
    "\n",
    "print(is_passive(\"Verdachte gevlucht na overval\"))"
   ],
   "metadata": {
    "collapsed": false,
    "pycharm": {
     "name": "#%%\n"
    }
   }
  },
  {
   "cell_type": "code",
   "execution_count": 7,
   "outputs": [
    {
     "name": "stdout",
     "output_type": "stream",
     "text": [
      "f-score: 0.584192439862543\n",
      "Confusion matrix: (TP: 21, FP: 18, FN: 103, TN: 85)\n",
      "Accuracy=46.70% (106/227)\n"
     ]
    },
    {
     "data": {
      "text/plain": "<Figure size 432x288 with 2 Axes>",
      "image/png": "[encoded data removed]"
     },
     "metadata": {},
     "output_type": "display_data"
    }
   ],
   "source": [
    "from util import print_evaluation\n",
    "import numpy as np\n",
    "\n",
    "predictions = np.vectorize(is_passive)(test_x)\n",
    "print_evaluation(test_y, predictions)"
   ],
   "metadata": {
    "collapsed": false,
    "pycharm": {
     "name": "#%%\n"
    }
   }
  },
  {
   "cell_type": "markdown",
   "source": [
    "Too much words starting with “Ge-” (e.g. Geen,gewoon, gebouw, …) are seen as passive indications, even though they aren’t. Let’s try without the “ge-” prefix detection."
   ],
   "metadata": {
    "collapsed": false,
    "pycharm": {
     "name": "#%% md\n"
    }
   }
  },
  {
   "cell_type": "code",
   "execution_count": 8,
   "outputs": [
    {
     "name": "stdout",
     "output_type": "stream",
     "text": [
      "f-score: 0.7818696883852692\n",
      "Confusion matrix: (TP: 12, FP: 27, FN: 50, TN: 138)\n",
      "Accuracy=66.08% (150/227)\n"
     ]
    },
    {
     "data": {
      "text/plain": "<Figure size 432x288 with 2 Axes>",
      "image/png": "[encoded data removed]"
     },
     "metadata": {},
     "output_type": "display_data"
    }
   ],
   "source": [
    "def is_active_no_ge_prefix(headline):\n",
    "    # Check if any word in headline start with \"ge\"\n",
    "    for word in headline.split():\n",
    "        if word == \"door\" or word == \"Door\":\n",
    "            return False\n",
    "        if \"word\" in word or word in [\"zijn\", \"is\", \"ben\", \"bent\"]:  # Check for any form of the verb \"worden\"\n",
    "            return False\n",
    "    return True\n",
    "\n",
    "\n",
    "from util import print_evaluation\n",
    "import numpy as np\n",
    "\n",
    "predictions = np.vectorize(is_active_no_ge_prefix)(test_x)\n",
    "print_evaluation(test_y, predictions)"
   ],
   "metadata": {
    "collapsed": false,
    "pycharm": {
     "name": "#%%\n"
    }
   }
  },
  {
   "cell_type": "markdown",
   "source": [
    "## Approach 2: Past particle using spacy"
   ],
   "metadata": {
    "collapsed": false,
    "pycharm": {
     "name": "#%% md\n"
    }
   }
  },
  {
   "cell_type": "code",
   "execution_count": 9,
   "outputs": [
    {
     "name": "stdout",
     "output_type": "stream",
     "text": [
      "[('Verdachte', 'PROPN', 'N|eigen|mv|basis'),\n",
      " ('gevlucht', 'VERB', 'WW|vd|vrij|zonder'),\n",
      " ('na', 'ADP', 'VZ|init'),\n",
      " ('overval', 'NOUN', 'N|soort|ev|basis|zijd|stan')]\n"
     ]
    }
   ],
   "source": [
    "import spacy\n",
    "from pprint import pprint\n",
    "\n",
    "nlp = spacy.load('nl_core_news_sm')\n",
    "pprint(list([(x.text, x.pos_, x.tag_) for x in nlp(\"Verdachte gevlucht na overval\")]))"
   ],
   "metadata": {
    "collapsed": false,
    "pycharm": {
     "name": "#%%\n"
    }
   }
  },
  {
   "cell_type": "code",
   "execution_count": 10,
   "outputs": [
    {
     "name": "stdout",
     "output_type": "stream",
     "text": [
      "False\n",
      "True\n"
     ]
    }
   ],
   "source": [
    "def contains_past_partiple(headline):\n",
    "    return any('|vd|' in x.tag_ for x in nlp(headline))\n",
    "\n",
    "\n",
    "def is_active_pp_spacy(headline):\n",
    "    return not contains_past_partiple(headline)\n",
    "\n",
    "\n",
    "print(is_active_pp_spacy(u\"Slachtoffer is vermoord in Antwerpen\"))\n",
    "print(is_active_pp_spacy(u\"Verdachte pleegt moord in Antwerpen\"))"
   ],
   "metadata": {
    "collapsed": false,
    "pycharm": {
     "name": "#%%\n"
    }
   }
  },
  {
   "cell_type": "code",
   "execution_count": 11,
   "outputs": [
    {
     "name": "stdout",
     "output_type": "stream",
     "text": [
      "f-score: 0.7976878612716763\n",
      "Confusion matrix: (TP: 19, FP: 20, FN: 50, TN: 138)\n",
      "Accuracy=69.16% (157/227)\n"
     ]
    },
    {
     "data": {
      "text/plain": "<Figure size 432x288 with 2 Axes>",
      "image/png": "[encoded data removed]"
     },
     "metadata": {},
     "output_type": "display_data"
    }
   ],
   "source": [
    "predictions = np.vectorize(is_active_pp_spacy)(test_x)\n",
    "print_evaluation(test_y, predictions)"
   ],
   "metadata": {
    "collapsed": false,
    "pycharm": {
     "name": "#%%\n"
    }
   }
  },
  {
   "cell_type": "markdown",
   "source": [
    "## Approach 3: Tf-idf\n",
    "Passive sentences often contain chargrams like \"ge-\", \"-d\", \"-t\", \"door\" or forms of \"zijn\". Because of this, word or character tokenized tf-idf might work well.\n"
   ],
   "metadata": {
    "collapsed": false,
    "pycharm": {
     "name": "#%% md\n"
    }
   }
  },
  {
   "cell_type": "markdown",
   "source": [
    "### Word-tokenized"
   ],
   "metadata": {
    "collapsed": false,
    "pycharm": {
     "name": "#%% md\n"
    }
   }
  },
  {
   "cell_type": "code",
   "execution_count": 12,
   "outputs": [
    {
     "name": "stdout",
     "output_type": "stream",
     "text": [
      "f-score: 0.9104116222760291\n",
      "Confusion matrix: (TP: 2, FP: 37, FN: 0, TN: 188)\n",
      "Accuracy=83.70% (190/227)\n"
     ]
    },
    {
     "data": {
      "text/plain": "<Figure size 432x288 with 2 Axes>",
      "image/png": "[encoded data removed]"
     },
     "metadata": {},
     "output_type": "display_data"
    }
   ],
   "source": [
    "from imblearn.pipeline import Pipeline\n",
    "from sklearn.feature_extraction.text import TfidfVectorizer\n",
    "from sklearn import svm\n",
    "\n",
    "model = Pipeline([\n",
    "    ('vectorizer', TfidfVectorizer(ngram_range=(1, 1))),\n",
    "    ('classifier', svm.LinearSVC(random_state=42))\n",
    "])\n",
    "\n",
    "model.fit(train_x, train_y)\n",
    "\n",
    "prediction = model.predict(test_x)\n",
    "print_evaluation(test_y, prediction)"
   ],
   "metadata": {
    "collapsed": false,
    "pycharm": {
     "name": "#%%\n"
    }
   }
  },
  {
   "cell_type": "code",
   "execution_count": 13,
   "outputs": [
    {
     "name": "stdout",
     "output_type": "stream",
     "text": [
      "0.6746          geeft    -1.1450       opgepakt\n",
      "0.6557           onze    -1.1117           twee\n",
      "0.6219     vlaanderen    -0.9961             dj\n",
      "0.5266        politie    -0.9316          omdat\n",
      "0.5241           auto    -0.9222   geschiedenis\n",
      "0.5208            dag    -0.8955       verdacht\n",
      "0.5151            uit    -0.8497           belg\n",
      "0.5147     temptation    -0.7925           drie\n",
      "0.4945            mee    -0.7915         avicii\n",
      "0.4936           niet    -0.7867      favoriete\n"
     ]
    }
   ],
   "source": [
    "from util import show_most_informative_features\n",
    "show_most_informative_features(model)"
   ],
   "metadata": {
    "collapsed": false,
    "pycharm": {
     "name": "#%%\n"
    }
   }
  },
  {
   "cell_type": "markdown",
   "source": [
    "Those are not what I expected (I expected more past particles on th negative side, \"verdacht\" and \"opgepakt\" are the only ones in the top 10). \"Door\" is also a logical one on the negative side (but dissapeared because the random seed wasn't fixed)."
   ],
   "metadata": {
    "collapsed": false,
    "pycharm": {
     "name": "#%% md\n"
    }
   }
  },
  {
   "cell_type": "markdown",
   "source": [
    "### Character-tokenized"
   ],
   "metadata": {
    "collapsed": false,
    "pycharm": {
     "name": "#%% md\n"
    }
   }
  },
  {
   "cell_type": "code",
   "execution_count": 14,
   "outputs": [
    {
     "name": "stdout",
     "output_type": "stream",
     "text": [
      "f-score: 0.9029126213592233\n",
      "Confusion matrix: (TP: 1, FP: 38, FN: 2, TN: 186)\n",
      "Accuracy=82.38% (187/227)\n"
     ]
    },
    {
     "data": {
      "text/plain": "<Figure size 432x288 with 2 Axes>",
      "image/png": "[encoded data removed]"
     },
     "metadata": {},
     "output_type": "display_data"
    }
   ],
   "source": [
    "model = Pipeline([\n",
    "    ('vectorizer', TfidfVectorizer(analyzer=\"char_wb\", ngram_range=(1, 4))), # \"-d\" to \"door\"\n",
    "    ('classifier', svm.LinearSVC(random_state=42))\n",
    "])\n",
    "\n",
    "model.fit(train_x, train_y)\n",
    "\n",
    "prediction = model.predict(test_x)\n",
    "print_evaluation(test_y, prediction)"
   ],
   "metadata": {
    "collapsed": false,
    "pycharm": {
     "name": "#%%\n"
    }
   }
  },
  {
   "cell_type": "markdown",
   "source": [
    "Let's take a look at which characters are important:"
   ],
   "metadata": {
    "collapsed": false,
    "pycharm": {
     "name": "#%% md\n"
    }
   }
  },
  {
   "cell_type": "code",
   "execution_count": 15,
   "outputs": [
    {
     "name": "stdout",
     "output_type": "stream",
     "text": [
      "0.6202              \"    -0.7030             ak\n",
      "0.6182              l    -0.6778            era\n",
      "0.5283            ag     -0.6535            ng \n",
      "0.4911              o    -0.5590            erd\n",
      "0.4901             la    -0.5581              d\n",
      "0.4803            lt     -0.5506             u \n",
      "0.4797            laa    -0.5401            doo\n",
      "0.4633             on    -0.5361              g\n",
      "0.4527             bl    -0.5329            ot \n",
      "0.4329           aan     -0.5085             be\n"
     ]
    }
   ],
   "source": [
    "show_most_informative_features(model)"
   ],
   "metadata": {
    "collapsed": false,
    "pycharm": {
     "name": "#%%\n"
    }
   }
  },
  {
   "cell_type": "markdown",
   "source": [
    "\"doo(r)\" was expectd. \" ge-\" is surprisingly not part of the top 10 negatives (but \"gel-\" is). \"-erd\" is also one that makes sense."
   ],
   "metadata": {
    "collapsed": false,
    "pycharm": {
     "name": "#%% md\n"
    }
   }
  },
  {
   "cell_type": "markdown",
   "source": [
    "## Approach 4: char-gram Tf-idf + past particle as extra feature"
   ],
   "metadata": {
    "collapsed": false,
    "pycharm": {
     "name": "#%% md\n"
    }
   }
  },
  {
   "cell_type": "code",
   "execution_count": 17,
   "outputs": [
    {
     "name": "stdout",
     "output_type": "stream",
     "text": [
      "f-score: 0.9051094890510949\n",
      "Confusion matrix: (TP: 2, FP: 37, FN: 2, TN: 186)\n",
      "Accuracy=82.82% (188/227)\n"
     ]
    },
    {
     "data": {
      "text/plain": "<Figure size 432x288 with 2 Axes>",
      "image/png": "[encoded data removed]"
     },
     "metadata": {},
     "output_type": "display_data"
    }
   ],
   "source": [
    "from sklearn.pipeline import FeatureUnion\n",
    "from util import FunctionTransformer\n",
    "\n",
    "model = Pipeline([\n",
    "    ('union', FeatureUnion([\n",
    "        ('vectorizer', TfidfVectorizer(analyzer=\"char_wb\", ngram_range=(1, 4))),\n",
    "        ('consecutive_pronouns', FunctionTransformer(func=is_active_pp_spacy))\n",
    "    ])),\n",
    "    ('classifier', svm.LinearSVC(random_state=0))\n",
    "])\n",
    "\n",
    "model.fit(train_x, train_y)\n",
    "\n",
    "prediction = model.predict(test_x)\n",
    "print_evaluation(test_y, prediction)"
   ],
   "metadata": {
    "collapsed": false,
    "pycharm": {
     "name": "#%%\n"
    }
   }
  },
  {
   "cell_type": "markdown",
   "source": [
    "Surprisingly, this doesn't give any increase."
   ],
   "metadata": {
    "collapsed": false,
    "pycharm": {
     "name": "#%% md\n"
    }
   }
  },
  {
   "cell_type": "markdown",
   "source": [
    "## Approach 5: word-gram tf-idf + past particle as extra feature"
   ],
   "metadata": {
    "collapsed": false,
    "pycharm": {
     "name": "#%% md\n"
    }
   }
  },
  {
   "cell_type": "code",
   "execution_count": 18,
   "outputs": [
    {
     "name": "stdout",
     "output_type": "stream",
     "text": [
      "f-score: 0.9077669902912622\n",
      "Confusion matrix: (TP: 2, FP: 37, FN: 1, TN: 187)\n",
      "Accuracy=83.26% (189/227)\n"
     ]
    },
    {
     "data": {
      "text/plain": "<Figure size 432x288 with 2 Axes>",
      "image/png": "[encoded data removed]"
     },
     "metadata": {},
     "output_type": "display_data"
    }
   ],
   "source": [
    "from sklearn.pipeline import FeatureUnion\n",
    "from util import FunctionTransformer\n",
    "\n",
    "model = Pipeline([\n",
    "    ('union', FeatureUnion([\n",
    "        ('vectorizer', TfidfVectorizer()),\n",
    "        ('consecutive_pronouns', FunctionTransformer(func=is_active_pp_spacy))\n",
    "    ])),\n",
    "    ('classifier', svm.LinearSVC(random_state=0))\n",
    "])\n",
    "\n",
    "model.fit(train_x, train_y)\n",
    "\n",
    "prediction = model.predict(test_x)\n",
    "print_evaluation(test_y, prediction)"
   ],
   "metadata": {
    "collapsed": false,
    "pycharm": {
     "name": "#%%\n"
    }
   }
  }
 ],
 "metadata": {
  "kernelspec": {
   "display_name": "Python 3",
   "language": "python",
   "name": "python3"
  },
  "language_info": {
   "codemirror_mode": {
    "name": "ipython",
    "version": 2
   },
   "file_extension": ".py",
   "mimetype": "text/x-python",
   "name": "python",
   "nbconvert_exporter": "python",
   "pygments_lexer": "ipython2",
   "version": "2.7.6"
  }
 },
 "nbformat": 4,
 "nbformat_minor": 0
}