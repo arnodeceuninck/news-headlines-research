{
 "cells": [
  {
   "cell_type": "markdown",
   "source": [
    "# Voorwaartse verwijzingen\n",
    "## Details\n",
    "> Voorwaartse   verwijzingen   (1)   lokken   lezers   met succes  naar  het  artikel,omdat  ze  de  lezer  in  het ongewisse  laten.  Pas  in  het  artikel  wordt  duidelijk wat er met de voorwaartse verwijzing in de kop werd bedoeld.   Voorwaartse   verwijzingen   zijn   meestal woorden zoals dit, deze, zo, hij/zij, waarom, wie, wat, enzovoorts.In  dit  onderzoek  beschouwen  we  ook  niet  nader gespecifieerde koppen (2) als voorwaartse verwijzingen. Hiermee bedoelen we dus koppen die informatie achterhouden,waardoor bepaalde details onbekend blijven voor de lezer als ze het artikel niet lezen.\n",
    "## Examples\n",
    "> (1) Straffer dan Cirque du Soleil: deze actkreeg een gouden buzzer in 'America's got Talent'Vs. Dansgroep  vol  jongerenverstomt  jury  van America's Got Talent: \"Ik denk dat ons leven net veranderd is\"\n",
    "> (2) Trump maakt    zich    belachelijktijdens \"haastig\" feestjeVs. Trump vergeet    tekst volksliedtijdens \"haastig\" feestje"
   ],
   "metadata": {
    "collapsed": false,
    "pycharm": {
     "name": "#%% md\n"
    }
   }
  },
  {
   "cell_type": "markdown",
   "source": [
    "## Data"
   ],
   "metadata": {
    "collapsed": false,
    "pycharm": {
     "name": "#%% md\n"
    }
   }
  },
  {
   "cell_type": "code",
   "execution_count": 2,
   "outputs": [
    {
     "data": {
      "text/plain": "0    539\n1    142\nName: Voorwaartse Verwijzing, dtype: int64"
     },
     "execution_count": 2,
     "metadata": {},
     "output_type": "execute_result"
    }
   ],
   "source": [
    "from util import get_cls_train_test\n",
    "\n",
    "train_x, train_y, test_x, test_y = get_cls_train_test(\"Voorwaartse Verwijzing\")\n",
    "train_y.value_counts()"
   ],
   "metadata": {
    "collapsed": false,
    "pycharm": {
     "name": "#%%\n"
    }
   }
  },
  {
   "cell_type": "markdown",
   "source": [
    "## Approach 1: Tf-idf"
   ],
   "metadata": {
    "collapsed": false,
    "pycharm": {
     "name": "#%% md\n"
    }
   }
  },
  {
   "cell_type": "code",
   "execution_count": 4,
   "outputs": [
    {
     "name": "stdout",
     "output_type": "stream",
     "text": [
      "f-score: 0.45\n",
      "Confusion matrix: (TP: 166, FP: 20, FN: 24, TN: 18)\n",
      "Accuracy=80.70% (184/228)\n"
     ]
    },
    {
     "data": {
      "text/plain": "<Figure size 432x288 with 2 Axes>",
      "image/png": "[encoded data removed]"
     },
     "metadata": {
      "needs_background": "light"
     },
     "output_type": "display_data"
    }
   ],
   "source": [
    "from sklearn import svm\n",
    "from util import stem_analyzer, fit_predict_evaluate\n",
    "from imblearn.pipeline import Pipeline\n",
    "from imblearn.combine import SMOTETomek\n",
    "\n",
    "from sklearn.feature_extraction.text import TfidfVectorizer\n",
    "\n",
    "model = Pipeline([\n",
    "    ('vectorizer', TfidfVectorizer(analyzer=stem_analyzer)),\n",
    "    ('resampler', SMOTETomek(random_state=42)),\n",
    "    ('classifier', svm.LinearSVC(random_state=42))\n",
    "])\n",
    "\n",
    "fit_predict_evaluate(model, train_x, train_y, test_x, test_y)"
   ],
   "metadata": {
    "collapsed": false,
    "pycharm": {
     "name": "#%%\n"
    }
   }
  },
  {
   "cell_type": "markdown",
   "source": [
    "## Approach 2: Daniel Siahaan, Izzatul Umami\n",
    "Siahaan, D., & Umami, I. (2012). Natural language processing for detecting forward reference in a document. IPTEK The Journal for Technology and Science, 23(4).\n",
    "\n",
    "There are Meyer's seven since when writing software requirements. One of those sins are forward references. Given paper describes methods for detecting those forward references with NLP. \"Forward reference refers to a first appearance of a term in passage which precedes it's definition\". This paper is focussed on definitions of elements (by looking for used elements and linking it to their definition), so not relevant for our use case, since our forward are more of the form \"Deze\", \"Tips\" ... and not definitions of complicated words as forward definition. It works by checking whether a word is common knowledge (using Wikipedia) and if it's not common knowledge, it checks whether there is a definition in the text (and definitions have often a standard format in sentence parsing).\n",
    "\n",
    "## Approach 3: Clickbait-based papers\n",
    "Agrawal, A. (2016, October). Clickbait detection using deep learning. In 2016 2nd international conference on next generation computing technologies (NGCT) (pp. 268-272). IEEE.\n",
    "\n",
    "This paper is about clickbait detection. Since \"Forward referencing\" is a technique used in clickbait, concept in this paper might also be useful for this (note: as the paper mentions, the goal of clickbait is misleading the reader to click, this isn't misleading). They convert the headlines into word embeddings which serves as input to their convolutional neural network.\n",
    "Model summary: Word embedding (e.g. word2vec), input into 3 conv-mxpool-{3,4,5} layers, concat, reshape, dropout, adam\n",
    "\n",
    "Random sidenote for later: I found a page listing some dutch word embedding models: https://dutch-nlp-resources.readthedocs.io/en/latest/models.html\n",
    "\n",
    "Another paper by Blom and Hansen is mentioned here, which studied forward referencing on Danish News sites, which is the same as we're doing (but then for Dutch headlines), so let's look more into that.\n",
    "\n",
    "> There are two forms of forward-referencing: discourse deixis en cataphora.\n",
    "> discourse deixis: reference to forthcoming (parts of the) discourse relative to the current location in the disxourse, e.g. *This* is the best news story you will ever read.\n",
    "> cataphora: Not at the discourse level, but to a word or a phrselater in the sentence or text, e.g. When *he* arrived at the crime scene, the journalist interviewed the victim's wife. (he refers to the yournalist).\n",
    "\n",
    "The paper was more about forward referencing itself and not about the automatic detection of it, so not useful for now.\n",
    "\n",
    "The implementation of the CNN of the previous paper might be something useful if we've got enough time. For now, we stick to the Tf-Idf classification technique."
   ],
   "metadata": {
    "collapsed": false,
    "pycharm": {
     "name": "#%% md\n"
    }
   }
  },
  {
   "cell_type": "code",
   "execution_count": null,
   "outputs": [],
   "source": [],
   "metadata": {
    "collapsed": false,
    "pycharm": {
     "name": "#%%\n"
    }
   }
  }
 ],
 "metadata": {
  "kernelspec": {
   "display_name": "Python 3",
   "language": "python",
   "name": "python3"
  },
  "language_info": {
   "codemirror_mode": {
    "name": "ipython",
    "version": 2
   },
   "file_extension": ".py",
   "mimetype": "text/x-python",
   "name": "python",
   "nbconvert_exporter": "python",
   "pygments_lexer": "ipython2",
   "version": "2.7.6"
  }
 },
 "nbformat": 4,
 "nbformat_minor": 0
}