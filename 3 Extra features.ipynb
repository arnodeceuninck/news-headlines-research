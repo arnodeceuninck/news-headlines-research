{
 "cells": [
  {
   "cell_type": "markdown",
   "source": [
    "# Extra features\n",
    "We definetly need some extra features, since we can't achieve good results with only the manual labels.  We'll test the new results both on naïve bayes and xgboost.\n",
    "\n",
    "## Data\n",
    "Our train and test set remain the same."
   ],
   "metadata": {
    "collapsed": false,
    "pycharm": {
     "name": "#%% md\n"
    }
   }
  },
  {
   "cell_type": "code",
   "execution_count": 4,
   "outputs": [],
   "source": [
    "from util import get_wpm_train_test, get_label_columns\n",
    "\n",
    "train_x_full, train_y, test_x, test_y, groups = get_wpm_train_test(include_groups=True, x_train_features_only=False)\n",
    "\n",
    "features = get_label_columns() # initially only the manual labels"
   ],
   "metadata": {
    "collapsed": false,
    "pycharm": {
     "name": "#%%\n"
    }
   }
  },
  {
   "cell_type": "markdown",
   "source": [
    "## Baseline\n",
    "Get the baseline results."
   ],
   "metadata": {
    "collapsed": false,
    "pycharm": {
     "name": "#%% md\n"
    }
   }
  },
  {
   "cell_type": "markdown",
   "source": [
    "### Naive Bayes"
   ],
   "metadata": {
    "collapsed": false,
    "pycharm": {
     "name": "#%% md\n"
    }
   }
  },
  {
   "cell_type": "code",
   "execution_count": 5,
   "outputs": [
    {
     "name": "stdout",
     "output_type": "stream",
     "text": [
      "Accuracy: 57.14% (104/182)\n"
     ]
    }
   ],
   "source": [
    "from util import get_naive_bayes_model_wp, fit_predict_print_wp, print_wp_evaluation, predict_wp\n",
    "\n",
    "model = get_naive_bayes_model_wp()\n",
    "\n",
    "model.fit(train_x_full[features], train_y[\"Winner\"])\n",
    "predicted_winners = predict_wp(model, test_x, features=features)\n",
    "print_wp_evaluation(predicted_winners, test_y)"
   ],
   "metadata": {
    "collapsed": false,
    "pycharm": {
     "name": "#%%\n"
    }
   }
  },
  {
   "cell_type": "markdown",
   "source": [
    "### XGBoost"
   ],
   "metadata": {
    "collapsed": false,
    "pycharm": {
     "name": "#%% md\n"
    }
   }
  },
  {
   "cell_type": "code",
   "execution_count": 7,
   "outputs": [
    {
     "name": "stderr",
     "output_type": "stream",
     "text": [
      "C:\\Users\\arnod\\AppData\\Local\\Programs\\Python\\Python39\\lib\\site-packages\\xgboost\\core.py:525: FutureWarning: Pass `sample_weight` as keyword args.  Passing these as positional arguments will be considered as error in future releases.\n",
      "  warnings.warn(\n"
     ]
    },
    {
     "name": "stdout",
     "output_type": "stream",
     "text": [
      "Accuracy: 51.65% (94/182)\n"
     ]
    }
   ],
   "source": [
    "from util import get_xgboost_model_wp, fit_predict_print_wp, print_wp_evaluation, predict_wp\n",
    "\n",
    "model = get_xgboost_model_wp()\n",
    "\n",
    "model.fit(train_x_full[features], train_y[\"Winner\"], groups)\n",
    "predicted_winners = predict_wp(model, test_x, features=features)\n",
    "print_wp_evaluation(predicted_winners, test_y)"
   ],
   "metadata": {
    "collapsed": false,
    "pycharm": {
     "name": "#%%\n"
    }
   }
  },
  {
   "cell_type": "markdown",
   "source": [
    "## Sample feature\n",
    "Let's add the length of the headline as extra feature."
   ],
   "metadata": {
    "collapsed": false,
    "pycharm": {
     "name": "#%% md\n"
    }
   }
  },
  {
   "cell_type": "code",
   "execution_count": 9,
   "outputs": [],
   "source": [
    "features.append(\"Length\")\n",
    "def add_length_to_dataframe(df):\n",
    "    modified_df = df.copy()\n",
    "    modified_df[\"Length\"] = df[\"Headline\"].apply(len)\n",
    "    return modified_df\n",
    "\n",
    "train_x_full_new = add_length_to_dataframe(train_x_full)\n",
    "test_x_new = add_length_to_dataframe(test_x)"
   ],
   "metadata": {
    "collapsed": false,
    "pycharm": {
     "name": "#%%\n"
    }
   }
  },
  {
   "cell_type": "markdown",
   "source": [
    "### Evaluate"
   ],
   "metadata": {
    "collapsed": false,
    "pycharm": {
     "name": "#%% md\n"
    }
   }
  },
  {
   "cell_type": "code",
   "execution_count": 10,
   "outputs": [
    {
     "name": "stdout",
     "output_type": "stream",
     "text": [
      "Accuracy: 57.14% (104/182)\n"
     ]
    }
   ],
   "source": [
    "from util import get_naive_bayes_model_wp, fit_predict_print_wp, print_wp_evaluation, predict_wp\n",
    "\n",
    "model = get_naive_bayes_model_wp()\n",
    "\n",
    "model.fit(train_x_full_new[features], train_y[\"Winner\"])\n",
    "predicted_winners = predict_wp(model, test_x_new, features=features)\n",
    "print_wp_evaluation(predicted_winners, test_y)"
   ],
   "metadata": {
    "collapsed": false,
    "pycharm": {
     "name": "#%%\n"
    }
   }
  },
  {
   "cell_type": "code",
   "execution_count": 11,
   "outputs": [
    {
     "name": "stderr",
     "output_type": "stream",
     "text": [
      "C:\\Users\\arnod\\AppData\\Local\\Programs\\Python\\Python39\\lib\\site-packages\\xgboost\\core.py:525: FutureWarning: Pass `sample_weight` as keyword args.  Passing these as positional arguments will be considered as error in future releases.\n",
      "  warnings.warn(\n"
     ]
    },
    {
     "name": "stdout",
     "output_type": "stream",
     "text": [
      "Accuracy: 53.85% (98/182)\n"
     ]
    }
   ],
   "source": [
    "from util import get_xgboost_model_wp, fit_predict_print_wp, print_wp_evaluation, predict_wp\n",
    "\n",
    "model = get_xgboost_model_wp()\n",
    "\n",
    "model.fit(train_x_full_new[features], train_y[\"Winner\"], groups)\n",
    "predicted_winners = predict_wp(model, test_x_new, features=features)\n",
    "print_wp_evaluation(predicted_winners, test_y)"
   ],
   "metadata": {
    "collapsed": false,
    "pycharm": {
     "name": "#%%\n"
    }
   }
  },
  {
   "cell_type": "markdown",
   "source": [
    "\"Lang\" was only at the 8th position of important features in the xgboost model, but already caused some increase, so let's hope extra features will keep incresing the accuracy. This didn't make any difference for naïve bayes."
   ],
   "metadata": {
    "collapsed": false,
    "pycharm": {
     "name": "#%% md\n"
    }
   }
  }
 ],
 "metadata": {
  "kernelspec": {
   "display_name": "Python 3",
   "language": "python",
   "name": "python3"
  },
  "language_info": {
   "codemirror_mode": {
    "name": "ipython",
    "version": 2
   },
   "file_extension": ".py",
   "mimetype": "text/x-python",
   "name": "python",
   "nbconvert_exporter": "python",
   "pygments_lexer": "ipython2",
   "version": "2.7.6"
  }
 },
 "nbformat": 4,
 "nbformat_minor": 0
}