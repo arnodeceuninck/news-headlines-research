{
 "cells": [
  {
   "cell_type": "markdown",
   "source": [
    "# Adjectieven\n",
    "## Details\n",
    "> Adjectieven geven meer duiding bij een onderwerp. Adjectieven  in  koppen  worden  vaak  gebruikt  om gevoelens bij de lezers los te maken:  adjectieven in krantenkoppen  kunnen  fungeren  als  versterkers  en zorgen voor meer inleving van de lezers.\n",
    "\n",
    "## Example\n",
    "> GokverslaafdeJaak (32) klapt uit de biecht: “Ik heb het geld voor mijn bouwgrond vergokt”Vs. Jaak(32) was verslaafd aan gokken, en praat voor het eerst over de donkerste periode uit zijn leven\n"
   ],
   "metadata": {
    "collapsed": false,
    "pycharm": {
     "name": "#%% md\n"
    }
   }
  },
  {
   "cell_type": "markdown",
   "source": [
    "## Data"
   ],
   "metadata": {
    "collapsed": false,
    "pycharm": {
     "name": "#%% md\n"
    }
   }
  },
  {
   "cell_type": "code",
   "execution_count": 1,
   "outputs": [
    {
     "data": {
      "text/plain": "0    521\n1    160\nName: Adjectieven, dtype: int64"
     },
     "execution_count": 1,
     "metadata": {},
     "output_type": "execute_result"
    }
   ],
   "source": [
    "from util import get_cls_train_test\n",
    "\n",
    "train_x, train_y, test_x, test_y = get_cls_train_test(\"Adjectieven\")\n",
    "train_y.value_counts()"
   ],
   "metadata": {
    "collapsed": false,
    "pycharm": {
     "name": "#%%\n"
    }
   }
  },
  {
   "cell_type": "markdown",
   "source": [
    "## Approach 1: Tf-idf\n",
    "With tf-idf or just a count vectorizer, we might already achieve quite a good result, since it just needs to learn some adjectives."
   ],
   "metadata": {
    "collapsed": false,
    "pycharm": {
     "name": "#%% md\n"
    }
   }
  },
  {
   "cell_type": "code",
   "execution_count": 2,
   "outputs": [
    {
     "name": "stdout",
     "output_type": "stream",
     "text": [
      "f-score: 0.1764705882352941\n",
      "Confusion matrix: (TP: 166, FP: 10, FN: 46, TN: 6)\n",
      "Accuracy=75.44% (172/228)\n"
     ]
    },
    {
     "data": {
      "text/plain": "<Figure size 432x288 with 2 Axes>",
      "image/png": "[encoded data removed]"
     },
     "metadata": {
      "needs_background": "light"
     },
     "output_type": "display_data"
    }
   ],
   "source": [
    "from imblearn.pipeline import Pipeline\n",
    "from imblearn.combine import SMOTETomek\n",
    "from sklearn.feature_extraction.text import TfidfVectorizer\n",
    "from sklearn import svm\n",
    "\n",
    "from util import fit_predict_evaluate\n",
    "\n",
    "model = Pipeline([\n",
    "    ('vectorizer', TfidfVectorizer()),\n",
    "    ('resampler', SMOTETomek(random_state=0)),\n",
    "    ('classifier', svm.LinearSVC(random_state=0))\n",
    "])\n",
    "\n",
    "fit_predict_evaluate(model, train_x, train_y, test_x, test_y)"
   ],
   "metadata": {
    "collapsed": false,
    "pycharm": {
     "name": "#%%\n"
    }
   }
  },
  {
   "cell_type": "code",
   "execution_count": 3,
   "outputs": [
    {
     "name": "stdout",
     "output_type": "stream",
     "text": [
      "1.1994         turkse    -1.2209           zijn\n",
      "1.1936         lelijk    -1.1422            wat\n",
      "1.1528         triest    -0.9559             nu\n",
      "1.1410           kans    -0.9504           niet\n",
      "1.1376          jonge    -0.8988             ik\n",
      "1.1292       vergeten    -0.8766            was\n",
      "1.0779   schaamteloze    -0.8196          eigen\n",
      "1.0695             vs    -0.8102            met\n",
      "1.0572          slaat    -0.7898           hier\n",
      "1.0389           mike    -0.7794             in\n"
     ]
    }
   ],
   "source": [
    "from util import show_most_informative_features\n",
    "show_most_informative_features(model)"
   ],
   "metadata": {
    "collapsed": false,
    "pycharm": {
     "name": "#%%\n"
    }
   }
  },
  {
   "cell_type": "markdown",
   "source": [
    "The positive terms are as expected mainly adjectives (but also some other strange words like \"kns\", \"vs\", \"slaat\" and \"mike\"). \"Zijn\" is probably an important negative, because words aren't an adjective then but an adverb."
   ],
   "metadata": {
    "collapsed": false,
    "pycharm": {
     "name": "#%% md\n"
    }
   }
  },
  {
   "cell_type": "code",
   "execution_count": 4,
   "outputs": [
    {
     "name": "stdout",
     "output_type": "stream",
     "text": [
      "f-score: 0.3770491803278688\n",
      "Confusion matrix: (TP: 129, FP: 47, FN: 29, TN: 23)\n",
      "Accuracy=66.67% (152/228)\n"
     ]
    },
    {
     "data": {
      "text/plain": "<Figure size 432x288 with 2 Axes>",
      "image/png": "[encoded data removed]"
     },
     "metadata": {
      "needs_background": "light"
     },
     "output_type": "display_data"
    }
   ],
   "source": [
    "from sklearn.feature_extraction.text import CountVectorizer\n",
    "\n",
    "model = Pipeline([\n",
    "    ('vectorizer', CountVectorizer()),\n",
    "    ('resampler', SMOTETomek(random_state=0)),\n",
    "    ('classifier', svm.LinearSVC(random_state=0))\n",
    "])\n",
    "\n",
    "fit_predict_evaluate(model, train_x, train_y, test_x, test_y)"
   ],
   "metadata": {
    "collapsed": false,
    "pycharm": {
     "name": "#%%\n"
    }
   }
  },
  {
   "cell_type": "markdown",
   "source": [
    "This gives a higher accuracy and a lower test score, but still no good results."
   ],
   "metadata": {
    "collapsed": false,
    "pycharm": {
     "name": "#%% md\n"
    }
   }
  },
  {
   "cell_type": "markdown",
   "source": [
    "## Approach 2: Stemmer"
   ],
   "metadata": {
    "collapsed": false,
    "pycharm": {
     "name": "#%% md\n"
    }
   }
  },
  {
   "cell_type": "code",
   "execution_count": 5,
   "outputs": [
    {
     "name": "stdout",
     "output_type": "stream",
     "text": [
      "f-score: 0.18918918918918917\n",
      "Confusion matrix: (TP: 161, FP: 15, FN: 45, TN: 7)\n",
      "Accuracy=73.68% (168/228)\n"
     ]
    },
    {
     "data": {
      "text/plain": "<Figure size 432x288 with 2 Axes>",
      "image/png": "[encoded data removed]"
     },
     "metadata": {
      "needs_background": "light"
     },
     "output_type": "display_data"
    }
   ],
   "source": [
    "from util import stem_analyzer\n",
    "\n",
    "model = Pipeline([\n",
    "    ('vectorizer', TfidfVectorizer(analyzer=stem_analyzer)),\n",
    "    ('resampler', SMOTETomek(random_state=0)),\n",
    "    ('classifier', svm.LinearSVC(random_state=0))\n",
    "])\n",
    "\n",
    "fit_predict_evaluate(model, train_x, train_y, test_x, test_y)"
   ],
   "metadata": {
    "collapsed": false,
    "pycharm": {
     "name": "#%%\n"
    }
   }
  },
  {
   "cell_type": "markdown",
   "source": [
    "This resulted in similar results. A possiblity for lower accuracy might be that some adjectives can share the same stem as a related noun (e.g. \"liefde\" and \"lief\")"
   ],
   "metadata": {
    "collapsed": false,
    "pycharm": {
     "name": "#%% md\n"
    }
   }
  },
  {
   "cell_type": "markdown",
   "source": [
    "## Approach 3: SpaCy"
   ],
   "metadata": {
    "collapsed": false,
    "pycharm": {
     "name": "#%% md\n"
    }
   }
  },
  {
   "cell_type": "code",
   "execution_count": 8,
   "outputs": [
    {
     "name": "stdout",
     "output_type": "stream",
     "text": [
      "[('Blue', 'ADJ'), ('eyed', 'ADJ'), ('dog', 'NOUN'), ('lost', 'VERB')]\n"
     ]
    }
   ],
   "source": [
    "import spacy\n",
    "from pprint import pprint\n",
    "nlp = spacy.load('en_core_web_sm')\n",
    "pprint([(x.text,x.pos_) for x in nlp(u\"Blue eyed dog lost\")])"
   ],
   "metadata": {
    "collapsed": false,
    "pycharm": {
     "name": "#%%\n"
    }
   }
  },
  {
   "cell_type": "markdown",
   "source": [
    "Works as expected. Let's try with a dutch sentence:"
   ],
   "metadata": {
    "collapsed": false,
    "pycharm": {
     "name": "#%% md\n"
    }
   }
  },
  {
   "cell_type": "code",
   "execution_count": 9,
   "outputs": [
    {
     "name": "stdout",
     "output_type": "stream",
     "text": [
      "[('Mijn', 'PRON'),\n",
      " ('hond', 'NOUN'),\n",
      " ('heeft', 'AUX'),\n",
      " ('blauwe', 'ADJ'),\n",
      " ('ogen', 'NOUN'),\n",
      " ('en', 'CCONJ'),\n",
      " ('een', 'DET'),\n",
      " ('kleine', 'ADJ'),\n",
      " ('koe', 'NOUN'),\n",
      " ('.', 'PUNCT')]\n"
     ]
    }
   ],
   "source": [
    "nlp = spacy.load('nl_core_news_sm')\n",
    "pprint([(x.text, x.pos_) for x in nlp(u\"Mijn hond heeft blauwe ogen en een kleine koe.\")]) # Hahaha, no idea where the little cow comes from, but GitHub copilot suggested it, so let's keep it"
   ],
   "metadata": {
    "collapsed": false,
    "pycharm": {
     "name": "#%%\n"
    }
   }
  },
  {
   "cell_type": "markdown",
   "source": [
    "Cool, seems to work!"
   ],
   "metadata": {
    "collapsed": false,
    "pycharm": {
     "name": "#%% md\n"
    }
   }
  },
  {
   "cell_type": "code",
   "execution_count": 10,
   "outputs": [
    {
     "name": "stdout",
     "output_type": "stream",
     "text": [
      "False\n",
      "True\n"
     ]
    }
   ],
   "source": [
    "def contains_adj(headline):\n",
    "    return any(x.pos_ == 'ADJ' for x in nlp(headline))\n",
    "\n",
    "print(contains_adj(u\"Man verdrinkt in zee\"))\n",
    "print(contains_adj(u\"Man verdrinkt in wilde zee\"))"
   ],
   "metadata": {
    "collapsed": false,
    "pycharm": {
     "name": "#%%\n"
    }
   }
  },
  {
   "cell_type": "code",
   "execution_count": 12,
   "outputs": [
    {
     "name": "stdout",
     "output_type": "stream",
     "text": [
      "f-score: 0.44541484716157204\n",
      "Confusion matrix: (TP: 50, FP: 126, FN: 1, TN: 51)\n",
      "Accuracy=44.30% (101/228)\n"
     ]
    },
    {
     "data": {
      "text/plain": "<Figure size 432x288 with 2 Axes>",
      "image/png": "[encoded data removed]"
     },
     "metadata": {
      "needs_background": "light"
     },
     "output_type": "display_data"
    }
   ],
   "source": [
    "import numpy as np\n",
    "from util import print_evaluation\n",
    "prediction = np.vectorize(contains_adj)(test_x)\n",
    "print_evaluation(test_y, prediction)"
   ],
   "metadata": {
    "collapsed": false,
    "pycharm": {
     "name": "#%%\n"
    }
   }
  },
  {
   "cell_type": "markdown",
   "source": [
    "Strangely, there are a lot of false positives, let’s check some of them:"
   ],
   "metadata": {
    "collapsed": false,
    "pycharm": {
     "name": "#%% md\n"
    }
   }
  },
  {
   "cell_type": "code",
   "execution_count": 13,
   "outputs": [
    {
     "data": {
      "text/plain": "Test      \n583   1459    \"Gert en James hebben een relatie\": nieuwe gas...\n733   1834    \"Zo ga ik beroemd worden\": cliniclown Kevin (3...\n708   1770    Whitney Houston als kind misbruikt door zus be...\n741   1855    Temptation' Chloë dumpt Kevin na twee maanden ...\n3     4       Maandag drukste dag van het jaar op Brussels A...\nName: Headline, dtype: object"
     },
     "execution_count": 13,
     "metadata": {},
     "output_type": "execute_result"
    }
   ],
   "source": [
    "# False positives\n",
    "prediction = train_x.apply(contains_adj)\n",
    "train_x[(prediction != train_y) & (prediction == 1)][:5]"
   ],
   "metadata": {
    "collapsed": false,
    "pycharm": {
     "name": "#%%\n"
    }
   }
  },
  {
   "cell_type": "markdown",
   "source": [
    "Hmm, all of those actually contain adjectives. I managed to find a better description in the paper:\n",
    "> Bij het analyseren voor dit onderdeel focusten we op  specifieke, veelzeggende adjectieven die enkel in de ene kop van de test gebruikt werden en niet in de andere (bv.‘Internethype 'uit rijdende auto springen en  dansje  doen'  loopt  uit  de  hand’ tegenover ‘Levensgevaarlijkeinternethype  waait  over  uit  VS’).\n",
    "\n",
    "So it must be adjectives that are \"veelzeggend\" and not in the other headline. We're currently seeing each sentence completely seperately, so SpaCy isn't really useful here. In the the negative example, there is also an adjective \"nieuwe\"."
   ],
   "metadata": {
    "collapsed": false,
    "pycharm": {
     "name": "#%% md\n"
    }
   }
  }
 ],
 "metadata": {
  "kernelspec": {
   "display_name": "Python 3",
   "language": "python",
   "name": "python3"
  },
  "language_info": {
   "codemirror_mode": {
    "name": "ipython",
    "version": 2
   },
   "file_extension": ".py",
   "mimetype": "text/x-python",
   "name": "python",
   "nbconvert_exporter": "python",
   "pygments_lexer": "ipython2",
   "version": "2.7.6"
  }
 },
 "nbformat": 4,
 "nbformat_minor": 0
}